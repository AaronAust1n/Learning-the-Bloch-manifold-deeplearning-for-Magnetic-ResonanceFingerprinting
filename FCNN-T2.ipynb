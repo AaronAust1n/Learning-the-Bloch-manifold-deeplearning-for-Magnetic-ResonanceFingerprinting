{
 "cells": [
  {
   "cell_type": "code",
   "execution_count": 1,
   "metadata": {
    "colab": {},
    "colab_type": "code",
    "id": "aqe2u5u5zhMj"
   },
   "outputs": [],
   "source": [
    "import numpy as np\n",
    "import torch\n",
    "import torch.nn.functional as F\n",
    "import torchvision.transforms as transforms\n",
    "from torch import nn\n",
    "from torch import optim\n",
    "from torch.utils.data import DataLoader\n",
    "#from torchvision.datasets import MNIST"
   ]
  },
  {
   "cell_type": "code",
   "execution_count": 5,
   "metadata": {},
   "outputs": [
    {
     "name": "stdout",
     "output_type": "stream",
     "text": [
      "1.6.0\n"
     ]
    }
   ],
   "source": [
    "print(torch.__version__)"
   ]
  },
  {
   "cell_type": "code",
   "execution_count": null,
   "metadata": {
    "colab": {
     "base_uri": "https://localhost:8080/",
     "height": 121
    },
    "colab_type": "code",
    "id": "VIE7-SAqir7O",
    "outputId": "2b6972e1-a573-4505-d544-690a1d68fbc8",
    "scrolled": true
   },
   "outputs": [],
   "source": [
    "from google.colab import drive\n",
    "drive.mount('/content/drive')"
   ]
  },
  {
   "cell_type": "code",
   "execution_count": 2,
   "metadata": {
    "colab": {},
    "colab_type": "code",
    "id": "FRWp8xWFEijO"
   },
   "outputs": [],
   "source": [
    "#import os\n",
    "#os.chdir(\"/content/drive/My Drive\") \n",
    "import ra\n",
    "#import complexLayers\n"
   ]
  },
  {
   "cell_type": "code",
   "execution_count": 19,
   "metadata": {
    "colab": {},
    "colab_type": "code",
    "id": "6-BK2JMPjju-"
   },
   "outputs": [],
   "source": [
    "dataset = ra.read('atomsroa.ra')\n",
    "train_data = torch.tensor(dataset)"
   ]
  },
  {
   "cell_type": "code",
   "execution_count": 20,
   "metadata": {},
   "outputs": [],
   "source": [
    "train_data = train_data.imag\n",
    "train_data =  torch.transpose(train_data, 0, 1)"
   ]
  },
  {
   "cell_type": "code",
   "execution_count": 21,
   "metadata": {},
   "outputs": [],
   "source": [
    "labelset = ra.read('paramsroa.ra')\n",
    "train_label1 = torch.tensor(labelset)"
   ]
  },
  {
   "cell_type": "code",
   "execution_count": 22,
   "metadata": {},
   "outputs": [],
   "source": [
    "dataset1 = ra.read('atoms.ra')\n",
    "traindata1 = torch.tensor(dataset1)\n",
    "traindata1 = traindata1.imag\n",
    "traindata1 =  torch.transpose(traindata1, 0, 1)\n",
    "label1 = ra.read('params.ra')\n",
    "label1 = torch.tensor(label1)"
   ]
  },
  {
   "cell_type": "code",
   "execution_count": 18,
   "metadata": {},
   "outputs": [
    {
     "name": "stdout",
     "output_type": "stream",
     "text": [
      "tensor([[[ 0.0038,  0.0015, -0.0007,  ..., -0.0274, -0.0272, -0.0269]],\n",
      "\n",
      "        [[ 0.0045,  0.0023,  0.0001,  ..., -0.0279, -0.0276, -0.0273]],\n",
      "\n",
      "        [[ 0.0052,  0.0031,  0.0010,  ..., -0.0283, -0.0280, -0.0278]],\n",
      "\n",
      "        ...,\n",
      "\n",
      "        [[ 0.0215,  0.0229,  0.0242,  ..., -0.0250, -0.0246, -0.0243]],\n",
      "\n",
      "        [[ 0.0216,  0.0230,  0.0243,  ..., -0.0250, -0.0246, -0.0243]],\n",
      "\n",
      "        [[ 0.0216,  0.0230,  0.0243,  ..., -0.0250, -0.0247, -0.0243]]],\n",
      "       dtype=torch.float64)\n",
      "tensor([[[-0.0100, -0.0114, -0.0094,  ...,  0.0324,  0.0322,  0.0320]],\n",
      "\n",
      "        [[-0.0105, -0.0123, -0.0106,  ...,  0.0329,  0.0327,  0.0325]],\n",
      "\n",
      "        [[-0.0110, -0.0132, -0.0117,  ...,  0.0333,  0.0331,  0.0330]],\n",
      "\n",
      "        ...,\n",
      "\n",
      "        [[-0.0141, -0.0290, -0.0443,  ...,  0.0006,  0.0012,  0.0019]],\n",
      "\n",
      "        [[-0.0141, -0.0290, -0.0443,  ...,  0.0006,  0.0012,  0.0019]],\n",
      "\n",
      "        [[-0.0141, -0.0289, -0.0443,  ...,  0.0006,  0.0012,  0.0019]]],\n",
      "       dtype=torch.float64)\n"
     ]
    }
   ],
   "source": [
    "print(traindata1)\n",
    "print(train_data)"
   ]
  },
  {
   "cell_type": "code",
   "execution_count": 23,
   "metadata": {},
   "outputs": [
    {
     "name": "stdout",
     "output_type": "stream",
     "text": [
      "torch.Size([108056, 1000])\n"
     ]
    },
    {
     "data": {
      "text/plain": [
       "torch.Size([108056, 1000])"
      ]
     },
     "execution_count": 23,
     "metadata": {},
     "output_type": "execute_result"
    }
   ],
   "source": [
    "print(traindata1.shape)\n",
    "train_data.shape"
   ]
  },
  {
   "cell_type": "code",
   "execution_count": 24,
   "metadata": {
    "scrolled": true
   },
   "outputs": [],
   "source": [
    "alldata = torch.cat((train_data,traindata1),0)"
   ]
  },
  {
   "cell_type": "code",
   "execution_count": 25,
   "metadata": {},
   "outputs": [
    {
     "data": {
      "text/plain": [
       "torch.Size([216112, 1000])"
      ]
     },
     "execution_count": 25,
     "metadata": {},
     "output_type": "execute_result"
    }
   ],
   "source": [
    "alldata.shape"
   ]
  },
  {
   "cell_type": "code",
   "execution_count": 26,
   "metadata": {},
   "outputs": [],
   "source": [
    "labels1 = torch.cat((train_label1[1,:],label1[1,:]),0)"
   ]
  },
  {
   "cell_type": "code",
   "execution_count": 10,
   "metadata": {
    "scrolled": true
   },
   "outputs": [
    {
     "name": "stdout",
     "output_type": "stream",
     "text": [
      "tensor([[ 100.,  110.,  120.,  ..., 3980., 3990., 4000.],\n",
      "        [  20.,   20.,   20.,  ..., 2000., 2000., 2000.]], dtype=torch.float64)\n",
      "torch.Size([2, 216112])\n",
      "torch.Size([3, 108056])\n"
     ]
    }
   ],
   "source": [
    "print(labels1)\n",
    "print(labels1.shape)\n",
    "print(train_label1.shape)"
   ]
  },
  {
   "cell_type": "code",
   "execution_count": 27,
   "metadata": {},
   "outputs": [
    {
     "ename": "IndexError",
     "evalue": "Dimension out of range (expected to be in range of [-1, 0], but got 1)",
     "output_type": "error",
     "traceback": [
      "\u001b[1;31m---------------------------------------------------------------------------\u001b[0m",
      "\u001b[1;31mIndexError\u001b[0m                                Traceback (most recent call last)",
      "\u001b[1;32m<ipython-input-27-1e7f4595c8c4>\u001b[0m in \u001b[0;36m<module>\u001b[1;34m\u001b[0m\n\u001b[1;32m----> 1\u001b[1;33m \u001b[0mlabels1\u001b[0m \u001b[1;33m=\u001b[0m \u001b[0mtorch\u001b[0m\u001b[1;33m.\u001b[0m\u001b[0mtranspose\u001b[0m\u001b[1;33m(\u001b[0m\u001b[0mlabels1\u001b[0m\u001b[1;33m,\u001b[0m \u001b[1;36m0\u001b[0m\u001b[1;33m,\u001b[0m \u001b[1;36m1\u001b[0m\u001b[1;33m)\u001b[0m\u001b[1;33m\u001b[0m\u001b[1;33m\u001b[0m\u001b[0m\n\u001b[0m\u001b[0;32m      2\u001b[0m \u001b[0mprint\u001b[0m\u001b[1;33m(\u001b[0m\u001b[0mlabels1\u001b[0m\u001b[1;33m.\u001b[0m\u001b[0mshape\u001b[0m\u001b[1;33m)\u001b[0m\u001b[1;33m\u001b[0m\u001b[1;33m\u001b[0m\u001b[0m\n",
      "\u001b[1;31mIndexError\u001b[0m: Dimension out of range (expected to be in range of [-1, 0], but got 1)"
     ]
    }
   ],
   "source": [
    "labels1 = torch.transpose(labels1, 0, 1)\n",
    "print(labels1.shape)"
   ]
  },
  {
   "cell_type": "code",
   "execution_count": 28,
   "metadata": {},
   "outputs": [],
   "source": [
    "import torch.utils.data as data\n",
    "train_dataset = data.TensorDataset(alldata,labels1)"
   ]
  },
  {
   "cell_type": "code",
   "execution_count": null,
   "metadata": {
    "colab": {},
    "colab_type": "code",
    "id": "EtO2l_0K9bVo"
   },
   "outputs": [],
   "source": [
    "from sklearn.decomposition import PCA\n",
    "X_reduced = PCA(n_components=10).fit_transform(train_data)"
   ]
  },
  {
   "cell_type": "code",
   "execution_count": null,
   "metadata": {
    "colab": {
     "base_uri": "https://localhost:8080/",
     "height": 84
    },
    "colab_type": "code",
    "id": "9jhCmOGlzHuJ",
    "outputId": "d404eff5-582b-40af-8ba4-2f163944744e"
   },
   "outputs": [],
   "source": [
    "pca = PCA(n_components=10)\n",
    "pca.fit(train_data)\n",
    "\n",
    "print(pca.explained_variance_ratio_.shape)\n",
    "print(pca.components_.shape)\n",
    "print(pca.singular_values_.shape)\n",
    "print(pca.mean_.shape)"
   ]
  },
  {
   "cell_type": "code",
   "execution_count": null,
   "metadata": {
    "colab": {},
    "colab_type": "code",
    "id": "uyEh1FCOM4gT"
   },
   "outputs": [],
   "source": [
    "train_data = torch.tensor(X_reduced)"
   ]
  },
  {
   "cell_type": "code",
   "execution_count": 29,
   "metadata": {
    "colab": {},
    "colab_type": "code",
    "id": "ih21UQILm0Hl"
   },
   "outputs": [],
   "source": [
    "train_dataset, valid_dataset, test_dataset = torch.utils.data.random_split(train_dataset, [140000, 60000 ,16112])"
   ]
  },
  {
   "cell_type": "markdown",
   "metadata": {},
   "source": [
    "We found that the network model with smallest\n",
    "average error for validation data consists of 3 convolutional layers (kernel size = 3, stride\n",
    "size = 2), each followed by a rectified linear unit (ReLU) activation function. The number\n",
    "of the feature maps per convolutional layer is increasing, from 32 in the first to 128 in\n",
    "the last. After convolution an average pooling layer follows with the same size as the\n",
    "stride size. The last layer is fully connected, with 2 outputs. "
   ]
  },
  {
   "cell_type": "code",
   "execution_count": 30,
   "metadata": {
    "colab": {},
    "colab_type": "code",
    "id": "ahjQ0hXkj6Yl"
   },
   "outputs": [],
   "source": [
    "\n",
    "def _batch_norm(x):\n",
    "  eps_ = torch.finfo(torch.float32).eps\n",
    "  y = (x - torch.mean(x)) / (torch.std(x) + eps_)\n",
    "  return y\n",
    "\n",
    "\n",
    "# define baseline model\n",
    "class BaselineModel1(nn.Module):\n",
    "    def __init__(self):\n",
    "        super(BaselineModel1, self).__init__()\n",
    "        self.fc1 = nn.Linear(1000, 512)\n",
    "        self.fc2 = nn.Linear(512, 256)\n",
    "        self.fc3 = nn.Linear(256, 1)\n",
    "\n",
    "\n",
    "    def forward(self, x):\n",
    "        #print(x)\n",
    "        out = self.fc1(x)\n",
    "        #print(out)\n",
    "        #raise error\n",
    "        out = _batch_norm(out)\n",
    "        #out = self.bn(512)\n",
    "        out = torch.sigmoid(out)\n",
    "        out = self.fc2(out)\n",
    "        #out = self.bn(256)\n",
    "        out = _batch_norm(out)\n",
    "        out = torch.sigmoid(out)\n",
    "        out = self.fc3(out)\n",
    "        return out"
   ]
  },
  {
   "cell_type": "code",
   "execution_count": 31,
   "metadata": {
    "colab": {},
    "colab_type": "code",
    "id": "z3pzehZtrCEC"
   },
   "outputs": [],
   "source": [
    "N = 200\n",
    "val_loss = list()\n",
    "#val_accu = list()\n",
    "train_loss = list()\n",
    "#train_accu = list()"
   ]
  },
  {
   "cell_type": "code",
   "execution_count": 32,
   "metadata": {},
   "outputs": [],
   "source": [
    "#assert torch.cuda.is_available()\n",
    "device1 = \"cuda:0\" if torch.cuda.is_available() else \"cpu\"\n",
    "#cuda_device = torch.device(\"cuda\")\n",
    "seed = 7\n",
    "torch.manual_seed(seed)\n",
    "trainloader = DataLoader(train_dataset, batch_size=128, shuffle=True)\n",
    "validloader = DataLoader(valid_dataset, batch_size=128, shuffle=False)\n",
    "testloader = DataLoader(test_dataset, batch_size=128, shuffle=True)\n",
    "\n",
    "def loss_batch(model, loss_func, xb, yb, opt=None):\n",
    "    outputs = model(xb.float())\n",
    "    yb = yb.float()\n",
    "    outputs = torch.squeeze(outputs, 1)\n",
    "    loss = loss_func(outputs, yb)\n",
    "\n",
    "    if opt is not None:\n",
    "        loss.backward()\n",
    "        opt.step()\n",
    "        opt.zero_grad()\n",
    "\n",
    "    return loss.item(), len(xb)"
   ]
  },
  {
   "cell_type": "code",
   "execution_count": null,
   "metadata": {},
   "outputs": [],
   "source": [
    "!pip install pycuda\n",
    "import torch\n",
    "import pycuda.driver as cuda\n",
    "cuda.init()\n",
    "## Get Id of default device\n",
    "torch.cuda.current_device()\n",
    "# 0\n",
    "cuda.Device(0).name() # '0' is the id of your GPU"
   ]
  },
  {
   "cell_type": "code",
   "execution_count": 33,
   "metadata": {
    "colab": {
     "base_uri": "https://localhost:8080/",
     "height": 1000
    },
    "colab_type": "code",
    "id": "sGAHKMREJzYA",
    "outputId": "e1d97095-19c2-490c-dd04-c3932fe2ce54",
    "scrolled": true
   },
   "outputs": [
    {
     "name": "stdout",
     "output_type": "stream",
     "text": [
      "Epoch 0, loss 1063633684.06\n",
      "Epoch 1, loss 776429143.66\n",
      "Epoch 2, loss 550152499.00\n",
      "Epoch 3, loss 373218831.92\n",
      "Epoch 4, loss 239406754.81\n",
      "Epoch 5, loss 144220809.29\n",
      "Epoch 6, loss 82401625.01\n",
      "Epoch 7, loss 48221081.47\n",
      "Epoch 8, loss 33940481.20\n",
      "Epoch 9, loss 30064326.36\n",
      "Epoch 10, loss 29498634.47\n",
      "Epoch 11, loss 29311963.59\n",
      "Epoch 12, loss 29047198.61\n",
      "Epoch 13, loss 29086444.41\n",
      "Epoch 14, loss 28849437.54\n",
      "Epoch 15, loss 28805068.68\n",
      "Epoch 16, loss 28542516.67\n",
      "Epoch 17, loss 28510076.79\n",
      "Epoch 18, loss 28320560.88\n",
      "Epoch 19, loss 28355514.89\n",
      "Epoch 20, loss 28165767.30\n",
      "Epoch 21, loss 28127279.58\n",
      "Epoch 22, loss 27966549.52\n",
      "Epoch 23, loss 27799266.10\n",
      "Epoch 24, loss 27882287.18\n",
      "Epoch 25, loss 27514654.81\n",
      "Epoch 26, loss 27392526.69\n",
      "Epoch 27, loss 27429929.00\n",
      "Epoch 28, loss 27299159.21\n",
      "Epoch 29, loss 27181552.25\n",
      "Epoch 30, loss 26863877.14\n",
      "Epoch 31, loss 26747442.70\n",
      "Epoch 32, loss 26810683.98\n",
      "Epoch 33, loss 26377458.91\n",
      "Epoch 34, loss 26417691.37\n",
      "Epoch 35, loss 26176936.64\n",
      "Epoch 36, loss 26016111.68\n",
      "Epoch 37, loss 25853863.72\n",
      "Epoch 38, loss 25749615.43\n",
      "Epoch 39, loss 25459744.63\n",
      "Epoch 40, loss 25418923.88\n",
      "Epoch 41, loss 25221417.04\n",
      "Epoch 42, loss 24594455.13\n",
      "Epoch 43, loss 24225172.13\n",
      "Epoch 44, loss 24025574.91\n",
      "Epoch 45, loss 23485806.62\n",
      "Epoch 46, loss 22872633.29\n",
      "Epoch 47, loss 22400104.26\n",
      "Epoch 48, loss 21653287.98\n",
      "Epoch 49, loss 20992205.21\n",
      "Epoch 50, loss 20055390.09\n",
      "Epoch 51, loss 19173658.95\n",
      "Epoch 52, loss 18101264.67\n",
      "Epoch 53, loss 16971599.84\n",
      "Epoch 54, loss 15618902.60\n",
      "Epoch 55, loss 14236172.02\n",
      "Epoch 56, loss 12667528.23\n",
      "Epoch 57, loss 10967880.60\n",
      "Epoch 58, loss 9280981.59\n",
      "Epoch 59, loss 7622951.83\n",
      "Epoch 60, loss 6367471.76\n",
      "Epoch 61, loss 4989630.86\n",
      "Epoch 62, loss 4086281.12\n",
      "Epoch 63, loss 3406569.29\n",
      "Epoch 64, loss 2866096.69\n",
      "Epoch 65, loss 2493183.66\n",
      "Epoch 66, loss 2471766.07\n",
      "Epoch 67, loss 2078773.76\n",
      "Epoch 68, loss 1945521.47\n",
      "Epoch 69, loss 1823340.86\n",
      "Epoch 70, loss 1833876.46\n",
      "Epoch 71, loss 1723212.49\n",
      "Epoch 72, loss 1636565.47\n",
      "Epoch 73, loss 1682234.97\n",
      "Epoch 74, loss 1533729.59\n",
      "Epoch 75, loss 1491714.03\n",
      "Epoch 76, loss 1372268.50\n",
      "Epoch 77, loss 1329414.74\n",
      "Epoch 78, loss 1345447.86\n",
      "Epoch 79, loss 1204687.74\n",
      "Epoch 80, loss 1310326.96\n",
      "Epoch 81, loss 1241605.40\n",
      "Epoch 82, loss 1219608.12\n",
      "Epoch 83, loss 1139464.64\n",
      "Epoch 84, loss 1125161.35\n",
      "Epoch 85, loss 1095255.00\n",
      "Epoch 86, loss 1056213.05\n",
      "Epoch 87, loss 999306.27\n",
      "Epoch 88, loss 974586.89\n",
      "Epoch 89, loss 1031597.83\n",
      "Epoch 90, loss 926396.47\n",
      "Epoch 91, loss 933279.29\n",
      "Epoch 92, loss 899886.79\n",
      "Epoch 93, loss 941027.17\n",
      "Epoch 94, loss 827480.52\n",
      "Epoch 95, loss 852669.96\n",
      "Epoch 96, loss 819656.97\n",
      "Epoch 97, loss 807155.95\n",
      "Epoch 98, loss 773398.55\n",
      "Epoch 99, loss 751756.13\n",
      "Epoch 100, loss 743440.73\n",
      "Epoch 101, loss 720115.33\n",
      "Epoch 102, loss 734618.29\n",
      "Epoch 103, loss 659449.54\n",
      "Epoch 104, loss 728697.17\n",
      "Epoch 105, loss 629651.69\n",
      "Epoch 106, loss 666215.20\n",
      "Epoch 107, loss 707712.33\n",
      "Epoch 108, loss 612097.01\n",
      "Epoch 109, loss 606634.99\n",
      "Epoch 110, loss 578899.61\n",
      "Epoch 111, loss 546500.78\n",
      "Epoch 112, loss 635476.54\n",
      "Epoch 113, loss 628397.12\n",
      "Epoch 114, loss 573933.01\n",
      "Epoch 115, loss 605333.18\n",
      "Epoch 116, loss 531002.23\n",
      "Epoch 117, loss 599139.50\n",
      "Epoch 118, loss 552825.25\n",
      "Epoch 119, loss 523285.57\n",
      "Epoch 120, loss 547505.94\n",
      "Epoch 121, loss 497424.14\n",
      "Epoch 122, loss 508587.09\n",
      "Epoch 123, loss 551641.85\n",
      "Epoch 124, loss 466993.51\n",
      "Epoch 125, loss 570724.29\n",
      "Epoch 126, loss 563429.92\n",
      "Epoch 127, loss 486577.86\n",
      "Epoch 128, loss 506557.86\n",
      "Epoch 129, loss 478216.83\n",
      "Epoch 130, loss 432867.88\n",
      "Epoch 131, loss 477546.94\n",
      "Epoch 132, loss 443784.89\n",
      "Epoch 133, loss 474660.53\n",
      "Epoch 134, loss 452288.06\n",
      "Epoch 135, loss 452715.67\n",
      "Epoch 136, loss 441843.88\n",
      "Epoch 137, loss 402957.52\n",
      "Epoch 138, loss 420083.45\n",
      "Epoch 139, loss 413073.66\n",
      "Epoch 140, loss 386122.67\n",
      "Epoch 141, loss 373180.36\n",
      "Epoch 142, loss 410686.49\n",
      "Epoch 143, loss 401981.74\n",
      "Epoch 144, loss 417815.89\n",
      "Epoch 145, loss 381789.11\n",
      "Epoch 146, loss 380476.86\n",
      "Epoch 147, loss 387556.37\n",
      "Epoch 148, loss 415333.27\n",
      "Epoch 149, loss 392508.27\n",
      "Epoch 150, loss 367778.78\n",
      "Epoch 151, loss 350956.30\n",
      "Epoch 152, loss 353461.52\n",
      "Epoch 153, loss 359267.33\n",
      "Epoch 154, loss 334378.56\n",
      "Epoch 155, loss 373165.88\n",
      "Epoch 156, loss 390993.52\n",
      "Epoch 157, loss 324117.76\n",
      "Epoch 158, loss 347703.95\n",
      "Epoch 159, loss 330309.65\n",
      "Epoch 160, loss 341334.75\n",
      "Epoch 161, loss 338872.70\n",
      "Epoch 162, loss 334287.61\n",
      "Epoch 163, loss 346690.02\n",
      "Epoch 164, loss 325997.28\n",
      "Epoch 165, loss 353396.88\n",
      "Epoch 166, loss 320127.36\n",
      "Epoch 167, loss 311404.75\n",
      "Epoch 168, loss 306111.83\n",
      "Epoch 169, loss 311490.15\n",
      "Epoch 170, loss 336684.93\n",
      "Epoch 171, loss 292730.23\n",
      "Epoch 172, loss 311267.76\n",
      "Epoch 173, loss 314025.84\n",
      "Epoch 174, loss 290145.11\n",
      "Epoch 175, loss 293012.23\n",
      "Epoch 176, loss 315610.12\n",
      "Epoch 177, loss 276967.88\n",
      "Epoch 178, loss 305873.69\n",
      "Epoch 179, loss 258277.75\n",
      "Epoch 180, loss 272315.23\n",
      "Epoch 181, loss 310619.78\n",
      "Epoch 182, loss 286530.38\n",
      "Epoch 183, loss 310000.68\n",
      "Epoch 184, loss 244608.72\n",
      "Epoch 185, loss 279853.78\n",
      "Epoch 186, loss 258369.85\n",
      "Epoch 187, loss 243614.57\n",
      "Epoch 188, loss 262605.35\n",
      "Epoch 189, loss 236678.39\n",
      "Epoch 190, loss 244688.84\n",
      "Epoch 191, loss 268115.82\n",
      "Epoch 192, loss 244067.60\n",
      "Epoch 193, loss 271797.45\n",
      "Epoch 194, loss 223177.48\n",
      "Epoch 195, loss 266733.31\n",
      "Epoch 196, loss 247344.56\n",
      "Epoch 197, loss 230069.05\n",
      "Epoch 198, loss 259404.86\n",
      "Epoch 199, loss 240859.14\n",
      "**** Finished Training ****\n"
     ]
    }
   ],
   "source": [
    "\n",
    "# build the model\n",
    "model = BaselineModel1().to(device1)\n",
    "\n",
    "# define the loss function and the optimiser\n",
    "loss_function = nn.MSELoss()\n",
    "optimiser = optim.Adam(model.parameters())\n",
    "\n",
    "# the epoch loop\n",
    "for epoch in range(N):\n",
    "    model.train()\n",
    "    running_loss = 0.0\n",
    "    loss=0\n",
    "    for data in trainloader:\n",
    "        # get the inputs\n",
    "        inputs, labels = data\n",
    "        #inputs = inputs.unsqueeze(1).unsqueeze(-1)\n",
    "        #inputs = inputs.unsqueeze(1)\n",
    "        #inputs = torch.unsqueeze(inputs1, 2)\n",
    "\n",
    "        inputs, labels = inputs.to(device1), labels.to(device1)\n",
    "        \n",
    "        \n",
    "        loss, nums = loss_batch(model, loss_function, inputs.float(), labels.float(), optimiser)\n",
    "        running_loss += loss\n",
    "    train_loss.append(loss)\n",
    "\n",
    "    model.eval()\n",
    "    with torch.no_grad():\n",
    "        losses, nums = zip(\n",
    "                *[loss_batch(model.to(device1), loss_function, xb.to(device1), yb.to(device1)) for xb, yb in validloader]\n",
    "            )\n",
    "        val_loss1 = np.sum(np.multiply(losses, nums)) / np.sum(nums)\n",
    "        val_loss.append(val_loss1)\n",
    "\n",
    "\n",
    "        #print(epoch, val_loss)\n",
    "\n",
    "        \n",
    "        # keep track of the loss this epoch\n",
    "        #running_loss += loss.item()\n",
    "    print(\"Epoch %d, loss %4.2f\" % (epoch, running_loss))\n",
    "print('**** Finished Training ****')"
   ]
  },
  {
   "cell_type": "code",
   "execution_count": 34,
   "metadata": {
    "colab": {
     "base_uri": "https://localhost:8080/",
     "height": 281
    },
    "colab_type": "code",
    "id": "RrXkmLWusgWY",
    "outputId": "94727097-6aee-4d73-97d6-e8cc99f69d52",
    "scrolled": true
   },
   "outputs": [
    {
     "data": {
      "image/png": "[encoded data removed]",
      "text/plain": [
       "<Figure size 432x288 with 2 Axes>"
      ]
     },
     "metadata": {
      "needs_background": "light"
     },
     "output_type": "display_data"
    }
   ],
   "source": [
    "import matplotlib.pyplot as plt\n",
    "\n",
    "x = range(0, N)\n",
    "y1 = train_loss\n",
    "#y2 = train_accu\n",
    "y3 = val_loss\n",
    "#y4 = val_accu\n",
    "plt.subplot(2, 1, 1)\n",
    "plt.plot(x, y1, 'o-')\n",
    "plt.title('train_loss and train_accu')\n",
    "plt.ylabel('train_loss')\n",
    "#plt.subplot(2, 1, 2)\n",
    "#plt.plot(x, y2, '.-')\n",
    "#plt.xlabel('epoches')\n",
    "#plt.ylabel('train_accu')\n",
    "plt.subplot(2, 1, 2)\n",
    "plt.plot(x, y3, 'o-')\n",
    "plt.ylabel('val_loss')\n",
    "#plt.subplot(2, 2, 2)\n",
    "#plt.plot(x, y4, '.-')\n",
    "#plt.title('val_loss and val_accu')\n",
    "#lt.ylabel('val_accu')\n",
    "plt.show()\n",
    "#plt.savefig(\"accuracy_loss.jpg\")\n"
   ]
  },
  {
   "cell_type": "code",
   "execution_count": 39,
   "metadata": {
    "scrolled": false
   },
   "outputs": [
    {
     "name": "stdout",
     "output_type": "stream",
     "text": [
      "[948837.375, 737496.4375, 300314.3125, 249863.6875, 141382.8125, 92907.53125, 47564.234375, 53716.32421875, 23620.24609375, 13410.642578125, 23277.005859375, 23941.115234375, 21689.72265625, 37892.0859375, 28869.48046875, 22976.765625, 17514.44140625, 37710.05078125, 22292.529296875, 20539.140625, 20477.482421875, 29888.802734375, 26686.474609375, 21447.16796875, 37562.828125, 9631.0927734375, 34180.35546875, 36219.78125, 25753.82421875, 27967.904296875, 42836.2421875, 35549.140625, 15520.9296875, 34535.453125, 29130.826171875, 16920.09765625, 16520.53125, 20457.2421875, 24146.9296875, 32421.234375, 23507.333984375, 13511.8623046875, 19094.205078125, 23936.93359375, 23000.68359375, 16268.2734375, 30808.8203125, 20638.17578125, 13133.548828125, 19343.884765625, 25071.62109375, 10162.1044921875, 11597.107421875, 22770.63671875, 21621.08203125, 9761.072265625, 11871.828125, 11941.1748046875, 15812.9794921875, 6320.5498046875, 6070.7060546875, 1911.7908935546875, 6366.56201171875, 1004.21923828125, 2921.969482421875, 7441.0615234375, 487.36590576171875, 4966.771484375, 389.6826171875, 3520.65185546875, 876.9715576171875, 3093.96728515625, 2366.1904296875, 478.5564880371094, 1139.0584716796875, 958.2606201171875, 1161.1580810546875, 524.157470703125, 1196.08203125, 2868.63134765625, 1070.0697021484375, 468.45013427734375, 885.548828125, 529.598876953125, 654.8795166015625, 620.8334350585938, 393.3516540527344, 603.2168579101562, 484.15057373046875, 526.4625854492188, 223.44894409179688, 838.55224609375, 420.9793395996094, 316.83184814453125, 1413.3251953125, 523.8380126953125, 705.6249389648438, 787.100830078125, 409.12054443359375, 387.1939392089844, 475.0700378417969, 318.2356872558594, 499.2437438964844, 715.9313354492188, 847.1746826171875, 1420.4375, 1268.633544921875, 879.0302734375, 758.3966064453125, 288.577392578125, 614.1852416992188, 693.3343505859375, 421.5788269042969, 258.5557556152344, 844.4660034179688, 263.56842041015625, 1485.4892578125, 244.51104736328125, 117.36299133300781, 649.27880859375, 1629.351318359375, 1326.3416748046875, 303.44842529296875, 506.95556640625, 328.130126953125, 263.7184753417969, 683.2508544921875, 325.0059814453125, 1380.604736328125, 225.1200408935547, 1948.5921630859375, 327.24853515625, 574.6986083984375, 323.054443359375, 299.5118103027344, 827.48583984375, 797.7613525390625, 363.6809997558594, 225.65499877929688, 722.2081298828125, 197.4258270263672, 139.733154296875, 180.39822387695312, 802.2970581054688, 1151.735595703125, 365.55584716796875, 173.610595703125, 189.02490234375, 1547.404296875, 308.614013671875, 212.11660766601562, 312.96240234375, 648.0287475585938, 680.9996337890625, 140.35191345214844, 100.08381652832031, 188.3557586669922, 1534.557861328125, 257.73565673828125, 1435.751220703125, 374.5536804199219, 76.39783477783203, 252.0636444091797, 527.0451049804688, 415.5608825683594, 156.49473571777344, 229.32208251953125, 777.0733642578125, 99.65040588378906, 151.25527954101562, 483.3333435058594, 82.60022735595703, 292.157958984375, 327.935546875, 97.98001098632812, 129.01156616210938, 141.04840087890625, 227.39657592773438, 608.4017333984375, 96.79774475097656, 293.6282958984375, 148.94541931152344, 179.9314422607422, 116.16389465332031, 434.67388916015625, 165.58163452148438, 35.24800491333008, 43.73192596435547, 75.33502197265625, 106.2242431640625, 102.29714965820312, 373.9725036621094, 381.56097412109375, 139.281005859375, 140.31370544433594, 121.06707763671875, 143.1136474609375, 107.172119140625, 118.5830078125, 113.165283203125]\n"
     ]
    }
   ],
   "source": [
    "print(y1)"
   ]
  },
  {
   "cell_type": "code",
   "execution_count": 40,
   "metadata": {},
   "outputs": [
    {
     "data": {
      "text/plain": [
       "[821898.1128333333,\n",
       " 591769.3713666666,\n",
       " 409491.20043333335,\n",
       " 269276.31413333333,\n",
       " 166449.72080833334,\n",
       " 96423.94970833333,\n",
       " 54419.39523958333,\n",
       " 34383.08385625,\n",
       " 27921.86628125,\n",
       " 26760.792785416666,\n",
       " 26594.471002083334,\n",
       " 26585.85334375,\n",
       " 26531.725408333332,\n",
       " 26441.1937125,\n",
       " 26289.1452125,\n",
       " 26087.707351041667,\n",
       " 26231.91206458333,\n",
       " 25860.189727083332,\n",
       " 25729.45141875,\n",
       " 25804.785923958334,\n",
       " 25811.931954166666,\n",
       " 25468.31189375,\n",
       " 25319.517859375,\n",
       " 25211.816152083335,\n",
       " 25253.73783125,\n",
       " 24998.042992708335,\n",
       " 24902.603040625,\n",
       " 24816.623779166668,\n",
       " 24652.51254375,\n",
       " 24611.034104166665,\n",
       " 24809.5839375,\n",
       " 24300.313522916666,\n",
       " 24403.05160625,\n",
       " 23975.901715625,\n",
       " 24282.182483333334,\n",
       " 23690.974402083335,\n",
       " 23534.22950625,\n",
       " 23658.385054166665,\n",
       " 23176.874029166665,\n",
       " 22940.474710416667,\n",
       " 22670.54675625,\n",
       " 22393.017033333334,\n",
       " 22141.559059375,\n",
       " 21903.665772916665,\n",
       " 21525.470208333332,\n",
       " 21117.311383333334,\n",
       " 20429.93850416667,\n",
       " 19844.079425,\n",
       " 19220.862169791668,\n",
       " 18480.748127083334,\n",
       " 17584.56591875,\n",
       " 16841.324279166667,\n",
       " 15736.88626875,\n",
       " 14544.176933333334,\n",
       " 13370.556026041666,\n",
       " 11747.2114828125,\n",
       " 10587.369427604166,\n",
       " 9172.5485890625,\n",
       " 7289.534300260417,\n",
       " 6209.9628453125,\n",
       " 4553.527006770833,\n",
       " 4088.091219140625,\n",
       " 4406.369243359375,\n",
       " 3551.473509765625,\n",
       " 1863.7387048177084,\n",
       " 3294.088988541667,\n",
       " 1343.7311965820313,\n",
       " 1337.6137753580729,\n",
       " 2229.0643841145834,\n",
       " 1827.986328125,\n",
       " 1385.5848821940103,\n",
       " 2132.836413411458,\n",
       " 923.3430327148437,\n",
       " 1146.5664572916667,\n",
       " 853.9892277669271,\n",
       " 1218.6207253580728,\n",
       " 957.9819110026042,\n",
       " 727.3842125488281,\n",
       " 1097.74808359375,\n",
       " 767.4151071777344,\n",
       " 2942.8533176432293,\n",
       " 1469.446473046875,\n",
       " 681.3114514973959,\n",
       " 1227.930828108724,\n",
       " 1389.889108984375,\n",
       " 1171.0469981770834,\n",
       " 658.2126900065105,\n",
       " 819.48747734375,\n",
       " 758.8724508789063,\n",
       " 912.1995419270834,\n",
       " 930.05507734375,\n",
       " 756.5454401041667,\n",
       " 660.1891060221354,\n",
       " 640.6727351888021,\n",
       " 823.9891408854166,\n",
       " 606.114673421224,\n",
       " 1314.053272265625,\n",
       " 474.12609705403645,\n",
       " 622.4295302734375,\n",
       " 464.9957436523438,\n",
       " 776.0938606445312,\n",
       " 394.9606099446615,\n",
       " 576.1868501953124,\n",
       " 694.9639741536458,\n",
       " 861.2538805338542,\n",
       " 833.4887723958333,\n",
       " 522.0076647460937,\n",
       " 925.3834231119791,\n",
       " 387.47113712565107,\n",
       " 765.6160934244791,\n",
       " 343.43511010742185,\n",
       " 693.0149158284505,\n",
       " 432.81094485677085,\n",
       " 361.24078326822917,\n",
       " 616.8978671549479,\n",
       " 957.9509451171875,\n",
       " 546.7252438802084,\n",
       " 325.14521048177085,\n",
       " 381.61069700520835,\n",
       " 1146.4582801595052,\n",
       " 773.7234940429687,\n",
       " 505.18224895833333,\n",
       " 518.3077100423177,\n",
       " 299.1503380859375,\n",
       " 721.5912736979167,\n",
       " 451.09519264322915,\n",
       " 278.872906640625,\n",
       " 473.4297867838542,\n",
       " 574.744723063151,\n",
       " 351.8956198893229,\n",
       " 1783.835663736979,\n",
       " 227.8051811767578,\n",
       " 219.09242978922526,\n",
       " 301.2938582763672,\n",
       " 408.7263175374349,\n",
       " 603.8343654622396,\n",
       " 462.0149504882813,\n",
       " 340.02605900065106,\n",
       " 238.99951397298176,\n",
       " 180.2198321126302,\n",
       " 347.01585900065106,\n",
       " 287.13593393554686,\n",
       " 212.71505629882813,\n",
       " 809.4406544352214,\n",
       " 252.91798564860025,\n",
       " 779.3678915527344,\n",
       " 393.39212099609375,\n",
       " 189.7597156656901,\n",
       " 419.2392629394531,\n",
       " 490.47409376627604,\n",
       " 331.58228388671876,\n",
       " 175.14066427408855,\n",
       " 182.91261255696614,\n",
       " 236.59693340657552,\n",
       " 253.24538403320312,\n",
       " 205.27127002360027,\n",
       " 188.122058211263,\n",
       " 161.61226485188803,\n",
       " 299.7216659667969,\n",
       " 426.3292561197917,\n",
       " 371.8548653971354,\n",
       " 209.1782376953125,\n",
       " 191.90783110351563,\n",
       " 360.0461890625,\n",
       " 211.2069842203776,\n",
       " 247.9896207519531,\n",
       " 224.88456036783853,\n",
       " 851.7548451822917,\n",
       " 162.26254034016927,\n",
       " 139.7968543701172,\n",
       " 416.88870068359375,\n",
       " 278.77631242675784,\n",
       " 203.55348563639322,\n",
       " 210.83928631184895,\n",
       " 217.1757947998047,\n",
       " 322.1673967447917,\n",
       " 199.0385305013021,\n",
       " 174.98811885579428,\n",
       " 249.89481322835286,\n",
       " 397.86666967773436,\n",
       " 199.4894788655599,\n",
       " 169.26756212565104,\n",
       " 358.48419095865887,\n",
       " 330.2603857747396,\n",
       " 160.08910167643228,\n",
       " 423.80632103678386,\n",
       " 164.22704164632162,\n",
       " 136.85703805338542,\n",
       " 211.6639183186849,\n",
       " 214.51290303548177,\n",
       " 240.42702110392253,\n",
       " 141.36354409179688,\n",
       " 249.25643388264973,\n",
       " 235.07695091959636,\n",
       " 300.61146164754234,\n",
       " 130.64006953125,\n",
       " 92.66765513916016,\n",
       " 206.01352132161458,\n",
       " 127.03131610107422,\n",
       " 702.5476495361328]"
      ]
     },
     "execution_count": 40,
     "metadata": {},
     "output_type": "execute_result"
    }
   ],
   "source": [
    "val_loss"
   ]
  },
  {
   "cell_type": "code",
   "execution_count": 38,
   "metadata": {},
   "outputs": [
    {
     "name": "stdout",
     "output_type": "stream",
     "text": [
      "[703.6233526871955, 705.4232637770955, 712.7745493762898, 710.7798474339293, 707.5043044028713, 705.5398178933985, 709.9524716147126, 714.5519250985291, 725.7138992506556, 716.5729119188144, 716.330728116078, 717.127453528426, 707.65085032822, 716.2235803234778, 701.0062400719379, 712.489923986683, 705.7688030708866, 708.3502433345003, 719.9569242111858, 709.0463776877289, 716.284014947128, 710.8139443572725, 707.5057217883023, 709.5279620112824, 718.6374150477905, 704.5407191165746, 714.3424210458431, 721.2749254971062, 702.1778340798977, 706.9759413293954, 711.9852553124224, 702.8039194995384, 703.506821542416, 732.5228194508558, 704.2695111271878, 706.4093598836465, 709.4324771157561, 708.5556326054532, 716.7781543902157, 720.2270923603137, 715.4021307633674, 701.4327241050925, 711.7449467497052, 703.8753276624178, 718.0356724122548, 708.2125872675451, 701.1885638421674, 699.9334933480771, 710.6647273407438, 706.6938215935716, 709.6927050199386, 709.5207806826821, 701.50382842563, 712.9511008996594, 708.207511409392, 705.4182384078055, 716.18297048832, 709.5855830475732, 711.4634944305875, 717.2058661876629, 715.4209915964227, 713.6545230748045, 717.9314497007277, 708.7510748127366, 711.1471093337846, 707.6603058982629, 714.6950526005462, 710.463856035098, 717.3541639189734, 721.4934433574355, 704.584857353506, 708.8063209026076, 712.6709551692837, 713.2530823663069, 708.3793427695584, 713.5693275731985, 720.8533010018735, 709.3358057925576, 709.586060297643, 710.5023970390857, 718.9994270453506, 702.3803370304354, 716.8931544132479, 708.327222746439, 718.7002560446018, 713.8453317015268, 705.7161671279558, 707.5805442226679, 713.2475595635241, 714.5151418100639, 711.0977053448129, 702.3777534310607, 719.8759121937453, 713.5182430263545, 706.9551537673783, 712.9060094960278, 711.4194552318341, 713.1605065808869, 715.3212451802228, 713.7906634757867, 703.8683504409563, 708.059148763829, 713.0000842491233, 711.415119432527, 704.8342271215747, 717.3705915282476, 715.6672602694226, 711.1088525039082, 723.5408056992168, 707.6625025274737, 720.0652175797251, 710.4669317645137, 712.3897348080042, 711.3804824965476, 712.9142215732548, 708.9810464019927, 710.4422615907398, 721.9653561543803, 718.2226170953714, 708.4527670321422, 706.832984537922, 719.5915713722206, 709.3691465951717, 706.6379064201953, 715.1041482813664, 711.3192286562422]\n"
     ]
    }
   ],
   "source": [
    "print(y3)"
   ]
  },
  {
   "cell_type": "code",
   "execution_count": 21,
   "metadata": {
    "colab": {
     "base_uri": "https://localhost:8080/",
     "height": 118
    },
    "colab_type": "code",
    "id": "5Qg7Iyg-RsZc",
    "outputId": "6e257a36-b10f-4d83-ebab-7bce690bf17c",
    "scrolled": false
   },
   "outputs": [
    {
     "data": {
      "text/plain": [
       "BaselineModel1(\n",
       "  (fc1): Linear(in_features=1000, out_features=512, bias=True)\n",
       "  (fc2): Linear(in_features=512, out_features=256, bias=True)\n",
       "  (fc3): Linear(in_features=256, out_features=2, bias=True)\n",
       ")"
      ]
     },
     "execution_count": 21,
     "metadata": {},
     "output_type": "execute_result"
    }
   ],
   "source": [
    "model.eval()"
   ]
  },
  {
   "cell_type": "code",
   "execution_count": 35,
   "metadata": {},
   "outputs": [],
   "source": [
    "model.eval()\n",
    "test_loss = list()\n",
    "for data in testloader:\n",
    "    losses, nums = zip(\n",
    "                *[loss_batch(model.to(device1), loss_function, xb.to(device1), yb.to(device1)) for xb, yb in testloader])\n",
    "    test_loss1 = np.sum(np.multiply(losses, nums)) / np.sum(nums)\n",
    "    test_loss.append(test_loss1)"
   ]
  },
  {
   "cell_type": "code",
   "execution_count": 36,
   "metadata": {},
   "outputs": [],
   "source": [
    "import matplotlib.pyplot as plt"
   ]
  },
  {
   "cell_type": "code",
   "execution_count": 37,
   "metadata": {},
   "outputs": [
    {
     "data": {
      "text/plain": [
       "Text(0, 0.5, 'test_loss')"
      ]
     },
     "execution_count": 37,
     "metadata": {},
     "output_type": "execute_result"
    },
    {
     "data": {
      "image/png": "[encoded data removed]",
      "text/plain": [
       "<Figure size 432x288 with 1 Axes>"
      ]
     },
     "metadata": {
      "needs_background": "light"
     },
     "output_type": "display_data"
    }
   ],
   "source": [
    "x = range(0, 126)\n",
    "y3 = test_loss\n",
    "plt.plot(x, y3, 'o-')\n",
    "plt.title('test_loss')\n",
    "plt.ylabel('test_loss')"
   ]
  },
  {
   "cell_type": "code",
   "execution_count": null,
   "metadata": {
    "colab": {
     "base_uri": "https://localhost:8080/",
     "height": 1000
    },
    "colab_type": "code",
    "id": "eDZ_0FSIRz4A",
    "outputId": "6127c2c9-dc3b-4994-a315-27d714d4f9ac"
   },
   "outputs": [],
   "source": [
    "for data in testloader:\n",
    "    inputs, lablels = data\n",
    "    predictions = model(inputs.float())\n",
    "    loss = loss_function(predictions,labels)\n",
    "    loss = loss/128\n",
    "    print(\"loss\",loss)\n",
    "    print(\"predicted parameter:\", predictions)\n",
    "    print(\"setting parameter:\", labels)"
   ]
  },
  {
   "cell_type": "code",
   "execution_count": null,
   "metadata": {},
   "outputs": [],
   "source": [
    "testdataset = ra.read('atomsroa.ra')\n",
    "testdata = torch.tensor(testdataset)\n",
    "testdata = testdata.imag\n",
    "label1 = ra.read('paramsroa.ra')\n",
    "label1 = torch.tensor(label1)"
   ]
  },
  {
   "cell_type": "code",
   "execution_count": null,
   "metadata": {
    "colab": {},
    "colab_type": "code",
    "id": "D0xuJReg8EbA"
   },
   "outputs": [],
   "source": [
    "for i in range(8056):\n",
    "    inputs = testdata[:,i]\n",
    "    lablels = label1[0,i]\n",
    "    predictions = model(inputs.float())\n",
    "\n",
    "    print(\"predicted parameter:\", predictions)\n",
    "    print(\"setting parameter:\", lablels)"
   ]
  },
  {
   "cell_type": "markdown",
   "metadata": {
    "colab_type": "text",
    "id": "98SN3jbBbQPo"
   },
   "source": [
    "## Saving models"
   ]
  },
  {
   "cell_type": "markdown",
   "metadata": {
    "colab_type": "text",
    "id": "AC85zIKAbLgu"
   },
   "source": [
    "Being able to train a model is fine, but in practice once we've trained the model we probably want to save the result so we can reuse it at a later time. PyTorch makes saving the model easy using the torch.save(state, filepath) function. This will save the weights of the model so they can be loaded into a new instance at a later point.\n",
    "\n",
    "Run the following code to save the weights for use in the next part of the lab."
   ]
  },
  {
   "cell_type": "code",
   "execution_count": 17,
   "metadata": {
    "colab": {},
    "colab_type": "code",
    "id": "uYwWauk6a7vK"
   },
   "outputs": [],
   "source": [
    "#save the trained model weights\n",
    "torch.save(model.state_dict(), \"./BaselineModel1.weights\")"
   ]
  },
  {
   "cell_type": "markdown",
   "metadata": {
    "colab_type": "text",
    "id": "Z3755E9cbClj"
   },
   "source": [
    "If you are running on Colab, run the following to download the weights to the local machine:"
   ]
  },
  {
   "cell_type": "code",
   "execution_count": null,
   "metadata": {
    "colab": {
     "base_uri": "https://localhost:8080/",
     "height": 17
    },
    "colab_type": "code",
    "id": "YQso-4fca_mI",
    "outputId": "b059fe76-e584-437c-f499-8ca3da61d6d5"
   },
   "outputs": [],
   "source": [
    "from google.colab import files\n",
    "files.download('BaselineModel.weights')"
   ]
  },
  {
   "cell_type": "code",
   "execution_count": null,
   "metadata": {
    "colab": {
     "base_uri": "https://localhost:8080/",
     "height": 34
    },
    "colab_type": "code",
    "id": "AzH-0Wu9brJG",
    "outputId": "68c73ea4-c60c-4c51-9b54-a278d8492b63"
   },
   "outputs": [],
   "source": [
    "device = \"cuda:0\" if torch.cuda.is_available() else \"cpu\"\n",
    "model = BaselineModel(1000, 512, 256).to(device)\n",
    "model.load_state_dict(torch.load('BaselineModel.weights'))"
   ]
  }
 ],
 "metadata": {
  "colab": {
   "collapsed_sections": [],
   "name": "MRF-net.ipynb",
   "provenance": []
  },
  "kernelspec": {
   "display_name": "Python 3",
   "language": "python",
   "name": "python3"
  },
  "language_info": {
   "codemirror_mode": {
    "name": "ipython",
    "version": 3
   },
   "file_extension": ".py",
   "mimetype": "text/x-python",
   "name": "python",
   "nbconvert_exporter": "python",
   "pygments_lexer": "ipython3",
   "version": "3.8.5"
  }
 },
 "nbformat": 4,
 "nbformat_minor": 1
}
