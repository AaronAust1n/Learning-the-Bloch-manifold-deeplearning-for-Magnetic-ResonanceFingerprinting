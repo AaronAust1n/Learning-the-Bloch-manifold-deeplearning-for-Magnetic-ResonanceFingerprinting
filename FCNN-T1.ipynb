{
 "cells": [
  {
   "cell_type": "code",
   "execution_count": 1,
   "metadata": {
    "colab": {},
    "colab_type": "code",
    "id": "aqe2u5u5zhMj"
   },
   "outputs": [],
   "source": [
    "import numpy as np\n",
    "import torch\n",
    "import torch.nn.functional as F\n",
    "import torchvision.transforms as transforms\n",
    "from torch import nn\n",
    "from torch import optim\n",
    "from torch.utils.data import DataLoader\n",
    "#from torchvision.datasets import MNIST"
   ]
  },
  {
   "cell_type": "code",
   "execution_count": 5,
   "metadata": {},
   "outputs": [
    {
     "name": "stdout",
     "output_type": "stream",
     "text": [
      "1.6.0\n"
     ]
    }
   ],
   "source": [
    "print(torch.__version__)"
   ]
  },
  {
   "cell_type": "code",
   "execution_count": null,
   "metadata": {
    "colab": {
     "base_uri": "https://localhost:8080/",
     "height": 121
    },
    "colab_type": "code",
    "id": "VIE7-SAqir7O",
    "outputId": "2b6972e1-a573-4505-d544-690a1d68fbc8",
    "scrolled": true
   },
   "outputs": [],
   "source": [
    "from google.colab import drive\n",
    "drive.mount('/content/drive')"
   ]
  },
  {
   "cell_type": "code",
   "execution_count": 2,
   "metadata": {
    "colab": {},
    "colab_type": "code",
    "id": "FRWp8xWFEijO"
   },
   "outputs": [],
   "source": [
    "#import os\n",
    "#os.chdir(\"/content/drive/My Drive\") \n",
    "import ra\n",
    "#import complexLayers\n"
   ]
  },
  {
   "cell_type": "code",
   "execution_count": 3,
   "metadata": {
    "colab": {},
    "colab_type": "code",
    "id": "6-BK2JMPjju-"
   },
   "outputs": [],
   "source": [
    "dataset = ra.read('atomsroa.ra')\n",
    "train_data = torch.tensor(dataset)"
   ]
  },
  {
   "cell_type": "code",
   "execution_count": 4,
   "metadata": {},
   "outputs": [],
   "source": [
    "train_data = train_data.imag\n",
    "train_data =  torch.transpose(train_data, 0, 1)"
   ]
  },
  {
   "cell_type": "code",
   "execution_count": 5,
   "metadata": {},
   "outputs": [],
   "source": [
    "labelset = ra.read('paramsroa.ra')\n",
    "train_label1 = torch.tensor(labelset)"
   ]
  },
  {
   "cell_type": "code",
   "execution_count": 6,
   "metadata": {},
   "outputs": [],
   "source": [
    "dataset1 = ra.read('atoms.ra')\n",
    "traindata1 = torch.tensor(dataset1)\n",
    "traindata1 = traindata1.imag\n",
    "traindata1 =  torch.transpose(traindata1, 0, 1)\n",
    "label1 = ra.read('params.ra')\n",
    "label1 = torch.tensor(label1)"
   ]
  },
  {
   "cell_type": "code",
   "execution_count": 18,
   "metadata": {},
   "outputs": [
    {
     "name": "stdout",
     "output_type": "stream",
     "text": [
      "tensor([[[ 0.0038,  0.0015, -0.0007,  ..., -0.0274, -0.0272, -0.0269]],\n",
      "\n",
      "        [[ 0.0045,  0.0023,  0.0001,  ..., -0.0279, -0.0276, -0.0273]],\n",
      "\n",
      "        [[ 0.0052,  0.0031,  0.0010,  ..., -0.0283, -0.0280, -0.0278]],\n",
      "\n",
      "        ...,\n",
      "\n",
      "        [[ 0.0215,  0.0229,  0.0242,  ..., -0.0250, -0.0246, -0.0243]],\n",
      "\n",
      "        [[ 0.0216,  0.0230,  0.0243,  ..., -0.0250, -0.0246, -0.0243]],\n",
      "\n",
      "        [[ 0.0216,  0.0230,  0.0243,  ..., -0.0250, -0.0247, -0.0243]]],\n",
      "       dtype=torch.float64)\n",
      "tensor([[[-0.0100, -0.0114, -0.0094,  ...,  0.0324,  0.0322,  0.0320]],\n",
      "\n",
      "        [[-0.0105, -0.0123, -0.0106,  ...,  0.0329,  0.0327,  0.0325]],\n",
      "\n",
      "        [[-0.0110, -0.0132, -0.0117,  ...,  0.0333,  0.0331,  0.0330]],\n",
      "\n",
      "        ...,\n",
      "\n",
      "        [[-0.0141, -0.0290, -0.0443,  ...,  0.0006,  0.0012,  0.0019]],\n",
      "\n",
      "        [[-0.0141, -0.0290, -0.0443,  ...,  0.0006,  0.0012,  0.0019]],\n",
      "\n",
      "        [[-0.0141, -0.0289, -0.0443,  ...,  0.0006,  0.0012,  0.0019]]],\n",
      "       dtype=torch.float64)\n"
     ]
    }
   ],
   "source": [
    "print(traindata1)\n",
    "print(train_data)"
   ]
  },
  {
   "cell_type": "code",
   "execution_count": 7,
   "metadata": {},
   "outputs": [
    {
     "name": "stdout",
     "output_type": "stream",
     "text": [
      "torch.Size([108056, 1000])\n"
     ]
    },
    {
     "data": {
      "text/plain": [
       "torch.Size([108056, 1000])"
      ]
     },
     "execution_count": 7,
     "metadata": {},
     "output_type": "execute_result"
    }
   ],
   "source": [
    "print(traindata1.shape)\n",
    "train_data.shape"
   ]
  },
  {
   "cell_type": "code",
   "execution_count": 8,
   "metadata": {
    "scrolled": true
   },
   "outputs": [],
   "source": [
    "alldata = torch.cat((train_data,traindata1),0)"
   ]
  },
  {
   "cell_type": "code",
   "execution_count": 9,
   "metadata": {},
   "outputs": [
    {
     "data": {
      "text/plain": [
       "torch.Size([216112, 1000])"
      ]
     },
     "execution_count": 9,
     "metadata": {},
     "output_type": "execute_result"
    }
   ],
   "source": [
    "alldata.shape"
   ]
  },
  {
   "cell_type": "code",
   "execution_count": 10,
   "metadata": {},
   "outputs": [],
   "source": [
    "labels1 = torch.cat((train_label1[0,:],label1[0,:]),0)"
   ]
  },
  {
   "cell_type": "code",
   "execution_count": 11,
   "metadata": {
    "scrolled": true
   },
   "outputs": [
    {
     "name": "stdout",
     "output_type": "stream",
     "text": [
      "tensor([ 100.,  110.,  120.,  ..., 3980., 3990., 4000.], dtype=torch.float64)\n",
      "torch.Size([216112])\n",
      "torch.Size([3, 108056])\n"
     ]
    }
   ],
   "source": [
    "print(labels1)\n",
    "print(labels1.shape)\n",
    "print(train_label1.shape)"
   ]
  },
  {
   "cell_type": "code",
   "execution_count": 27,
   "metadata": {},
   "outputs": [
    {
     "ename": "IndexError",
     "evalue": "Dimension out of range (expected to be in range of [-1, 0], but got 1)",
     "output_type": "error",
     "traceback": [
      "\u001b[1;31m---------------------------------------------------------------------------\u001b[0m",
      "\u001b[1;31mIndexError\u001b[0m                                Traceback (most recent call last)",
      "\u001b[1;32m<ipython-input-27-1e7f4595c8c4>\u001b[0m in \u001b[0;36m<module>\u001b[1;34m\u001b[0m\n\u001b[1;32m----> 1\u001b[1;33m \u001b[0mlabels1\u001b[0m \u001b[1;33m=\u001b[0m \u001b[0mtorch\u001b[0m\u001b[1;33m.\u001b[0m\u001b[0mtranspose\u001b[0m\u001b[1;33m(\u001b[0m\u001b[0mlabels1\u001b[0m\u001b[1;33m,\u001b[0m \u001b[1;36m0\u001b[0m\u001b[1;33m,\u001b[0m \u001b[1;36m1\u001b[0m\u001b[1;33m)\u001b[0m\u001b[1;33m\u001b[0m\u001b[1;33m\u001b[0m\u001b[0m\n\u001b[0m\u001b[0;32m      2\u001b[0m \u001b[0mprint\u001b[0m\u001b[1;33m(\u001b[0m\u001b[0mlabels1\u001b[0m\u001b[1;33m.\u001b[0m\u001b[0mshape\u001b[0m\u001b[1;33m)\u001b[0m\u001b[1;33m\u001b[0m\u001b[1;33m\u001b[0m\u001b[0m\n",
      "\u001b[1;31mIndexError\u001b[0m: Dimension out of range (expected to be in range of [-1, 0], but got 1)"
     ]
    }
   ],
   "source": [
    "labels1 = torch.transpose(labels1, 0, 1)\n",
    "print(labels1.shape)"
   ]
  },
  {
   "cell_type": "code",
   "execution_count": 12,
   "metadata": {},
   "outputs": [],
   "source": [
    "import torch.utils.data as data\n",
    "train_dataset = data.TensorDataset(alldata,labels1)"
   ]
  },
  {
   "cell_type": "code",
   "execution_count": null,
   "metadata": {
    "colab": {},
    "colab_type": "code",
    "id": "EtO2l_0K9bVo"
   },
   "outputs": [],
   "source": [
    "from sklearn.decomposition import PCA\n",
    "X_reduced = PCA(n_components=10).fit_transform(train_data)"
   ]
  },
  {
   "cell_type": "code",
   "execution_count": null,
   "metadata": {
    "colab": {
     "base_uri": "https://localhost:8080/",
     "height": 84
    },
    "colab_type": "code",
    "id": "9jhCmOGlzHuJ",
    "outputId": "d404eff5-582b-40af-8ba4-2f163944744e"
   },
   "outputs": [],
   "source": [
    "pca = PCA(n_components=10)\n",
    "pca.fit(train_data)\n",
    "\n",
    "print(pca.explained_variance_ratio_.shape)\n",
    "print(pca.components_.shape)\n",
    "print(pca.singular_values_.shape)\n",
    "print(pca.mean_.shape)"
   ]
  },
  {
   "cell_type": "code",
   "execution_count": null,
   "metadata": {
    "colab": {},
    "colab_type": "code",
    "id": "uyEh1FCOM4gT"
   },
   "outputs": [],
   "source": [
    "train_data = torch.tensor(X_reduced)"
   ]
  },
  {
   "cell_type": "code",
   "execution_count": 13,
   "metadata": {
    "colab": {},
    "colab_type": "code",
    "id": "ih21UQILm0Hl"
   },
   "outputs": [],
   "source": [
    "train_dataset, valid_dataset, test_dataset = torch.utils.data.random_split(train_dataset, [140000, 60000 ,16112])"
   ]
  },
  {
   "cell_type": "markdown",
   "metadata": {},
   "source": [
    "We found that the network model with smallest\n",
    "average error for validation data consists of 3 convolutional layers (kernel size = 3, stride\n",
    "size = 2), each followed by a rectified linear unit (ReLU) activation function. The number\n",
    "of the feature maps per convolutional layer is increasing, from 32 in the first to 128 in\n",
    "the last. After convolution an average pooling layer follows with the same size as the\n",
    "stride size. The last layer is fully connected, with 2 outputs. "
   ]
  },
  {
   "cell_type": "code",
   "execution_count": 14,
   "metadata": {
    "colab": {},
    "colab_type": "code",
    "id": "ahjQ0hXkj6Yl"
   },
   "outputs": [],
   "source": [
    "\n",
    "def _batch_norm(x):\n",
    "  eps_ = torch.finfo(torch.float32).eps\n",
    "  y = (x - torch.mean(x)) / (torch.std(x) + eps_)\n",
    "  return y\n",
    "\n",
    "\n",
    "# define baseline model\n",
    "class BaselineModel1(nn.Module):\n",
    "    def __init__(self):\n",
    "        super(BaselineModel1, self).__init__()\n",
    "        self.fc1 = nn.Linear(1000, 512)\n",
    "        self.fc2 = nn.Linear(512, 256)\n",
    "        self.fc3 = nn.Linear(256, 1)\n",
    "\n",
    "\n",
    "    def forward(self, x):\n",
    "        #print(x)\n",
    "        out = self.fc1(x)\n",
    "        #print(out)\n",
    "        #raise error\n",
    "        out = _batch_norm(out)\n",
    "        #out = self.bn(512)\n",
    "        out = torch.sigmoid(out)\n",
    "        out = self.fc2(out)\n",
    "        #out = self.bn(256)\n",
    "        out = _batch_norm(out)\n",
    "        out = torch.sigmoid(out)\n",
    "        out = self.fc3(out)\n",
    "        return out"
   ]
  },
  {
   "cell_type": "code",
   "execution_count": 15,
   "metadata": {
    "colab": {},
    "colab_type": "code",
    "id": "z3pzehZtrCEC"
   },
   "outputs": [],
   "source": [
    "N = 200\n",
    "val_loss = list()\n",
    "#val_accu = list()\n",
    "train_loss = list()\n",
    "#train_accu = list()"
   ]
  },
  {
   "cell_type": "code",
   "execution_count": 16,
   "metadata": {},
   "outputs": [],
   "source": [
    "#assert torch.cuda.is_available()\n",
    "device1 = \"cuda:0\" if torch.cuda.is_available() else \"cpu\"\n",
    "#cuda_device = torch.device(\"cuda\")\n",
    "seed = 7\n",
    "torch.manual_seed(seed)\n",
    "trainloader = DataLoader(train_dataset, batch_size=128, shuffle=True)\n",
    "validloader = DataLoader(valid_dataset, batch_size=128, shuffle=False)\n",
    "testloader = DataLoader(test_dataset, batch_size=128, shuffle=True)\n",
    "\n",
    "def loss_batch(model, loss_func, xb, yb, opt=None):\n",
    "    outputs = model(xb.float())\n",
    "    yb = yb.float()\n",
    "    outputs = torch.squeeze(outputs, 1)\n",
    "    loss = loss_func(outputs, yb)\n",
    "\n",
    "    if opt is not None:\n",
    "        loss.backward()\n",
    "        opt.step()\n",
    "        opt.zero_grad()\n",
    "\n",
    "    return loss.item(), len(xb)"
   ]
  },
  {
   "cell_type": "code",
   "execution_count": null,
   "metadata": {},
   "outputs": [],
   "source": [
    "!pip install pycuda\n",
    "import torch\n",
    "import pycuda.driver as cuda\n",
    "cuda.init()\n",
    "## Get Id of default device\n",
    "torch.cuda.current_device()\n",
    "# 0\n",
    "cuda.Device(0).name() # '0' is the id of your GPU"
   ]
  },
  {
   "cell_type": "code",
   "execution_count": 25,
   "metadata": {
    "colab": {
     "base_uri": "https://localhost:8080/",
     "height": 1000
    },
    "colab_type": "code",
    "id": "sGAHKMREJzYA",
    "outputId": "e1d97095-19c2-490c-dd04-c3932fe2ce54",
    "scrolled": true
   },
   "outputs": [
    {
     "name": "stdout",
     "output_type": "stream",
     "text": [
      "Epoch 0, loss 7123311915.00\n",
      "Epoch 1, loss 6294505022.50\n",
      "Epoch 2, loss 5537295320.25\n",
      "Epoch 3, loss 4837479366.50\n",
      "Epoch 4, loss 4190843803.25\n",
      "Epoch 5, loss 3594807784.00\n",
      "Epoch 6, loss 3048559769.50\n",
      "Epoch 7, loss 2550560539.50\n",
      "Epoch 8, loss 2101658948.12\n",
      "Epoch 9, loss 1699633160.69\n",
      "Epoch 10, loss 1345431611.62\n",
      "Epoch 11, loss 1036352391.47\n",
      "Epoch 12, loss 772892895.62\n",
      "Epoch 13, loss 552723509.05\n",
      "Epoch 14, loss 375139437.50\n",
      "Epoch 15, loss 238251767.15\n",
      "Epoch 16, loss 138448713.09\n",
      "Epoch 17, loss 72120789.40\n",
      "Epoch 18, loss 33516685.79\n",
      "Epoch 19, loss 15509882.71\n",
      "Epoch 20, loss 10455107.43\n",
      "Epoch 21, loss 9698166.19\n",
      "Epoch 22, loss 9195556.98\n",
      "Epoch 23, loss 8907277.90\n",
      "Epoch 24, loss 8298854.85\n",
      "Epoch 25, loss 8795994.37\n",
      "Epoch 26, loss 8695972.99\n",
      "Epoch 27, loss 8270403.73\n",
      "Epoch 28, loss 8290156.04\n",
      "Epoch 29, loss 7916375.84\n",
      "Epoch 30, loss 7995027.14\n",
      "Epoch 31, loss 8785986.84\n",
      "Epoch 32, loss 8002119.64\n",
      "Epoch 33, loss 8122498.79\n",
      "Epoch 34, loss 8163754.79\n",
      "Epoch 35, loss 7158549.98\n",
      "Epoch 36, loss 8057523.24\n",
      "Epoch 37, loss 7387458.01\n",
      "Epoch 38, loss 7340780.81\n",
      "Epoch 39, loss 7489903.54\n",
      "Epoch 40, loss 7330085.22\n",
      "Epoch 41, loss 7020219.85\n",
      "Epoch 42, loss 7523285.61\n",
      "Epoch 43, loss 7517812.28\n",
      "Epoch 44, loss 7221357.66\n",
      "Epoch 45, loss 7300236.76\n",
      "Epoch 46, loss 7092063.10\n",
      "Epoch 47, loss 7193204.56\n",
      "Epoch 48, loss 7398755.34\n",
      "Epoch 49, loss 7461927.13\n",
      "Epoch 50, loss 6962452.69\n",
      "Epoch 51, loss 7133846.08\n",
      "Epoch 52, loss 6931278.16\n",
      "Epoch 53, loss 7042952.33\n",
      "Epoch 54, loss 6773621.11\n",
      "Epoch 55, loss 6988417.27\n",
      "Epoch 56, loss 7174385.40\n",
      "Epoch 57, loss 6719500.50\n",
      "Epoch 58, loss 6451136.89\n",
      "Epoch 59, loss 7130296.25\n",
      "Epoch 60, loss 7116415.88\n",
      "Epoch 61, loss 7053178.65\n",
      "Epoch 62, loss 6675927.50\n",
      "Epoch 63, loss 6411066.40\n",
      "Epoch 64, loss 6290704.08\n",
      "Epoch 65, loss 6497615.73\n",
      "Epoch 66, loss 6616960.93\n",
      "Epoch 67, loss 6637726.65\n",
      "Epoch 68, loss 6731047.79\n",
      "Epoch 69, loss 6739975.41\n",
      "Epoch 70, loss 6516294.47\n",
      "Epoch 71, loss 6482068.94\n",
      "Epoch 72, loss 6462300.10\n",
      "Epoch 73, loss 6420476.30\n",
      "Epoch 74, loss 6246511.28\n",
      "Epoch 75, loss 6418946.36\n",
      "Epoch 76, loss 6222525.24\n",
      "Epoch 77, loss 6389047.34\n",
      "Epoch 78, loss 6575674.01\n",
      "Epoch 79, loss 5929928.56\n",
      "Epoch 80, loss 6058225.56\n",
      "Epoch 81, loss 5869938.14\n",
      "Epoch 82, loss 5730184.58\n",
      "Epoch 83, loss 6023672.77\n",
      "Epoch 84, loss 6375476.98\n",
      "Epoch 85, loss 6245517.62\n",
      "Epoch 86, loss 6158388.30\n",
      "Epoch 87, loss 5686221.39\n",
      "Epoch 88, loss 6010644.20\n",
      "Epoch 89, loss 5814324.19\n",
      "Epoch 90, loss 5787403.81\n",
      "Epoch 91, loss 6060617.84\n",
      "Epoch 92, loss 5538375.20\n",
      "Epoch 93, loss 5722000.39\n",
      "Epoch 94, loss 5706196.25\n",
      "Epoch 95, loss 5868002.13\n",
      "Epoch 96, loss 5654862.31\n",
      "Epoch 97, loss 5820923.29\n",
      "Epoch 98, loss 6102578.77\n",
      "Epoch 99, loss 5746703.22\n",
      "Epoch 100, loss 6150784.01\n",
      "Epoch 101, loss 5785382.62\n",
      "Epoch 102, loss 5377532.54\n",
      "Epoch 103, loss 5482178.72\n",
      "Epoch 104, loss 5653652.16\n",
      "Epoch 105, loss 5572121.02\n",
      "Epoch 106, loss 5448458.08\n",
      "Epoch 107, loss 5332445.40\n",
      "Epoch 108, loss 5230498.65\n",
      "Epoch 109, loss 5190527.22\n",
      "Epoch 110, loss 4781872.82\n",
      "Epoch 111, loss 5140671.45\n",
      "Epoch 112, loss 5448610.90\n",
      "Epoch 113, loss 4959258.26\n",
      "Epoch 114, loss 5161073.75\n",
      "Epoch 115, loss 5468269.33\n",
      "Epoch 116, loss 5289003.58\n",
      "Epoch 117, loss 4851763.80\n",
      "Epoch 118, loss 5184895.01\n",
      "Epoch 119, loss 5318366.51\n",
      "Epoch 120, loss 5021669.30\n",
      "Epoch 121, loss 5180496.05\n",
      "Epoch 122, loss 5035332.09\n",
      "Epoch 123, loss 5021515.81\n",
      "Epoch 124, loss 4779912.82\n",
      "Epoch 125, loss 4618125.77\n",
      "Epoch 126, loss 4778608.70\n",
      "Epoch 127, loss 4905519.42\n",
      "Epoch 128, loss 4031991.40\n",
      "Epoch 129, loss 4589059.49\n",
      "Epoch 130, loss 4634239.44\n",
      "Epoch 131, loss 4965472.74\n",
      "Epoch 132, loss 4899684.10\n",
      "Epoch 133, loss 4647078.36\n",
      "Epoch 134, loss 4393590.44\n",
      "Epoch 135, loss 4691754.99\n",
      "Epoch 136, loss 4552509.34\n",
      "Epoch 137, loss 4817123.04\n",
      "Epoch 138, loss 4423850.31\n",
      "Epoch 139, loss 4498932.97\n",
      "Epoch 140, loss 4406009.88\n",
      "Epoch 141, loss 4211521.50\n",
      "Epoch 142, loss 4186736.78\n",
      "Epoch 143, loss 4058552.14\n",
      "Epoch 144, loss 4577349.18\n",
      "Epoch 145, loss 4383398.07\n",
      "Epoch 146, loss 4112034.22\n",
      "Epoch 147, loss 4136665.03\n",
      "Epoch 148, loss 4483571.47\n",
      "Epoch 149, loss 4056150.19\n",
      "Epoch 150, loss 3808231.30\n",
      "Epoch 151, loss 4209776.08\n",
      "Epoch 152, loss 3874156.44\n",
      "Epoch 153, loss 3931089.80\n",
      "Epoch 154, loss 3670521.49\n",
      "Epoch 155, loss 4241976.53\n",
      "Epoch 156, loss 3926669.42\n",
      "Epoch 157, loss 3838926.19\n",
      "Epoch 158, loss 4174848.79\n",
      "Epoch 159, loss 3711697.51\n",
      "Epoch 160, loss 3824383.15\n",
      "Epoch 161, loss 3758745.06\n",
      "Epoch 162, loss 3910787.01\n",
      "Epoch 163, loss 3551601.42\n",
      "Epoch 164, loss 3544588.52\n",
      "Epoch 165, loss 3731167.38\n",
      "Epoch 166, loss 3834881.99\n",
      "Epoch 167, loss 3889031.73\n",
      "Epoch 168, loss 3711400.93\n",
      "Epoch 169, loss 3594036.78\n",
      "Epoch 170, loss 3771961.40\n",
      "Epoch 171, loss 3480450.57\n",
      "Epoch 172, loss 3505386.46\n",
      "Epoch 173, loss 3372979.95\n",
      "Epoch 174, loss 3332766.95\n",
      "Epoch 175, loss 3143372.59\n",
      "Epoch 176, loss 3430017.56\n",
      "Epoch 177, loss 3518308.11\n",
      "Epoch 178, loss 3331604.63\n",
      "Epoch 179, loss 3549570.75\n",
      "Epoch 180, loss 3211880.47\n",
      "Epoch 181, loss 3561716.74\n",
      "Epoch 182, loss 3141753.20\n",
      "Epoch 183, loss 3357588.69\n",
      "Epoch 184, loss 3066350.17\n",
      "Epoch 185, loss 3219034.62\n",
      "Epoch 186, loss 3247077.03\n",
      "Epoch 187, loss 3119464.67\n",
      "Epoch 188, loss 3130492.91\n",
      "Epoch 189, loss 3137539.27\n",
      "Epoch 190, loss 3091951.41\n",
      "Epoch 191, loss 3070799.11\n",
      "Epoch 192, loss 3153287.56\n",
      "Epoch 193, loss 2818727.67\n",
      "Epoch 194, loss 3212975.43\n",
      "Epoch 195, loss 2951120.09\n",
      "Epoch 196, loss 2959398.44\n",
      "Epoch 197, loss 2934871.52\n",
      "Epoch 198, loss 2904254.61\n",
      "Epoch 199, loss 2656295.77\n",
      "**** Finished Training ****\n"
     ]
    }
   ],
   "source": [
    "\n",
    "# build the model\n",
    "model = BaselineModel1().to(device1)\n",
    "\n",
    "# define the loss function and the optimiser\n",
    "loss_function = nn.MSELoss()\n",
    "optimiser = optim.Adam(model.parameters())\n",
    "\n",
    "# the epoch loop\n",
    "for epoch in range(N):\n",
    "    model.train()\n",
    "    running_loss = 0.0\n",
    "    loss=0\n",
    "    for data in trainloader:\n",
    "        # get the inputs\n",
    "        inputs, labels = data\n",
    "        #inputs = inputs.unsqueeze(1).unsqueeze(-1)\n",
    "        #inputs = inputs.unsqueeze(1)\n",
    "        #inputs = torch.unsqueeze(inputs1, 2)\n",
    "\n",
    "        inputs, labels = inputs.to(device1), labels.to(device1)\n",
    "        \n",
    "        \n",
    "        loss, nums = loss_batch(model, loss_function, inputs.float(), labels.float(), optimiser)\n",
    "        running_loss += loss\n",
    "    train_loss.append(loss)\n",
    "\n",
    "    model.eval()\n",
    "    with torch.no_grad():\n",
    "        losses, nums = zip(\n",
    "                *[loss_batch(model.to(device1), loss_function, xb.to(device1), yb.to(device1)) for xb, yb in validloader]\n",
    "            )\n",
    "        val_loss1 = np.sum(np.multiply(losses, nums)) / np.sum(nums)\n",
    "        val_loss.append(val_loss1)\n",
    "\n",
    "\n",
    "        #print(epoch, val_loss)\n",
    "\n",
    "        \n",
    "        # keep track of the loss this epoch\n",
    "        #running_loss += loss.item()\n",
    "    print(\"Epoch %d, loss %4.2f\" % (epoch, running_loss))\n",
    "print('**** Finished Training ****')"
   ]
  },
  {
   "cell_type": "code",
   "execution_count": 34,
   "metadata": {
    "colab": {
     "base_uri": "https://localhost:8080/",
     "height": 281
    },
    "colab_type": "code",
    "id": "RrXkmLWusgWY",
    "outputId": "94727097-6aee-4d73-97d6-e8cc99f69d52",
    "scrolled": true
   },
   "outputs": [
    {
     "data": {
      "image/png": "[encoded data removed]",
      "text/plain": [
       "<Figure size 432x288 with 2 Axes>"
      ]
     },
     "metadata": {
      "needs_background": "light"
     },
     "output_type": "display_data"
    }
   ],
   "source": [
    "import matplotlib.pyplot as plt\n",
    "\n",
    "x = range(200, 400)\n",
    "y1 = train_loss[200:400]\n",
    "#y2 = train_accu\n",
    "y3 = val_loss[200:400]\n",
    "#y4 = val_accu\n",
    "plt.subplot(2, 1, 1)\n",
    "plt.plot(x, y1, 'o-')\n",
    "plt.title('train_loss and train_accu')\n",
    "plt.ylabel('train_loss')\n",
    "#plt.subplot(2, 1, 2)\n",
    "#plt.plot(x, y2, '.-')\n",
    "#plt.xlabel('epoches')\n",
    "#plt.ylabel('train_accu')\n",
    "plt.subplot(2, 1, 2)\n",
    "plt.plot(x, y3, 'o-')\n",
    "plt.ylabel('val_loss')\n",
    "#plt.subplot(2, 2, 2)\n",
    "#plt.plot(x, y4, '.-')\n",
    "#plt.title('val_loss and val_accu')\n",
    "#lt.ylabel('val_accu')\n",
    "plt.show()\n",
    "#plt.savefig(\"accuracy_loss.jpg\")\n"
   ]
  },
  {
   "cell_type": "code",
   "execution_count": 19,
   "metadata": {
    "scrolled": false
   },
   "outputs": [
    {
     "name": "stdout",
     "output_type": "stream",
     "text": [
      "[5917937.5, 5698459.5, 5250939.0, 4004378.75, 3816877.75, 2905402.0, 2228339.0, 2254947.5, 1507265.75, 1302897.875, 969576.625, 683137.9375, 737577.1875, 401484.8125, 507223.75, 176410.234375, 289785.46875, 5960.16748046875, 25392.48046875, 20408.96484375, 22663.66796875, 6070.8408203125, 11546.3349609375, 19351.12109375, 9340.224609375, 8161.1435546875, 3864.4375, 498.5628356933594, 17203.37890625, 13797.5966796875, 30669.615234375, 798.695068359375, 30322.46875, 6377.47021484375, 2169.087158203125, 12666.5625, 6111.06787109375, 43178.08203125, 17763.546875, 3177.236328125, 4387.10107421875, 2985.85302734375, 558.0950927734375, 10580.419921875, 2294.7783203125, 14273.087890625, 30308.154296875, 15592.142578125, 4619.44287109375, 11726.478515625, 9862.66796875, 4049.32080078125, 8182.1904296875, 2805.8330078125, 16375.4755859375, 146.3652801513672, 22780.896484375, 3872.0849609375, 2974.00146484375, 19748.4140625, 2553.81787109375, 562.6351318359375, 4241.11279296875, 5008.85693359375, 9531.9189453125, 2202.311279296875, 10310.6083984375, 1976.849853515625, 15860.662109375, 3951.98193359375, 1548.12890625, 6603.95458984375, 15063.619140625, 2705.48095703125, 1360.16845703125, 4448.921875, 2986.709716796875, 2788.2412109375, 5386.44140625, 1242.6710205078125, 4512.58203125, 37043.16796875, 378.6875, 1006.84814453125, 3314.63037109375, 597.2853393554688, 1319.132080078125, 723.2328491210938, 1022.0690307617188, 5957.99755859375, 1500.007080078125, 1945.6507568359375, 24659.19921875, 6059.37109375, 4756.68701171875, 3648.67919921875, 259.9751281738281, 1022.59521484375, 644.2767944335938, 662.4381713867188, 1617.714599609375, 4912.2001953125, 8553.7998046875, 7478.142578125, 10628.04296875, 2135.670654296875, 3897.499755859375, 8769.58984375, 16903.80859375, 13235.8544921875, 5022.48828125, 488.2537841796875, 640.2174682617188, 5830.5986328125, 956.6334838867188, 30568.046875, 6003.6865234375, 18536.490234375, 5535.3671875, 19569.35546875, 11574.1591796875, 1448.78125, 1543.0286865234375, 2661.0869140625, 1399.148193359375, 548.138916015625, 2984.993896484375, 1838.32470703125, 6950.57958984375, 3668.228515625, 4084.559326171875, 9289.966796875, 831.9423217773438, 4938.62109375, 3906.13232421875, 1014.8043823242188, 6337.20263671875, 6739.890625, 6912.6591796875, 2802.865234375, 4079.269287109375, 4148.521484375, 1827.9945068359375, 887.7449951171875, 18799.521484375, 1636.7371826171875, 4687.158203125, 572.0977783203125, 3156.053466796875, 1547.95556640625, 7462.501953125, 2951.28662109375, 755.09326171875, 622.497314453125, 1092.54296875, 632.2110595703125, 10959.3515625, 1046.30908203125, 1220.7666015625, 1100.408447265625, 8003.8115234375, 13706.1787109375, 11265.921875, 3760.130859375, 16159.12890625, 13126.44921875, 2536.565185546875, 1957.9945068359375, 16626.466796875, 12696.7802734375, 2746.12109375, 11926.6435546875, 3313.2861328125, 186.6575164794922, 393.1974792480469, 1589.3919677734375, 9877.1162109375, 2455.731689453125, 3958.835693359375, 738.7106323242188, 1389.687744140625, 1988.8187255859375, 1784.660888671875, 1724.7601318359375, 4202.6220703125, 2475.91845703125, 2281.10302734375, 3524.55615234375, 9294.568359375, 185.10604858398438, 937.3599853515625, 1347.3212890625, 291.8464050292969, 3484.457763671875, 1195.60546875, 1199.44873046875, 1484.99609375, 2211.07275390625, 628.650390625, 4655.90234375]\n"
     ]
    }
   ],
   "source": [
    "print(y1)"
   ]
  },
  {
   "cell_type": "code",
   "execution_count": 20,
   "metadata": {},
   "outputs": [
    {
     "data": {
      "text/plain": [
       "[6133306.389866667,\n",
       " 5411665.525333334,\n",
       " 4746026.305066667,\n",
       " 4129581.7648,\n",
       " 3560907.1082666665,\n",
       " 3038260.3537333333,\n",
       " 2560283.2986666667,\n",
       " 2127254.3554666666,\n",
       " 1737770.0898666666,\n",
       " 1391204.3045333333,\n",
       " 1087462.798,\n",
       " 825550.1424333333,\n",
       " 603328.2445333333,\n",
       " 421376.16866666666,\n",
       " 277784.26081666665,\n",
       " 168532.764925,\n",
       " 93433.03980208334,\n",
       " 47237.1807734375,\n",
       " 20286.724372916666,\n",
       " 10462.230557942708,\n",
       " 9274.53732122396,\n",
       " 8963.354599739583,\n",
       " 8381.963436132812,\n",
       " 8275.311824088541,\n",
       " 7761.961145442709,\n",
       " 7798.685552994792,\n",
       " 8433.149216796875,\n",
       " 7576.035002734375,\n",
       " 7677.671528645833,\n",
       " 7697.3348484375,\n",
       " 7582.3690865234375,\n",
       " 7634.113422786459,\n",
       " 13274.878941666666,\n",
       " 7012.657224479167,\n",
       " 8155.789490625,\n",
       " 7155.457526953125,\n",
       " 7213.085940917968,\n",
       " 7327.309209114584,\n",
       " 6783.890887337239,\n",
       " 8163.154492578125,\n",
       " 7241.611479882812,\n",
       " 6553.7299754882815,\n",
       " 6816.41527171224,\n",
       " 6950.913736653646,\n",
       " 6635.282400390625,\n",
       " 6671.637765625,\n",
       " 6847.644334765625,\n",
       " 6899.368176627604,\n",
       " 6858.307506966145,\n",
       " 7087.686218033854,\n",
       " 7962.28388984375,\n",
       " 6335.748610221354,\n",
       " 6752.002906705729,\n",
       " 6807.208614778646,\n",
       " 6828.475649316406,\n",
       " 6189.802690690104,\n",
       " 7455.619455598959,\n",
       " 6274.166140364583,\n",
       " 8042.644191927084,\n",
       " 6342.310681803386,\n",
       " 6009.03428022461,\n",
       " 6372.62705859375,\n",
       " 5775.8527223470055,\n",
       " 6295.6557793619795,\n",
       " 7579.880422135417,\n",
       " 5856.627023046875,\n",
       " 6117.1693626302085,\n",
       " 6021.820316276042,\n",
       " 6140.465719140625,\n",
       " 6351.276836393229,\n",
       " 5645.319627213542,\n",
       " 6393.946307421875,\n",
       " 6653.838615364583,\n",
       " 6610.783185904948,\n",
       " 5611.278672981771,\n",
       " 7623.704407617188,\n",
       " 6002.353479622396,\n",
       " 5735.494011458333,\n",
       " 5920.751065104167,\n",
       " 5448.743378841145,\n",
       " 5372.443315397136,\n",
       " 7381.788037760417,\n",
       " 5301.42344194336,\n",
       " 5660.938175716145,\n",
       " 5378.179155305989,\n",
       " 5697.359644140625,\n",
       " 5422.3316275390625,\n",
       " 5309.0889762695315,\n",
       " 5542.959080175781,\n",
       " 5119.511440983073,\n",
       " 5356.863637858073,\n",
       " 5619.6369149739585,\n",
       " 7607.904968489584,\n",
       " 5470.165487858073,\n",
       " 6694.3151,\n",
       " 5190.75133343099,\n",
       " 5036.895712630208,\n",
       " 4726.782159505208,\n",
       " 4715.835088183594,\n",
       " 5001.425074088542,\n",
       " 5579.262028743489,\n",
       " 8950.436816341145,\n",
       " 5245.046577213541,\n",
       " 5610.395830989583,\n",
       " 5567.064363606771,\n",
       " 6166.939009244792,\n",
       " 4474.82079469401,\n",
       " 4940.66667014974,\n",
       " 4375.583825325521,\n",
       " 5032.940207324219,\n",
       " 5610.543834993489,\n",
       " 4438.990938932292,\n",
       " 5123.4351580403645,\n",
       " 4279.335859277344,\n",
       " 4632.474026529948,\n",
       " 6187.211859570312,\n",
       " 4475.960139095052,\n",
       " 4669.447054557291,\n",
       " 4832.735422981771,\n",
       " 6021.4146665690105,\n",
       " 5121.611773958333,\n",
       " 4633.735130061849,\n",
       " 6542.5780762369795,\n",
       " 4257.285260872396,\n",
       " 5043.579301822917,\n",
       " 4094.7290369466145,\n",
       " 3990.6602997070313,\n",
       " 5352.195828759765,\n",
       " 5278.858980501302,\n",
       " 4154.414582177735,\n",
       " 5200.719161002604,\n",
       " 4992.9511625,\n",
       " 4423.7565473307295,\n",
       " 3825.846215332031,\n",
       " 4918.501263867188,\n",
       " 3872.292692708333,\n",
       " 3517.08213984375,\n",
       " 3776.049457747396,\n",
       " 5231.77150625,\n",
       " 3965.1157119140626,\n",
       " 3568.4873044921874,\n",
       " 3503.904369466146,\n",
       " 4439.206155436198,\n",
       " 3698.5458072916667,\n",
       " 3410.8875831217447,\n",
       " 3629.686501497396,\n",
       " 3505.854974934896,\n",
       " 3394.3863577148436,\n",
       " 4521.166682421875,\n",
       " 3627.9514527994793,\n",
       " 3455.0043455078126,\n",
       " 3628.7588025390623,\n",
       " 6891.9095627604165,\n",
       " 3750.3573554036457,\n",
       " 5182.710583463541,\n",
       " 3082.405176546224,\n",
       " 3224.8462176106773,\n",
       " 3198.7660982421876,\n",
       " 3377.3094326822916,\n",
       " 3939.371967903646,\n",
       " 3180.4103129882815,\n",
       " 3693.2753793945312,\n",
       " 3480.8305092447918,\n",
       " 4959.298468815105,\n",
       " 5052.5043369791665,\n",
       " 3435.5385712565103,\n",
       " 3651.2954872721352,\n",
       " 3513.894461067708,\n",
       " 3131.876692919922,\n",
       " 2966.449502408854,\n",
       " 2822.0918740071616,\n",
       " 2879.1168646809897,\n",
       " 5027.911224153646,\n",
       " 3290.8679138997395,\n",
       " 3762.2323592773437,\n",
       " 3426.582050227865,\n",
       " 2778.568014095052,\n",
       " 4092.541430989583,\n",
       " 2782.5699783203127,\n",
       " 3386.6759048828126,\n",
       " 2814.0613482747394,\n",
       " 2687.6365752604165,\n",
       " 2908.7149986002605,\n",
       " 2531.6575548990886,\n",
       " 2474.937194921875,\n",
       " 4168.502078385417,\n",
       " 3046.3167387044273,\n",
       " 2997.2673783854166,\n",
       " 3009.3085283854166,\n",
       " 2526.464207096354,\n",
       " 3078.108592936198,\n",
       " 2502.846200748698,\n",
       " 2191.4356474121096,\n",
       " 2660.2933204101564,\n",
       " 2508.4454000325522,\n",
       " 3599.936081575521,\n",
       " 2442.5790598958333,\n",
       " 2443.915876920573,\n",
       " 2698.3415754882813,\n",
       " 3271.6139056315105]"
      ]
     },
     "execution_count": 20,
     "metadata": {},
     "output_type": "execute_result"
    }
   ],
   "source": [
    "val_loss"
   ]
  },
  {
   "cell_type": "code",
   "execution_count": 31,
   "metadata": {},
   "outputs": [
    {
     "name": "stdout",
     "output_type": "stream",
     "text": [
      "[2329.390924175304, 2329.870010027464, 2567.8847436838614, 2229.5240537308177, 2370.2302323675676, 2484.9268916413234, 2350.595354369996, 2204.2992619776796, 2602.1845383099553, 2645.505024884403, 2380.0201588150526, 2602.862652351508, 2298.221951754588, 2501.48779502952, 2443.29576206302, 2285.913119273484, 2065.4368147940004, 2229.4337262453837, 2553.1103669576637, 2364.1919620517706, 2141.5369978509807, 2283.5019674897785, 2306.446569084766, 2621.560790106462, 2229.4250456157483, 2466.742031366373, 2095.974074059707, 2017.5348306483522, 2454.340118196065, 2478.1828218098312, 2549.8317045573563, 2556.8211925396736, 2658.9880211081027, 2049.3577607504308, 2393.94337658849, 2259.482961917942, 2316.481117165195, 2212.745407695448, 2465.380058099165, 2226.1885803889377, 2402.269844214279, 2564.756735808326, 2195.5266131464514, 2148.4446269909463, 2197.6484067399783, 2425.0334536297673, 2616.7097846204497, 2217.88387306918, 2581.7366012376256, 2640.480786835899, 2314.2928791671193, 2236.88586959157, 2021.664270758984, 2302.7544188968236, 2940.644860791355, 2580.6115437785115, 2142.2649333692475, 2180.340946837712, 2097.0625224260257, 2442.638499861322, 2393.217074897107, 2355.3110020627096, 2534.3800270663946, 2410.1241216271255, 2465.827697284172, 2296.2769566889197, 2199.2109191197505, 2319.037383972592, 2456.775674041475, 2178.5927488900934, 2283.7598765429107, 2255.633592925692, 3056.5213709114323, 2137.7376742926467, 2393.12647999647, 2550.396065311375, 2428.799872450464, 2173.947184163977, 2484.847408593944, 1800.47029266812, 2744.2976208774903, 2398.583840848436, 2136.6219426659864, 2219.514590372277, 2567.291345711853, 2771.3191291331773, 2069.339840355791, 2450.903204666941, 2681.6986327034006, 2459.313058468649, 2566.2086506514943, 2452.250569287691, 2227.7938107563464, 2346.684157916072, 2288.727037901438, 2535.01587774737, 2142.7260699759886, 2381.519170736485, 2486.34842758406, 2394.931880644085, 2640.0421710805126, 2274.681797970845, 2639.5239962110927, 2545.0159072042575, 2689.1467681551408, 1956.720386736206, 2327.400012594941, 2604.342338615046, 2624.1261021482437, 2205.5062974704415, 2116.1743469541334, 2103.6439759331165, 2371.3309696504352, 2456.1458740234375, 2259.9255665662627, 2488.079362916615, 2609.6468000970744, 2293.0127886532555, 2522.525406868716, 2470.447169556755, 2348.2844832267874, 2384.49590400764, 2717.36852081814, 2518.6871913693985, 2246.3037015428135, 2415.1262713738206]\n"
     ]
    }
   ],
   "source": [
    "print(y3)"
   ]
  },
  {
   "cell_type": "code",
   "execution_count": null,
   "metadata": {
    "colab": {
     "base_uri": "https://localhost:8080/",
     "height": 118
    },
    "colab_type": "code",
    "id": "5Qg7Iyg-RsZc",
    "outputId": "6e257a36-b10f-4d83-ebab-7bce690bf17c",
    "scrolled": false
   },
   "outputs": [],
   "source": [
    "model.eval()"
   ]
  },
  {
   "cell_type": "code",
   "execution_count": 28,
   "metadata": {},
   "outputs": [],
   "source": [
    "model.eval()\n",
    "test_loss = list()\n",
    "for data in testloader:\n",
    "    losses, nums = zip(\n",
    "                *[loss_batch(model.to(device1), loss_function, xb.to(device1), yb.to(device1)) for xb, yb in testloader])\n",
    "    test_loss1 = np.sum(np.multiply(losses, nums)) / np.sum(nums)\n",
    "    test_loss.append(test_loss1)"
   ]
  },
  {
   "cell_type": "code",
   "execution_count": 29,
   "metadata": {},
   "outputs": [],
   "source": [
    "import matplotlib.pyplot as plt"
   ]
  },
  {
   "cell_type": "code",
   "execution_count": 30,
   "metadata": {},
   "outputs": [
    {
     "data": {
      "text/plain": [
       "Text(0, 0.5, 'test_loss')"
      ]
     },
     "execution_count": 30,
     "metadata": {},
     "output_type": "execute_result"
    },
    {
     "data": {
      "image/png": "[encoded data removed]",
      "text/plain": [
       "<Figure size 432x288 with 1 Axes>"
      ]
     },
     "metadata": {
      "needs_background": "light"
     },
     "output_type": "display_data"
    }
   ],
   "source": [
    "x = range(0, 126)\n",
    "y3 = test_loss\n",
    "plt.plot(x, y3, 'o-')\n",
    "plt.title('test_loss')\n",
    "plt.ylabel('test_loss')"
   ]
  },
  {
   "cell_type": "code",
   "execution_count": null,
   "metadata": {
    "colab": {
     "base_uri": "https://localhost:8080/",
     "height": 1000
    },
    "colab_type": "code",
    "id": "eDZ_0FSIRz4A",
    "outputId": "6127c2c9-dc3b-4994-a315-27d714d4f9ac"
   },
   "outputs": [],
   "source": [
    "for data in testloader:\n",
    "    inputs, lablels = data\n",
    "    predictions = model(inputs.float())\n",
    "    loss = loss_function(predictions,labels)\n",
    "    loss = loss/128\n",
    "    print(\"loss\",loss)\n",
    "    print(\"predicted parameter:\", predictions)\n",
    "    print(\"setting parameter:\", labels)"
   ]
  },
  {
   "cell_type": "code",
   "execution_count": null,
   "metadata": {},
   "outputs": [],
   "source": [
    "testdataset = ra.read('atomsroa.ra')\n",
    "testdata = torch.tensor(testdataset)\n",
    "testdata = testdata.imag\n",
    "label1 = ra.read('paramsroa.ra')\n",
    "label1 = torch.tensor(label1)"
   ]
  },
  {
   "cell_type": "code",
   "execution_count": null,
   "metadata": {
    "colab": {},
    "colab_type": "code",
    "id": "D0xuJReg8EbA"
   },
   "outputs": [],
   "source": [
    "for i in range(8056):\n",
    "    inputs = testdata[:,i]\n",
    "    lablels = label1[0,i]\n",
    "    predictions = model(inputs.float())\n",
    "\n",
    "    print(\"predicted parameter:\", predictions)\n",
    "    print(\"setting parameter:\", lablels)"
   ]
  },
  {
   "cell_type": "markdown",
   "metadata": {
    "colab_type": "text",
    "id": "98SN3jbBbQPo"
   },
   "source": [
    "## Saving models"
   ]
  },
  {
   "cell_type": "markdown",
   "metadata": {
    "colab_type": "text",
    "id": "AC85zIKAbLgu"
   },
   "source": [
    "Being able to train a model is fine, but in practice once we've trained the model we probably want to save the result so we can reuse it at a later time. PyTorch makes saving the model easy using the torch.save(state, filepath) function. This will save the weights of the model so they can be loaded into a new instance at a later point.\n",
    "\n",
    "Run the following code to save the weights for use in the next part of the lab."
   ]
  },
  {
   "cell_type": "code",
   "execution_count": 17,
   "metadata": {
    "colab": {},
    "colab_type": "code",
    "id": "uYwWauk6a7vK"
   },
   "outputs": [],
   "source": [
    "#save the trained model weights\n",
    "torch.save(model.state_dict(), \"./BaselineModel1.weights\")"
   ]
  },
  {
   "cell_type": "markdown",
   "metadata": {
    "colab_type": "text",
    "id": "Z3755E9cbClj"
   },
   "source": [
    "If you are running on Colab, run the following to download the weights to the local machine:"
   ]
  },
  {
   "cell_type": "code",
   "execution_count": null,
   "metadata": {
    "colab": {
     "base_uri": "https://localhost:8080/",
     "height": 17
    },
    "colab_type": "code",
    "id": "YQso-4fca_mI",
    "outputId": "b059fe76-e584-437c-f499-8ca3da61d6d5"
   },
   "outputs": [],
   "source": [
    "from google.colab import files\n",
    "files.download('BaselineModel.weights')"
   ]
  },
  {
   "cell_type": "code",
   "execution_count": null,
   "metadata": {
    "colab": {
     "base_uri": "https://localhost:8080/",
     "height": 34
    },
    "colab_type": "code",
    "id": "AzH-0Wu9brJG",
    "outputId": "68c73ea4-c60c-4c51-9b54-a278d8492b63"
   },
   "outputs": [],
   "source": [
    "device = \"cuda:0\" if torch.cuda.is_available() else \"cpu\"\n",
    "model = BaselineModel(1000, 512, 256).to(device)\n",
    "model.load_state_dict(torch.load('BaselineModel.weights'))"
   ]
  }
 ],
 "metadata": {
  "colab": {
   "collapsed_sections": [],
   "name": "MRF-net.ipynb",
   "provenance": []
  },
  "kernelspec": {
   "display_name": "Python 3",
   "language": "python",
   "name": "python3"
  },
  "language_info": {
   "codemirror_mode": {
    "name": "ipython",
    "version": 3
   },
   "file_extension": ".py",
   "mimetype": "text/x-python",
   "name": "python",
   "nbconvert_exporter": "python",
   "pygments_lexer": "ipython3",
   "version": "3.8.5"
  }
 },
 "nbformat": 4,
 "nbformat_minor": 1
}
