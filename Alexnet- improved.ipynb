{
 "cells": [
  {
   "cell_type": "code",
   "execution_count": 1,
   "metadata": {
    "colab": {},
    "colab_type": "code",
    "id": "aqe2u5u5zhMj"
   },
   "outputs": [],
   "source": [
    "import numpy as np\n",
    "import torch\n",
    "import torch.nn.functional as F\n",
    "import torchvision.transforms as transforms\n",
    "from torch import nn\n",
    "from torch import optim\n",
    "from torch.utils.data import DataLoader\n",
    "#from torchvision.datasets import MNIST"
   ]
  },
  {
   "cell_type": "code",
   "execution_count": null,
   "metadata": {},
   "outputs": [],
   "source": [
    "print(torch.__version__)"
   ]
  },
  {
   "cell_type": "code",
   "execution_count": null,
   "metadata": {
    "colab": {
     "base_uri": "https://localhost:8080/",
     "height": 121
    },
    "colab_type": "code",
    "id": "VIE7-SAqir7O",
    "outputId": "2b6972e1-a573-4505-d544-690a1d68fbc8",
    "scrolled": true
   },
   "outputs": [],
   "source": [
    "from google.colab import drive\n",
    "drive.mount('/content/drive')"
   ]
  },
  {
   "cell_type": "code",
   "execution_count": 2,
   "metadata": {
    "colab": {},
    "colab_type": "code",
    "id": "FRWp8xWFEijO"
   },
   "outputs": [],
   "source": [
    "#import os\n",
    "#os.chdir(\"/content/drive/My Drive\") \n",
    "import ra\n",
    "#import complexLayers\n"
   ]
  },
  {
   "cell_type": "code",
   "execution_count": 3,
   "metadata": {
    "colab": {},
    "colab_type": "code",
    "id": "6-BK2JMPjju-"
   },
   "outputs": [],
   "source": [
    "dataset = ra.read('atomsroa.ra')\n",
    "train_data = torch.tensor(dataset)"
   ]
  },
  {
   "cell_type": "code",
   "execution_count": 4,
   "metadata": {},
   "outputs": [],
   "source": [
    "train_data = train_data.imag\n",
    "train_data =  torch.transpose(train_data, 0, 1).unsqueeze(1)"
   ]
  },
  {
   "cell_type": "code",
   "execution_count": 5,
   "metadata": {},
   "outputs": [],
   "source": [
    "labelset = ra.read('paramsroa.ra')\n",
    "train_label1 = torch.tensor(labelset)"
   ]
  },
  {
   "cell_type": "code",
   "execution_count": 6,
   "metadata": {},
   "outputs": [],
   "source": [
    "dataset1 = ra.read('atoms.ra')\n",
    "traindata1 = torch.tensor(dataset1)\n",
    "traindata1 = traindata1.imag\n",
    "traindata1 =  torch.transpose(traindata1, 0, 1).unsqueeze(1)\n",
    "label1 = ra.read('params.ra')\n",
    "label1 = torch.tensor(label1)"
   ]
  },
  {
   "cell_type": "code",
   "execution_count": null,
   "metadata": {},
   "outputs": [],
   "source": [
    "print(traindata1)\n",
    "print(train_data)"
   ]
  },
  {
   "cell_type": "code",
   "execution_count": 7,
   "metadata": {},
   "outputs": [
    {
     "name": "stdout",
     "output_type": "stream",
     "text": [
      "torch.Size([108056, 1, 1000])\n"
     ]
    },
    {
     "data": {
      "text/plain": [
       "torch.Size([108056, 1, 1000])"
      ]
     },
     "execution_count": 7,
     "metadata": {},
     "output_type": "execute_result"
    }
   ],
   "source": [
    "print(traindata1.shape)\n",
    "train_data.shape"
   ]
  },
  {
   "cell_type": "code",
   "execution_count": 8,
   "metadata": {
    "scrolled": true
   },
   "outputs": [],
   "source": [
    "alldata = torch.cat((train_data,traindata1),0)"
   ]
  },
  {
   "cell_type": "code",
   "execution_count": 9,
   "metadata": {},
   "outputs": [],
   "source": [
    "labels1 = torch.cat((train_label1[:-1,:],label1[:-1,:]),1)"
   ]
  },
  {
   "cell_type": "code",
   "execution_count": null,
   "metadata": {
    "scrolled": true
   },
   "outputs": [],
   "source": [
    "print(labels1)\n",
    "print(labels1.shape)\n",
    "print(train_label1.shape)"
   ]
  },
  {
   "cell_type": "code",
   "execution_count": 10,
   "metadata": {},
   "outputs": [
    {
     "name": "stdout",
     "output_type": "stream",
     "text": [
      "torch.Size([216112, 2])\n"
     ]
    }
   ],
   "source": [
    "labels1 = torch.transpose(labels1, 0, 1)\n",
    "print(labels1.shape)"
   ]
  },
  {
   "cell_type": "code",
   "execution_count": 11,
   "metadata": {},
   "outputs": [],
   "source": [
    "import torch.utils.data as data\n",
    "train_dataset = data.TensorDataset(alldata,labels1)"
   ]
  },
  {
   "cell_type": "code",
   "execution_count": null,
   "metadata": {
    "colab": {},
    "colab_type": "code",
    "id": "EtO2l_0K9bVo"
   },
   "outputs": [],
   "source": [
    "from sklearn.decomposition import PCA\n",
    "X_reduced = PCA(n_components=10).fit_transform(train_data)"
   ]
  },
  {
   "cell_type": "code",
   "execution_count": null,
   "metadata": {
    "colab": {
     "base_uri": "https://localhost:8080/",
     "height": 84
    },
    "colab_type": "code",
    "id": "9jhCmOGlzHuJ",
    "outputId": "d404eff5-582b-40af-8ba4-2f163944744e"
   },
   "outputs": [],
   "source": [
    "pca = PCA(n_components=10)\n",
    "pca.fit(train_data)\n",
    "\n",
    "print(pca.explained_variance_ratio_.shape)\n",
    "print(pca.components_.shape)\n",
    "print(pca.singular_values_.shape)\n",
    "print(pca.mean_.shape)"
   ]
  },
  {
   "cell_type": "code",
   "execution_count": null,
   "metadata": {
    "colab": {},
    "colab_type": "code",
    "id": "uyEh1FCOM4gT"
   },
   "outputs": [],
   "source": [
    "train_data = torch.tensor(X_reduced)"
   ]
  },
  {
   "cell_type": "code",
   "execution_count": 12,
   "metadata": {
    "colab": {},
    "colab_type": "code",
    "id": "ih21UQILm0Hl"
   },
   "outputs": [],
   "source": [
    "train_dataset, valid_dataset, test_dataset = torch.utils.data.random_split(train_dataset, [140000, 60000 ,16112])"
   ]
  },
  {
   "cell_type": "markdown",
   "metadata": {},
   "source": [
    "We found that the network model with smallest\n",
    "average error for validation data consists of 3 convolutional layers (kernel size = 3, stride\n",
    "size = 2), each followed by a rectified linear unit (ReLU) activation function. The number\n",
    "of the feature maps per convolutional layer is increasing, from 32 in the first to 128 in\n",
    "the last. After convolution an average pooling layer follows with the same size as the\n",
    "stride size. The last layer is fully connected, with 2 outputs. "
   ]
  },
  {
   "cell_type": "code",
   "execution_count": 30,
   "metadata": {
    "colab": {},
    "colab_type": "code",
    "id": "ahjQ0hXkj6Yl"
   },
   "outputs": [],
   "source": [
    "class AlexNet(nn.Module):\n",
    "\n",
    "    def __init__(self):\n",
    "        super(AlexNet, self).__init__()\n",
    "        self.features = nn.Sequential(\n",
    "            nn.Conv1d(1, 64, kernel_size=11, stride=4, padding=2),\n",
    "            nn.ReLU(inplace=True),\n",
    "            nn.MaxPool1d(kernel_size=3, stride=2),\n",
    "            nn.Conv1d(64, 192, kernel_size=5, padding=2),\n",
    "            nn.ReLU(inplace=True),\n",
    "            nn.MaxPool1d(kernel_size=3, stride=2),\n",
    "            nn.Conv1d(192, 384, kernel_size=3, padding=1),\n",
    "            nn.ReLU(inplace=True),\n",
    "            nn.Conv1d(384, 256, kernel_size=3, padding=1),\n",
    "            nn.ReLU(inplace=True),\n",
    "            nn.Conv1d(256, 256, kernel_size=3, padding=1),\n",
    "            nn.ReLU(inplace=True),\n",
    "            nn.MaxPool2d(kernel_size=3, stride=2),\n",
    "        )\n",
    "        self.avgpool = nn.AdaptiveAvgPool2d((6, 6))\n",
    "        self.classifier = nn.Sequential(\n",
    "            nn.Dropout(),\n",
    "            nn.Linear(36, 18),\n",
    "            nn.ReLU(inplace=True),\n",
    "            nn.Dropout(),\n",
    "            nn.Linear(18, 9),\n",
    "            nn.ReLU(inplace=True),\n",
    "            nn.Linear(9, 2),\n",
    "        )\n",
    "\n",
    "    def forward(self, x):\n",
    "        x = self.features(x)\n",
    "        x = self.avgpool(x)\n",
    "        x = torch.flatten(x, 1)\n",
    "        x = self.classifier(x)\n",
    "        return x"
   ]
  },
  {
   "cell_type": "code",
   "execution_count": 31,
   "metadata": {
    "colab": {},
    "colab_type": "code",
    "id": "z3pzehZtrCEC"
   },
   "outputs": [],
   "source": [
    "N = 500\n",
    "val_loss = list()\n",
    "#val_accu = list()\n",
    "train_loss = list()\n",
    "#train_accu = list()"
   ]
  },
  {
   "cell_type": "code",
   "execution_count": 32,
   "metadata": {},
   "outputs": [],
   "source": [
    "#assert torch.cuda.is_available()\n",
    "device1 = \"cuda:0\" if torch.cuda.is_available() else \"cpu\"\n",
    "#cuda_device = torch.device(\"cuda\")\n",
    "seed = 7\n",
    "torch.manual_seed(seed)\n",
    "trainloader = DataLoader(train_dataset, batch_size=128, shuffle=True)\n",
    "validloader = DataLoader(valid_dataset, batch_size=128, shuffle=False)\n",
    "testloader = DataLoader(test_dataset, batch_size=128, shuffle=True)\n",
    "\n",
    "def loss_batch(model, loss_func, xb, yb, opt=None):\n",
    "    outputs = model(xb.float())\n",
    "    yb = yb.float()\n",
    "    outputs = torch.squeeze(outputs, 1)\n",
    "    loss = loss_func(outputs, yb)\n",
    "\n",
    "    if opt is not None:\n",
    "        loss.backward()\n",
    "        opt.step()\n",
    "        opt.zero_grad()\n",
    "\n",
    "    return loss.item(), len(xb)"
   ]
  },
  {
   "cell_type": "code",
   "execution_count": null,
   "metadata": {},
   "outputs": [],
   "source": [
    "!pip install pycuda\n",
    "import torch\n",
    "import pycuda.driver as cuda\n",
    "cuda.init()\n",
    "## Get Id of default device\n",
    "torch.cuda.current_device()\n",
    "# 0\n",
    "cuda.Device(0).name() # '0' is the id of your GPU"
   ]
  },
  {
   "cell_type": "code",
   "execution_count": 33,
   "metadata": {
    "colab": {
     "base_uri": "https://localhost:8080/",
     "height": 1000
    },
    "colab_type": "code",
    "id": "sGAHKMREJzYA",
    "outputId": "e1d97095-19c2-490c-dd04-c3932fe2ce54"
   },
   "outputs": [
    {
     "name": "stdout",
     "output_type": "stream",
     "text": [
      "Epoch 0, loss 1065646661.94\n",
      "Epoch 1, loss 664284255.62\n",
      "Epoch 2, loss 477259261.94\n",
      "Epoch 3, loss 374547090.64\n",
      "Epoch 4, loss 347174153.20\n",
      "Epoch 5, loss 318614639.98\n",
      "Epoch 6, loss 294702083.98\n",
      "Epoch 7, loss 267791674.80\n",
      "Epoch 8, loss 247684958.22\n",
      "Epoch 9, loss 237548341.73\n",
      "Epoch 10, loss 230973168.02\n",
      "Epoch 11, loss 221748706.17\n",
      "Epoch 12, loss 212548581.34\n",
      "Epoch 13, loss 209417011.80\n",
      "Epoch 14, loss 205041235.39\n",
      "Epoch 15, loss 201026626.94\n",
      "Epoch 16, loss 201328565.83\n",
      "Epoch 17, loss 199383086.53\n",
      "Epoch 18, loss 199938153.08\n",
      "Epoch 19, loss 197118462.22\n",
      "Epoch 20, loss 196667345.28\n",
      "Epoch 21, loss 195583558.76\n",
      "Epoch 22, loss 194414315.01\n",
      "Epoch 23, loss 193389204.50\n",
      "Epoch 24, loss 192152099.48\n",
      "Epoch 25, loss 192340274.30\n",
      "Epoch 26, loss 191710320.65\n",
      "Epoch 27, loss 189982212.23\n",
      "Epoch 28, loss 189244467.17\n",
      "Epoch 29, loss 189143716.99\n",
      "Epoch 30, loss 188419042.88\n",
      "Epoch 31, loss 187532488.53\n",
      "Epoch 32, loss 186745488.27\n",
      "Epoch 33, loss 187700350.48\n",
      "Epoch 34, loss 185673720.54\n",
      "Epoch 35, loss 184349459.99\n",
      "Epoch 36, loss 184040256.13\n",
      "Epoch 37, loss 184595939.77\n",
      "Epoch 38, loss 184961418.74\n",
      "Epoch 39, loss 183583286.00\n",
      "Epoch 40, loss 182268945.09\n",
      "Epoch 41, loss 181507401.93\n",
      "Epoch 42, loss 180887627.05\n",
      "Epoch 43, loss 181150427.22\n",
      "Epoch 44, loss 177816654.60\n",
      "Epoch 45, loss 177944304.67\n",
      "Epoch 46, loss 177013207.56\n",
      "Epoch 47, loss 174406967.09\n",
      "Epoch 48, loss 175009732.77\n",
      "Epoch 49, loss 173813932.19\n",
      "Epoch 50, loss 173065706.52\n",
      "Epoch 51, loss 169529249.05\n",
      "Epoch 52, loss 170698746.98\n",
      "Epoch 53, loss 167238642.02\n",
      "Epoch 54, loss 165684978.80\n",
      "Epoch 55, loss 164281912.15\n",
      "Epoch 56, loss 162836467.75\n",
      "Epoch 57, loss 160760563.93\n",
      "Epoch 58, loss 158909599.59\n",
      "Epoch 59, loss 155576921.12\n",
      "Epoch 60, loss 153564403.04\n",
      "Epoch 61, loss 151831185.38\n",
      "Epoch 62, loss 149201436.53\n",
      "Epoch 63, loss 145140744.18\n",
      "Epoch 64, loss 142000390.01\n",
      "Epoch 65, loss 138801759.62\n",
      "Epoch 66, loss 136220630.91\n",
      "Epoch 67, loss 134099440.18\n",
      "Epoch 68, loss 130399799.89\n",
      "Epoch 69, loss 128164486.38\n",
      "Epoch 70, loss 125735506.89\n",
      "Epoch 71, loss 123296591.30\n",
      "Epoch 72, loss 122991804.78\n",
      "Epoch 73, loss 120360993.12\n",
      "Epoch 74, loss 120780166.82\n",
      "Epoch 75, loss 119303795.39\n",
      "Epoch 76, loss 118889401.40\n",
      "Epoch 77, loss 118534993.52\n",
      "Epoch 78, loss 116654326.26\n",
      "Epoch 79, loss 116303247.51\n",
      "Epoch 80, loss 115840369.60\n",
      "Epoch 81, loss 115919205.11\n",
      "Epoch 82, loss 114674291.35\n",
      "Epoch 83, loss 114867200.83\n",
      "Epoch 84, loss 114773081.55\n",
      "Epoch 85, loss 114136696.46\n",
      "Epoch 86, loss 112415973.40\n",
      "Epoch 87, loss 112680773.61\n",
      "Epoch 88, loss 112100774.95\n",
      "Epoch 89, loss 111656739.29\n",
      "Epoch 90, loss 110345459.98\n",
      "Epoch 91, loss 109778518.48\n",
      "Epoch 92, loss 109174616.14\n",
      "Epoch 93, loss 107893699.58\n",
      "Epoch 94, loss 106856515.70\n",
      "Epoch 95, loss 106061658.55\n",
      "Epoch 96, loss 105090827.70\n",
      "Epoch 97, loss 103572410.80\n",
      "Epoch 98, loss 103137769.72\n",
      "Epoch 99, loss 103008921.52\n",
      "Epoch 100, loss 101824389.00\n",
      "Epoch 101, loss 100270973.64\n",
      "Epoch 102, loss 100599711.79\n",
      "Epoch 103, loss 99775746.12\n",
      "Epoch 104, loss 98638504.93\n",
      "Epoch 105, loss 98932671.12\n",
      "Epoch 106, loss 97714324.94\n",
      "Epoch 107, loss 97969923.12\n",
      "Epoch 108, loss 97256739.56\n",
      "Epoch 109, loss 96168178.39\n",
      "Epoch 110, loss 96324624.43\n",
      "Epoch 111, loss 95814461.61\n",
      "Epoch 112, loss 95508506.65\n",
      "Epoch 113, loss 95337021.86\n",
      "Epoch 114, loss 95244713.77\n",
      "Epoch 115, loss 94528109.45\n",
      "Epoch 116, loss 95122580.25\n",
      "Epoch 117, loss 94872332.36\n",
      "Epoch 118, loss 94125322.10\n",
      "Epoch 119, loss 94207592.66\n",
      "Epoch 120, loss 93217411.30\n",
      "Epoch 121, loss 94293701.58\n",
      "Epoch 122, loss 92813415.34\n",
      "Epoch 123, loss 92826427.07\n",
      "Epoch 124, loss 92339635.89\n",
      "Epoch 125, loss 92499297.86\n",
      "Epoch 126, loss 92698237.75\n",
      "Epoch 127, loss 91992684.44\n",
      "Epoch 128, loss 91409429.52\n",
      "Epoch 129, loss 91711373.54\n",
      "Epoch 130, loss 91498947.18\n",
      "Epoch 131, loss 91284312.03\n",
      "Epoch 132, loss 90450935.53\n",
      "Epoch 133, loss 89983650.68\n",
      "Epoch 134, loss 90396567.00\n",
      "Epoch 135, loss 90257241.54\n",
      "Epoch 136, loss 90352024.55\n",
      "Epoch 137, loss 90032789.62\n",
      "Epoch 138, loss 90177676.27\n",
      "Epoch 139, loss 89365396.75\n",
      "Epoch 140, loss 89519055.47\n",
      "Epoch 141, loss 88984594.45\n",
      "Epoch 142, loss 88941114.70\n",
      "Epoch 143, loss 88886823.20\n",
      "Epoch 144, loss 89129355.92\n",
      "Epoch 145, loss 89217798.81\n",
      "Epoch 146, loss 89142782.07\n",
      "Epoch 147, loss 88822053.67\n",
      "Epoch 148, loss 88975833.69\n",
      "Epoch 149, loss 88576815.01\n",
      "Epoch 150, loss 88471479.20\n",
      "Epoch 151, loss 88763860.06\n",
      "Epoch 152, loss 89011523.19\n",
      "Epoch 153, loss 88088403.24\n",
      "Epoch 154, loss 88373466.34\n",
      "Epoch 155, loss 88700493.15\n",
      "Epoch 156, loss 88284918.64\n",
      "Epoch 157, loss 88584823.06\n",
      "Epoch 158, loss 88561106.40\n",
      "Epoch 159, loss 88062716.57\n",
      "Epoch 160, loss 88029089.23\n",
      "Epoch 161, loss 87859164.16\n",
      "Epoch 162, loss 88084116.25\n",
      "Epoch 163, loss 88199825.10\n",
      "Epoch 164, loss 87854663.15\n",
      "Epoch 165, loss 87074160.45\n",
      "Epoch 166, loss 87812519.99\n",
      "Epoch 167, loss 87807253.36\n",
      "Epoch 168, loss 87692089.20\n",
      "Epoch 169, loss 87991269.36\n",
      "Epoch 170, loss 87480863.72\n",
      "Epoch 171, loss 87827031.25\n",
      "Epoch 172, loss 87946302.31\n",
      "Epoch 173, loss 88013545.92\n",
      "Epoch 174, loss 88263639.48\n",
      "Epoch 175, loss 87153064.74\n",
      "Epoch 176, loss 87622040.60\n",
      "Epoch 177, loss 87236333.50\n",
      "Epoch 178, loss 87721802.05\n",
      "Epoch 179, loss 87121511.49\n",
      "Epoch 180, loss 87079069.77\n",
      "Epoch 181, loss 87232910.75\n",
      "Epoch 182, loss 87555296.20\n",
      "Epoch 183, loss 87497696.95\n",
      "Epoch 184, loss 87247348.86\n",
      "Epoch 185, loss 87229843.31\n",
      "Epoch 186, loss 86680340.34\n",
      "Epoch 187, loss 87224820.99\n",
      "Epoch 188, loss 87434118.40\n",
      "Epoch 189, loss 87028072.25\n",
      "Epoch 190, loss 87658744.00\n",
      "Epoch 191, loss 86639448.87\n",
      "Epoch 192, loss 87718291.05\n",
      "Epoch 193, loss 86833644.95\n",
      "Epoch 194, loss 86877298.62\n",
      "Epoch 195, loss 87631123.59\n",
      "Epoch 196, loss 87107502.38\n",
      "Epoch 197, loss 86594317.28\n",
      "Epoch 198, loss 86979559.66\n",
      "Epoch 199, loss 87611333.34\n",
      "Epoch 200, loss 86930057.29\n",
      "Epoch 201, loss 86957152.55\n",
      "Epoch 202, loss 87362422.09\n",
      "Epoch 203, loss 86547423.38\n",
      "Epoch 204, loss 87375618.53\n",
      "Epoch 205, loss 86237422.34\n",
      "Epoch 206, loss 87189300.35\n",
      "Epoch 207, loss 86416931.29\n",
      "Epoch 208, loss 86478881.04\n",
      "Epoch 209, loss 87059223.98\n",
      "Epoch 210, loss 86906981.61\n",
      "Epoch 211, loss 87709216.97\n",
      "Epoch 212, loss 87056986.53\n",
      "Epoch 213, loss 87280562.01\n",
      "Epoch 214, loss 87312981.98\n",
      "Epoch 215, loss 86944311.03\n",
      "Epoch 216, loss 87134947.36\n",
      "Epoch 217, loss 86657695.05\n",
      "Epoch 218, loss 86338663.54\n",
      "Epoch 219, loss 86983767.32\n",
      "Epoch 220, loss 86821047.03\n",
      "Epoch 221, loss 87136767.32\n",
      "Epoch 222, loss 87471042.87\n",
      "Epoch 223, loss 87229757.16\n",
      "Epoch 224, loss 86416081.76\n",
      "Epoch 225, loss 86552392.58\n",
      "Epoch 226, loss 86777698.73\n",
      "Epoch 227, loss 86621824.86\n",
      "Epoch 228, loss 86846085.39\n",
      "Epoch 229, loss 86818016.35\n",
      "Epoch 230, loss 86630509.14\n",
      "Epoch 231, loss 85970179.93\n",
      "Epoch 232, loss 86829787.94\n",
      "Epoch 233, loss 87151220.35\n",
      "Epoch 234, loss 86814079.52\n",
      "Epoch 235, loss 86238369.77\n",
      "Epoch 236, loss 86441822.87\n",
      "Epoch 237, loss 87096705.26\n",
      "Epoch 238, loss 86698644.61\n",
      "Epoch 239, loss 87099352.57\n",
      "Epoch 240, loss 86764672.88\n",
      "Epoch 241, loss 86907280.29\n",
      "Epoch 242, loss 86404911.10\n",
      "Epoch 243, loss 86403868.01\n",
      "Epoch 244, loss 86932409.51\n",
      "Epoch 245, loss 86963192.38\n",
      "Epoch 246, loss 87031746.51\n",
      "Epoch 247, loss 86712152.29\n",
      "Epoch 248, loss 86561142.61\n",
      "Epoch 249, loss 86716404.39\n",
      "Epoch 250, loss 86678694.66\n",
      "Epoch 251, loss 86860931.79\n",
      "Epoch 252, loss 87216073.25\n",
      "Epoch 253, loss 86909426.66\n",
      "Epoch 254, loss 86780639.85\n",
      "Epoch 255, loss 87012929.80\n",
      "Epoch 256, loss 88541682.55\n",
      "Epoch 257, loss 86042574.98\n",
      "Epoch 258, loss 86687390.21\n",
      "Epoch 259, loss 87060901.70\n",
      "Epoch 260, loss 86645080.41\n",
      "Epoch 261, loss 86498048.44\n",
      "Epoch 262, loss 87325486.50\n",
      "Epoch 263, loss 86819829.27\n",
      "Epoch 264, loss 86930987.52\n",
      "Epoch 265, loss 87107498.27\n",
      "Epoch 266, loss 87529718.25\n",
      "Epoch 267, loss 86714683.43\n",
      "Epoch 268, loss 86637860.63\n",
      "Epoch 269, loss 87039568.15\n",
      "Epoch 270, loss 87734649.96\n",
      "Epoch 271, loss 86698636.41\n",
      "Epoch 272, loss 86885709.38\n",
      "Epoch 273, loss 87698352.63\n",
      "Epoch 274, loss 85865281.78\n",
      "Epoch 275, loss 87274189.40\n",
      "Epoch 276, loss 86785472.21\n",
      "Epoch 277, loss 87798841.24\n",
      "Epoch 278, loss 87214860.09\n",
      "Epoch 279, loss 86703847.61\n",
      "Epoch 280, loss 87096415.55\n",
      "Epoch 281, loss 86698632.26\n",
      "Epoch 282, loss 86924411.32\n",
      "Epoch 283, loss 86932023.53\n",
      "Epoch 284, loss 88081182.75\n",
      "Epoch 285, loss 86292800.48\n",
      "Epoch 286, loss 87122461.29\n",
      "Epoch 287, loss 86470738.28\n",
      "Epoch 288, loss 87635591.09\n",
      "Epoch 289, loss 87145072.17\n",
      "Epoch 290, loss 86829730.34\n",
      "Epoch 291, loss 86953247.52\n",
      "Epoch 292, loss 87504978.92\n",
      "Epoch 293, loss 87328981.14\n",
      "Epoch 294, loss 86949007.92\n",
      "Epoch 295, loss 86303983.60\n",
      "Epoch 296, loss 86202606.43\n",
      "Epoch 297, loss 88261697.70\n",
      "Epoch 298, loss 87069404.02\n",
      "Epoch 299, loss 87180862.57\n",
      "Epoch 300, loss 86231303.72\n",
      "Epoch 301, loss 86377163.04\n",
      "Epoch 302, loss 86459769.60\n",
      "Epoch 303, loss 86958417.76\n",
      "Epoch 304, loss 86448710.55\n",
      "Epoch 305, loss 86988526.94\n",
      "Epoch 306, loss 86941320.53\n",
      "Epoch 307, loss 87452151.05\n",
      "Epoch 308, loss 86545433.81\n",
      "Epoch 309, loss 86861407.76\n",
      "Epoch 310, loss 87648434.82\n",
      "Epoch 311, loss 87367597.20\n",
      "Epoch 312, loss 86446363.69\n",
      "Epoch 313, loss 87242129.90\n",
      "Epoch 314, loss 87094040.62\n",
      "Epoch 315, loss 86449746.72\n",
      "Epoch 316, loss 87331416.65\n",
      "Epoch 317, loss 87025713.53\n",
      "Epoch 318, loss 86319113.45\n",
      "Epoch 319, loss 85956723.13\n",
      "Epoch 320, loss 87428781.42\n",
      "Epoch 321, loss 86750578.08\n",
      "Epoch 322, loss 86672473.25\n",
      "Epoch 323, loss 87065942.07\n",
      "Epoch 324, loss 86353464.15\n",
      "Epoch 325, loss 86862771.09\n",
      "Epoch 326, loss 86725045.34\n",
      "Epoch 327, loss 86702182.21\n",
      "Epoch 328, loss 88059569.48\n",
      "Epoch 329, loss 86938775.77\n",
      "Epoch 330, loss 87148394.77\n",
      "Epoch 331, loss 86124775.22\n",
      "Epoch 332, loss 86317996.80\n",
      "Epoch 333, loss 86520104.13\n",
      "Epoch 334, loss 86429599.33\n",
      "Epoch 335, loss 87206317.39\n",
      "Epoch 336, loss 86389640.00\n",
      "Epoch 337, loss 86613739.76\n",
      "Epoch 338, loss 86767573.02\n",
      "Epoch 339, loss 86671820.08\n",
      "Epoch 340, loss 85825781.08\n",
      "Epoch 341, loss 87162471.07\n",
      "Epoch 342, loss 86279612.43\n",
      "Epoch 343, loss 87494702.54\n",
      "Epoch 344, loss 86616151.00\n",
      "Epoch 345, loss 87278627.22\n",
      "Epoch 346, loss 86803282.34\n",
      "Epoch 347, loss 86371961.20\n",
      "Epoch 348, loss 86181881.43\n",
      "Epoch 349, loss 86533027.32\n",
      "Epoch 350, loss 86313574.11\n",
      "Epoch 351, loss 86790507.90\n",
      "Epoch 352, loss 86529185.60\n",
      "Epoch 353, loss 85887862.01\n",
      "Epoch 354, loss 86874282.95\n",
      "Epoch 355, loss 86807769.31\n",
      "Epoch 356, loss 86457400.49\n",
      "Epoch 357, loss 86826948.07\n",
      "Epoch 358, loss 86806882.26\n",
      "Epoch 359, loss 86673405.07\n",
      "Epoch 360, loss 86418866.31\n",
      "Epoch 361, loss 86402940.11\n",
      "Epoch 362, loss 86133737.50\n",
      "Epoch 363, loss 87464527.82\n",
      "Epoch 364, loss 87655022.00\n",
      "Epoch 365, loss 86184671.70\n",
      "Epoch 366, loss 86870953.77\n",
      "Epoch 367, loss 86443879.09\n",
      "Epoch 368, loss 86737506.00\n",
      "Epoch 369, loss 87151271.52\n",
      "Epoch 370, loss 86658541.09\n",
      "Epoch 371, loss 86737532.13\n",
      "Epoch 372, loss 86831826.62\n",
      "Epoch 373, loss 86274853.22\n",
      "Epoch 374, loss 86214239.48\n",
      "Epoch 375, loss 86627847.61\n",
      "Epoch 376, loss 86553238.85\n",
      "Epoch 377, loss 86612933.29\n",
      "Epoch 378, loss 87016405.01\n",
      "Epoch 379, loss 86354970.06\n",
      "Epoch 380, loss 86192721.74\n",
      "Epoch 381, loss 86298435.95\n",
      "Epoch 382, loss 86647217.39\n",
      "Epoch 383, loss 85858071.71\n",
      "Epoch 384, loss 87685208.37\n",
      "Epoch 385, loss 86029391.41\n",
      "Epoch 386, loss 86353893.95\n",
      "Epoch 387, loss 86874743.59\n",
      "Epoch 388, loss 87534613.05\n",
      "Epoch 389, loss 85978224.40\n",
      "Epoch 390, loss 86388349.23\n",
      "Epoch 391, loss 85892393.20\n",
      "Epoch 392, loss 86994927.09\n",
      "Epoch 393, loss 86917643.13\n",
      "Epoch 394, loss 87000624.14\n",
      "Epoch 395, loss 86583917.34\n",
      "Epoch 396, loss 86606044.14\n",
      "Epoch 397, loss 85939792.54\n",
      "Epoch 398, loss 86323448.59\n",
      "Epoch 399, loss 86478821.93\n",
      "Epoch 400, loss 86455808.27\n",
      "Epoch 401, loss 86833724.62\n",
      "Epoch 402, loss 86850906.65\n",
      "Epoch 403, loss 86496381.64\n",
      "Epoch 404, loss 86976572.05\n",
      "Epoch 405, loss 85982050.19\n",
      "Epoch 406, loss 85985305.79\n",
      "Epoch 407, loss 86159903.81\n",
      "Epoch 408, loss 86272592.04\n",
      "Epoch 409, loss 86081756.38\n",
      "Epoch 410, loss 86325355.59\n",
      "Epoch 411, loss 85339378.35\n",
      "Epoch 412, loss 86383135.28\n",
      "Epoch 413, loss 86494510.58\n",
      "Epoch 414, loss 87303489.46\n",
      "Epoch 415, loss 86328285.93\n",
      "Epoch 416, loss 86024997.54\n",
      "Epoch 417, loss 86024948.66\n",
      "Epoch 418, loss 85984182.31\n",
      "Epoch 419, loss 85998354.54\n",
      "Epoch 420, loss 86468284.59\n",
      "Epoch 421, loss 86759919.21\n",
      "Epoch 422, loss 86212314.32\n",
      "Epoch 423, loss 86896728.08\n",
      "Epoch 424, loss 86037797.19\n",
      "Epoch 425, loss 87845740.91\n",
      "Epoch 426, loss 87384798.63\n",
      "Epoch 427, loss 85861440.74\n",
      "Epoch 428, loss 87412822.31\n",
      "Epoch 429, loss 86399754.66\n",
      "Epoch 430, loss 87202117.72\n",
      "Epoch 431, loss 86232077.20\n",
      "Epoch 432, loss 86353834.45\n",
      "Epoch 433, loss 86083294.42\n",
      "Epoch 434, loss 86100024.85\n",
      "Epoch 435, loss 88201322.10\n",
      "Epoch 436, loss 86779831.27\n",
      "Epoch 437, loss 86842037.73\n",
      "Epoch 438, loss 87099835.72\n",
      "Epoch 439, loss 86465597.27\n",
      "Epoch 440, loss 86579104.72\n",
      "Epoch 441, loss 85813140.87\n",
      "Epoch 442, loss 86062066.14\n",
      "Epoch 443, loss 86149343.12\n",
      "Epoch 444, loss 86509068.26\n",
      "Epoch 445, loss 85207214.68\n",
      "Epoch 446, loss 85496302.33\n",
      "Epoch 447, loss 85752804.97\n",
      "Epoch 448, loss 86994511.69\n",
      "Epoch 449, loss 87283002.64\n",
      "Epoch 450, loss 85598859.95\n",
      "Epoch 451, loss 86687287.00\n",
      "Epoch 452, loss 86702732.94\n",
      "Epoch 453, loss 86594868.50\n",
      "Epoch 454, loss 87616725.16\n",
      "Epoch 455, loss 87145851.04\n",
      "Epoch 456, loss 85925324.46\n",
      "Epoch 457, loss 86434216.64\n",
      "Epoch 458, loss 85611843.04\n",
      "Epoch 459, loss 86479718.95\n",
      "Epoch 460, loss 85477456.15\n",
      "Epoch 461, loss 86919388.21\n",
      "Epoch 462, loss 86690952.27\n",
      "Epoch 463, loss 85637194.04\n",
      "Epoch 464, loss 86520916.83\n",
      "Epoch 465, loss 86269585.03\n",
      "Epoch 466, loss 86545418.00\n",
      "Epoch 467, loss 86758644.32\n",
      "Epoch 468, loss 86461093.79\n",
      "Epoch 469, loss 86294626.68\n",
      "Epoch 470, loss 85824805.91\n",
      "Epoch 471, loss 87248684.14\n",
      "Epoch 472, loss 86845585.64\n",
      "Epoch 473, loss 86328659.61\n",
      "Epoch 474, loss 86432216.33\n",
      "Epoch 475, loss 85643744.36\n",
      "Epoch 476, loss 85677854.36\n",
      "Epoch 477, loss 85618109.97\n",
      "Epoch 478, loss 87232569.96\n",
      "Epoch 479, loss 86723321.62\n",
      "Epoch 480, loss 86646320.82\n",
      "Epoch 481, loss 86635643.03\n",
      "Epoch 482, loss 86485711.25\n",
      "Epoch 483, loss 86465003.84\n",
      "Epoch 484, loss 86349531.32\n",
      "Epoch 485, loss 86600344.85\n",
      "Epoch 486, loss 85519823.45\n",
      "Epoch 487, loss 85972337.04\n",
      "Epoch 488, loss 87063129.08\n",
      "Epoch 489, loss 86576529.65\n",
      "Epoch 490, loss 86470920.19\n",
      "Epoch 491, loss 85835716.59\n",
      "Epoch 492, loss 86555416.11\n",
      "Epoch 493, loss 86457216.22\n",
      "Epoch 494, loss 87224462.05\n",
      "Epoch 495, loss 86036318.84\n",
      "Epoch 496, loss 85795737.03\n",
      "Epoch 497, loss 86125760.21\n",
      "Epoch 498, loss 85565791.50\n",
      "Epoch 499, loss 85914252.35\n",
      "**** Finished Training ****\n"
     ]
    }
   ],
   "source": [
    "\n",
    "# build the model\n",
    "model = AlexNet().to(device1)\n",
    "\n",
    "# define the loss function and the optimiser\n",
    "loss_function = nn.MSELoss()\n",
    "optimiser = optim.Adam(model.parameters())\n",
    "\n",
    "# the epoch loop\n",
    "for epoch in range(N):\n",
    "    model.train()\n",
    "    running_loss = 0.0\n",
    "    loss=0\n",
    "    for data in trainloader:\n",
    "        # get the inputs\n",
    "        inputs, labels = data\n",
    "        #inputs = inputs.unsqueeze(1).unsqueeze(-1)\n",
    "        #inputs = inputs.unsqueeze(1)\n",
    "        #inputs = torch.unsqueeze(inputs1, 2)\n",
    "\n",
    "        inputs, labels = inputs.to(device1), labels.to(device1)\n",
    "        \n",
    "        \n",
    "        loss, nums = loss_batch(model, loss_function, inputs.float(), labels.float(), optimiser)\n",
    "        running_loss += loss\n",
    "    train_loss.append(loss)\n",
    "\n",
    "    model.eval()\n",
    "    with torch.no_grad():\n",
    "        losses, nums = zip(\n",
    "                *[loss_batch(model.to(device1), loss_function, xb.to(device1), yb.to(device1)) for xb, yb in validloader]\n",
    "            )\n",
    "        val_loss1 = np.sum(np.multiply(losses, nums)) / np.sum(nums)\n",
    "        val_loss.append(val_loss1)\n",
    "\n",
    "\n",
    "        #print(epoch, val_loss)\n",
    "\n",
    "        \n",
    "        # keep track of the loss this epoch\n",
    "        #running_loss += loss.item()\n",
    "    print(\"Epoch %d, loss %4.2f\" % (epoch, running_loss))\n",
    "print('**** Finished Training ****')"
   ]
  },
  {
   "cell_type": "code",
   "execution_count": 38,
   "metadata": {
    "colab": {
     "base_uri": "https://localhost:8080/",
     "height": 281
    },
    "colab_type": "code",
    "id": "RrXkmLWusgWY",
    "outputId": "94727097-6aee-4d73-97d6-e8cc99f69d52"
   },
   "outputs": [
    {
     "data": {
      "image/png": "[encoded data removed]",
      "text/plain": [
       "<Figure size 432x288 with 2 Axes>"
      ]
     },
     "metadata": {
      "needs_background": "light"
     },
     "output_type": "display_data"
    }
   ],
   "source": [
    "import matplotlib.pyplot as plt\n",
    "\n",
    "x = range(0, N)\n",
    "y1 = train_loss\n",
    "#y2 = train_accu\n",
    "y3 = val_loss\n",
    "#y4 = val_accu\n",
    "plt.subplot(2, 1, 1)\n",
    "plt.plot(x, y1, 'o-')\n",
    "plt.title('train_loss and val_loss')\n",
    "plt.ylabel('train_loss')\n",
    "#plt.subplot(2, 1, 2)\n",
    "#plt.plot(x, y2, '.-')\n",
    "#plt.xlabel('epoches')\n",
    "#plt.ylabel('train_accu')\n",
    "plt.subplot(2, 1, 2)\n",
    "plt.plot(x, y3, 'o-')\n",
    "plt.ylabel('val_loss')\n",
    "#plt.subplot(2, 2, 2)\n",
    "#plt.plot(x, y4, '.-')\n",
    "#plt.title('val_loss and val_accu')\n",
    "#lt.ylabel('val_accu')\n",
    "plt.show()\n",
    "#plt.savefig(\"accuracy_loss.jpg\")\n"
   ]
  },
  {
   "cell_type": "code",
   "execution_count": 36,
   "metadata": {
    "scrolled": false
   },
   "outputs": [
    {
     "name": "stdout",
     "output_type": "stream",
     "text": [
      "[723610.125, 506761.25, 406014.75, 318442.0625, 324482.4375, 349742.46875, 265207.09375, 274264.40625, 197610.796875, 196157.046875, 205276.109375, 177824.546875, 195399.546875, 244967.671875, 131594.375, 209869.46875, 193616.09375, 159896.1875, 278489.5, 156428.859375, 136150.046875, 146634.296875, 145561.53125, 159998.609375, 177155.734375, 196911.546875, 185860.75, 225835.671875, 190411.03125, 170642.640625, 134340.9375, 126430.046875, 233626.09375, 188790.6875, 135986.5, 195039.359375, 211411.59375, 188100.21875, 115885.109375, 175407.734375, 125499.859375, 146409.359375, 218017.921875, 148006.703125, 135066.359375, 177911.375, 137977.25, 186216.21875, 133693.625, 167962.109375, 134767.609375, 178239.484375, 189816.796875, 164265.875, 126301.515625, 118488.875, 133832.296875, 170772.359375, 127858.0, 143548.21875, 104503.359375, 127383.6796875, 123831.0234375, 96706.515625, 132594.203125, 111695.4609375, 104387.296875, 101745.125, 125332.3125, 117748.46875, 109018.953125, 129530.9609375, 89191.9375, 73858.4609375, 143244.78125, 111083.03125, 82962.921875, 119941.9921875, 83972.421875, 91608.234375, 118900.5, 120033.734375, 94019.3125, 103809.921875, 104345.3359375, 71503.109375, 142759.59375, 112872.625, 119270.0, 109795.1796875, 117229.046875, 99310.0546875, 86862.3984375, 134607.921875, 84891.3125, 116572.8359375, 102042.734375, 105988.25, 71525.59375, 98262.0625, 103518.9609375, 98383.7734375, 90061.046875, 105066.75, 81109.265625, 69304.0078125, 82852.6484375, 90889.25, 86071.046875, 106974.3984375, 92158.234375, 95866.3984375, 92238.6796875, 71064.8203125, 94183.78125, 85204.796875, 102612.265625, 75075.90625, 84121.3671875, 87974.8984375, 79107.3984375, 96205.8984375, 76229.53125, 82037.9375, 85223.2890625, 92602.7109375, 88039.3359375, 97833.015625, 82134.2421875, 89352.796875, 89740.765625, 97685.984375, 71673.578125, 66715.0, 76558.390625, 92033.3046875, 89139.796875, 69672.0859375, 88146.890625, 92762.140625, 110175.015625, 75636.2421875, 53372.578125, 71658.625, 100133.875, 81576.0078125, 83221.25, 83171.1484375, 90810.21875, 88744.75, 73032.5234375, 78764.078125, 94757.1484375, 75312.53125, 78690.125, 77949.2734375, 71508.9296875, 86029.671875, 81922.3828125, 86507.140625, 65824.2421875, 75593.5390625, 71783.8671875, 78334.140625, 84129.1875, 76291.8671875, 113227.3125, 61262.5859375, 70759.15625, 72023.6015625, 79637.3046875, 83018.5234375, 67669.09375, 71536.6875, 86162.703125, 85847.703125, 79315.578125, 84369.3984375, 78244.3125, 62992.125, 75691.4375, 67726.75, 108511.828125, 83800.265625, 63997.671875, 67451.921875, 114471.5625, 78989.921875, 88418.0234375, 113419.703125, 84357.8046875, 90655.53125, 62338.04296875, 95133.375, 74424.5234375, 97816.984375, 77873.2109375, 68895.140625, 83544.0, 83755.78125, 86733.578125, 75529.8828125, 91845.90625, 79457.203125, 68817.1875, 73929.53125, 85768.75, 91590.796875, 65665.421875, 75926.84375, 80905.9609375, 84250.234375, 104480.9609375, 60162.78125, 110314.984375, 69419.3046875, 77941.3125, 92254.015625, 70149.53125, 87897.4375, 86306.7734375, 84371.625, 83765.0, 98807.84375, 63599.0, 50430.96875, 81742.6171875, 92420.90625, 87797.25, 78953.8984375, 102382.328125, 78816.515625, 84387.84375, 104090.828125, 88537.953125, 76251.71875, 89219.59375, 83616.453125, 81012.65625, 96976.3671875, 80878.75, 81969.8984375, 83544.28125, 81216.265625, 98420.546875, 90836.015625, 95459.484375, 76811.03125, 79857.9609375, 71727.34375, 74846.7265625, 68844.453125, 61497.69921875, 94051.625, 67081.6875, 58144.44921875, 73262.1875, 65111.84375, 115811.8359375, 104223.5234375, 62742.5, 49048.19921875, 76247.640625, 72370.6796875, 61662.9921875, 95330.5, 85205.1875, 66973.9296875, 55186.04296875, 93555.3984375, 81651.203125, 74482.125, 97781.3125, 83239.015625, 82835.203125, 73382.84375, 88693.9609375, 73601.078125, 70023.015625, 110996.4921875, 70754.546875, 74797.0390625, 82221.015625, 118336.5, 73033.9375, 72866.75, 71051.0546875, 78747.9375, 86258.8671875, 87473.3359375, 59595.6484375, 71431.1171875, 101164.0859375, 76475.390625, 92635.5234375, 65862.3515625, 81280.65625, 71298.015625, 71275.40625, 51982.2109375, 59806.5625, 97980.296875, 66158.828125, 89812.734375, 69795.296875, 77628.875, 102465.1484375, 93950.640625, 76397.984375, 81684.9921875, 68896.9921875, 75558.9609375, 56529.8046875, 69095.46875, 83446.6640625, 84973.109375, 73424.40625, 65782.3671875, 73695.171875, 73648.859375, 74665.640625, 82173.25, 90653.4375, 66402.171875, 102602.3984375, 73776.59375, 77528.828125, 68234.1640625, 72715.59375, 64208.6171875, 74648.921875, 72418.6484375, 70743.1640625, 80300.9453125, 64842.875, 77704.2421875, 60408.21875, 95039.2109375, 92335.125, 82888.5625, 72452.5234375, 56910.41796875, 82184.5234375, 70230.0, 93104.9921875, 70061.578125, 91473.234375, 67647.671875, 70053.578125, 84256.5234375, 63844.71484375, 74657.171875, 77295.6796875, 66999.5859375, 103979.5859375, 71720.03125, 68055.8125, 95095.5625, 77053.25, 92141.2734375, 79413.4609375, 105631.8671875, 104444.0859375, 94797.875, 67707.8671875, 84012.84375, 88495.2421875, 64593.93359375, 81082.6484375, 74910.140625, 85978.1875, 81869.328125, 68568.53125, 79178.2734375, 70517.25, 68715.953125, 81425.9921875, 78770.484375, 78927.28125, 79588.90625, 64851.41796875, 67743.4921875, 70273.78125, 95591.140625, 71090.578125, 77106.921875, 66129.765625, 80630.8046875, 65146.7578125, 82156.7109375, 86024.0625, 78244.34375, 86527.09375, 88694.609375, 111933.3046875, 85779.234375, 57292.203125, 71521.1796875, 76986.84375, 104208.15625, 82609.609375, 82159.359375, 66277.6640625, 85298.640625, 86447.1796875, 106651.40625, 84240.140625, 55791.01171875, 64388.7109375, 72075.0, 69054.65625, 72462.875, 73331.5078125, 67823.8671875, 99233.8125, 85572.4296875, 71709.515625, 52138.23046875, 66960.5, 52413.25, 88295.25, 92502.625, 63851.76171875, 75229.5546875, 82405.578125, 88219.7421875, 71891.0234375, 79446.78125, 66105.640625, 76937.578125, 104957.5234375, 86944.5234375, 59396.49609375, 74669.9609375, 79396.515625, 92229.828125, 64218.125, 66729.203125, 91337.25, 78525.4609375, 88415.0625, 74321.828125, 64040.1484375, 79497.46875, 78815.25, 86758.71875, 69002.796875, 103379.140625, 69289.421875, 74816.6640625, 124750.234375, 84715.46875, 89752.1796875, 73445.5390625, 79522.203125, 109272.1796875, 70388.734375, 67082.8359375, 68834.8203125, 82899.3828125, 74932.0, 62927.4765625, 74522.703125, 81590.9375, 70956.046875, 110831.7109375, 76954.9140625, 61915.734375, 72847.28125, 64251.3671875, 59102.76171875, 70793.21875, 74895.296875, 76949.796875, 65833.421875, 75915.8984375, 92733.546875, 101139.0546875, 94561.859375, 78583.625, 76488.8515625, 86351.40625, 75587.171875, 67547.71875, 67931.28125, 97621.828125, 74703.625, 77236.6015625, 60391.58984375, 78265.03125, 65426.54296875, 74791.3125, 74211.625, 74677.453125, 93819.421875, 56578.7421875, 80042.390625, 97374.5625, 113761.046875, 72190.21875]\n"
     ]
    }
   ],
   "source": [
    "print(y1)"
   ]
  },
  {
   "cell_type": "code",
   "execution_count": 37,
   "metadata": {},
   "outputs": [
    {
     "name": "stdout",
     "output_type": "stream",
     "text": [
      "[767377.8520333334, 1053245.892, 1127493.5841333333, 1385919.232, 1274779.4134666666, 1086465.7572666667, 1211430.6888666668, 1129528.7248, 1227401.3829333333, 1088522.608, 1133738.8304666667, 1171826.5188, 1133231.9443333333, 1176747.4589333334, 1001822.6771333333, 1049541.5988333332, 1116729.7202666667, 1184643.2526666666, 1125615.4738666667, 1050720.5169666666, 1042468.4724, 1063566.25, 1095257.8264, 1082777.7672, 1200382.8949333334, 1031008.6517333334, 1065194.0761333334, 1100461.3625333332, 1094569.5508666667, 1011706.476, 1049319.6782, 1077534.7048, 1037050.0388666666, 1090643.2072, 1057930.7505333333, 1107843.7472666667, 1079878.2756, 967356.9656333333, 1020039.2730666667, 1031253.4299, 1039318.5011333333, 1043174.0392, 1028153.6421333334, 1095513.5569333334, 1005668.3911333333, 1049308.9224333332, 993212.4019, 1035906.8000333334, 995944.5939333333, 992191.1357333333, 1016790.2684, 931951.6832666667, 956368.9095333334, 1056547.5133333334, 914640.0119, 1032623.262, 912310.7377666667, 968003.1853333333, 947480.5958, 916288.6150666666, 920397.7711333333, 996505.5733333334, 896969.3113666667, 868763.9664, 892247.7175, 814687.982, 842008.6822, 864435.4840666667, 841383.8388, 828377.0438, 758084.7124666667, 763628.6525333333, 875708.364, 781931.6620666666, 775921.7521333334, 811911.4507, 767064.6617666667, 772962.1891333334, 739241.1860666666, 794593.3063, 754444.0735, 733250.5516, 775570.9498, 728764.795, 805388.8197333333, 739814.9509333334, 708354.6811333334, 777112.5276, 762940.6419, 766138.5367333334, 737247.5774, 776867.1192333334, 749062.5362666667, 752292.0189666667, 740050.9166666666, 710921.1283666666, 783766.3039333334, 738808.1644, 752376.6179, 720290.6248333333, 719514.6087, 711644.2541666667, 734406.2625333334, 709937.9996666666, 678345.5394666666, 702506.4922, 716237.4601333333, 687595.3687666666, 707659.1401333333, 703540.8022, 662029.1149333334, 656882.0834, 678337.2236, 683911.3564, 696327.0203, 694039.2649666667, 688729.1586, 715270.4125333333, 653693.959, 663410.6722, 680005.0763, 666512.2969, 682586.1402, 688301.4020666666, 675195.7008666666, 662033.9675, 660414.9864, 683410.5992, 694750.6469666667, 663467.4012666667, 653138.8316666667, 670768.6154, 653190.7062, 651766.7908333334, 684191.4426333334, 668951.7652333333, 653263.3505333334, 636797.1810333333, 633847.9324666667, 656433.3908666667, 640891.2821, 647614.0001333334, 667992.4734333333, 647296.9517666667, 646457.4669666666, 621497.3423333333, 670381.8734666667, 656061.0398666667, 657360.0848, 626284.8842333333, 634534.2034, 607309.0777666667, 638945.3977333333, 664208.8702666666, 653239.6177, 612225.1750666667, 654368.9001666667, 649633.5860666666, 632278.9801666667, 644292.3444666667, 631917.8021333333, 655642.3694666667, 655962.7489333333, 622072.4708333333, 656159.2252, 635254.2200666667, 643581.7897333333, 613216.2131333334, 622377.4572333334, 631802.6867333333, 623722.8475666667, 631868.6424333333, 641789.7032, 637483.9819, 646044.2692666666, 608365.5997, 639610.8324666667, 644796.8858333334, 648355.909, 630104.6423, 614065.2404333333, 630553.1010666667, 626145.033, 642556.2097666666, 616818.9174, 601829.5637666667, 630709.1672, 609190.7651666667, 633823.036, 619499.8861333333, 659246.4830333333, 645667.8032333333, 621703.4376, 656741.3331333334, 630624.0262666667, 586539.4586666666, 624290.9964666667, 629430.5039, 615770.1761333334, 637662.6049333334, 611190.7342, 632779.022, 618096.0905, 611771.6132, 638085.374, 632227.7047333333, 622774.2665, 611319.0606, 625029.0870666667, 653925.9173666667, 632764.5788, 649475.2572666666, 625026.1758, 601343.5867, 613661.8492666667, 620300.3506, 642503.578, 624087.7539, 595756.8764, 600901.0056666667, 576944.0860666666, 619274.6418, 629994.1826666667, 627159.366, 642347.8286666666, 631860.4956, 614425.6348666666, 634129.7807333333, 605537.7438333334, 596795.4724, 614136.305, 640946.5057333333, 629420.9794666667, 626258.0246333333, 643633.0755333334, 605803.5126, 629005.1114, 607830.1476666667, 600018.7118, 622393.8943333334, 619309.9972666666, 623760.8128666667, 628224.9790333334, 611366.3177666666, 620060.8917333334, 636023.7267333333, 585372.8943333334, 628404.7353333334, 599154.7832, 602393.6224, 631942.7101666667, 548985.5992166667, 636124.4355, 618918.219, 617392.2779333333, 594083.2491333333, 598816.6299, 583417.4955666667, 632444.0782, 617042.1152666666, 617011.0522333334, 628762.1022666667, 618574.5201, 596758.2066666667, 628319.1800666667, 670633.2256333333, 623014.5721666666, 617168.1382333334, 608677.0877333333, 630858.5033333333, 635621.7548333333, 652229.0829666667, 619789.0176, 632055.6487333333, 614124.8145333333, 620502.5463666667, 593339.3761666666, 580527.9193333334, 647184.5115, 619203.1848666667, 634407.1894, 598322.3521, 632544.8723, 653613.7494666667, 623702.7396666667, 628340.2359, 627696.0472, 616095.7015333333, 631760.9904666666, 609941.7939333334, 637447.8263333334, 611132.3824, 625921.4391666667, 633095.8270666667, 653091.5394, 630873.895, 640930.3572, 616500.8632, 607194.2660666667, 632708.8026, 617125.0172333333, 633339.0007, 624388.2199333333, 629546.7959333333, 641028.5001666667, 636292.995, 650753.4045333334, 640491.8997666667, 630504.1311666666, 613223.6972333334, 630839.9015, 625322.1176666666, 596791.4454666667, 614588.0436666667, 650068.9826, 627439.9757, 639494.8048666667, 599741.8741333333, 617883.2884, 622020.0087333333, 648964.5764, 627251.8568666667, 638153.5565333334, 592384.6526666667, 629175.6917333333, 608447.082, 635091.6968, 628825.7549, 599943.0807333334, 632465.8036666666, 629202.1882333333, 613956.5991666666, 620041.2847333333, 669162.795, 640750.0808666666, 619083.6374666666, 619927.8537, 600317.3439333333, 614552.4434, 623685.1249666667, 635767.2574666666, 624624.8276666667, 618212.014, 611367.816, 670504.2377666667, 628802.7764333333, 616694.3178666667, 608320.4767333333, 618743.253, 614878.7732, 615528.0487, 628114.4781333334, 594274.4438666666, 640675.4373, 606616.0545333333, 626735.3251, 640682.0331333333, 612104.7649333334, 621444.2629666667, 619111.4174666667, 622959.2605333333, 604370.7019, 638115.7328, 648201.3678, 613427.9616, 650756.5687333334, 667980.9684333333, 597778.9008333334, 617944.8406666666, 626377.1625, 615302.0058, 648439.3087333334, 620522.9298333334, 617975.3854, 622374.5753, 606678.4926666666, 600563.2694666666, 612560.7935666667, 628694.482, 626263.2697333334, 633977.4486333333, 633156.2901333333, 625739.9319333333, 612606.1458, 653071.0378333334, 616104.6684666667, 636098.7828, 622423.0341666667, 614731.1533, 627429.7788, 607871.8859333333, 628081.7768333333, 614980.958, 650758.2414666667, 641423.1788, 627161.4465333333, 633179.3046, 627986.3438, 615762.4103333333, 631951.4068666666, 614480.9491666667, 629427.1787333334, 610491.384, 664203.9034666667, 644219.1578333334, 599534.2654, 613623.1824333334, 618074.7066333333, 614872.5309333333, 627798.4588, 637414.6966666667, 619554.6380666667, 617022.28, 612143.1166666667, 616613.9837333333, 609008.197, 623743.9804, 612043.2404, 630491.3738666667, 633138.0368666666, 644968.4699333333, 633452.6450666666, 631139.0503, 633618.8953333333, 598744.3336333333, 625389.5366, 625558.0127333333, 604467.3559666667, 606467.8548666667, 618395.3919333334, 621582.2957333333, 622934.1904666667, 618753.6250666666, 626485.0989333333, 635409.0576, 622150.1581333333, 604944.1770666667, 663745.5868666667, 627295.5313, 616690.5185333333, 614915.6247333334, 628452.0988, 640033.0038666667, 630554.5351333333, 639514.2663333333, 629554.1479, 647719.3463333333, 621732.4199666666, 632323.8363333333, 634127.3639666666, 604563.4548333334, 609830.1384333334, 635681.0199333334, 624634.638, 624359.2859, 621312.8279, 648714.7469666667, 617797.0584666666, 649334.2652666667, 610722.5444, 602762.2476333333, 632313.2221, 615142.8747333334, 615867.0919333333, 622706.7665666667, 614301.9111333333, 617185.6090333334, 627330.5448, 636750.3235666667, 627220.8646333333, 624641.2619, 621296.6414666667, 623487.3016666666, 635673.8367333333, 629072.4334666666, 630461.4088, 611851.4326, 629210.2111, 609891.5204, 633992.4279666666, 633851.0669333333, 620466.6166333334, 608916.3133, 650939.2699, 635147.484, 622152.8646666667, 632305.3589333333, 623543.245, 611569.7183, 665347.5515, 623173.057, 633266.7566, 637959.6499, 643292.0246, 647300.2764333333, 635720.8849333334, 639295.6022666667, 638362.6252333333, 625037.3678666666, 611838.4236333333]"
     ]
    },
    {
     "name": "stdout",
     "output_type": "stream",
     "text": [
      "\n"
     ]
    }
   ],
   "source": [
    "print(y3)"
   ]
  },
  {
   "cell_type": "code",
   "execution_count": null,
   "metadata": {
    "colab": {
     "base_uri": "https://localhost:8080/",
     "height": 118
    },
    "colab_type": "code",
    "id": "5Qg7Iyg-RsZc",
    "outputId": "6e257a36-b10f-4d83-ebab-7bce690bf17c",
    "scrolled": false
   },
   "outputs": [],
   "source": [
    "model.eval()"
   ]
  },
  {
   "cell_type": "code",
   "execution_count": null,
   "metadata": {},
   "outputs": [],
   "source": [
    "model.eval()\n",
    "test_loss = list()\n",
    "for data in testloader:\n",
    "    losses, nums = zip(\n",
    "                *[loss_batch(model.to(device1), loss_function, xb.to(device1), yb.to(device1)) for xb, yb in testloader])\n",
    "    test_loss1 = np.sum(np.multiply(losses, nums)) / np.sum(nums)\n",
    "    test_loss.append(test_loss1)"
   ]
  },
  {
   "cell_type": "code",
   "execution_count": null,
   "metadata": {},
   "outputs": [],
   "source": [
    "x = range(0, 126)\n",
    "y3 = test_loss\n",
    "plt.plot(x, y3, 'o-')\n",
    "plt.title('test_loss')\n",
    "plt.ylabel('test_loss')"
   ]
  },
  {
   "cell_type": "code",
   "execution_count": null,
   "metadata": {
    "colab": {
     "base_uri": "https://localhost:8080/",
     "height": 1000
    },
    "colab_type": "code",
    "id": "eDZ_0FSIRz4A",
    "outputId": "6127c2c9-dc3b-4994-a315-27d714d4f9ac"
   },
   "outputs": [],
   "source": [
    "for data in testloader:\n",
    "    inputs, lablels = data\n",
    "    predictions = model(inputs.float())\n",
    "    loss = loss_function(predictions,labels)\n",
    "    loss = loss/128\n",
    "    print(\"loss\",loss)\n",
    "    print(\"predicted parameter:\", predictions)\n",
    "    print(\"setting parameter:\", labels)"
   ]
  },
  {
   "cell_type": "code",
   "execution_count": null,
   "metadata": {},
   "outputs": [],
   "source": [
    "testdataset = ra.read('atomsroa.ra')\n",
    "testdata = torch.tensor(testdataset)\n",
    "testdata = testdata.imag\n",
    "label1 = ra.read('paramsroa.ra')\n",
    "label1 = torch.tensor(label1)"
   ]
  },
  {
   "cell_type": "code",
   "execution_count": null,
   "metadata": {
    "colab": {},
    "colab_type": "code",
    "id": "D0xuJReg8EbA"
   },
   "outputs": [],
   "source": [
    "for i in range(8056):\n",
    "    inputs = testdata[:,i]\n",
    "    lablels = label1[0,i]\n",
    "    predictions = model(inputs.float())\n",
    "\n",
    "    print(\"predicted parameter:\", predictions)\n",
    "    print(\"setting parameter:\", lablels)"
   ]
  },
  {
   "cell_type": "markdown",
   "metadata": {
    "colab_type": "text",
    "id": "98SN3jbBbQPo"
   },
   "source": [
    "## Saving models"
   ]
  },
  {
   "cell_type": "markdown",
   "metadata": {
    "colab_type": "text",
    "id": "AC85zIKAbLgu"
   },
   "source": [
    "Being able to train a model is fine, but in practice once we've trained the model we probably want to save the result so we can reuse it at a later time. PyTorch makes saving the model easy using the torch.save(state, filepath) function. This will save the weights of the model so they can be loaded into a new instance at a later point.\n",
    "\n",
    "Run the following code to save the weights for use in the next part of the lab."
   ]
  },
  {
   "cell_type": "code",
   "execution_count": null,
   "metadata": {
    "colab": {},
    "colab_type": "code",
    "id": "uYwWauk6a7vK"
   },
   "outputs": [],
   "source": [
    "#save the trained model weights\n",
    "torch.save(model.state_dict(), \"./BaselineModel.weights\")"
   ]
  },
  {
   "cell_type": "markdown",
   "metadata": {
    "colab_type": "text",
    "id": "Z3755E9cbClj"
   },
   "source": [
    "If you are running on Colab, run the following to download the weights to the local machine:"
   ]
  },
  {
   "cell_type": "code",
   "execution_count": null,
   "metadata": {
    "colab": {
     "base_uri": "https://localhost:8080/",
     "height": 17
    },
    "colab_type": "code",
    "id": "YQso-4fca_mI",
    "outputId": "b059fe76-e584-437c-f499-8ca3da61d6d5"
   },
   "outputs": [],
   "source": [
    "from google.colab import files\n",
    "files.download('BaselineModel.weights')"
   ]
  },
  {
   "cell_type": "code",
   "execution_count": null,
   "metadata": {
    "colab": {
     "base_uri": "https://localhost:8080/",
     "height": 34
    },
    "colab_type": "code",
    "id": "AzH-0Wu9brJG",
    "outputId": "68c73ea4-c60c-4c51-9b54-a278d8492b63"
   },
   "outputs": [],
   "source": [
    "device = \"cuda:0\" if torch.cuda.is_available() else \"cpu\"\n",
    "model = BaselineModel(1000, 512, 256).to(device)\n",
    "model.load_state_dict(torch.load('BaselineModel.weights'))"
   ]
  }
 ],
 "metadata": {
  "colab": {
   "collapsed_sections": [],
   "name": "MRF-net.ipynb",
   "provenance": []
  },
  "kernelspec": {
   "display_name": "Python 3",
   "language": "python",
   "name": "python3"
  },
  "language_info": {
   "codemirror_mode": {
    "name": "ipython",
    "version": 3
   },
   "file_extension": ".py",
   "mimetype": "text/x-python",
   "name": "python",
   "nbconvert_exporter": "python",
   "pygments_lexer": "ipython3",
   "version": "3.8.5"
  }
 },
 "nbformat": 4,
 "nbformat_minor": 1
}
