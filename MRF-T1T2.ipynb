{
 "cells": [
  {
   "cell_type": "code",
   "execution_count": 2,
   "metadata": {
    "colab": {},
    "colab_type": "code",
    "id": "aqe2u5u5zhMj"
   },
   "outputs": [],
   "source": [
    "import numpy as np\n",
    "import torch\n",
    "import torch.nn.functional as F\n",
    "import torchvision.transforms as transforms\n",
    "from torch import nn\n",
    "from torch import optim\n",
    "from torch.utils.data import DataLoader\n",
    "#from torchvision.datasets import MNIST"
   ]
  },
  {
   "cell_type": "code",
   "execution_count": 5,
   "metadata": {},
   "outputs": [
    {
     "name": "stdout",
     "output_type": "stream",
     "text": [
      "1.6.0\n"
     ]
    }
   ],
   "source": [
    "print(torch.__version__)"
   ]
  },
  {
   "cell_type": "code",
   "execution_count": null,
   "metadata": {
    "colab": {
     "base_uri": "https://localhost:8080/",
     "height": 121
    },
    "colab_type": "code",
    "id": "VIE7-SAqir7O",
    "outputId": "2b6972e1-a573-4505-d544-690a1d68fbc8",
    "scrolled": true
   },
   "outputs": [],
   "source": [
    "from google.colab import drive\n",
    "drive.mount('/content/drive')"
   ]
  },
  {
   "cell_type": "code",
   "execution_count": 1,
   "metadata": {
    "colab": {},
    "colab_type": "code",
    "id": "FRWp8xWFEijO"
   },
   "outputs": [],
   "source": [
    "#import os\n",
    "#os.chdir(\"/content/drive/My Drive\") \n",
    "import ra\n",
    "#import complexLayers\n"
   ]
  },
  {
   "cell_type": "code",
   "execution_count": 3,
   "metadata": {
    "colab": {},
    "colab_type": "code",
    "id": "6-BK2JMPjju-"
   },
   "outputs": [],
   "source": [
    "dataset = ra.read('atomsroa.ra')\n",
    "train_data = torch.tensor(dataset)"
   ]
  },
  {
   "cell_type": "code",
   "execution_count": 4,
   "metadata": {},
   "outputs": [],
   "source": [
    "train_data = train_data.imag\n",
    "train_data =  torch.transpose(train_data, 0, 1).unsqueeze(1)"
   ]
  },
  {
   "cell_type": "code",
   "execution_count": 5,
   "metadata": {},
   "outputs": [],
   "source": [
    "labelset = ra.read('paramsroa.ra')\n",
    "train_label1 = torch.tensor(labelset)"
   ]
  },
  {
   "cell_type": "code",
   "execution_count": 6,
   "metadata": {},
   "outputs": [],
   "source": [
    "dataset1 = ra.read('atoms.ra')\n",
    "traindata1 = torch.tensor(dataset1)\n",
    "traindata1 = traindata1.imag\n",
    "traindata1 =  torch.transpose(traindata1, 0, 1).unsqueeze(1)\n",
    "label1 = ra.read('params.ra')\n",
    "label1 = torch.tensor(label1)"
   ]
  },
  {
   "cell_type": "code",
   "execution_count": null,
   "metadata": {},
   "outputs": [],
   "source": [
    "print(traindata1)\n",
    "print(train_data)"
   ]
  },
  {
   "cell_type": "code",
   "execution_count": 7,
   "metadata": {},
   "outputs": [
    {
     "name": "stdout",
     "output_type": "stream",
     "text": [
      "torch.Size([108056, 1, 1000])\n"
     ]
    },
    {
     "data": {
      "text/plain": [
       "torch.Size([108056, 1, 1000])"
      ]
     },
     "execution_count": 7,
     "metadata": {},
     "output_type": "execute_result"
    }
   ],
   "source": [
    "print(traindata1.shape)\n",
    "train_data.shape"
   ]
  },
  {
   "cell_type": "code",
   "execution_count": 8,
   "metadata": {
    "scrolled": true
   },
   "outputs": [],
   "source": [
    "alldata = torch.cat((train_data,traindata1),0)"
   ]
  },
  {
   "cell_type": "code",
   "execution_count": 9,
   "metadata": {},
   "outputs": [],
   "source": [
    "labels1 = torch.cat((train_label1[:-1,:],label1[:-1,:]),1)"
   ]
  },
  {
   "cell_type": "code",
   "execution_count": 10,
   "metadata": {
    "scrolled": true
   },
   "outputs": [
    {
     "name": "stdout",
     "output_type": "stream",
     "text": [
      "tensor([[ 100.,  110.,  120.,  ..., 3980., 3990., 4000.],\n",
      "        [  20.,   20.,   20.,  ..., 2000., 2000., 2000.]], dtype=torch.float64)\n",
      "torch.Size([2, 216112])\n",
      "torch.Size([3, 108056])\n"
     ]
    }
   ],
   "source": [
    "print(labels1)\n",
    "print(labels1.shape)\n",
    "print(train_label1.shape)"
   ]
  },
  {
   "cell_type": "code",
   "execution_count": 10,
   "metadata": {},
   "outputs": [
    {
     "name": "stdout",
     "output_type": "stream",
     "text": [
      "torch.Size([216112, 2])\n"
     ]
    }
   ],
   "source": [
    "labels1 = torch.transpose(labels1, 0, 1)\n",
    "print(labels1.shape)"
   ]
  },
  {
   "cell_type": "code",
   "execution_count": 11,
   "metadata": {},
   "outputs": [],
   "source": [
    "import torch.utils.data as data\n",
    "train_dataset = data.TensorDataset(alldata,labels1)"
   ]
  },
  {
   "cell_type": "code",
   "execution_count": null,
   "metadata": {
    "colab": {},
    "colab_type": "code",
    "id": "EtO2l_0K9bVo"
   },
   "outputs": [],
   "source": [
    "from sklearn.decomposition import PCA\n",
    "X_reduced = PCA(n_components=10).fit_transform(train_data)"
   ]
  },
  {
   "cell_type": "code",
   "execution_count": null,
   "metadata": {
    "colab": {
     "base_uri": "https://localhost:8080/",
     "height": 84
    },
    "colab_type": "code",
    "id": "9jhCmOGlzHuJ",
    "outputId": "d404eff5-582b-40af-8ba4-2f163944744e"
   },
   "outputs": [],
   "source": [
    "pca = PCA(n_components=10)\n",
    "pca.fit(train_data)\n",
    "\n",
    "print(pca.explained_variance_ratio_.shape)\n",
    "print(pca.components_.shape)\n",
    "print(pca.singular_values_.shape)\n",
    "print(pca.mean_.shape)"
   ]
  },
  {
   "cell_type": "code",
   "execution_count": null,
   "metadata": {
    "colab": {},
    "colab_type": "code",
    "id": "uyEh1FCOM4gT"
   },
   "outputs": [],
   "source": [
    "train_data = torch.tensor(X_reduced)"
   ]
  },
  {
   "cell_type": "code",
   "execution_count": 12,
   "metadata": {
    "colab": {},
    "colab_type": "code",
    "id": "ih21UQILm0Hl"
   },
   "outputs": [],
   "source": [
    "train_dataset, valid_dataset, test_dataset = torch.utils.data.random_split(train_dataset, [140000, 60000 ,16112])"
   ]
  },
  {
   "cell_type": "markdown",
   "metadata": {},
   "source": [
    "We found that the network model with smallest\n",
    "average error for validation data consists of 3 convolutional layers (kernel size = 3, stride\n",
    "size = 2), each followed by a rectified linear unit (ReLU) activation function. The number\n",
    "of the feature maps per convolutional layer is increasing, from 32 in the first to 128 in\n",
    "the last. After convolution an average pooling layer follows with the same size as the\n",
    "stride size. The last layer is fully connected, with 2 outputs. "
   ]
  },
  {
   "cell_type": "code",
   "execution_count": 13,
   "metadata": {
    "colab": {},
    "colab_type": "code",
    "id": "ahjQ0hXkj6Yl"
   },
   "outputs": [],
   "source": [
    "\n",
    "# define baseline model\n",
    "def _batch_norm(x):\n",
    "  eps_ = torch.finfo(torch.float32).eps\n",
    "  y = (x - torch.mean(x)) / (torch.std(x) + eps_)\n",
    "  return y\n",
    "\n",
    "\n",
    "\n",
    "\n",
    "# define baseline model\n",
    "class MRF(nn.Module):\n",
    "    def __init__(self):\n",
    "        super(MRF, self).__init__()\n",
    "        self.fc1 = nn.Linear(1000,10)\n",
    "        self.fc2 = nn.Linear(10, 200)\n",
    "        self.fc3 = nn.Linear(200, 30)\n",
    "        self.fc4 = nn.Linear(30, 2)\n",
    "\n",
    "\n",
    "    def forward(self, x):\n",
    "        #print(x)\n",
    "        out = self.fc1(x)\n",
    "        #print(out)\n",
    "        #raise error\n",
    "        #out = _batch_norm(out)\n",
    "        #out = self.bn(512)\n",
    "        #out = nn.Identity()\n",
    "        out = self.fc2(out)\n",
    "        #out = self.bn(256)\n",
    "        #out = _batch_norm(out)\n",
    "        out = torch.relu(out)\n",
    "        out = self.fc3(out)\n",
    "        out = torch.relu(out)\n",
    "        out = self.fc4(out)\n",
    "        return out"
   ]
  },
  {
   "cell_type": "code",
   "execution_count": 14,
   "metadata": {
    "colab": {},
    "colab_type": "code",
    "id": "z3pzehZtrCEC"
   },
   "outputs": [],
   "source": [
    "N = 200\n",
    "val_loss = list()\n",
    "#val_accu = list()\n",
    "train_loss = list()\n",
    "#train_accu = list()"
   ]
  },
  {
   "cell_type": "code",
   "execution_count": 15,
   "metadata": {},
   "outputs": [],
   "source": [
    "#assert torch.cuda.is_available()\n",
    "device1 = \"cuda:0\" if torch.cuda.is_available() else \"cpu\"\n",
    "#cuda_device = torch.device(\"cuda\")\n",
    "seed = 7\n",
    "torch.manual_seed(seed)\n",
    "trainloader = DataLoader(train_dataset, batch_size=128, shuffle=True)\n",
    "validloader = DataLoader(valid_dataset, batch_size=128, shuffle=False)\n",
    "testloader = DataLoader(test_dataset, batch_size=128, shuffle=True)\n",
    "\n",
    "def loss_batch(model, loss_func, xb, yb, opt=None):\n",
    "    outputs = model(xb.float())\n",
    "    yb = yb.float()\n",
    "    outputs = torch.squeeze(outputs, 1)\n",
    "    loss = loss_func(outputs, yb)\n",
    "\n",
    "    if opt is not None:\n",
    "        loss.backward()\n",
    "        opt.step()\n",
    "        opt.zero_grad()\n",
    "\n",
    "    return loss.item(), len(xb)"
   ]
  },
  {
   "cell_type": "code",
   "execution_count": null,
   "metadata": {},
   "outputs": [],
   "source": [
    "!pip install pycuda\n",
    "import torch\n",
    "import pycuda.driver as cuda\n",
    "cuda.init()\n",
    "## Get Id of default device\n",
    "torch.cuda.current_device()\n",
    "# 0\n",
    "cuda.Device(0).name() # '0' is the id of your GPU"
   ]
  },
  {
   "cell_type": "code",
   "execution_count": 16,
   "metadata": {
    "colab": {
     "base_uri": "https://localhost:8080/",
     "height": 1000
    },
    "colab_type": "code",
    "id": "sGAHKMREJzYA",
    "outputId": "e1d97095-19c2-490c-dd04-c3932fe2ce54",
    "scrolled": true
   },
   "outputs": [
    {
     "name": "stdout",
     "output_type": "stream",
     "text": [
      "Epoch 0, loss 869351037.84\n",
      "Epoch 1, loss 136472514.23\n",
      "Epoch 2, loss 21904293.61\n",
      "Epoch 3, loss 8189400.14\n",
      "Epoch 4, loss 3621255.76\n",
      "Epoch 5, loss 2033109.21\n",
      "Epoch 6, loss 1381406.53\n",
      "Epoch 7, loss 1002923.32\n",
      "Epoch 8, loss 746139.11\n",
      "Epoch 9, loss 566074.44\n",
      "Epoch 10, loss 459764.81\n",
      "Epoch 11, loss 384897.31\n",
      "Epoch 12, loss 320811.58\n",
      "Epoch 13, loss 271122.36\n",
      "Epoch 14, loss 229817.43\n",
      "Epoch 15, loss 191770.02\n",
      "Epoch 16, loss 164128.86\n",
      "Epoch 17, loss 142813.56\n",
      "Epoch 18, loss 122740.51\n",
      "Epoch 19, loss 107404.63\n",
      "Epoch 20, loss 91629.13\n",
      "Epoch 21, loss 82137.24\n",
      "Epoch 22, loss 74825.15\n",
      "Epoch 23, loss 67779.79\n",
      "Epoch 24, loss 61510.58\n",
      "Epoch 25, loss 57384.49\n",
      "Epoch 26, loss 50266.27\n",
      "Epoch 27, loss 48278.90\n",
      "Epoch 28, loss 44428.90\n",
      "Epoch 29, loss 41388.16\n",
      "Epoch 30, loss 38736.71\n",
      "Epoch 31, loss 36704.53\n",
      "Epoch 32, loss 35443.46\n",
      "Epoch 33, loss 34256.56\n",
      "Epoch 34, loss 33672.87\n",
      "Epoch 35, loss 30379.47\n",
      "Epoch 36, loss 27942.88\n",
      "Epoch 37, loss 27279.33\n",
      "Epoch 38, loss 26719.27\n",
      "Epoch 39, loss 29230.73\n",
      "Epoch 40, loss 23689.37\n",
      "Epoch 41, loss 24462.97\n",
      "Epoch 42, loss 23952.71\n",
      "Epoch 43, loss 22368.72\n",
      "Epoch 44, loss 22387.72\n",
      "Epoch 45, loss 20925.14\n",
      "Epoch 46, loss 22302.85\n",
      "Epoch 47, loss 20110.64\n",
      "Epoch 48, loss 20723.91\n",
      "Epoch 49, loss 18488.54\n",
      "Epoch 50, loss 20146.16\n",
      "Epoch 51, loss 20132.68\n",
      "Epoch 52, loss 18540.99\n",
      "Epoch 53, loss 17487.09\n",
      "Epoch 54, loss 19909.80\n",
      "Epoch 55, loss 16629.03\n",
      "Epoch 56, loss 16706.80\n",
      "Epoch 57, loss 16595.55\n",
      "Epoch 58, loss 17669.71\n",
      "Epoch 59, loss 17453.78\n",
      "Epoch 60, loss 15541.60\n",
      "Epoch 61, loss 15932.03\n",
      "Epoch 62, loss 17486.00\n",
      "Epoch 63, loss 15553.55\n",
      "Epoch 64, loss 14839.42\n",
      "Epoch 65, loss 14780.06\n",
      "Epoch 66, loss 15166.84\n",
      "Epoch 67, loss 14832.20\n",
      "Epoch 68, loss 14545.55\n",
      "Epoch 69, loss 14130.46\n",
      "Epoch 70, loss 15978.63\n",
      "Epoch 71, loss 14168.44\n",
      "Epoch 72, loss 12331.05\n",
      "Epoch 73, loss 14148.02\n",
      "Epoch 74, loss 13584.73\n",
      "Epoch 75, loss 13507.01\n",
      "Epoch 76, loss 13671.67\n",
      "Epoch 77, loss 13372.62\n",
      "Epoch 78, loss 12646.66\n",
      "Epoch 79, loss 12896.40\n",
      "Epoch 80, loss 11870.65\n",
      "Epoch 81, loss 13492.88\n",
      "Epoch 82, loss 13159.13\n",
      "Epoch 83, loss 12010.49\n",
      "Epoch 84, loss 12453.49\n",
      "Epoch 85, loss 12815.99\n",
      "Epoch 86, loss 11572.23\n",
      "Epoch 87, loss 11801.47\n",
      "Epoch 88, loss 14056.48\n",
      "Epoch 89, loss 11879.91\n",
      "Epoch 90, loss 12678.37\n",
      "Epoch 91, loss 11291.07\n",
      "Epoch 92, loss 12867.86\n",
      "Epoch 93, loss 11740.11\n",
      "Epoch 94, loss 11013.18\n",
      "Epoch 95, loss 13333.09\n",
      "Epoch 96, loss 10211.93\n",
      "Epoch 97, loss 11690.13\n",
      "Epoch 98, loss 11213.76\n",
      "Epoch 99, loss 11194.54\n",
      "Epoch 100, loss 11653.49\n",
      "Epoch 101, loss 11093.40\n",
      "Epoch 102, loss 12243.18\n",
      "Epoch 103, loss 9725.91\n",
      "Epoch 104, loss 11541.15\n",
      "Epoch 105, loss 9396.82\n",
      "Epoch 106, loss 11490.59\n",
      "Epoch 107, loss 11346.43\n",
      "Epoch 108, loss 10209.90\n",
      "Epoch 109, loss 12026.12\n",
      "Epoch 110, loss 11315.30\n",
      "Epoch 111, loss 9964.61\n",
      "Epoch 112, loss 10983.22\n",
      "Epoch 113, loss 10467.74\n",
      "Epoch 114, loss 10206.24\n",
      "Epoch 115, loss 9883.32\n",
      "Epoch 116, loss 11003.76\n",
      "Epoch 117, loss 12034.44\n",
      "Epoch 118, loss 8950.02\n",
      "Epoch 119, loss 10137.39\n",
      "Epoch 120, loss 11351.54\n",
      "Epoch 121, loss 10100.96\n",
      "Epoch 122, loss 9339.10\n",
      "Epoch 123, loss 9201.24\n",
      "Epoch 124, loss 10047.38\n",
      "Epoch 125, loss 13277.60\n",
      "Epoch 126, loss 8125.06\n",
      "Epoch 127, loss 9797.11\n",
      "Epoch 128, loss 10755.82\n",
      "Epoch 129, loss 9687.69\n",
      "Epoch 130, loss 10674.48\n",
      "Epoch 131, loss 11016.32\n",
      "Epoch 132, loss 9003.52\n",
      "Epoch 133, loss 10998.82\n",
      "Epoch 134, loss 10095.95\n",
      "Epoch 135, loss 10132.13\n",
      "Epoch 136, loss 9141.16\n",
      "Epoch 137, loss 9391.90\n",
      "Epoch 138, loss 10014.39\n",
      "Epoch 139, loss 10172.73\n",
      "Epoch 140, loss 9726.36\n",
      "Epoch 141, loss 8164.70\n",
      "Epoch 142, loss 9300.28\n",
      "Epoch 143, loss 9170.53\n",
      "Epoch 144, loss 10189.73\n",
      "Epoch 145, loss 9475.69\n",
      "Epoch 146, loss 8398.10\n",
      "Epoch 147, loss 9778.77\n",
      "Epoch 148, loss 9701.64\n",
      "Epoch 149, loss 7672.39\n",
      "Epoch 150, loss 9631.59\n",
      "Epoch 151, loss 9311.44\n",
      "Epoch 152, loss 8330.68\n",
      "Epoch 153, loss 10237.48\n",
      "Epoch 154, loss 7966.28\n",
      "Epoch 155, loss 9950.01\n",
      "Epoch 156, loss 8142.97\n",
      "Epoch 157, loss 8521.63\n",
      "Epoch 158, loss 8113.00\n",
      "Epoch 159, loss 10285.71\n",
      "Epoch 160, loss 8800.67\n",
      "Epoch 161, loss 8442.67\n",
      "Epoch 162, loss 9151.94\n",
      "Epoch 163, loss 9180.33\n",
      "Epoch 164, loss 8688.21\n",
      "Epoch 165, loss 9086.78\n",
      "Epoch 166, loss 8445.97\n",
      "Epoch 167, loss 9214.80\n",
      "Epoch 168, loss 8729.43\n",
      "Epoch 169, loss 9569.20\n",
      "Epoch 170, loss 7973.39\n",
      "Epoch 171, loss 8166.01\n",
      "Epoch 172, loss 9162.85\n",
      "Epoch 173, loss 9153.43\n",
      "Epoch 174, loss 7788.61\n",
      "Epoch 175, loss 8364.58\n",
      "Epoch 176, loss 8674.39\n",
      "Epoch 177, loss 9680.33\n",
      "Epoch 178, loss 8639.87\n",
      "Epoch 179, loss 7628.17\n",
      "Epoch 180, loss 8670.61\n",
      "Epoch 181, loss 12598.78\n",
      "Epoch 182, loss 5719.75\n",
      "Epoch 183, loss 9149.21\n",
      "Epoch 184, loss 7615.08\n",
      "Epoch 185, loss 7881.30\n",
      "Epoch 186, loss 8293.93\n",
      "Epoch 187, loss 8562.75\n",
      "Epoch 188, loss 8406.71\n",
      "Epoch 189, loss 9016.02\n",
      "Epoch 190, loss 7686.55\n",
      "Epoch 191, loss 8236.91\n",
      "Epoch 192, loss 8095.09\n",
      "Epoch 193, loss 7143.47\n",
      "Epoch 194, loss 9208.83\n",
      "Epoch 195, loss 6915.27\n",
      "Epoch 196, loss 8929.56\n",
      "Epoch 197, loss 8080.21\n",
      "Epoch 198, loss 7466.27\n",
      "Epoch 199, loss 9339.88\n",
      "**** Finished Training ****\n"
     ]
    }
   ],
   "source": [
    "\n",
    "# build the model\n",
    "model = MRF().to(device1)\n",
    "\n",
    "# define the loss function and the optimiser\n",
    "loss_function = nn.MSELoss()\n",
    "optimiser = optim.Adam(model.parameters())\n",
    "\n",
    "# the epoch loop\n",
    "for epoch in range(N):\n",
    "    model.train()\n",
    "    running_loss = 0.0\n",
    "    loss=0\n",
    "    for data in trainloader:\n",
    "        # get the inputs\n",
    "        inputs, labels = data\n",
    "        #inputs = inputs.unsqueeze(1).unsqueeze(-1)\n",
    "        #inputs = inputs.unsqueeze(1)\n",
    "        #inputs = torch.unsqueeze(inputs1, 2)\n",
    "\n",
    "        inputs, labels = inputs.to(device1), labels.to(device1)\n",
    "        \n",
    "        \n",
    "        loss, nums = loss_batch(model, loss_function, inputs.float(), labels.float(), optimiser)\n",
    "        running_loss += loss\n",
    "    train_loss.append(loss)\n",
    "\n",
    "    model.eval()\n",
    "    with torch.no_grad():\n",
    "        losses, nums = zip(\n",
    "                *[loss_batch(model.to(device1), loss_function, xb.to(device1), yb.to(device1)) for xb, yb in validloader]\n",
    "            )\n",
    "        val_loss1 = np.sum(np.multiply(losses, nums)) / np.sum(nums)\n",
    "        val_loss.append(val_loss1)\n",
    "\n",
    "\n",
    "        #print(epoch, val_loss)\n",
    "\n",
    "        \n",
    "        # keep track of the loss this epoch\n",
    "        #running_loss += loss.item()\n",
    "    print(\"Epoch %d, loss %4.2f\" % (epoch, running_loss))\n",
    "print('**** Finished Training ****')"
   ]
  },
  {
   "cell_type": "code",
   "execution_count": 23,
   "metadata": {
    "colab": {
     "base_uri": "https://localhost:8080/",
     "height": 281
    },
    "colab_type": "code",
    "id": "RrXkmLWusgWY",
    "outputId": "94727097-6aee-4d73-97d6-e8cc99f69d52",
    "scrolled": true
   },
   "outputs": [
    {
     "data": {
      "image/png": "[encoded data removed]",
      "text/plain": [
       "<Figure size 432x288 with 2 Axes>"
      ]
     },
     "metadata": {
      "needs_background": "light"
     },
     "output_type": "display_data"
    }
   ],
   "source": [
    "import matplotlib.pyplot as plt\n",
    "\n",
    "x = range(0, N)\n",
    "y1 = train_loss\n",
    "#y2 = train_accu\n",
    "y3 = val_loss\n",
    "#y4 = val_accu\n",
    "plt.subplot(2, 1, 1)\n",
    "plt.plot(x, y1, 'o-')\n",
    "plt.title('train_loss and val_loss')\n",
    "plt.ylabel('train_loss')\n",
    "#plt.subplot(2, 1, 2)\n",
    "#plt.plot(x, y2, '.-')\n",
    "#plt.xlabel('epoches')\n",
    "#plt.ylabel('train_accu')\n",
    "plt.subplot(2, 1, 2)\n",
    "plt.plot(x, y3, 'o-')\n",
    "plt.ylabel('val_loss')\n",
    "#plt.subplot(2, 2, 2)\n",
    "#plt.plot(x, y4, '.-')\n",
    "#plt.title('val_loss and val_accu')\n",
    "#lt.ylabel('val_accu')\n",
    "plt.show()\n",
    "#plt.savefig(\"accuracy_loss.jpg\")\n"
   ]
  },
  {
   "cell_type": "code",
   "execution_count": 18,
   "metadata": {
    "scrolled": true
   },
   "outputs": [
    {
     "name": "stdout",
     "output_type": "stream",
     "text": [
      "[206213.171875, 37132.7421875, 14051.8125, 4416.900390625, 1641.314453125, 2100.0693359375, 468.6553955078125, 634.8339233398438, 243.12722778320312, 147.85247802734375, 120.0728988647461, 82.82061004638672, 399.6026611328125, 150.54745483398438, 94.3014144897461, 77.9012451171875, 121.16570281982422, 46.111175537109375, 36.33430480957031, 36.094947814941406, 22.20563507080078, 45.298851013183594, 136.17787170410156, 240.95834350585938, 27.374732971191406, 148.73696899414062, 28.890090942382812, 64.2821044921875, 27.063749313354492, 25.344709396362305, 25.663436889648438, 28.642070770263672, 25.261577606201172, 18.551523208618164, 24.35079574584961, 15.517387390136719, 17.640771865844727, 11.507230758666992, 10.235223770141602, 36.563568115234375, 13.533258438110352, 16.294471740722656, 28.648353576660156, 16.033096313476562, 24.03493309020996, 20.05409812927246, 10.780073165893555, 13.085795402526855, 19.012117385864258, 24.211013793945312, 13.45170783996582, 62.36052703857422, 21.37069320678711, 31.863065719604492, 11.356971740722656, 12.22580337524414, 18.80699920654297, 10.289629936218262, 10.6784086227417, 9.349024772644043, 16.254276275634766, 10.032054901123047, 21.907690048217773, 10.504096984863281, 22.21120262145996, 7.2728190422058105, 14.070395469665527, 8.110220909118652, 7.563088893890381, 21.103958129882812, 7.098396301269531, 8.50466537475586, 19.461528778076172, 5.759280204772949, 17.5400447845459, 10.487377166748047, 9.217378616333008, 14.869540214538574, 14.705869674682617, 6.773418426513672, 12.60472297668457, 6.8965301513671875, 9.513326644897461, 6.8491363525390625, 16.663373947143555, 7.905117034912109, 6.741623878479004, 13.697956085205078, 6.41062068939209, 7.29426908493042, 8.399147033691406, 7.989778518676758, 6.246443748474121, 6.2736921310424805, 8.497678756713867, 25.84113121032715, 15.271868705749512, 13.412845611572266, 8.47457218170166, 13.804737091064453, 6.609305381774902, 10.161857604980469, 5.008968353271484, 106.06706237792969, 16.379423141479492, 9.818277359008789, 6.67017126083374, 9.591630935668945, 22.954946517944336, 8.425002098083496, 9.507253646850586, 5.595750331878662, 12.519789695739746, 4.995379447937012, 6.988066673278809, 8.923624038696289, 4.520294189453125, 5.936841011047363, 7.34904670715332, 6.288551330566406, 8.023290634155273, 8.28801155090332, 4.4116740226745605, 5.063085556030273, 5.4711432456970215, 29.620969772338867, 6.540095806121826, 2.30130672454834, 6.821946620941162, 5.015744209289551, 6.298733711242676, 4.145651817321777, 13.830381393432617, 166.54754638671875, 3.137147903442383, 3.6621885299682617, 12.824678421020508, 11.776992797851562, 3.6692752838134766, 6.518030166625977, 5.933196067810059, 8.360954284667969, 13.063446044921875, 6.969036102294922, 39.351722717285156, 5.600811958312988, 13.262609481811523, 4.914649963378906, 5.153059959411621, 6.388088226318359, 10.449564933776855, 4.524771690368652, 5.058510780334473, 2.9106554985046387, 9.143465995788574, 10.481952667236328, 8.330183029174805, 2.98047137260437, 45.61888885498047, 4.774264335632324, 11.58149242401123, 7.539650917053223, 6.083763122558594, 12.559322357177734, 3.112184524536133, 4.084714889526367, 12.278158187866211, 5.138147354125977, 2.986030340194702, 10.403409004211426, 14.539819717407227, 4.073058605194092, 3.385849714279175, 2.659829616546631, 3.786515712738037, 20.61284637451172, 10.110054016113281, 3.646136999130249, 9.325063705444336, 5.659966945648193, 11.486455917358398, 15.675551414489746, 4.411904811859131, 5.703732967376709, 3.9066970348358154, 4.8359270095825195, 8.103672981262207, 3.2376513481140137, 8.443719863891602, 4.25792121887207, 3.825958251953125, 9.314201354980469, 10.616072654724121, 6.533019542694092, 3.0293710231781006, 21.848163604736328, 5.519984245300293, 3.3078818321228027, 5.246119022369385, 2.7557992935180664]\n"
     ]
    }
   ],
   "source": [
    "print(y1)"
   ]
  },
  {
   "cell_type": "code",
   "execution_count": 18,
   "metadata": {},
   "outputs": [
    {
     "name": "stdout",
     "output_type": "stream",
     "text": [
      "[173845.4375, 27468.75390625, 10986.01171875, 8614.0, 2530.158935546875, 7346.9853515625, 435.0988464355469, 390.5280456542969, 491.464111328125, 597.4315185546875, 360.8106689453125, 220.90463256835938, 165.78131103515625, 137.06080627441406, 126.29631042480469, 115.23140716552734, 116.34619140625, 74.61404418945312, 83.20699310302734, 69.45429992675781, 174.34576416015625, 36.052459716796875, 56.7833366394043, 93.3211898803711, 70.68205261230469, 49.231346130371094, 114.71270751953125, 59.01460266113281, 38.930625915527344, 59.474212646484375, 44.47710418701172, 29.397390365600586, 31.94290542602539, 184.93821716308594, 23.831289291381836, 36.786495208740234, 32.557037353515625, 38.784297943115234, 49.918880462646484, 27.44345474243164, 27.41914176940918, 33.53113555908203, 24.02131462097168, 44.385955810546875, 42.821128845214844, 48.361602783203125, 57.12141036987305, 33.137367248535156, 31.34054946899414, 21.250469207763672, 11.644176483154297, 19.558609008789062, 30.76552391052246, 32.539306640625, 46.557151794433594, 19.114126205444336, 14.007905960083008, 18.23195457458496, 17.586318969726562, 38.68301773071289, 19.530261993408203, 9.841056823730469, 11.527575492858887, 18.55576515197754, 22.85959243774414, 26.246654510498047, 57.76011276245117, 14.261153221130371, 11.161443710327148, 17.57645606994629, 30.559947967529297, 17.090574264526367, 11.711153984069824, 41.1467399597168, 19.75655174255371, 52.1558837890625, 23.127674102783203, 20.820449829101562, 16.5134220123291, 29.754833221435547, 15.805105209350586, 23.970348358154297, 15.438648223876953, 11.125045776367188, 13.401052474975586, 35.070003509521484, 16.969989776611328, 15.552299499511719, 37.6483154296875, 22.67915916442871, 20.704200744628906, 8.7683744430542, 12.828237533569336, 10.485372543334961, 40.26261901855469, 25.546964645385742, 16.7043514251709, 9.228158950805664, 20.235206604003906, 10.613268852233887, 10.494731903076172, 32.95378112792969, 18.12801742553711, 33.69968032836914, 17.3780517578125, 8.08259391784668, 17.001976013183594, 5.175533294677734, 28.767812728881836, 9.006468772888184, 13.112913131713867, 15.290166854858398, 8.532341957092285, 15.279197692871094, 10.82007122039795, 33.456382751464844, 12.621543884277344, 11.341997146606445, 10.963095664978027, 8.956299781799316, 8.781814575195312, 11.806139945983887, 9.295835494995117, 13.349592208862305, 9.61120319366455, 7.042824745178223, 14.544833183288574, 10.672439575195312, 21.52138328552246, 15.421148300170898, 32.89929962158203, 6.721431732177734, 4.929234504699707, 7.524883270263672, 11.168556213378906, 9.305405616760254, 8.332849502563477, 12.322028160095215, 26.34992790222168, 7.2286505699157715, 12.553094863891602, 6.2127203941345215, 12.911434173583984, 8.611724853515625, 14.599387168884277, 11.257589340209961, 8.283079147338867, 7.690433502197266, 4.396511077880859, 13.686372756958008, 6.062567710876465, 6.993762016296387, 8.272546768188477, 14.98770523071289, 7.116061687469482, 7.7848615646362305, 6.324912071228027, 4.003600120544434, 5.594674587249756, 8.612129211425781, 4.350934982299805, 7.467910289764404, 8.194528579711914, 5.701641082763672, 15.701364517211914, 18.207521438598633, 8.820241928100586, 5.543972015380859, 24.577178955078125, 5.724704265594482, 17.306713104248047, 8.899578094482422, 7.211883068084717, 4.5577712059021, 3.9934184551239014, 8.197372436523438, 7.755522727966309, 19.98236846923828, 6.278623580932617, 8.216093063354492, 16.77233123779297, 18.388521194458008, 6.240619659423828, 13.139902114868164, 3.085660457611084, 10.938468933105469, 26.077205657958984, 12.321975708007812, 30.026206970214844, 10.463611602783203, 4.777959823608398, 9.89433479309082, 4.843029975891113, 15.160238265991211, 5.8983306884765625, 3.240856170654297, 6.70792293548584, 5.745128631591797, 3.7639451026916504, 9.41988754272461]\n"
     ]
    }
   ],
   "source": [
    "print(train_loss)"
   ]
  },
  {
   "cell_type": "code",
   "execution_count": 25,
   "metadata": {
    "scrolled": true
   },
   "outputs": [
    {
     "name": "stdout",
     "output_type": "stream",
     "text": [
      "[47070.75850833333, 14160.651023958333, 9504.357263541666, 5064.385265625, 3622.789198177083, 2555.7030783854166, 2865.3562497395833, 1652.871702669271, 1416.6655591796875, 2500.3363373697916, 1207.1820396484375, 824.034502734375, 846.8916470052084, 772.3470776692708, 959.6251580729166, 690.0691931640625, 706.3094733723958, 439.104155859375, 455.1469000325521, 599.4429361979167, 347.8273849609375, 325.42639397786456, 351.883117578125, 539.8078697916667, 335.9686100911458, 304.3679769856771, 294.8450935546875, 257.3579281901042, 332.04665408528643, 238.25290834147137, 273.2392374348958, 517.3467895996093, 242.07539473470052, 270.023981656901, 337.67350498046875, 307.2629343424479, 512.965322672526, 395.36957345377607, 242.02395505371095, 147.75177530924478, 285.53247884114586, 208.88724529622397, 163.93382548828126, 145.00982801513672, 144.96418704427083, 170.4312279296875, 179.63603095703124, 157.23783223470053, 145.18841010742187, 139.32339187825522, 150.5882546875, 1176.737731640625, 311.12595610351565, 159.30292287597655, 131.56863095703125, 198.03732809244792, 138.0385622721354, 121.2444767171224, 196.92402682291666, 104.7982995686849, 150.01017044270833, 134.59833898111978, 149.6419975748698, 167.0898076171875, 103.5472940633138, 200.77298640136718, 121.37846630859374, 156.28970813802084, 193.6751471516927, 130.11056298828126, 381.46701949869794, 130.4487621419271, 116.94358875732422, 101.88342020670574, 86.74283709309896, 104.4046805867513, 94.81381596679688, 141.88008661295572, 293.9973179036458, 143.08413940429688, 61.401883756510415, 89.96280959472656, 131.6559478841146, 176.6553791015625, 258.61184209798176, 113.25087080078124, 80.61459010416667, 61.21435801595052, 60.410418229166666, 90.95240210774739, 69.3309641805013, 67.83268848470053, 172.01631061197918, 105.34524009602865, 68.49731288248698, 141.8615385904948, 159.1536931315104, 60.31369921061198, 165.23269411621095, 130.35285422363282, 59.075821643066405, 70.11021499430339, 186.1408361328125, 69.99874983723959, 58.072871276855466, 59.17128983154297, 44.09005557454427, 75.87631951090495, 79.6749901529948, 93.7870190592448, 65.37333352457682, 55.49686453857422, 92.24474862467449, 51.98169351806641, 45.47942446289063, 85.72190795898437, 71.84499046223958, 149.73194099934895, 68.13755342610678, 70.64689169921876, 69.74062027587891, 172.87745105794272, 80.61812908935546, 46.607169405110675, 46.50841776123047, 39.332888505045574, 48.05899654541015, 56.420616731770835, 45.63096034749349, 35.71284406738281, 119.80192848714192, 63.71615396728516, 50.21760472005208, 40.245747810872395, 90.65187221679687, 32.89107731119792, 568.8413314453124, 44.06177502441406, 34.45276825358073, 97.7104899617513, 36.08530711873372, 45.029921988932294, 103.63257740885416, 51.604290928141275, 1202.5839303385417, 55.62617782389323, 47.499545705159505, 84.24208239746093, 36.294270245361325, 51.12967057495117, 83.7687798828125, 76.9182138631185, 153.83773824869792, 98.31117634277344, 74.06034881184895, 46.74695844726563, 36.71904309895833, 31.369911993408202, 34.10126861979167, 39.57666058349609, 33.89423625488281, 44.34163748982748, 87.89843549804688, 35.37352060546875, 34.3295734354655, 47.327038330078125, 34.622386427815755, 27.465482157389324, 87.50773559977213, 53.98935706380208, 29.685709572347005, 27.026993581136068, 34.97985444335937, 52.12953095296224, 44.18929031575521, 37.77995975341797, 47.98034986979167, 33.71160045572917, 44.954590498860675, 24.772566979980468, 24.10933217163086, 28.40896160888672, 31.161665376790364, 24.813874458821616, 33.62822431640625, 50.030446793619795, 32.31396967569987, 27.122401124064126, 23.046711440022786, 501.8439365234375, 50.88843342692057, 63.48670287679037, 50.30561223347982, 41.91645768432617, 57.1075498046875, 41.15752761230469, 56.46366844075521, 26.23035529378255, 348.83440667317706, 41.925890681966145, 133.8673200032552]\n"
     ]
    }
   ],
   "source": [
    "print(y3)"
   ]
  },
  {
   "cell_type": "code",
   "execution_count": 19,
   "metadata": {},
   "outputs": [
    {
     "name": "stdout",
     "output_type": "stream",
     "text": [
      "[181979.66914166667, 32215.818416666665, 11730.391296875, 4787.246684895833, 2867.4116674479164, 1800.5753740885416, 1239.1841615234375, 858.0065401367187, 687.8346521809896, 532.5247006184895, 490.5320107421875, 384.09425708007814, 376.20339505208335, 322.24054611002606, 244.92048046875, 197.0757106282552, 186.27321959635415, 141.62564188639323, 128.69822504882814, 122.32585799153645, 134.1188611653646, 95.85387399902343, 97.51727214355469, 78.99045674235026, 83.40176730550131, 91.94596044921875, 116.68127329915364, 99.20418259277344, 55.42262550455729, 60.35730735677083, 61.36229677327474, 52.39097926025391, 77.13936588948567, 112.76914080403645, 48.539888366699216, 41.327950459798174, 44.41978152669271, 45.72537576497396, 41.78614848632812, 35.94390874633789, 41.33123274129232, 42.30216372070313, 30.213166573079427, 33.32122697143555, 66.61842851765951, 31.243486114501952, 34.99912432657877, 30.21335506286621, 31.69533111368815, 31.730119434611, 33.88340069986979, 31.494467423502606, 33.188076168823244, 25.5151259958903, 24.088689275105793, 32.85441287638346, 21.113577989705405, 35.15034755452474, 22.6464063680013, 39.01204621378581, 25.288684305826823, 21.211094719441732, 26.828170973714194, 21.11858842569987, 17.855718244425457, 21.049840379333496, 27.55598143310547, 18.297051391601563, 20.41998899536133, 24.1038051554362, 30.94800242513021, 21.207426517740885, 15.207354604085287, 25.71789092203776, 17.580259733581542, 38.93437202351888, 26.66662467142741, 17.52924925181071, 25.30929617207845, 19.814594244384764, 16.10641383107503, 17.354711541748046, 18.537911086527508, 11.457296955362956, 16.81044667256673, 20.345553298950197, 16.786071536254884, 26.007685462443035, 23.097390251668294, 27.25970805053711, 19.363957602945963, 11.2948657816569, 17.110178173828125, 15.5879185546875, 50.56212884521484, 16.629766982014974, 12.569342990112304, 10.636533122762044, 15.611641753133139, 12.576372281392416, 13.663342149353028, 32.930364963785806, 18.429617390950522, 14.706135493977865, 28.530538717651368, 22.839857877604167, 41.03020263264974, 8.82114792098999, 9.31423292541504, 17.426642855326335, 19.28848006591797, 10.13573803100586, 12.611226998901367, 15.749953217569987, 20.861588224283853, 7.875799778493246, 18.766261700439454, 9.898662320454916, 9.091457429504395, 14.251157781982421, 8.978058463541666, 11.425343013000488, 8.552459239196777, 40.279290222167965, 12.124539032491048, 8.064753324635824, 8.45106052602132, 19.296466123453776, 13.496045652262369, 7.753140691375733, 20.95178626505534, 7.145487477874756, 8.32434203491211, 7.942349390157064, 9.436950833384197, 9.614300528462728, 46.7236846476237, 9.847457225545247, 41.508599780273435, 6.8044252049764, 13.54533084564209, 8.224975453186035, 8.845765137736002, 7.434258911641439, 11.73695171101888, 23.84517352803548, 8.74191135559082, 9.735652520751954, 7.918086548360189, 21.18610755513509, 11.200810005696615, 6.522483527119954, 11.713527784729004, 5.571505149332682, 13.790213150024414, 5.628610116322835, 7.478272724914551, 5.697653098805746, 7.256812803649902, 6.8019675984700525, 9.583822362263998, 6.857791467793782, 10.673281056722006, 6.192602506001791, 7.560876787312825, 4.838883406194051, 14.52563559773763, 10.90123374786377, 23.717071260579427, 8.041091132863363, 42.71663368733724, 6.727514144897461, 7.028093962860107, 7.997031278991699, 5.181630702718099, 5.639771774291992, 6.015051893107096, 8.539633371225992, 5.85717871500651, 12.090232454427083, 12.188896395365397, 8.721045005544026, 5.29493220876058, 8.999603472391764, 7.890119647725423, 15.10635674947103, 17.576363951619467, 8.779111490885416, 11.412505731709798, 12.50568958231608, 5.272548089853922, 11.081023732503255, 12.7658755859375, 6.069029467010498, 4.354269853973388, 7.069025887552897, 10.917265389506023, 6.13626935857137, 5.436315068562825, 5.2358768224080405]\n"
     ]
    }
   ],
   "source": [
    "print(val_loss)"
   ]
  },
  {
   "cell_type": "code",
   "execution_count": 24,
   "metadata": {
    "colab": {
     "base_uri": "https://localhost:8080/",
     "height": 118
    },
    "colab_type": "code",
    "id": "5Qg7Iyg-RsZc",
    "outputId": "6e257a36-b10f-4d83-ebab-7bce690bf17c",
    "scrolled": false
   },
   "outputs": [
    {
     "data": {
      "text/plain": [
       "BaselineModel(\n",
       "  (conv1): Conv1d(1, 32, kernel_size=(9,), stride=(2,))\n",
       "  (conv2): Conv1d(32, 64, kernel_size=(9,), stride=(2,))\n",
       "  (conv3): Conv1d(64, 128, kernel_size=(9,), stride=(2,))\n",
       "  (fc1): Linear(in_features=7040, out_features=2, bias=True)\n",
       ")"
      ]
     },
     "execution_count": 24,
     "metadata": {},
     "output_type": "execute_result"
    }
   ],
   "source": [
    "model.eval()"
   ]
  },
  {
   "cell_type": "code",
   "execution_count": 19,
   "metadata": {},
   "outputs": [],
   "source": [
    "model.eval()\n",
    "test_loss = list()\n",
    "for data in testloader:\n",
    "    losses, nums = zip(\n",
    "                *[loss_batch(model.to(device1), loss_function, xb.to(device1), yb.to(device1)) for xb, yb in testloader])\n",
    "    test_loss1 = np.sum(np.multiply(losses, nums)) / np.sum(nums)\n",
    "    test_loss.append(test_loss1)"
   ]
  },
  {
   "cell_type": "code",
   "execution_count": 20,
   "metadata": {},
   "outputs": [],
   "source": [
    "import matplotlib.pyplot as plt"
   ]
  },
  {
   "cell_type": "code",
   "execution_count": 21,
   "metadata": {},
   "outputs": [
    {
     "name": "stdout",
     "output_type": "stream",
     "text": [
      "[4.032341237338084, 4.032341227394111, 4.032341205375316, 4.032341232366098, 4.032341229998486, 4.032341203007703, 4.0323412176869, 4.032341234260188, 4.0323412259735445, 4.032341229761724, 4.032341209163495, 4.032341186197654, 4.032341240652742, 4.032341231182292, 4.032341232366098, 4.032341234970471, 4.0323412065591215, 4.032341224789738, 4.032341206085599, 4.0323412120046305, 4.0323412141354815, 4.032341214609004, 4.032341208453212, 4.032341218397184, 4.032341236391039, 4.032341224552977, 4.0323412411262645, 4.03234123283962, 4.0323412141354815, 4.0323412541481325, 4.032341218397184, 4.032341258883358, 4.0323412217118415, 4.032341230708769, 4.032341220291274, 4.032341202297419, 4.032341212951676, 4.032341223605932, 4.032341224316215, 4.032341219817751, 4.032341221001558, 4.032341259830403, 4.032341208689973, 4.032341224789738, 4.032341244914444, 4.032341234970471, 4.0323412217118415, 4.0323412281043955, 4.032341207032644, 4.032341202770941, 4.032341205138554, 4.0323412411262645, 4.032341243967399, 4.032341208926734, 4.0323412228956474, 4.032341246335012, 4.032341203717986, 4.032341225500022, 4.032341227867634, 4.032341227630873, 4.032341226920589, 4.032341225500022, 4.032341205375316, 4.032341223132409, 4.032341191406402, 4.032341258883358, 4.032341218870706, 4.032341245387967, 4.032341226920589, 4.0323412217118415, 4.032341257699551, 4.032341258646596, 4.032341231182292, 4.0323412259735445, 4.032341225500022, 4.032341237338084, 4.032341222185364, 4.032341223605932, 4.032341222185364, 4.032341205612076, 4.032341212478153, 4.032341201350374, 4.0323412411262645, 4.032341248939385, 4.0323412432571155, 4.0323412259735445, 4.032341221001558, 4.032341234496949, 4.032341220764796, 4.03234119495782, 4.032341227867634, 4.03234124964967, 4.032341208926734, 4.032341218160423, 4.0323412368645615, 4.032341201350374, 4.032341226920589, 4.032341202770941, 4.032341235443994, 4.032341224316215, 4.032341262434777, 4.032341236391039, 4.032341199693045, 4.032341221948603, 4.0323412487026244, 4.0323412217118415, 4.032341189749073, 4.032341207506167, 4.0323411989827616, 4.032341207506167, 4.0323412141354815, 4.032341246335012, 4.032341199929807, 4.032341219344229, 4.032341201823897, 4.032341240179219, 4.032341215082527, 4.032341200403329, 4.0323412217118415, 4.032341213425198, 4.03234124041598, 4.0323412195809905, 4.032341234496949, 4.0323412411262645, 4.032341216503094, 4.0323412411262645]\n"
     ]
    }
   ],
   "source": [
    "print(test_loss)"
   ]
  },
  {
   "cell_type": "code",
   "execution_count": 22,
   "metadata": {},
   "outputs": [
    {
     "data": {
      "text/plain": [
       "Text(0, 0.5, 'test_loss')"
      ]
     },
     "execution_count": 22,
     "metadata": {},
     "output_type": "execute_result"
    },
    {
     "data": {
      "image/png": "[encoded data removed]",
      "text/plain": [
       "<Figure size 432x288 with 1 Axes>"
      ]
     },
     "metadata": {
      "needs_background": "light"
     },
     "output_type": "display_data"
    }
   ],
   "source": [
    "x = range(0, 126)\n",
    "y3 = test_loss\n",
    "plt.plot(x, y3, 'o-')\n",
    "plt.title('test_loss')\n",
    "plt.ylabel('test_loss')"
   ]
  },
  {
   "cell_type": "code",
   "execution_count": null,
   "metadata": {
    "colab": {
     "base_uri": "https://localhost:8080/",
     "height": 1000
    },
    "colab_type": "code",
    "id": "eDZ_0FSIRz4A",
    "outputId": "6127c2c9-dc3b-4994-a315-27d714d4f9ac"
   },
   "outputs": [],
   "source": [
    "for data in testloader:\n",
    "    inputs, lablels = data\n",
    "    predictions = model(inputs.float())\n",
    "    loss = loss_function(predictions,labels)\n",
    "    loss = loss/128\n",
    "    print(\"loss\",loss)\n",
    "    print(\"predicted parameter:\", predictions)\n",
    "    print(\"setting parameter:\", labels)"
   ]
  },
  {
   "cell_type": "code",
   "execution_count": null,
   "metadata": {},
   "outputs": [],
   "source": [
    "testdataset = ra.read('atomsroa.ra')\n",
    "testdata = torch.tensor(testdataset)\n",
    "testdata = testdata.imag\n",
    "label1 = ra.read('paramsroa.ra')\n",
    "label1 = torch.tensor(label1)"
   ]
  },
  {
   "cell_type": "code",
   "execution_count": null,
   "metadata": {
    "colab": {},
    "colab_type": "code",
    "id": "D0xuJReg8EbA"
   },
   "outputs": [],
   "source": [
    "for i in range(8056):\n",
    "    inputs = testdata[:,i]\n",
    "    lablels = label1[0,i]\n",
    "    predictions = model(inputs.float())\n",
    "\n",
    "    print(\"predicted parameter:\", predictions)\n",
    "    print(\"setting parameter:\", lablels)"
   ]
  },
  {
   "cell_type": "markdown",
   "metadata": {
    "colab_type": "text",
    "id": "98SN3jbBbQPo"
   },
   "source": [
    "## Saving models"
   ]
  },
  {
   "cell_type": "markdown",
   "metadata": {
    "colab_type": "text",
    "id": "AC85zIKAbLgu"
   },
   "source": [
    "Being able to train a model is fine, but in practice once we've trained the model we probably want to save the result so we can reuse it at a later time. PyTorch makes saving the model easy using the torch.save(state, filepath) function. This will save the weights of the model so they can be loaded into a new instance at a later point.\n",
    "\n",
    "Run the following code to save the weights for use in the next part of the lab."
   ]
  },
  {
   "cell_type": "code",
   "execution_count": 17,
   "metadata": {
    "colab": {},
    "colab_type": "code",
    "id": "uYwWauk6a7vK"
   },
   "outputs": [],
   "source": [
    "#save the trained model weights\n",
    "torch.save(model.state_dict(), \"./MRF.weights\")"
   ]
  },
  {
   "cell_type": "markdown",
   "metadata": {
    "colab_type": "text",
    "id": "Z3755E9cbClj"
   },
   "source": [
    "If you are running on Colab, run the following to download the weights to the local machine:"
   ]
  },
  {
   "cell_type": "code",
   "execution_count": null,
   "metadata": {
    "colab": {
     "base_uri": "https://localhost:8080/",
     "height": 17
    },
    "colab_type": "code",
    "id": "YQso-4fca_mI",
    "outputId": "b059fe76-e584-437c-f499-8ca3da61d6d5"
   },
   "outputs": [],
   "source": [
    "from google.colab import files\n",
    "files.download('BaselineModel.weights')"
   ]
  },
  {
   "cell_type": "code",
   "execution_count": null,
   "metadata": {
    "colab": {
     "base_uri": "https://localhost:8080/",
     "height": 34
    },
    "colab_type": "code",
    "id": "AzH-0Wu9brJG",
    "outputId": "68c73ea4-c60c-4c51-9b54-a278d8492b63"
   },
   "outputs": [],
   "source": [
    "device = \"cuda:0\" if torch.cuda.is_available() else \"cpu\"\n",
    "model = BaselineModel(1000, 512, 256).to(device)\n",
    "model.load_state_dict(torch.load('BaselineModel.weights'))"
   ]
  }
 ],
 "metadata": {
  "colab": {
   "collapsed_sections": [],
   "name": "MRF-net.ipynb",
   "provenance": []
  },
  "kernelspec": {
   "display_name": "Python 3",
   "language": "python",
   "name": "python3"
  },
  "language_info": {
   "codemirror_mode": {
    "name": "ipython",
    "version": 3
   },
   "file_extension": ".py",
   "mimetype": "text/x-python",
   "name": "python",
   "nbconvert_exporter": "python",
   "pygments_lexer": "ipython3",
   "version": "3.8.5"
  }
 },
 "nbformat": 4,
 "nbformat_minor": 1
}
