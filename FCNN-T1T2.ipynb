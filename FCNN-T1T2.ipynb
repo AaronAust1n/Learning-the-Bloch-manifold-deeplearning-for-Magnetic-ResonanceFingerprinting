{
 "cells": [
  {
   "cell_type": "code",
   "execution_count": 1,
   "metadata": {
    "colab": {},
    "colab_type": "code",
    "id": "aqe2u5u5zhMj"
   },
   "outputs": [],
   "source": [
    "import numpy as np\n",
    "import torch\n",
    "import torch.nn.functional as F\n",
    "import torchvision.transforms as transforms\n",
    "from torch import nn\n",
    "from torch import optim\n",
    "from torch.utils.data import DataLoader\n",
    "#from torchvision.datasets import MNIST"
   ]
  },
  {
   "cell_type": "code",
   "execution_count": 5,
   "metadata": {},
   "outputs": [
    {
     "name": "stdout",
     "output_type": "stream",
     "text": [
      "1.6.0\n"
     ]
    }
   ],
   "source": [
    "print(torch.__version__)"
   ]
  },
  {
   "cell_type": "code",
   "execution_count": null,
   "metadata": {
    "colab": {
     "base_uri": "https://localhost:8080/",
     "height": 121
    },
    "colab_type": "code",
    "id": "VIE7-SAqir7O",
    "outputId": "2b6972e1-a573-4505-d544-690a1d68fbc8",
    "scrolled": true
   },
   "outputs": [],
   "source": [
    "from google.colab import drive\n",
    "drive.mount('/content/drive')"
   ]
  },
  {
   "cell_type": "code",
   "execution_count": 2,
   "metadata": {
    "colab": {},
    "colab_type": "code",
    "id": "FRWp8xWFEijO"
   },
   "outputs": [],
   "source": [
    "#import os\n",
    "#os.chdir(\"/content/drive/My Drive\") \n",
    "import ra\n",
    "#import complexLayers\n"
   ]
  },
  {
   "cell_type": "code",
   "execution_count": 4,
   "metadata": {
    "colab": {},
    "colab_type": "code",
    "id": "6-BK2JMPjju-"
   },
   "outputs": [],
   "source": [
    "dataset = ra.read('atomsroa.ra')\n",
    "train_data = torch.tensor(dataset)"
   ]
  },
  {
   "cell_type": "code",
   "execution_count": 5,
   "metadata": {},
   "outputs": [],
   "source": [
    "train_data = train_data.imag\n",
    "train_data =  torch.transpose(train_data, 0, 1).unsqueeze(1)"
   ]
  },
  {
   "cell_type": "code",
   "execution_count": 6,
   "metadata": {},
   "outputs": [],
   "source": [
    "labelset = ra.read('paramsroa.ra')\n",
    "train_label1 = torch.tensor(labelset)"
   ]
  },
  {
   "cell_type": "code",
   "execution_count": 7,
   "metadata": {},
   "outputs": [],
   "source": [
    "dataset1 = ra.read('atoms.ra')\n",
    "traindata1 = torch.tensor(dataset1)\n",
    "traindata1 = traindata1.imag\n",
    "traindata1 =  torch.transpose(traindata1, 0, 1).unsqueeze(1)\n",
    "label1 = ra.read('params.ra')\n",
    "label1 = torch.tensor(label1)"
   ]
  },
  {
   "cell_type": "code",
   "execution_count": null,
   "metadata": {},
   "outputs": [],
   "source": [
    "print(traindata1)\n",
    "print(train_data)"
   ]
  },
  {
   "cell_type": "code",
   "execution_count": 8,
   "metadata": {},
   "outputs": [
    {
     "name": "stdout",
     "output_type": "stream",
     "text": [
      "torch.Size([108056, 1, 1000])\n"
     ]
    },
    {
     "data": {
      "text/plain": [
       "torch.Size([108056, 1, 1000])"
      ]
     },
     "execution_count": 8,
     "metadata": {},
     "output_type": "execute_result"
    }
   ],
   "source": [
    "print(traindata1.shape)\n",
    "train_data.shape"
   ]
  },
  {
   "cell_type": "code",
   "execution_count": 9,
   "metadata": {
    "scrolled": true
   },
   "outputs": [],
   "source": [
    "alldata = torch.cat((train_data,traindata1),0)"
   ]
  },
  {
   "cell_type": "code",
   "execution_count": 10,
   "metadata": {},
   "outputs": [],
   "source": [
    "labels1 = torch.cat((train_label1[:-1,:],label1[:-1,:]),1)"
   ]
  },
  {
   "cell_type": "code",
   "execution_count": 11,
   "metadata": {
    "scrolled": true
   },
   "outputs": [
    {
     "name": "stdout",
     "output_type": "stream",
     "text": [
      "tensor([[ 100.,  110.,  120.,  ..., 3980., 3990., 4000.],\n",
      "        [  20.,   20.,   20.,  ..., 2000., 2000., 2000.]], dtype=torch.float64)\n",
      "torch.Size([2, 216112])\n",
      "torch.Size([3, 108056])\n"
     ]
    }
   ],
   "source": [
    "print(labels1)\n",
    "print(labels1.shape)\n",
    "print(train_label1.shape)"
   ]
  },
  {
   "cell_type": "code",
   "execution_count": 12,
   "metadata": {},
   "outputs": [
    {
     "name": "stdout",
     "output_type": "stream",
     "text": [
      "torch.Size([216112, 2])\n"
     ]
    }
   ],
   "source": [
    "labels1 = torch.transpose(labels1, 0, 1)\n",
    "print(labels1.shape)"
   ]
  },
  {
   "cell_type": "code",
   "execution_count": 13,
   "metadata": {},
   "outputs": [],
   "source": [
    "import torch.utils.data as data\n",
    "train_dataset = data.TensorDataset(alldata,labels1)"
   ]
  },
  {
   "cell_type": "code",
   "execution_count": null,
   "metadata": {
    "colab": {},
    "colab_type": "code",
    "id": "EtO2l_0K9bVo"
   },
   "outputs": [],
   "source": [
    "from sklearn.decomposition import PCA\n",
    "X_reduced = PCA(n_components=10).fit_transform(train_data)"
   ]
  },
  {
   "cell_type": "code",
   "execution_count": null,
   "metadata": {
    "colab": {
     "base_uri": "https://localhost:8080/",
     "height": 84
    },
    "colab_type": "code",
    "id": "9jhCmOGlzHuJ",
    "outputId": "d404eff5-582b-40af-8ba4-2f163944744e"
   },
   "outputs": [],
   "source": [
    "pca = PCA(n_components=10)\n",
    "pca.fit(train_data)\n",
    "\n",
    "print(pca.explained_variance_ratio_.shape)\n",
    "print(pca.components_.shape)\n",
    "print(pca.singular_values_.shape)\n",
    "print(pca.mean_.shape)"
   ]
  },
  {
   "cell_type": "code",
   "execution_count": null,
   "metadata": {
    "colab": {},
    "colab_type": "code",
    "id": "uyEh1FCOM4gT"
   },
   "outputs": [],
   "source": [
    "train_data = torch.tensor(X_reduced)"
   ]
  },
  {
   "cell_type": "code",
   "execution_count": 14,
   "metadata": {
    "colab": {},
    "colab_type": "code",
    "id": "ih21UQILm0Hl"
   },
   "outputs": [],
   "source": [
    "train_dataset, valid_dataset, test_dataset = torch.utils.data.random_split(train_dataset, [140000, 60000 ,16112])"
   ]
  },
  {
   "cell_type": "markdown",
   "metadata": {},
   "source": [
    "We found that the network model with smallest\n",
    "average error for validation data consists of 3 convolutional layers (kernel size = 3, stride\n",
    "size = 2), each followed by a rectified linear unit (ReLU) activation function. The number\n",
    "of the feature maps per convolutional layer is increasing, from 32 in the first to 128 in\n",
    "the last. After convolution an average pooling layer follows with the same size as the\n",
    "stride size. The last layer is fully connected, with 2 outputs. "
   ]
  },
  {
   "cell_type": "code",
   "execution_count": 15,
   "metadata": {
    "colab": {},
    "colab_type": "code",
    "id": "ahjQ0hXkj6Yl"
   },
   "outputs": [],
   "source": [
    "\n",
    "def _batch_norm(x):\n",
    "  eps_ = torch.finfo(torch.float32).eps\n",
    "  y = (x - torch.mean(x)) / (torch.std(x) + eps_)\n",
    "  return y\n",
    "\n",
    "\n",
    "# define baseline model\n",
    "class BaselineModel1(nn.Module):\n",
    "    def __init__(self):\n",
    "        super(BaselineModel1, self).__init__()\n",
    "        self.fc1 = nn.Linear(1000, 512)\n",
    "        self.fc2 = nn.Linear(512, 256)\n",
    "        self.fc3 = nn.Linear(256, 2)\n",
    "\n",
    "\n",
    "    def forward(self, x):\n",
    "        #print(x)\n",
    "        out = self.fc1(x)\n",
    "        #print(out)\n",
    "        #raise error\n",
    "        out = _batch_norm(out)\n",
    "        #out = self.bn(512)\n",
    "        out = torch.sigmoid(out)\n",
    "        out = self.fc2(out)\n",
    "        #out = self.bn(256)\n",
    "        out = _batch_norm(out)\n",
    "        out = torch.sigmoid(out)\n",
    "        out = self.fc3(out)\n",
    "        return out"
   ]
  },
  {
   "cell_type": "code",
   "execution_count": 16,
   "metadata": {
    "colab": {},
    "colab_type": "code",
    "id": "z3pzehZtrCEC"
   },
   "outputs": [],
   "source": [
    "N = 200\n",
    "val_loss = list()\n",
    "#val_accu = list()\n",
    "train_loss = list()\n",
    "#train_accu = list()"
   ]
  },
  {
   "cell_type": "code",
   "execution_count": 17,
   "metadata": {},
   "outputs": [],
   "source": [
    "#assert torch.cuda.is_available()\n",
    "device1 = \"cuda:0\" if torch.cuda.is_available() else \"cpu\"\n",
    "#cuda_device = torch.device(\"cuda\")\n",
    "seed = 7\n",
    "torch.manual_seed(seed)\n",
    "trainloader = DataLoader(train_dataset, batch_size=128, shuffle=True)\n",
    "validloader = DataLoader(valid_dataset, batch_size=128, shuffle=False)\n",
    "testloader = DataLoader(test_dataset, batch_size=128, shuffle=True)\n",
    "\n",
    "def loss_batch(model, loss_func, xb, yb, opt=None):\n",
    "    outputs = model(xb.float())\n",
    "    yb = yb.float()\n",
    "    outputs = torch.squeeze(outputs, 1)\n",
    "    loss = loss_func(outputs, yb)\n",
    "\n",
    "    if opt is not None:\n",
    "        loss.backward()\n",
    "        opt.step()\n",
    "        opt.zero_grad()\n",
    "\n",
    "    return loss.item(), len(xb)"
   ]
  },
  {
   "cell_type": "code",
   "execution_count": null,
   "metadata": {},
   "outputs": [],
   "source": [
    "!pip install pycuda\n",
    "import torch\n",
    "import pycuda.driver as cuda\n",
    "cuda.init()\n",
    "## Get Id of default device\n",
    "torch.cuda.current_device()\n",
    "# 0\n",
    "cuda.Device(0).name() # '0' is the id of your GPU"
   ]
  },
  {
   "cell_type": "code",
   "execution_count": 18,
   "metadata": {
    "colab": {
     "base_uri": "https://localhost:8080/",
     "height": 1000
    },
    "colab_type": "code",
    "id": "sGAHKMREJzYA",
    "outputId": "e1d97095-19c2-490c-dd04-c3932fe2ce54",
    "scrolled": true
   },
   "outputs": [
    {
     "name": "stdout",
     "output_type": "stream",
     "text": [
      "Epoch 0, loss 4106224336.25\n",
      "Epoch 1, loss 3566666974.50\n",
      "Epoch 2, loss 3091683756.25\n",
      "Epoch 3, loss 2669625657.50\n",
      "Epoch 4, loss 2295577635.62\n",
      "Epoch 5, loss 1965065605.62\n",
      "Epoch 6, loss 1674714895.38\n",
      "Epoch 7, loss 1420266620.38\n",
      "Epoch 8, loss 1195965878.19\n",
      "Epoch 9, loss 996910003.81\n",
      "Epoch 10, loss 821381066.12\n",
      "Epoch 11, loss 668462890.47\n",
      "Epoch 12, loss 537562741.84\n",
      "Epoch 13, loss 427855988.41\n",
      "Epoch 14, loss 335556359.11\n",
      "Epoch 15, loss 258486209.59\n",
      "Epoch 16, loss 195260784.34\n",
      "Epoch 17, loss 146015396.82\n",
      "Epoch 18, loss 109797734.19\n",
      "Epoch 19, loss 84371577.93\n",
      "Epoch 20, loss 67626908.55\n",
      "Epoch 21, loss 55746962.30\n",
      "Epoch 22, loss 46349686.06\n",
      "Epoch 23, loss 38790448.68\n",
      "Epoch 24, loss 32387207.25\n",
      "Epoch 25, loss 27062315.37\n",
      "Epoch 26, loss 22802017.64\n",
      "Epoch 27, loss 19493842.22\n",
      "Epoch 28, loss 17176109.65\n",
      "Epoch 29, loss 14753791.48\n",
      "Epoch 30, loss 13346381.19\n",
      "Epoch 31, loss 11793097.30\n",
      "Epoch 32, loss 11041312.99\n",
      "Epoch 33, loss 10187903.11\n",
      "Epoch 34, loss 9467920.47\n",
      "Epoch 35, loss 9189101.44\n",
      "Epoch 36, loss 8507234.69\n",
      "Epoch 37, loss 8233318.20\n",
      "Epoch 38, loss 8040725.20\n",
      "Epoch 39, loss 7754417.79\n",
      "Epoch 40, loss 7393571.35\n",
      "Epoch 41, loss 7070722.60\n",
      "Epoch 42, loss 6766580.52\n",
      "Epoch 43, loss 6915361.47\n",
      "Epoch 44, loss 6650212.43\n",
      "Epoch 45, loss 6637426.05\n",
      "Epoch 46, loss 6836004.79\n",
      "Epoch 47, loss 6651476.46\n",
      "Epoch 48, loss 6326707.50\n",
      "Epoch 49, loss 6215799.92\n",
      "Epoch 50, loss 5869537.05\n",
      "Epoch 51, loss 6338056.58\n",
      "Epoch 52, loss 5865585.08\n",
      "Epoch 53, loss 6236173.78\n",
      "Epoch 54, loss 6151653.13\n",
      "Epoch 55, loss 5938665.69\n",
      "Epoch 56, loss 5966115.99\n",
      "Epoch 57, loss 6106728.49\n",
      "Epoch 58, loss 5906114.39\n",
      "Epoch 59, loss 5720065.24\n",
      "Epoch 60, loss 5561252.80\n",
      "Epoch 61, loss 5392098.98\n",
      "Epoch 62, loss 5970613.55\n",
      "Epoch 63, loss 5832494.40\n",
      "Epoch 64, loss 5560230.59\n",
      "Epoch 65, loss 5511842.12\n",
      "Epoch 66, loss 5911265.01\n",
      "Epoch 67, loss 5261516.51\n",
      "Epoch 68, loss 5242921.35\n",
      "Epoch 69, loss 5653828.30\n",
      "Epoch 70, loss 5452704.08\n",
      "Epoch 71, loss 5566109.09\n",
      "Epoch 72, loss 5529919.58\n",
      "Epoch 73, loss 5365717.77\n",
      "Epoch 74, loss 5413589.97\n",
      "Epoch 75, loss 5664898.22\n",
      "Epoch 76, loss 5037882.53\n",
      "Epoch 77, loss 5259288.14\n",
      "Epoch 78, loss 5069116.27\n",
      "Epoch 79, loss 5154797.06\n",
      "Epoch 80, loss 5368968.83\n",
      "Epoch 81, loss 4897200.42\n",
      "Epoch 82, loss 5173039.33\n",
      "Epoch 83, loss 4784263.35\n",
      "Epoch 84, loss 5088973.33\n",
      "Epoch 85, loss 5020731.27\n",
      "Epoch 86, loss 5362720.79\n",
      "Epoch 87, loss 4974561.92\n",
      "Epoch 88, loss 4783998.79\n",
      "Epoch 89, loss 5025197.32\n",
      "Epoch 90, loss 5054219.17\n",
      "Epoch 91, loss 4709155.16\n",
      "Epoch 92, loss 4839334.12\n",
      "Epoch 93, loss 5002871.51\n",
      "Epoch 94, loss 5076193.64\n",
      "Epoch 95, loss 4668668.84\n",
      "Epoch 96, loss 4809896.42\n",
      "Epoch 97, loss 5281937.43\n",
      "Epoch 98, loss 4677924.98\n",
      "Epoch 99, loss 4736525.55\n",
      "Epoch 100, loss 4865134.79\n",
      "Epoch 101, loss 4689175.93\n",
      "Epoch 102, loss 4697546.10\n",
      "Epoch 103, loss 4746364.16\n",
      "Epoch 104, loss 4778597.29\n",
      "Epoch 105, loss 4693191.65\n",
      "Epoch 106, loss 4457818.57\n",
      "Epoch 107, loss 4563572.78\n",
      "Epoch 108, loss 4339483.18\n",
      "Epoch 109, loss 4345292.99\n",
      "Epoch 110, loss 4139911.19\n",
      "Epoch 111, loss 4354250.38\n",
      "Epoch 112, loss 4183151.33\n",
      "Epoch 113, loss 4342090.46\n",
      "Epoch 114, loss 4316632.86\n",
      "Epoch 115, loss 4394713.58\n",
      "Epoch 116, loss 4323832.99\n",
      "Epoch 117, loss 4285729.15\n",
      "Epoch 118, loss 4019668.23\n",
      "Epoch 119, loss 4075916.03\n",
      "Epoch 120, loss 4305322.57\n",
      "Epoch 121, loss 4093311.25\n",
      "Epoch 122, loss 3580113.40\n",
      "Epoch 123, loss 3895185.00\n",
      "Epoch 124, loss 4131140.18\n",
      "Epoch 125, loss 4096734.41\n",
      "Epoch 126, loss 4023860.78\n",
      "Epoch 127, loss 3744038.84\n",
      "Epoch 128, loss 3884917.76\n",
      "Epoch 129, loss 3911792.70\n",
      "Epoch 130, loss 3642358.91\n",
      "Epoch 131, loss 3530376.64\n",
      "Epoch 132, loss 3619156.91\n",
      "Epoch 133, loss 3629491.68\n",
      "Epoch 134, loss 3483211.95\n",
      "Epoch 135, loss 3634311.96\n",
      "Epoch 136, loss 3771849.23\n",
      "Epoch 137, loss 3584750.82\n",
      "Epoch 138, loss 3460028.73\n",
      "Epoch 139, loss 3638984.04\n",
      "Epoch 140, loss 3829577.31\n",
      "Epoch 141, loss 3375281.12\n",
      "Epoch 142, loss 3709448.10\n",
      "Epoch 143, loss 3703318.75\n",
      "Epoch 144, loss 3250210.67\n",
      "Epoch 145, loss 3479824.79\n",
      "Epoch 146, loss 3438676.42\n",
      "Epoch 147, loss 3454945.41\n",
      "Epoch 148, loss 3115001.85\n",
      "Epoch 149, loss 3354663.66\n",
      "Epoch 150, loss 3514863.08\n",
      "Epoch 151, loss 3375174.36\n",
      "Epoch 152, loss 3105880.87\n",
      "Epoch 153, loss 3154020.13\n",
      "Epoch 154, loss 3059033.71\n",
      "Epoch 155, loss 3237510.06\n",
      "Epoch 156, loss 3247547.48\n",
      "Epoch 157, loss 3188765.80\n",
      "Epoch 158, loss 3179136.30\n",
      "Epoch 159, loss 2975105.62\n",
      "Epoch 160, loss 2937902.61\n",
      "Epoch 161, loss 2982594.99\n",
      "Epoch 162, loss 3098577.76\n",
      "Epoch 163, loss 3082849.78\n",
      "Epoch 164, loss 3017055.20\n",
      "Epoch 165, loss 2999072.03\n",
      "Epoch 166, loss 3068563.42\n",
      "Epoch 167, loss 2874326.67\n",
      "Epoch 168, loss 2856339.76\n",
      "Epoch 169, loss 2815251.62\n",
      "Epoch 170, loss 2735195.71\n",
      "Epoch 171, loss 2781580.03\n",
      "Epoch 172, loss 2886361.80\n",
      "Epoch 173, loss 2718310.11\n",
      "Epoch 174, loss 2683178.34\n",
      "Epoch 175, loss 2703347.23\n",
      "Epoch 176, loss 2550660.93\n",
      "Epoch 177, loss 2583585.21\n",
      "Epoch 178, loss 2658677.62\n",
      "Epoch 179, loss 2565273.72\n",
      "Epoch 180, loss 2784140.27\n",
      "Epoch 181, loss 2586583.95\n",
      "Epoch 182, loss 2630977.88\n",
      "Epoch 183, loss 2601762.63\n",
      "Epoch 184, loss 2578236.10\n",
      "Epoch 185, loss 2569545.42\n",
      "Epoch 186, loss 2498671.31\n",
      "Epoch 187, loss 2620073.08\n",
      "Epoch 188, loss 2406483.62\n",
      "Epoch 189, loss 2538683.38\n",
      "Epoch 190, loss 2420287.95\n",
      "Epoch 191, loss 2486044.85\n",
      "Epoch 192, loss 2548606.48\n",
      "Epoch 193, loss 2566759.10\n",
      "Epoch 194, loss 2243865.35\n",
      "Epoch 195, loss 2277178.41\n",
      "Epoch 196, loss 2390319.14\n",
      "Epoch 197, loss 2194306.61\n",
      "Epoch 198, loss 2220526.88\n",
      "Epoch 199, loss 2239318.76\n",
      "**** Finished Training ****\n"
     ]
    }
   ],
   "source": [
    "\n",
    "# build the model\n",
    "model = BaselineModel1().to(device1)\n",
    "\n",
    "# define the loss function and the optimiser\n",
    "loss_function = nn.MSELoss()\n",
    "optimiser = optim.Adam(model.parameters())\n",
    "\n",
    "# the epoch loop\n",
    "for epoch in range(N):\n",
    "    model.train()\n",
    "    running_loss = 0.0\n",
    "    loss=0\n",
    "    for data in trainloader:\n",
    "        # get the inputs\n",
    "        inputs, labels = data\n",
    "        #inputs = inputs.unsqueeze(1).unsqueeze(-1)\n",
    "        #inputs = inputs.unsqueeze(1)\n",
    "        #inputs = torch.unsqueeze(inputs1, 2)\n",
    "\n",
    "        inputs, labels = inputs.to(device1), labels.to(device1)\n",
    "        \n",
    "        \n",
    "        loss, nums = loss_batch(model, loss_function, inputs.float(), labels.float(), optimiser)\n",
    "        running_loss += loss\n",
    "    train_loss.append(loss)\n",
    "\n",
    "    model.eval()\n",
    "    with torch.no_grad():\n",
    "        losses, nums = zip(\n",
    "                *[loss_batch(model.to(device1), loss_function, xb.to(device1), yb.to(device1)) for xb, yb in validloader]\n",
    "            )\n",
    "        val_loss1 = np.sum(np.multiply(losses, nums)) / np.sum(nums)\n",
    "        val_loss.append(val_loss1)\n",
    "\n",
    "\n",
    "        #print(epoch, val_loss)\n",
    "\n",
    "        \n",
    "        # keep track of the loss this epoch\n",
    "        #running_loss += loss.item()\n",
    "    print(\"Epoch %d, loss %4.2f\" % (epoch, running_loss))\n",
    "print('**** Finished Training ****')"
   ]
  },
  {
   "cell_type": "code",
   "execution_count": 25,
   "metadata": {
    "colab": {
     "base_uri": "https://localhost:8080/",
     "height": 281
    },
    "colab_type": "code",
    "id": "RrXkmLWusgWY",
    "outputId": "94727097-6aee-4d73-97d6-e8cc99f69d52",
    "scrolled": true
   },
   "outputs": [
    {
     "data": {
      "image/png": "[encoded data removed]",
      "text/plain": [
       "<Figure size 432x288 with 2 Axes>"
      ]
     },
     "metadata": {
      "needs_background": "light"
     },
     "output_type": "display_data"
    }
   ],
   "source": [
    "import matplotlib.pyplot as plt\n",
    "\n",
    "x = range(0, N)\n",
    "y1 = train_loss\n",
    "#y2 = train_accu\n",
    "y3 = val_loss\n",
    "#y4 = val_accu\n",
    "plt.subplot(2, 1, 1)\n",
    "plt.plot(x, y1, 'o-')\n",
    "plt.title('train_loss and val_loss')\n",
    "plt.ylabel('train_loss')\n",
    "#plt.subplot(2, 1, 2)\n",
    "#plt.plot(x, y2, '.-')\n",
    "#plt.xlabel('epoches')\n",
    "#plt.ylabel('train_accu')\n",
    "plt.subplot(2, 1, 2)\n",
    "plt.plot(x, y3, 'o-')\n",
    "plt.ylabel('val_loss')\n",
    "#plt.subplot(2, 2, 2)\n",
    "#plt.plot(x, y4, '.-')\n",
    "#plt.title('val_loss and val_accu')\n",
    "#lt.ylabel('val_accu')\n",
    "plt.show()\n",
    "#plt.savefig(\"accuracy_loss.jpg\")\n"
   ]
  },
  {
   "cell_type": "code",
   "execution_count": 23,
   "metadata": {},
   "outputs": [
    {
     "name": "stdout",
     "output_type": "stream",
     "text": [
      "[3824088.75, 3051407.0, 2736487.5, 2557844.0, 2169474.5, 1717167.5, 1360262.375, 1138541.25, 958653.0, 1055976.5, 776904.875, 601321.375, 472149.125, 270370.1875, 344458.84375, 241554.0, 136773.796875, 124097.234375, 69460.265625, 56286.23046875, 45701.4765625, 51763.09375, 32777.265625, 34831.8671875, 29355.505859375, 24908.46484375, 25519.32421875, 12621.990234375, 20414.6015625, 11657.65625, 7673.65625, 9789.75, 5285.8291015625, 11654.6591796875, 28608.5, 6403.39794921875, 2941.67919921875, 9189.94921875, 9416.46484375, 2506.366943359375, 6480.83203125, 3684.063232421875, 25305.02734375, 5958.5830078125, 4437.3017578125, 1164.8607177734375, 2945.140625, 6342.80859375, 2097.2451171875, 10351.5, 1376.494140625, 37372.75, 6076.09912109375, 9412.025390625, 759.6907958984375, 4935.54296875, 4298.4189453125, 7292.6357421875, 1700.0244140625, 6036.189453125, 3527.229248046875, 1864.53564453125, 21696.21484375, 1880.238525390625, 3306.5615234375, 3964.438232421875, 3540.751708984375, 11640.8427734375, 7570.0908203125, 5597.23388671875, 4634.0458984375, 3588.38623046875, 35145.8515625, 6059.35302734375, 15837.8623046875, 2478.713623046875, 7133.6484375, 5666.34130859375, 6572.46484375, 1224.036376953125, 1488.089111328125, 854.9904174804688, 1260.3740234375, 12008.76953125, 2988.32958984375, 2777.1494140625, 2272.65771484375, 2526.26318359375, 10824.376953125, 3507.83056640625, 16122.9404296875, 2592.36767578125, 8250.26953125, 6385.7431640625, 20773.9453125, 6267.8173828125, 4003.097412109375, 5827.62109375, 505.6309509277344, 7921.09130859375, 1387.3046875, 1335.0994873046875, 637.3822631835938, 504.3402099609375, 3398.24169921875, 3382.87255859375, 3415.449951171875, 10470.173828125, 2201.560302734375, 14647.8935546875, 2439.267822265625, 7016.86083984375, 9520.810546875, 320.9065856933594, 2305.72216796875, 7009.9150390625, 2983.4833984375, 18542.42578125, 5401.9150390625, 750.0965576171875, 1603.6865234375, 728.20556640625, 787.6312866210938, 18866.958984375, 5227.1640625, 988.46484375, 2059.824951171875, 480.6628112792969, 2561.145263671875, 7323.0498046875, 9339.017578125, 15166.9921875, 874.8074951171875, 1281.1995849609375, 1483.75830078125, 2514.61767578125, 1963.1087646484375, 4192.009765625, 1499.140380859375, 7412.57373046875, 8159.59130859375, 2510.94921875, 627.947021484375, 12790.8359375, 4169.7626953125, 638.0767822265625, 3667.75, 2937.0615234375, 1125.9315185546875, 1801.140380859375, 19723.701171875, 656.635498046875, 1590.4798583984375, 1078.3330078125, 1470.056640625, 1681.8828125, 5775.9345703125, 3304.07275390625, 2746.6435546875, 2203.116943359375, 9362.3994140625, 683.773193359375, 616.1087036132812, 854.3284912109375, 4624.1611328125, 3384.699951171875, 2918.322265625, 4275.662109375, 1097.41015625, 530.10400390625, 1577.6478271484375, 1210.723876953125, 943.0311889648438, 3454.774169921875, 7044.15380859375, 1939.454345703125, 2392.306640625, 6884.3203125, 2174.21533203125, 1055.98681640625, 759.9215698242188, 1114.020263671875, 3029.5546875, 902.1542358398438, 8718.833984375, 1017.364990234375, 1140.295654296875, 515.8729248046875, 1941.9378662109375, 3592.892578125, 1113.8709716796875, 8910.982421875, 1038.870849609375, 1039.67431640625, 1976.168701171875, 2714.364013671875, 2675.15380859375, 3658.83740234375, 10035.65625, 2275.134765625]\n"
     ]
    }
   ],
   "source": [
    "print(y1)"
   ]
  },
  {
   "cell_type": "code",
   "execution_count": 24,
   "metadata": {},
   "outputs": [
    {
     "name": "stdout",
     "output_type": "stream",
     "text": [
      "[2868.002826649004, 2650.6578289134263, 2779.373226889314, 2615.1615837574477, 2727.789418407088, 2635.5260849832425, 2690.6580780241434, 2475.371830778302, 2756.824007036196, 2537.0363534361036, 2640.6441069738394, 2435.5249650154, 2399.887212001342, 2946.893221570103, 2727.0330799636918, 2827.2633323328496, 2406.364645600911, 3132.289028679129, 2304.53222244096, 2395.6864235507696, 2656.528665552073, 2888.906927872083, 2610.614880892347, 2303.0844168942403, 2819.2158518301576, 2670.574812130516, 2635.113758378848, 2980.354147432814, 2508.3217499476323, 2519.0487728478774, 2736.66430700429, 2807.646291874845, 2256.9864163744414, 2617.0330467489293, 2324.2146474919705, 2386.1125745271383, 2482.0539536234637, 2825.952757455623, 2658.200118457904, 2937.6355853265422, 2636.7022850544236, 2576.206364045432, 2660.665183558838, 2950.5528505054463, 2871.291757077896, 2611.6000923224924, 2485.1227028476446, 2872.227918122944, 2516.0637764651347, 2673.208715505136, 2887.8052989425582, 2407.0287261629533, 2548.2860879604486, 2375.2229937313805, 2554.6102861027493, 2690.825220041739, 2755.977862482156, 2593.398754252459, 2830.844850936026, 2645.8000253111036, 2458.3520401137353, 2582.64264697896, 3119.161368952489, 2716.677848202233, 2704.689371785199, 2839.685660823455, 2625.5922645485507, 2911.3347204335278, 2568.784695122424, 2776.6560768953264, 2867.738452778791, 2586.968074309909, 3038.98596724782, 2890.5307881450935, 2574.9701750830127, 2593.3438992239867, 2393.972108206422, 2938.8630086222615, 2464.1985065721587, 2491.63009355653, 2717.469903849324, 2291.323042595872, 2468.6046585037548, 2633.583788723079, 2272.075876821236, 2769.5322459579816, 2501.7869681516495, 2469.26418634015, 2532.5704391767395, 2784.048554163822, 2531.797334915358, 2543.047202056309, 2597.5832992296114, 2661.6005836342865, 2696.1530890213817, 2503.194820824541, 2821.9799673768, 2708.780422055378, 2359.4911231729457, 2343.294263701453, 2619.718276386583, 2497.593661993002, 2471.898734250869, 2654.5325133731844, 2752.445121454506, 2720.16034632572, 2381.4169342434984, 2663.3989256600285, 2831.4533936274206, 2474.9885811526347, 2914.1038327411247, 2821.452285418089, 2538.5345232299683, 2482.3824119833043, 2543.409836951884, 2939.5769324203234, 2434.5511966769723, 2499.069593897406, 2837.3759353471014, 2831.875625746726, 2596.6976656568086, 2479.59196973723, 2704.06076313462, 2493.798340813524, 2487.7830455367116, 2723.7041496875386]\n"
     ]
    }
   ],
   "source": [
    "print(y3)"
   ]
  },
  {
   "cell_type": "code",
   "execution_count": 21,
   "metadata": {
    "colab": {
     "base_uri": "https://localhost:8080/",
     "height": 118
    },
    "colab_type": "code",
    "id": "5Qg7Iyg-RsZc",
    "outputId": "6e257a36-b10f-4d83-ebab-7bce690bf17c",
    "scrolled": false
   },
   "outputs": [
    {
     "data": {
      "text/plain": [
       "BaselineModel1(\n",
       "  (fc1): Linear(in_features=1000, out_features=512, bias=True)\n",
       "  (fc2): Linear(in_features=512, out_features=256, bias=True)\n",
       "  (fc3): Linear(in_features=256, out_features=2, bias=True)\n",
       ")"
      ]
     },
     "execution_count": 21,
     "metadata": {},
     "output_type": "execute_result"
    }
   ],
   "source": [
    "model.eval()"
   ]
  },
  {
   "cell_type": "code",
   "execution_count": 20,
   "metadata": {},
   "outputs": [],
   "source": [
    "model.eval()\n",
    "test_loss = list()\n",
    "for data in testloader:\n",
    "    losses, nums = zip(\n",
    "                *[loss_batch(model.to(device1), loss_function, xb.to(device1), yb.to(device1)) for xb, yb in testloader])\n",
    "    test_loss1 = np.sum(np.multiply(losses, nums)) / np.sum(nums)\n",
    "    test_loss.append(test_loss1)"
   ]
  },
  {
   "cell_type": "code",
   "execution_count": 21,
   "metadata": {},
   "outputs": [],
   "source": [
    "import matplotlib.pyplot as plt"
   ]
  },
  {
   "cell_type": "code",
   "execution_count": 22,
   "metadata": {},
   "outputs": [
    {
     "data": {
      "text/plain": [
       "Text(0, 0.5, 'test_loss')"
      ]
     },
     "execution_count": 22,
     "metadata": {},
     "output_type": "execute_result"
    },
    {
     "data": {
      "image/png": "[encoded data removed]",
      "text/plain": [
       "<Figure size 432x288 with 1 Axes>"
      ]
     },
     "metadata": {
      "needs_background": "light"
     },
     "output_type": "display_data"
    }
   ],
   "source": [
    "x = range(0, 126)\n",
    "y3 = test_loss\n",
    "plt.plot(x, y3, 'o-')\n",
    "plt.title('test_loss')\n",
    "plt.ylabel('test_loss')"
   ]
  },
  {
   "cell_type": "code",
   "execution_count": null,
   "metadata": {
    "colab": {
     "base_uri": "https://localhost:8080/",
     "height": 1000
    },
    "colab_type": "code",
    "id": "eDZ_0FSIRz4A",
    "outputId": "6127c2c9-dc3b-4994-a315-27d714d4f9ac"
   },
   "outputs": [],
   "source": [
    "for data in testloader:\n",
    "    inputs, lablels = data\n",
    "    predictions = model(inputs.float())\n",
    "    loss = loss_function(predictions,labels)\n",
    "    loss = loss/128\n",
    "    print(\"loss\",loss)\n",
    "    print(\"predicted parameter:\", predictions)\n",
    "    print(\"setting parameter:\", labels)"
   ]
  },
  {
   "cell_type": "code",
   "execution_count": null,
   "metadata": {},
   "outputs": [],
   "source": [
    "testdataset = ra.read('atomsroa.ra')\n",
    "testdata = torch.tensor(testdataset)\n",
    "testdata = testdata.imag\n",
    "label1 = ra.read('paramsroa.ra')\n",
    "label1 = torch.tensor(label1)"
   ]
  },
  {
   "cell_type": "code",
   "execution_count": null,
   "metadata": {
    "colab": {},
    "colab_type": "code",
    "id": "D0xuJReg8EbA"
   },
   "outputs": [],
   "source": [
    "for i in range(8056):\n",
    "    inputs = testdata[:,i]\n",
    "    lablels = label1[0,i]\n",
    "    predictions = model(inputs.float())\n",
    "\n",
    "    print(\"predicted parameter:\", predictions)\n",
    "    print(\"setting parameter:\", lablels)"
   ]
  },
  {
   "cell_type": "markdown",
   "metadata": {
    "colab_type": "text",
    "id": "98SN3jbBbQPo"
   },
   "source": [
    "## Saving models"
   ]
  },
  {
   "cell_type": "markdown",
   "metadata": {
    "colab_type": "text",
    "id": "AC85zIKAbLgu"
   },
   "source": [
    "Being able to train a model is fine, but in practice once we've trained the model we probably want to save the result so we can reuse it at a later time. PyTorch makes saving the model easy using the torch.save(state, filepath) function. This will save the weights of the model so they can be loaded into a new instance at a later point.\n",
    "\n",
    "Run the following code to save the weights for use in the next part of the lab."
   ]
  },
  {
   "cell_type": "code",
   "execution_count": 17,
   "metadata": {
    "colab": {},
    "colab_type": "code",
    "id": "uYwWauk6a7vK"
   },
   "outputs": [],
   "source": [
    "#save the trained model weights\n",
    "torch.save(model.state_dict(), \"./BaselineModel1.weights\")"
   ]
  },
  {
   "cell_type": "markdown",
   "metadata": {
    "colab_type": "text",
    "id": "Z3755E9cbClj"
   },
   "source": [
    "If you are running on Colab, run the following to download the weights to the local machine:"
   ]
  },
  {
   "cell_type": "code",
   "execution_count": null,
   "metadata": {
    "colab": {
     "base_uri": "https://localhost:8080/",
     "height": 17
    },
    "colab_type": "code",
    "id": "YQso-4fca_mI",
    "outputId": "b059fe76-e584-437c-f499-8ca3da61d6d5"
   },
   "outputs": [],
   "source": [
    "from google.colab import files\n",
    "files.download('BaselineModel.weights')"
   ]
  },
  {
   "cell_type": "code",
   "execution_count": null,
   "metadata": {
    "colab": {
     "base_uri": "https://localhost:8080/",
     "height": 34
    },
    "colab_type": "code",
    "id": "AzH-0Wu9brJG",
    "outputId": "68c73ea4-c60c-4c51-9b54-a278d8492b63"
   },
   "outputs": [],
   "source": [
    "device = \"cuda:0\" if torch.cuda.is_available() else \"cpu\"\n",
    "model = BaselineModel(1000, 512, 256).to(device)\n",
    "model.load_state_dict(torch.load('BaselineModel.weights'))"
   ]
  }
 ],
 "metadata": {
  "colab": {
   "collapsed_sections": [],
   "name": "MRF-net.ipynb",
   "provenance": []
  },
  "kernelspec": {
   "display_name": "Python 3",
   "language": "python",
   "name": "python3"
  },
  "language_info": {
   "codemirror_mode": {
    "name": "ipython",
    "version": 3
   },
   "file_extension": ".py",
   "mimetype": "text/x-python",
   "name": "python",
   "nbconvert_exporter": "python",
   "pygments_lexer": "ipython3",
   "version": "3.8.5"
  }
 },
 "nbformat": 4,
 "nbformat_minor": 1
}
