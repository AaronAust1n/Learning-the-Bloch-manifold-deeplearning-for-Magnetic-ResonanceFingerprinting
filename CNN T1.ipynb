{
 "cells": [
  {
   "cell_type": "code",
   "execution_count": 1,
   "metadata": {
    "colab": {},
    "colab_type": "code",
    "id": "aqe2u5u5zhMj"
   },
   "outputs": [],
   "source": [
    "import numpy as np\n",
    "import torch\n",
    "import torch.nn.functional as F\n",
    "import torchvision.transforms as transforms\n",
    "from torch import nn\n",
    "from torch import optim\n",
    "from torch.utils.data import DataLoader\n",
    "#from torchvision.datasets import MNIST"
   ]
  },
  {
   "cell_type": "code",
   "execution_count": 5,
   "metadata": {},
   "outputs": [
    {
     "name": "stdout",
     "output_type": "stream",
     "text": [
      "1.6.0\n"
     ]
    }
   ],
   "source": [
    "print(torch.__version__)"
   ]
  },
  {
   "cell_type": "code",
   "execution_count": null,
   "metadata": {
    "colab": {
     "base_uri": "https://localhost:8080/",
     "height": 121
    },
    "colab_type": "code",
    "id": "VIE7-SAqir7O",
    "outputId": "2b6972e1-a573-4505-d544-690a1d68fbc8",
    "scrolled": true
   },
   "outputs": [],
   "source": [
    "from google.colab import drive\n",
    "drive.mount('/content/drive')"
   ]
  },
  {
   "cell_type": "code",
   "execution_count": 2,
   "metadata": {
    "colab": {},
    "colab_type": "code",
    "id": "FRWp8xWFEijO"
   },
   "outputs": [],
   "source": [
    "#import os\n",
    "#os.chdir(\"/content/drive/My Drive\") \n",
    "import ra\n",
    "#import complexLayers\n"
   ]
  },
  {
   "cell_type": "code",
   "execution_count": 3,
   "metadata": {
    "colab": {},
    "colab_type": "code",
    "id": "6-BK2JMPjju-"
   },
   "outputs": [],
   "source": [
    "dataset = ra.read('atomsroa.ra')\n",
    "train_data = torch.tensor(dataset)"
   ]
  },
  {
   "cell_type": "code",
   "execution_count": 4,
   "metadata": {},
   "outputs": [],
   "source": [
    "train_data = train_data.imag\n",
    "train_data =  torch.transpose(train_data, 0, 1).unsqueeze(1)"
   ]
  },
  {
   "cell_type": "code",
   "execution_count": 5,
   "metadata": {},
   "outputs": [],
   "source": [
    "labelset = ra.read('paramsroa.ra')\n",
    "train_label1 = torch.tensor(labelset)"
   ]
  },
  {
   "cell_type": "code",
   "execution_count": 7,
   "metadata": {},
   "outputs": [
    {
     "ename": "MemoryError",
     "evalue": "",
     "output_type": "error",
     "traceback": [
      "\u001b[1;31m---------------------------------------------------------------------------\u001b[0m",
      "\u001b[1;31mMemoryError\u001b[0m                               Traceback (most recent call last)",
      "\u001b[1;32m<ipython-input-7-290a90672e61>\u001b[0m in \u001b[0;36m<module>\u001b[1;34m\u001b[0m\n\u001b[1;32m----> 1\u001b[1;33m \u001b[0mdataset1\u001b[0m \u001b[1;33m=\u001b[0m \u001b[0mra\u001b[0m\u001b[1;33m.\u001b[0m\u001b[0mread\u001b[0m\u001b[1;33m(\u001b[0m\u001b[1;34m'atoms.ra'\u001b[0m\u001b[1;33m)\u001b[0m\u001b[1;33m\u001b[0m\u001b[1;33m\u001b[0m\u001b[0m\n\u001b[0m\u001b[0;32m      2\u001b[0m \u001b[0mtraindata1\u001b[0m \u001b[1;33m=\u001b[0m \u001b[0mtorch\u001b[0m\u001b[1;33m.\u001b[0m\u001b[0mtensor\u001b[0m\u001b[1;33m(\u001b[0m\u001b[0mdataset1\u001b[0m\u001b[1;33m)\u001b[0m\u001b[1;33m\u001b[0m\u001b[1;33m\u001b[0m\u001b[0m\n\u001b[0;32m      3\u001b[0m \u001b[0mtraindata1\u001b[0m \u001b[1;33m=\u001b[0m \u001b[0mtraindata1\u001b[0m\u001b[1;33m.\u001b[0m\u001b[0mimag\u001b[0m\u001b[1;33m\u001b[0m\u001b[1;33m\u001b[0m\u001b[0m\n\u001b[0;32m      4\u001b[0m \u001b[0mtraindata1\u001b[0m \u001b[1;33m=\u001b[0m  \u001b[0mtorch\u001b[0m\u001b[1;33m.\u001b[0m\u001b[0mtranspose\u001b[0m\u001b[1;33m(\u001b[0m\u001b[0mtraindata1\u001b[0m\u001b[1;33m,\u001b[0m \u001b[1;36m0\u001b[0m\u001b[1;33m,\u001b[0m \u001b[1;36m1\u001b[0m\u001b[1;33m)\u001b[0m\u001b[1;33m.\u001b[0m\u001b[0munsqueeze\u001b[0m\u001b[1;33m(\u001b[0m\u001b[1;36m1\u001b[0m\u001b[1;33m)\u001b[0m\u001b[1;33m\u001b[0m\u001b[1;33m\u001b[0m\u001b[0m\n\u001b[0;32m      5\u001b[0m \u001b[0mlabel1\u001b[0m \u001b[1;33m=\u001b[0m \u001b[0mra\u001b[0m\u001b[1;33m.\u001b[0m\u001b[0mread\u001b[0m\u001b[1;33m(\u001b[0m\u001b[1;34m'params.ra'\u001b[0m\u001b[1;33m)\u001b[0m\u001b[1;33m\u001b[0m\u001b[1;33m\u001b[0m\u001b[0m\n",
      "\u001b[1;32m~\\Downloads\\ra.py\u001b[0m in \u001b[0;36mread\u001b[1;34m(filename)\u001b[0m\n\u001b[0;32m     12\u001b[0m     \u001b[0mh\u001b[0m \u001b[1;33m=\u001b[0m \u001b[0mgetheader\u001b[0m\u001b[1;33m(\u001b[0m\u001b[0mf\u001b[0m\u001b[1;33m)\u001b[0m\u001b[1;33m\u001b[0m\u001b[1;33m\u001b[0m\u001b[0m\n\u001b[0;32m     13\u001b[0m     \u001b[0mh\u001b[0m\u001b[1;33m[\u001b[0m\u001b[1;34m'dims'\u001b[0m\u001b[1;33m]\u001b[0m \u001b[1;33m=\u001b[0m \u001b[0mh\u001b[0m\u001b[1;33m[\u001b[0m\u001b[1;34m'dims'\u001b[0m\u001b[1;33m]\u001b[0m\u001b[1;33m[\u001b[0m\u001b[1;33m:\u001b[0m\u001b[1;33m:\u001b[0m\u001b[1;33m-\u001b[0m\u001b[1;36m1\u001b[0m\u001b[1;33m]\u001b[0m\u001b[1;33m\u001b[0m\u001b[1;33m\u001b[0m\u001b[0m\n\u001b[1;32m---> 14\u001b[1;33m     \u001b[0mdata\u001b[0m \u001b[1;33m=\u001b[0m \u001b[0mf\u001b[0m\u001b[1;33m.\u001b[0m\u001b[0mread\u001b[0m\u001b[1;33m(\u001b[0m\u001b[1;33m)\u001b[0m\u001b[1;33m\u001b[0m\u001b[1;33m\u001b[0m\u001b[0m\n\u001b[0m\u001b[0;32m     15\u001b[0m     \u001b[1;32mif\u001b[0m \u001b[0mh\u001b[0m\u001b[1;33m[\u001b[0m\u001b[1;34m'eltype'\u001b[0m\u001b[1;33m]\u001b[0m \u001b[1;33m==\u001b[0m \u001b[1;36m0\u001b[0m\u001b[1;33m:\u001b[0m\u001b[1;33m\u001b[0m\u001b[1;33m\u001b[0m\u001b[0m\n\u001b[0;32m     16\u001b[0m         \u001b[0mprint\u001b[0m\u001b[1;33m(\u001b[0m\u001b[1;34m'Unable to convert user data. Returning raw byte string.'\u001b[0m\u001b[1;33m)\u001b[0m\u001b[1;33m\u001b[0m\u001b[1;33m\u001b[0m\u001b[0m\n",
      "\u001b[1;31mMemoryError\u001b[0m: "
     ]
    }
   ],
   "source": [
    "dataset1 = ra.read('atoms.ra')\n",
    "traindata1 = torch.tensor(dataset1)\n",
    "traindata1 = traindata1.imag\n",
    "traindata1 =  torch.transpose(traindata1, 0, 1).unsqueeze(1)\n",
    "label1 = ra.read('params.ra')\n",
    "label1 = torch.tensor(label1)"
   ]
  },
  {
   "cell_type": "code",
   "execution_count": null,
   "metadata": {},
   "outputs": [],
   "source": [
    "print(traindata1)\n",
    "print(train_data)"
   ]
  },
  {
   "cell_type": "code",
   "execution_count": null,
   "metadata": {},
   "outputs": [],
   "source": [
    "print(traindata1.shape)\n",
    "train_data.shape"
   ]
  },
  {
   "cell_type": "code",
   "execution_count": null,
   "metadata": {
    "scrolled": true
   },
   "outputs": [],
   "source": [
    "alldata = torch.cat((train_data,traindata1),0)"
   ]
  },
  {
   "cell_type": "code",
   "execution_count": null,
   "metadata": {},
   "outputs": [],
   "source": [
    "labels1 = torch.cat((train_label1[0,:],label1[0,:]),0)"
   ]
  },
  {
   "cell_type": "code",
   "execution_count": null,
   "metadata": {
    "scrolled": true
   },
   "outputs": [],
   "source": [
    "print(labels1)\n",
    "print(labels1.shape)\n",
    "print(train_label1.shape)"
   ]
  },
  {
   "cell_type": "code",
   "execution_count": 16,
   "metadata": {},
   "outputs": [
    {
     "ename": "TypeError",
     "evalue": "transpose() received an invalid combination of arguments - got (Tensor), but expected one of:\n * (Tensor input, name dim0, name dim1)\n * (Tensor input, int dim0, int dim1)\n",
     "output_type": "error",
     "traceback": [
      "\u001b[1;31m---------------------------------------------------------------------------\u001b[0m",
      "\u001b[1;31mTypeError\u001b[0m                                 Traceback (most recent call last)",
      "\u001b[1;32m<ipython-input-16-c09b365e74e2>\u001b[0m in \u001b[0;36m<module>\u001b[1;34m\u001b[0m\n\u001b[1;32m----> 1\u001b[1;33m \u001b[0mlabels1\u001b[0m \u001b[1;33m=\u001b[0m \u001b[0mtorch\u001b[0m\u001b[1;33m.\u001b[0m\u001b[0mtranspose\u001b[0m\u001b[1;33m(\u001b[0m\u001b[0mlabels1\u001b[0m\u001b[1;33m)\u001b[0m\u001b[1;33m\u001b[0m\u001b[1;33m\u001b[0m\u001b[0m\n\u001b[0m\u001b[0;32m      2\u001b[0m \u001b[0mprint\u001b[0m\u001b[1;33m(\u001b[0m\u001b[0mlabels1\u001b[0m\u001b[1;33m.\u001b[0m\u001b[0mshape\u001b[0m\u001b[1;33m)\u001b[0m\u001b[1;33m\u001b[0m\u001b[1;33m\u001b[0m\u001b[0m\n",
      "\u001b[1;31mTypeError\u001b[0m: transpose() received an invalid combination of arguments - got (Tensor), but expected one of:\n * (Tensor input, name dim0, name dim1)\n * (Tensor input, int dim0, int dim1)\n"
     ]
    }
   ],
   "source": [
    "labels1 = torch.transpose(labels1)\n",
    "print(labels1.shape)"
   ]
  },
  {
   "cell_type": "code",
   "execution_count": 17,
   "metadata": {},
   "outputs": [],
   "source": [
    "import torch.utils.data as data\n",
    "train_dataset = data.TensorDataset(alldata,labels1)"
   ]
  },
  {
   "cell_type": "code",
   "execution_count": null,
   "metadata": {
    "colab": {},
    "colab_type": "code",
    "id": "EtO2l_0K9bVo"
   },
   "outputs": [],
   "source": [
    "from sklearn.decomposition import PCA\n",
    "X_reduced = PCA(n_components=10).fit_transform(train_data)"
   ]
  },
  {
   "cell_type": "code",
   "execution_count": null,
   "metadata": {
    "colab": {
     "base_uri": "https://localhost:8080/",
     "height": 84
    },
    "colab_type": "code",
    "id": "9jhCmOGlzHuJ",
    "outputId": "d404eff5-582b-40af-8ba4-2f163944744e"
   },
   "outputs": [],
   "source": [
    "pca = PCA(n_components=10)\n",
    "pca.fit(train_data)\n",
    "\n",
    "print(pca.explained_variance_ratio_.shape)\n",
    "print(pca.components_.shape)\n",
    "print(pca.singular_values_.shape)\n",
    "print(pca.mean_.shape)"
   ]
  },
  {
   "cell_type": "code",
   "execution_count": null,
   "metadata": {
    "colab": {},
    "colab_type": "code",
    "id": "uyEh1FCOM4gT"
   },
   "outputs": [],
   "source": [
    "train_data = torch.tensor(X_reduced)"
   ]
  },
  {
   "cell_type": "code",
   "execution_count": 18,
   "metadata": {
    "colab": {},
    "colab_type": "code",
    "id": "ih21UQILm0Hl"
   },
   "outputs": [],
   "source": [
    "train_dataset, valid_dataset, test_dataset = torch.utils.data.random_split(train_dataset, [140000, 60000 ,16112])"
   ]
  },
  {
   "cell_type": "markdown",
   "metadata": {},
   "source": [
    "We found that the network model with smallest\n",
    "average error for validation data consists of 3 convolutional layers (kernel size = 3, stride\n",
    "size = 2), each followed by a rectified linear unit (ReLU) activation function. The number\n",
    "of the feature maps per convolutional layer is increasing, from 32 in the first to 128 in\n",
    "the last. After convolution an average pooling layer follows with the same size as the\n",
    "stride size. The last layer is fully connected, with 2 outputs. "
   ]
  },
  {
   "cell_type": "code",
   "execution_count": 19,
   "metadata": {
    "colab": {},
    "colab_type": "code",
    "id": "ahjQ0hXkj6Yl"
   },
   "outputs": [],
   "source": [
    "\n",
    "# define baseline model\n",
    "class BaselineModel(nn.Module):\n",
    "    def __init__(self):\n",
    "        super(BaselineModel, self).__init__()\n",
    "        self.conv1 = nn.Conv1d(1, 32, kernel_size=9, stride=2)\n",
    "        self.conv2 = nn.Conv1d(32, 64, kernel_size=9, stride=2)\n",
    "        self.conv3 = nn.Conv1d(64, 128, kernel_size=9, stride=2)\n",
    "        self.fc1 = nn.Linear(7040, 1)\n",
    "\n",
    "\n",
    "    def forward(self, x):\n",
    "        out = self.conv1(x)\n",
    "        out = torch.relu(out)                                        \n",
    "        out = self.conv2(out)\n",
    "        out = torch.relu(out)\n",
    "        out = self.conv3(out)\n",
    "        out = torch.relu(out)\n",
    "        out = F.avg_pool1d(out, kernel_size=9, stride=2)\n",
    "        out = out.view(out.size(0), -1)\n",
    "        out = self.fc1(out)\n",
    "        return out"
   ]
  },
  {
   "cell_type": "code",
   "execution_count": 20,
   "metadata": {
    "colab": {},
    "colab_type": "code",
    "id": "z3pzehZtrCEC"
   },
   "outputs": [],
   "source": [
    "N = 200\n",
    "val_loss = list()\n",
    "#val_accu = list()\n",
    "train_loss = list()\n",
    "#train_accu = list()"
   ]
  },
  {
   "cell_type": "code",
   "execution_count": 21,
   "metadata": {},
   "outputs": [],
   "source": [
    "#assert torch.cuda.is_available()\n",
    "device1 = \"cuda:0\" if torch.cuda.is_available() else \"cpu\"\n",
    "#cuda_device = torch.device(\"cuda\")\n",
    "seed = 7\n",
    "torch.manual_seed(seed)\n",
    "trainloader = DataLoader(train_dataset, batch_size=128, shuffle=True)\n",
    "validloader = DataLoader(valid_dataset, batch_size=128, shuffle=False)\n",
    "testloader = DataLoader(test_dataset, batch_size=128, shuffle=True)\n",
    "\n",
    "def loss_batch(model, loss_func, xb, yb, opt=None):\n",
    "    outputs = model(xb.float())\n",
    "    yb = yb.float()\n",
    "    outputs = torch.squeeze(outputs, 1)\n",
    "    loss = loss_func(outputs, yb)\n",
    "\n",
    "    if opt is not None:\n",
    "        loss.backward()\n",
    "        opt.step()\n",
    "        opt.zero_grad()\n",
    "\n",
    "    return loss.item(), len(xb)"
   ]
  },
  {
   "cell_type": "code",
   "execution_count": null,
   "metadata": {},
   "outputs": [],
   "source": [
    "!pip install pycuda\n",
    "import torch\n",
    "import pycuda.driver as cuda\n",
    "cuda.init()\n",
    "## Get Id of default device\n",
    "torch.cuda.current_device()\n",
    "# 0\n",
    "cuda.Device(0).name() # '0' is the id of your GPU"
   ]
  },
  {
   "cell_type": "code",
   "execution_count": 22,
   "metadata": {
    "colab": {
     "base_uri": "https://localhost:8080/",
     "height": 1000
    },
    "colab_type": "code",
    "id": "sGAHKMREJzYA",
    "outputId": "e1d97095-19c2-490c-dd04-c3932fe2ce54",
    "scrolled": true
   },
   "outputs": [
    {
     "name": "stdout",
     "output_type": "stream",
     "text": [
      "Epoch 0, loss 985491949.69\n",
      "Epoch 1, loss 201250019.84\n",
      "Epoch 2, loss 73119171.28\n",
      "Epoch 3, loss 50260394.42\n",
      "Epoch 4, loss 36088539.24\n",
      "Epoch 5, loss 26047168.70\n",
      "Epoch 6, loss 19595281.48\n",
      "Epoch 7, loss 14558511.39\n",
      "Epoch 8, loss 10639754.13\n",
      "Epoch 9, loss 8296568.72\n",
      "Epoch 10, loss 6495683.85\n",
      "Epoch 11, loss 5320079.03\n",
      "Epoch 12, loss 4814930.10\n",
      "Epoch 13, loss 4098426.75\n",
      "Epoch 14, loss 3882945.54\n",
      "Epoch 15, loss 3434900.35\n",
      "Epoch 16, loss 3081028.17\n",
      "Epoch 17, loss 2807924.16\n",
      "Epoch 18, loss 2702019.77\n",
      "Epoch 19, loss 2473384.24\n",
      "Epoch 20, loss 2333554.28\n",
      "Epoch 21, loss 2239736.45\n",
      "Epoch 22, loss 2127566.50\n",
      "Epoch 23, loss 1942440.59\n",
      "Epoch 24, loss 1923837.50\n",
      "Epoch 25, loss 1742278.40\n",
      "Epoch 26, loss 1635233.93\n",
      "Epoch 27, loss 1539586.17\n",
      "Epoch 28, loss 1606262.88\n",
      "Epoch 29, loss 1424053.52\n",
      "Epoch 30, loss 1423602.91\n",
      "Epoch 31, loss 1397838.30\n",
      "Epoch 32, loss 1235595.70\n",
      "Epoch 33, loss 1249790.24\n",
      "Epoch 34, loss 1183529.25\n",
      "Epoch 35, loss 1115977.10\n",
      "Epoch 36, loss 1146589.14\n",
      "Epoch 37, loss 1061274.46\n",
      "Epoch 38, loss 1060871.58\n",
      "Epoch 39, loss 975005.27\n",
      "Epoch 40, loss 950882.87\n",
      "Epoch 41, loss 951551.38\n",
      "Epoch 42, loss 901801.87\n",
      "Epoch 43, loss 902084.31\n",
      "Epoch 44, loss 846638.50\n",
      "Epoch 45, loss 862521.18\n",
      "Epoch 46, loss 802008.73\n",
      "Epoch 47, loss 736318.76\n",
      "Epoch 48, loss 774759.42\n",
      "Epoch 49, loss 733303.90\n",
      "Epoch 50, loss 704694.77\n",
      "Epoch 51, loss 783386.40\n",
      "Epoch 52, loss 636834.96\n",
      "Epoch 53, loss 666095.59\n",
      "Epoch 54, loss 614752.60\n",
      "Epoch 55, loss 643539.74\n",
      "Epoch 56, loss 587203.53\n",
      "Epoch 57, loss 574887.49\n",
      "Epoch 58, loss 585514.61\n",
      "Epoch 59, loss 576436.09\n",
      "Epoch 60, loss 525730.72\n",
      "Epoch 61, loss 519277.12\n",
      "Epoch 62, loss 506134.92\n",
      "Epoch 63, loss 526691.25\n",
      "Epoch 64, loss 475059.32\n",
      "Epoch 65, loss 495226.81\n",
      "Epoch 66, loss 459358.98\n",
      "Epoch 67, loss 450133.84\n",
      "Epoch 68, loss 477412.86\n",
      "Epoch 69, loss 469522.06\n",
      "Epoch 70, loss 450644.86\n",
      "Epoch 71, loss 406258.42\n",
      "Epoch 72, loss 413399.19\n",
      "Epoch 73, loss 430489.33\n",
      "Epoch 74, loss 363267.77\n",
      "Epoch 75, loss 480941.51\n",
      "Epoch 76, loss 355267.75\n",
      "Epoch 77, loss 405779.12\n",
      "Epoch 78, loss 391888.61\n",
      "Epoch 79, loss 372144.72\n",
      "Epoch 80, loss 364178.62\n",
      "Epoch 81, loss 352749.32\n",
      "Epoch 82, loss 357337.80\n",
      "Epoch 83, loss 366441.86\n",
      "Epoch 84, loss 345487.29\n",
      "Epoch 85, loss 350760.68\n",
      "Epoch 86, loss 341950.62\n",
      "Epoch 87, loss 329331.16\n",
      "Epoch 88, loss 344421.99\n",
      "Epoch 89, loss 331123.72\n",
      "Epoch 90, loss 363190.21\n",
      "Epoch 91, loss 299275.55\n",
      "Epoch 92, loss 292249.45\n",
      "Epoch 93, loss 330718.35\n",
      "Epoch 94, loss 292473.72\n",
      "Epoch 95, loss 314332.64\n",
      "Epoch 96, loss 297316.25\n",
      "Epoch 97, loss 316277.32\n",
      "Epoch 98, loss 298344.32\n",
      "Epoch 99, loss 302422.90\n",
      "Epoch 100, loss 274692.20\n",
      "Epoch 101, loss 288734.88\n",
      "Epoch 102, loss 269139.91\n",
      "Epoch 103, loss 296164.16\n",
      "Epoch 104, loss 258026.11\n",
      "Epoch 105, loss 260912.20\n",
      "Epoch 106, loss 286620.31\n",
      "Epoch 107, loss 255950.66\n",
      "Epoch 108, loss 261022.72\n",
      "Epoch 109, loss 256029.92\n",
      "Epoch 110, loss 272679.68\n",
      "Epoch 111, loss 236479.42\n",
      "Epoch 112, loss 284636.53\n",
      "Epoch 113, loss 233873.25\n",
      "Epoch 114, loss 262214.10\n",
      "Epoch 115, loss 252538.64\n",
      "Epoch 116, loss 246488.18\n",
      "Epoch 117, loss 218102.43\n",
      "Epoch 118, loss 271773.35\n",
      "Epoch 119, loss 219031.05\n",
      "Epoch 120, loss 223815.98\n",
      "Epoch 121, loss 231089.65\n",
      "Epoch 122, loss 231159.32\n",
      "Epoch 123, loss 248522.21\n",
      "Epoch 124, loss 200713.57\n",
      "Epoch 125, loss 213471.06\n",
      "Epoch 126, loss 258753.73\n",
      "Epoch 127, loss 220379.96\n",
      "Epoch 128, loss 204094.12\n",
      "Epoch 129, loss 232350.62\n",
      "Epoch 130, loss 213863.17\n",
      "Epoch 131, loss 191658.36\n",
      "Epoch 132, loss 233211.22\n",
      "Epoch 133, loss 194745.34\n",
      "Epoch 134, loss 202337.04\n",
      "Epoch 135, loss 199625.68\n",
      "Epoch 136, loss 225909.50\n",
      "Epoch 137, loss 212331.17\n",
      "Epoch 138, loss 210870.03\n",
      "Epoch 139, loss 179431.58\n",
      "Epoch 140, loss 206642.53\n",
      "Epoch 141, loss 186900.32\n",
      "Epoch 142, loss 212272.84\n",
      "Epoch 143, loss 211853.19\n",
      "Epoch 144, loss 199516.72\n",
      "Epoch 145, loss 199405.29\n",
      "Epoch 146, loss 181250.49\n",
      "Epoch 147, loss 200891.63\n",
      "Epoch 148, loss 172089.47\n",
      "Epoch 149, loss 202318.25\n",
      "Epoch 150, loss 188570.07\n",
      "Epoch 151, loss 171373.32\n",
      "Epoch 152, loss 196528.93\n",
      "Epoch 153, loss 171981.99\n",
      "Epoch 154, loss 190055.10\n",
      "Epoch 155, loss 162768.70\n",
      "Epoch 156, loss 169582.28\n",
      "Epoch 157, loss 183679.57\n",
      "Epoch 158, loss 172678.67\n",
      "Epoch 159, loss 179555.58\n",
      "Epoch 160, loss 159809.47\n",
      "Epoch 161, loss 166983.30\n",
      "Epoch 162, loss 214053.45\n",
      "Epoch 163, loss 141507.31\n",
      "Epoch 164, loss 157676.75\n",
      "Epoch 165, loss 169598.36\n",
      "Epoch 166, loss 171755.91\n",
      "Epoch 167, loss 152879.77\n",
      "Epoch 168, loss 169220.44\n",
      "Epoch 169, loss 165937.87\n",
      "Epoch 170, loss 169779.80\n",
      "Epoch 171, loss 154084.74\n",
      "Epoch 172, loss 159175.36\n",
      "Epoch 173, loss 150268.67\n",
      "Epoch 174, loss 175169.23\n",
      "Epoch 175, loss 160353.75\n",
      "Epoch 176, loss 143076.66\n",
      "Epoch 177, loss 149504.11\n",
      "Epoch 178, loss 161772.48\n",
      "Epoch 179, loss 144284.21\n",
      "Epoch 180, loss 151279.93\n",
      "Epoch 181, loss 165317.95\n",
      "Epoch 182, loss 142955.90\n",
      "Epoch 183, loss 142785.87\n",
      "Epoch 184, loss 161643.84\n",
      "Epoch 185, loss 153739.04\n",
      "Epoch 186, loss 136623.70\n",
      "Epoch 187, loss 137719.63\n",
      "Epoch 188, loss 161003.31\n",
      "Epoch 189, loss 144079.42\n",
      "Epoch 190, loss 148343.71\n",
      "Epoch 191, loss 154103.66\n",
      "Epoch 192, loss 135117.48\n",
      "Epoch 193, loss 143920.74\n",
      "Epoch 194, loss 140092.68\n",
      "Epoch 195, loss 154817.67\n",
      "Epoch 196, loss 131510.95\n",
      "Epoch 197, loss 146116.95\n",
      "Epoch 198, loss 136765.58\n",
      "Epoch 199, loss 132687.17\n",
      "**** Finished Training ****\n"
     ]
    }
   ],
   "source": [
    "\n",
    "# build the model\n",
    "model = BaselineModel().to(device1)\n",
    "\n",
    "# define the loss function and the optimiser\n",
    "loss_function = nn.MSELoss()\n",
    "optimiser = optim.Adam(model.parameters())\n",
    "\n",
    "# the epoch loop\n",
    "for epoch in range(N):\n",
    "    model.train()\n",
    "    running_loss = 0.0\n",
    "    loss=0\n",
    "    for data in trainloader:\n",
    "        # get the inputs\n",
    "        inputs, labels = data\n",
    "        #inputs = inputs.unsqueeze(1).unsqueeze(-1)\n",
    "        #inputs = inputs.unsqueeze(1)\n",
    "        #inputs = torch.unsqueeze(inputs1, 2)\n",
    "\n",
    "        inputs, labels = inputs.to(device1), labels.to(device1)\n",
    "        \n",
    "        \n",
    "        loss, nums = loss_batch(model, loss_function, inputs.float(), labels.float(), optimiser)\n",
    "        running_loss += loss\n",
    "    train_loss.append(loss)\n",
    "\n",
    "    model.eval()\n",
    "    with torch.no_grad():\n",
    "        losses, nums = zip(\n",
    "                *[loss_batch(model.to(device1), loss_function, xb.to(device1), yb.to(device1)) for xb, yb in validloader]\n",
    "            )\n",
    "        val_loss1 = np.sum(np.multiply(losses, nums)) / np.sum(nums)\n",
    "        val_loss.append(val_loss1)\n",
    "\n",
    "\n",
    "        #print(epoch, val_loss)\n",
    "\n",
    "        \n",
    "        # keep track of the loss this epoch\n",
    "        #running_loss += loss.item()\n",
    "    print(\"Epoch %d, loss %4.2f\" % (epoch, running_loss))\n",
    "print('**** Finished Training ****')"
   ]
  },
  {
   "cell_type": "code",
   "execution_count": 24,
   "metadata": {
    "colab": {
     "base_uri": "https://localhost:8080/",
     "height": 281
    },
    "colab_type": "code",
    "id": "RrXkmLWusgWY",
    "outputId": "94727097-6aee-4d73-97d6-e8cc99f69d52",
    "scrolled": true
   },
   "outputs": [
    {
     "data": {
      "image/png": "[encoded data removed]",
      "text/plain": [
       "<Figure size 432x288 with 2 Axes>"
      ]
     },
     "metadata": {
      "needs_background": "light"
     },
     "output_type": "display_data"
    }
   ],
   "source": [
    "import matplotlib.pyplot as plt\n",
    "\n",
    "x = range(0, N)\n",
    "y1 = train_loss\n",
    "#y2 = train_accu\n",
    "y3 = val_loss\n",
    "#y4 = val_accu\n",
    "plt.subplot(2, 1, 1)\n",
    "plt.plot(x, y1, 'o-')\n",
    "plt.title('train_loss and val_loss')\n",
    "plt.ylabel('train_loss')\n",
    "#plt.subplot(2, 1, 2)\n",
    "#plt.plot(x, y2, '.-')\n",
    "#plt.xlabel('epoches')\n",
    "#plt.ylabel('train_accu')\n",
    "plt.subplot(2, 1, 2)\n",
    "plt.plot(x, y3, 'o-')\n",
    "plt.ylabel('val_loss')\n",
    "#plt.subplot(2, 2, 2)\n",
    "#plt.plot(x, y4, '.-')\n",
    "#plt.title('val_loss and val_accu')\n",
    "#lt.ylabel('val_accu')\n",
    "plt.show()\n",
    "#plt.savefig(\"accuracy_loss.jpg\")\n"
   ]
  },
  {
   "cell_type": "code",
   "execution_count": 24,
   "metadata": {
    "scrolled": true
   },
   "outputs": [
    {
     "name": "stdout",
     "output_type": "stream",
     "text": [
      "[39162.5859375, 11763.650390625, 10699.044921875, 5103.5830078125, 4158.6142578125, 3056.337890625, 1703.7333984375, 1637.2615966796875, 1261.2879638671875, 1131.3231201171875, 1172.2281494140625, 1134.0067138671875, 678.216796875, 860.5421752929688, 1129.3348388671875, 630.5377197265625, 609.3250732421875, 568.7601318359375, 420.55645751953125, 319.82196044921875, 823.774658203125, 361.33343505859375, 336.67626953125, 302.5008544921875, 209.6558837890625, 315.412353515625, 342.5613708496094, 273.7820739746094, 166.2567138671875, 225.6500701904297, 247.6725311279297, 274.4014892578125, 310.10772705078125, 198.839111328125, 673.5882568359375, 266.2223205566406, 367.98138427734375, 179.63232421875, 228.9575653076172, 173.31272888183594, 252.89376831054688, 261.2034606933594, 175.7914276123047, 189.5096893310547, 148.1826171875, 178.23191833496094, 144.52645874023438, 137.4016876220703, 136.2789306640625, 249.77658081054688, 128.30670166015625, 1062.2835693359375, 158.63011169433594, 298.2046813964844, 169.34716796875, 87.52970886230469, 205.04470825195312, 90.63191986083984, 94.30229187011719, 141.02926635742188, 128.61752319335938, 134.853515625, 161.31903076171875, 195.5430145263672, 147.22665405273438, 129.22903442382812, 100.16423797607422, 119.3997802734375, 159.15725708007812, 93.77864837646484, 357.1336364746094, 91.94157409667969, 227.3309783935547, 91.24547576904297, 132.6645965576172, 119.68795776367188, 118.85906219482422, 387.5748291015625, 315.8089599609375, 101.00003051757812, 97.34638977050781, 79.26201629638672, 105.11326599121094, 85.57720947265625, 88.1663818359375, 149.9733123779297, 134.43585205078125, 96.2022933959961, 56.87595748901367, 103.81219482421875, 59.717769622802734, 63.833709716796875, 305.58721923828125, 68.59014892578125, 73.29115295410156, 92.82298278808594, 62.659568786621094, 46.700531005859375, 509.36895751953125, 68.18608856201172, 74.44415283203125, 48.32180404663086, 130.27511596679688, 88.33468627929688, 71.89219665527344, 44.06239318847656, 69.73340606689453, 67.10952758789062, 56.00321960449219, 75.94085693359375, 45.09064865112305, 53.649314880371094, 90.32426452636719, 117.4803695678711, 52.30565643310547, 54.69859313964844, 273.345458984375, 130.62840270996094, 40.138458251953125, 55.885108947753906, 59.1888427734375, 32.691612243652344, 158.1299285888672, 80.82110595703125, 44.1099967956543, 59.398834228515625, 168.07586669921875, 61.32030487060547, 66.91471862792969, 27.628515243530273, 108.66475677490234, 47.514034271240234, 23.964523315429688, 112.3032455444336, 163.0544891357422, 84.41004943847656, 732.6090698242188, 50.96072006225586, 34.30939483642578, 63.240352630615234, 36.872703552246094, 44.9327507019043, 109.0016098022461, 60.6875, 131.37921142578125, 100.33714294433594, 134.89788818359375, 53.52330780029297, 30.626422882080078, 66.93538665771484, 100.50071716308594, 29.0972957611084, 177.54086303710938, 41.557491302490234, 96.44515228271484, 57.872642517089844, 40.15715789794922, 42.21159362792969, 44.24883270263672, 62.30828857421875, 37.18212890625, 50.84415817260742, 39.881187438964844, 58.237144470214844, 20.577306747436523, 34.79033279418945, 30.610931396484375, 30.38471031188965, 87.55625915527344, 29.434494018554688, 49.9757080078125, 38.54899597167969, 37.293827056884766, 63.062740325927734, 51.9178581237793, 53.728145599365234, 39.07331466674805, 40.74636459350586, 203.750244140625, 36.8221321105957, 41.80335998535156, 14.467951774597168, 36.699459075927734, 37.85344696044922, 40.10481262207031, 47.48539733886719, 28.08142852783203, 25.6453857421875, 34.20722961425781, 340.4886169433594, 56.01777267456055, 33.15699768066406, 34.263427734375, 27.306814193725586, 56.468719482421875, 28.380126953125, 52.710968017578125, 28.682296752929688, 275.9089050292969, 48.17345428466797, 178.43301391601562]\n"
     ]
    }
   ],
   "source": [
    "print(y1)"
   ]
  },
  {
   "cell_type": "code",
   "execution_count": 21,
   "metadata": {},
   "outputs": [
    {
     "name": "stdout",
     "output_type": "stream",
     "text": [
      "[53875.3984375, 10538.388671875, 7801.8232421875, 3676.34228515625, 3547.56591796875, 3139.117919921875, 1558.3216552734375, 1712.720703125, 1032.89794921875, 1184.35009765625, 1572.6766357421875, 604.29736328125, 1269.781005859375, 596.0618896484375, 469.68743896484375, 564.84521484375, 594.2720336914062, 623.07666015625, 384.596435546875, 412.0712585449219, 428.4090270996094, 345.9783630371094, 353.8318786621094, 444.24456787109375, 323.6316833496094, 621.7431640625, 651.2526245117188, 396.43841552734375, 400.9185791015625, 778.3173217773438, 650.2574462890625, 359.94793701171875, 350.77960205078125, 536.6001586914062, 216.06521606445312, 197.510986328125, 149.714111328125, 98.7204818725586, 214.0364990234375, 1210.504638671875, 543.467041015625, 145.90805053710938, 225.9866180419922, 193.2469482421875, 225.39476013183594, 122.2555160522461, 134.29791259765625, 95.68473815917969, 150.3511199951172, 231.0721893310547, 123.8434066772461, 161.4438018798828, 117.80247497558594, 190.02059936523438, 179.4580078125, 109.43267059326172, 370.23638916015625, 139.26052856445312, 238.875732421875, 65.69380950927734, 126.8872299194336, 104.43550872802734, 141.7503662109375, 241.0780029296875, 80.47064208984375, 106.3264389038086, 81.42466735839844, 78.52161407470703, 178.62322998046875, 126.98779296875, 101.53329467773438, 55.319000244140625, 77.45162963867188, 125.8904037475586, 147.98138427734375, 89.143310546875, 41.186378479003906, 103.97422790527344, 56.45005416870117, 97.4329833984375, 102.16045379638672, 80.51268005371094, 107.0136947631836, 87.22897338867188, 59.596771240234375, 153.25677490234375, 51.229087829589844, 99.00021362304688, 132.9380340576172, 67.0657958984375, 54.22587203979492, 309.71417236328125, 101.30534362792969, 47.43793487548828, 209.08541870117188, 101.6062240600586, 51.587799072265625, 148.6044921875, 66.11341857910156, 65.30587768554688, 68.55569458007812, 63.13120651245117, 77.73844909667969, 101.0340805053711, 61.66422653198242, 75.5270767211914, 179.32626342773438, 51.797325134277344, 42.00111770629883, 113.94771575927734, 60.85626983642578, 129.59725952148438, 56.31586837768555, 121.28462982177734, 59.543609619140625, 41.34601974487305, 234.6800994873047, 60.265235900878906, 39.842769622802734, 63.63349914550781, 89.61608123779297, 34.43119812011719, 41.48360824584961, 51.17341232299805, 27.72658348083496, 78.41984558105469, 80.81016540527344, 185.00997924804688, 66.40974426269531, 81.24627685546875, 62.425086975097656, 99.3135986328125, 76.5045166015625, 39.16926956176758, 154.2621612548828, 67.15261840820312, 130.82199096679688, 40.77803039550781, 26.300350189208984, 36.29978942871094, 32.17753219604492, 44.470455169677734, 59.50397491455078, 70.46204376220703, 50.262908935546875, 63.4613037109375, 55.76252746582031, 56.87485885620117, 32.28017044067383, 38.58348083496094, 202.9042205810547, 31.047773361206055, 59.506103515625, 52.2743034362793, 102.49461364746094, 48.29207992553711, 64.8309555053711, 56.9275016784668, 24.90956687927246, 91.9354476928711, 34.107601165771484, 23.978923797607422, 39.28752899169922, 71.16580200195312, 36.883663177490234, 1249.150146484375, 80.07137298583984, 88.12528991699219, 61.0349235534668, 23.894981384277344, 54.67408752441406, 82.04237365722656, 83.90727996826172, 38.77803039550781, 102.658203125, 28.938817977905273, 34.05332946777344, 61.191749572753906, 41.935791015625, 55.475975036621094, 60.66979217529297, 30.7679500579834, 37.024696350097656, 134.030029296875, 23.446914672851562, 29.518911361694336, 30.419004440307617, 40.98056411743164, 53.52278137207031, 108.05462646484375, 22.182369232177734, 26.037166595458984, 88.37452697753906, 116.66046142578125, 45.75905990600586, 35.729736328125, 27.50949478149414, 24.415218353271484, 33.575523376464844, 55.577301025390625]\n"
     ]
    }
   ],
   "source": [
    "print(train_loss) #1007"
   ]
  },
  {
   "cell_type": "code",
   "execution_count": 25,
   "metadata": {
    "scrolled": true
   },
   "outputs": [
    {
     "name": "stdout",
     "output_type": "stream",
     "text": [
      "[47070.75850833333, 14160.651023958333, 9504.357263541666, 5064.385265625, 3622.789198177083, 2555.7030783854166, 2865.3562497395833, 1652.871702669271, 1416.6655591796875, 2500.3363373697916, 1207.1820396484375, 824.034502734375, 846.8916470052084, 772.3470776692708, 959.6251580729166, 690.0691931640625, 706.3094733723958, 439.104155859375, 455.1469000325521, 599.4429361979167, 347.8273849609375, 325.42639397786456, 351.883117578125, 539.8078697916667, 335.9686100911458, 304.3679769856771, 294.8450935546875, 257.3579281901042, 332.04665408528643, 238.25290834147137, 273.2392374348958, 517.3467895996093, 242.07539473470052, 270.023981656901, 337.67350498046875, 307.2629343424479, 512.965322672526, 395.36957345377607, 242.02395505371095, 147.75177530924478, 285.53247884114586, 208.88724529622397, 163.93382548828126, 145.00982801513672, 144.96418704427083, 170.4312279296875, 179.63603095703124, 157.23783223470053, 145.18841010742187, 139.32339187825522, 150.5882546875, 1176.737731640625, 311.12595610351565, 159.30292287597655, 131.56863095703125, 198.03732809244792, 138.0385622721354, 121.2444767171224, 196.92402682291666, 104.7982995686849, 150.01017044270833, 134.59833898111978, 149.6419975748698, 167.0898076171875, 103.5472940633138, 200.77298640136718, 121.37846630859374, 156.28970813802084, 193.6751471516927, 130.11056298828126, 381.46701949869794, 130.4487621419271, 116.94358875732422, 101.88342020670574, 86.74283709309896, 104.4046805867513, 94.81381596679688, 141.88008661295572, 293.9973179036458, 143.08413940429688, 61.401883756510415, 89.96280959472656, 131.6559478841146, 176.6553791015625, 258.61184209798176, 113.25087080078124, 80.61459010416667, 61.21435801595052, 60.410418229166666, 90.95240210774739, 69.3309641805013, 67.83268848470053, 172.01631061197918, 105.34524009602865, 68.49731288248698, 141.8615385904948, 159.1536931315104, 60.31369921061198, 165.23269411621095, 130.35285422363282, 59.075821643066405, 70.11021499430339, 186.1408361328125, 69.99874983723959, 58.072871276855466, 59.17128983154297, 44.09005557454427, 75.87631951090495, 79.6749901529948, 93.7870190592448, 65.37333352457682, 55.49686453857422, 92.24474862467449, 51.98169351806641, 45.47942446289063, 85.72190795898437, 71.84499046223958, 149.73194099934895, 68.13755342610678, 70.64689169921876, 69.74062027587891, 172.87745105794272, 80.61812908935546, 46.607169405110675, 46.50841776123047, 39.332888505045574, 48.05899654541015, 56.420616731770835, 45.63096034749349, 35.71284406738281, 119.80192848714192, 63.71615396728516, 50.21760472005208, 40.245747810872395, 90.65187221679687, 32.89107731119792, 568.8413314453124, 44.06177502441406, 34.45276825358073, 97.7104899617513, 36.08530711873372, 45.029921988932294, 103.63257740885416, 51.604290928141275, 1202.5839303385417, 55.62617782389323, 47.499545705159505, 84.24208239746093, 36.294270245361325, 51.12967057495117, 83.7687798828125, 76.9182138631185, 153.83773824869792, 98.31117634277344, 74.06034881184895, 46.74695844726563, 36.71904309895833, 31.369911993408202, 34.10126861979167, 39.57666058349609, 33.89423625488281, 44.34163748982748, 87.89843549804688, 35.37352060546875, 34.3295734354655, 47.327038330078125, 34.622386427815755, 27.465482157389324, 87.50773559977213, 53.98935706380208, 29.685709572347005, 27.026993581136068, 34.97985444335937, 52.12953095296224, 44.18929031575521, 37.77995975341797, 47.98034986979167, 33.71160045572917, 44.954590498860675, 24.772566979980468, 24.10933217163086, 28.40896160888672, 31.161665376790364, 24.813874458821616, 33.62822431640625, 50.030446793619795, 32.31396967569987, 27.122401124064126, 23.046711440022786, 501.8439365234375, 50.88843342692057, 63.48670287679037, 50.30561223347982, 41.91645768432617, 57.1075498046875, 41.15752761230469, 56.46366844075521, 26.23035529378255, 348.83440667317706, 41.925890681966145, 133.8673200032552]\n"
     ]
    }
   ],
   "source": [
    "print(y3)"
   ]
  },
  {
   "cell_type": "code",
   "execution_count": 20,
   "metadata": {},
   "outputs": [
    {
     "name": "stdout",
     "output_type": "stream",
     "text": [
      "[47032.243502083336, 11922.345719791667, 6727.807554166667, 3970.2100994791667, 3329.2127307291667, 3158.0020705729166, 1649.4982531901042, 1659.7574899739584, 1689.3991966796875, 975.2430866536458, 1061.6506720052084, 934.1577599609375, 864.43433671875, 644.9809009440104, 879.6912348307292, 638.1379388671875, 520.0445943684896, 465.6540364908854, 399.78822400716143, 428.4530332356771, 379.70518929036456, 606.8722819986979, 559.0067360677083, 319.24973971354166, 457.02387431640625, 436.6217994466146, 257.5055552083333, 370.48293072916664, 255.8283421549479, 251.92656153971353, 218.11864221191405, 581.4902156575521, 313.8683263997396, 292.5577657552083, 264.1963776041667, 242.17569438476562, 211.11292587890625, 171.45502568359376, 232.3327527669271, 816.8054049804688, 325.8771190266927, 160.47577391764324, 384.084596891276, 246.7594884765625, 298.55835857747394, 124.60502587890625, 140.8620880859375, 135.35086702473959, 165.69561534016927, 230.12462009277343, 118.03113334147136, 151.18406201171874, 126.82722199707031, 154.35645836588543, 117.88915524088542, 178.44871104329428, 186.35535764160156, 96.90133516438802, 156.9438618326823, 102.67457128092448, 185.62250131835938, 180.48801455078126, 144.5621116861979, 231.76473984375, 252.29362377115885, 103.58606839192709, 117.54748359781901, 216.8602046386719, 118.87728688964843, 116.37023386230469, 67.25834482421875, 130.8150114827474, 126.14650096028646, 90.90255061035157, 91.40655857340495, 84.34379590250651, 89.86582392171223, 87.08755006917318, 65.47760987548828, 82.49982280680338, 63.88411693115234, 83.33744294026693, 70.48429571126302, 201.32668854166667, 90.74833458251953, 658.396220703125, 87.17183545735676, 90.25787554117838, 105.87852518310547, 54.464950073242186, 69.81195294596354, 296.93182799479166, 69.32069911499023, 144.1108305908203, 221.83726479492188, 71.67922633463542, 47.2825944925944, 217.04856993815105, 80.20421913655599, 115.85957632242838, 90.08465403645833, 53.96047596028646, 481.001314453125, 49.9227060546875, 57.325843345133464, 43.10337351074219, 61.779988793945314, 105.63472443847657, 48.42954428710937, 58.247968526204424, 90.67526370442708, 249.75696105143228, 329.2056943033854, 111.52303884277343, 112.8836291422526, 37.675636185709635, 371.9934257486979, 41.981608532714844, 88.80866920572916, 55.57709766031901, 63.67843086751302, 65.94887130533854, 56.58591451416016, 44.978476869710285, 38.4942383992513, 129.0173422607422, 206.7658756591797, 128.95256656901043, 64.7639428100586, 56.35875713297526, 51.17551301676432, 67.24219524129232, 53.75855637410482, 35.14595619099935, 141.34947599283853, 63.32673771362305, 58.04971711629232, 166.4198040283203, 35.1631215230306, 39.59484702148438, 61.000428837076825, 54.95354992879232, 97.17298628336589, 58.347760050455726, 56.72417348225911, 40.762350441487634, 47.74613459676107, 64.97332431233724, 43.36954184366862, 32.626157150268554, 686.6920330078125, 32.60453469746908, 102.41377752685547, 39.78788915608724, 49.91129746500651, 38.751923221842446, 78.28222933349609, 41.2305373819987, 65.63145451660156, 58.123035498046875, 34.02539346923828, 30.825046360270182, 69.18732438557943, 48.696868371582035, 55.9362771484375, 228.4292128092448, 48.73149812011719, 98.97217362060547, 33.248633380126954, 39.257536596679685, 110.1420928914388, 44.61211894734701, 33.43439165649414, 46.11573209431966, 82.54237828776041, 27.33678967081706, 51.31847091878255, 75.4233295288086, 67.62092072347005, 36.26529772338867, 27.645216919962564, 30.905865224202476, 59.35708353881836, 179.40284112141927, 56.80952188720703, 69.9292515625, 35.11012099202474, 98.80582720540365, 42.91695991007487, 116.34763103027343, 23.646990634155273, 55.21594208374023, 32.23419961751302, 93.12157626139323, 32.83979486490885, 27.876990443929035, 22.444237180582682, 29.385506807454426, 24.109840814208983, 56.61708658243815]\n"
     ]
    }
   ],
   "source": [
    "print(val_loss) #1007"
   ]
  },
  {
   "cell_type": "code",
   "execution_count": 29,
   "metadata": {
    "colab": {
     "base_uri": "https://localhost:8080/",
     "height": 118
    },
    "colab_type": "code",
    "id": "5Qg7Iyg-RsZc",
    "outputId": "6e257a36-b10f-4d83-ebab-7bce690bf17c",
    "scrolled": false
   },
   "outputs": [
    {
     "data": {
      "text/plain": [
       "BaselineModel(\n",
       "  (conv1): Conv1d(1, 32, kernel_size=(9,), stride=(2,))\n",
       "  (conv2): Conv1d(32, 64, kernel_size=(9,), stride=(2,))\n",
       "  (conv3): Conv1d(64, 128, kernel_size=(9,), stride=(2,))\n",
       "  (fc1): Linear(in_features=7040, out_features=1, bias=True)\n",
       ")"
      ]
     },
     "execution_count": 29,
     "metadata": {},
     "output_type": "execute_result"
    }
   ],
   "source": [
    "model.eval()"
   ]
  },
  {
   "cell_type": "code",
   "execution_count": 25,
   "metadata": {},
   "outputs": [],
   "source": [
    "model.eval()\n",
    "test_loss = list()\n",
    "for data in testloader:\n",
    "    losses, nums = zip(\n",
    "                *[loss_batch(model.to(device1), loss_function, xb.to(device1), yb.to(device1)) for xb, yb in testloader])\n",
    "    test_loss1 = np.sum(np.multiply(losses, nums)) / np.sum(nums)\n",
    "    test_loss.append(test_loss1)"
   ]
  },
  {
   "cell_type": "code",
   "execution_count": 26,
   "metadata": {},
   "outputs": [],
   "source": [
    "import matplotlib.pyplot as plt"
   ]
  },
  {
   "cell_type": "code",
   "execution_count": 28,
   "metadata": {},
   "outputs": [
    {
     "name": "stdout",
     "output_type": "stream",
     "text": [
      "[72.64885924565638, 72.64885964720347, 72.64885897290742, 72.64885912443462, 72.64885943506538, 72.64885966993255, 72.64885908655282, 72.6488588819911, 72.64885985934154, 72.64885905624737, 72.64885950325262, 72.64885904109467, 72.64885944264174, 72.6488595259817, 72.64885935930178, 72.64885912443462, 72.64885904109467, 72.64885896911925, 72.64885926838546, 72.64885925323274, 72.64885893502561, 72.6488589766956, 72.64885885168566, 72.64885877592206, 72.6488597532725, 72.6488592608091, 72.64885917746915, 72.64885932899634, 72.64885982524792, 72.64885977600159, 72.64885932899634, 72.64885949946444, 72.64885944264174, 72.64885957522804, 72.64885945779446, 72.6488591092819, 72.64885917746915, 72.6488592608091, 72.64885998813966, 72.64885949188809, 72.6488588062275, 72.6488592229273, 72.64885913579916, 72.64885968508526, 72.64885957901622, 72.64885902594195, 72.64885911685826, 72.64885935930178, 72.64885921535094, 72.64885948052354, 72.64885923808002, 72.64885930626725, 72.64885904867103, 72.64885935930178, 72.64885927596183, 72.6488596017453, 72.6488590145774, 72.64885964720347, 72.64885955628714, 72.64885995025786, 72.64885895396652, 72.64885949567626, 72.6488591092819, 72.64885965477983, 72.64885900321286, 72.64885891987291, 72.64885925702092, 72.64885929111455, 72.64885940475995, 72.64885925323274, 72.6488594502181, 72.6488594502181, 72.6488593744545, 72.64885911685826, 72.64885932899634, 72.64885917746915, 72.6488596017453, 72.64885928353819, 72.64885867742939, 72.6488590714001, 72.64885966993255, 72.64885934414906, 72.64885964341528, 72.64885907897646, 72.6488590714001, 72.6488594502181, 72.64885927596183, 72.64885913958734, 72.6488594502181, 72.64885858651306, 72.64885921913913, 72.64885936687814, 72.64885935172542, 72.64885920019822, 72.64885932899634, 72.64885871531118, 72.64885976842523, 72.64885932141998, 72.6488596396271, 72.64885928353819, 72.64885938203086, 72.6488594880999, 72.64885924565638, 72.64885926459728, 72.64885945779446, 72.64885883653294, 72.6488589956365, 72.64885912443462, 72.64885926838546, 72.64885919262186, 72.64885936687814, 72.64885870015846, 72.64885904867103, 72.64885911685826, 72.64885877213388, 72.64885898427197, 72.64885951082898, 72.64885895017834, 72.64885892366108, 72.64885895017834, 72.64885936687814, 72.64885853347855, 72.64885913958734, 72.6488594312772, 72.6488594502181, 72.64885926838546]\n"
     ]
    }
   ],
   "source": [
    "print(y3)"
   ]
  },
  {
   "cell_type": "code",
   "execution_count": 27,
   "metadata": {
    "scrolled": true
   },
   "outputs": [
    {
     "data": {
      "text/plain": [
       "Text(0, 0.5, 'test_loss')"
      ]
     },
     "execution_count": 27,
     "metadata": {},
     "output_type": "execute_result"
    },
    {
     "data": {
      "image/png": "[encoded data removed]",
      "text/plain": [
       "<Figure size 432x288 with 1 Axes>"
      ]
     },
     "metadata": {
      "needs_background": "light"
     },
     "output_type": "display_data"
    }
   ],
   "source": [
    "x = range(0, 126)\n",
    "y3 = test_loss\n",
    "plt.plot(x, y3, 'o-')\n",
    "plt.title('test_loss')\n",
    "plt.ylabel('test_loss')"
   ]
  },
  {
   "cell_type": "code",
   "execution_count": 31,
   "metadata": {
    "colab": {
     "base_uri": "https://localhost:8080/",
     "height": 1000
    },
    "colab_type": "code",
    "id": "eDZ_0FSIRz4A",
    "outputId": "6127c2c9-dc3b-4994-a315-27d714d4f9ac"
   },
   "outputs": [
    {
     "ename": "RuntimeError",
     "evalue": "Input type (torch.FloatTensor) and weight type (torch.cuda.FloatTensor) should be the same",
     "output_type": "error",
     "traceback": [
      "\u001b[1;31m---------------------------------------------------------------------------\u001b[0m",
      "\u001b[1;31mRuntimeError\u001b[0m                              Traceback (most recent call last)",
      "\u001b[1;32m<ipython-input-31-be9feafefa02>\u001b[0m in \u001b[0;36m<module>\u001b[1;34m\u001b[0m\n\u001b[0;32m      2\u001b[0m     \u001b[1;31m#print(data)\u001b[0m\u001b[1;33m\u001b[0m\u001b[1;33m\u001b[0m\u001b[1;33m\u001b[0m\u001b[0m\n\u001b[0;32m      3\u001b[0m     \u001b[0minputs\u001b[0m\u001b[1;33m,\u001b[0m \u001b[0mlablels\u001b[0m \u001b[1;33m=\u001b[0m \u001b[0mdata\u001b[0m\u001b[1;33m\u001b[0m\u001b[1;33m\u001b[0m\u001b[0m\n\u001b[1;32m----> 4\u001b[1;33m     \u001b[0mpredictions\u001b[0m \u001b[1;33m=\u001b[0m \u001b[0mmodel\u001b[0m\u001b[1;33m(\u001b[0m\u001b[0minputs\u001b[0m\u001b[1;33m.\u001b[0m\u001b[0mfloat\u001b[0m\u001b[1;33m(\u001b[0m\u001b[1;33m)\u001b[0m\u001b[1;33m)\u001b[0m\u001b[1;33m\u001b[0m\u001b[1;33m\u001b[0m\u001b[0m\n\u001b[0m\u001b[0;32m      5\u001b[0m     \u001b[0mloss\u001b[0m \u001b[1;33m=\u001b[0m \u001b[0mloss_function\u001b[0m\u001b[1;33m(\u001b[0m\u001b[0mpredictions\u001b[0m\u001b[1;33m,\u001b[0m\u001b[0mlabels\u001b[0m\u001b[1;33m)\u001b[0m\u001b[1;33m\u001b[0m\u001b[1;33m\u001b[0m\u001b[0m\n\u001b[0;32m      6\u001b[0m     \u001b[0mlosst1\u001b[0m\u001b[1;33m=\u001b[0m\u001b[0mloss_function\u001b[0m\u001b[1;33m(\u001b[0m\u001b[0mpredictions\u001b[0m\u001b[1;33m[\u001b[0m\u001b[1;33m:\u001b[0m\u001b[1;33m,\u001b[0m\u001b[1;36m0\u001b[0m\u001b[1;33m]\u001b[0m\u001b[1;33m,\u001b[0m\u001b[0mlabels\u001b[0m\u001b[1;33m[\u001b[0m\u001b[1;33m:\u001b[0m\u001b[1;33m,\u001b[0m\u001b[1;36m0\u001b[0m\u001b[1;33m]\u001b[0m\u001b[1;33m)\u001b[0m\u001b[1;33m\u001b[0m\u001b[1;33m\u001b[0m\u001b[0m\n",
      "\u001b[1;32mC:\\Apps\\Anaconda3\\envs\\gpu-cuda10\\lib\\site-packages\\torch\\nn\\modules\\module.py\u001b[0m in \u001b[0;36m_call_impl\u001b[1;34m(self, *input, **kwargs)\u001b[0m\n\u001b[0;32m    720\u001b[0m             \u001b[0mresult\u001b[0m \u001b[1;33m=\u001b[0m \u001b[0mself\u001b[0m\u001b[1;33m.\u001b[0m\u001b[0m_slow_forward\u001b[0m\u001b[1;33m(\u001b[0m\u001b[1;33m*\u001b[0m\u001b[0minput\u001b[0m\u001b[1;33m,\u001b[0m \u001b[1;33m**\u001b[0m\u001b[0mkwargs\u001b[0m\u001b[1;33m)\u001b[0m\u001b[1;33m\u001b[0m\u001b[1;33m\u001b[0m\u001b[0m\n\u001b[0;32m    721\u001b[0m         \u001b[1;32melse\u001b[0m\u001b[1;33m:\u001b[0m\u001b[1;33m\u001b[0m\u001b[1;33m\u001b[0m\u001b[0m\n\u001b[1;32m--> 722\u001b[1;33m             \u001b[0mresult\u001b[0m \u001b[1;33m=\u001b[0m \u001b[0mself\u001b[0m\u001b[1;33m.\u001b[0m\u001b[0mforward\u001b[0m\u001b[1;33m(\u001b[0m\u001b[1;33m*\u001b[0m\u001b[0minput\u001b[0m\u001b[1;33m,\u001b[0m \u001b[1;33m**\u001b[0m\u001b[0mkwargs\u001b[0m\u001b[1;33m)\u001b[0m\u001b[1;33m\u001b[0m\u001b[1;33m\u001b[0m\u001b[0m\n\u001b[0m\u001b[0;32m    723\u001b[0m         for hook in itertools.chain(\n\u001b[0;32m    724\u001b[0m                 \u001b[0m_global_forward_hooks\u001b[0m\u001b[1;33m.\u001b[0m\u001b[0mvalues\u001b[0m\u001b[1;33m(\u001b[0m\u001b[1;33m)\u001b[0m\u001b[1;33m,\u001b[0m\u001b[1;33m\u001b[0m\u001b[1;33m\u001b[0m\u001b[0m\n",
      "\u001b[1;32m<ipython-input-13-40664c4405f4>\u001b[0m in \u001b[0;36mforward\u001b[1;34m(self, x)\u001b[0m\n\u001b[0;32m     10\u001b[0m \u001b[1;33m\u001b[0m\u001b[0m\n\u001b[0;32m     11\u001b[0m     \u001b[1;32mdef\u001b[0m \u001b[0mforward\u001b[0m\u001b[1;33m(\u001b[0m\u001b[0mself\u001b[0m\u001b[1;33m,\u001b[0m \u001b[0mx\u001b[0m\u001b[1;33m)\u001b[0m\u001b[1;33m:\u001b[0m\u001b[1;33m\u001b[0m\u001b[1;33m\u001b[0m\u001b[0m\n\u001b[1;32m---> 12\u001b[1;33m         \u001b[0mout\u001b[0m \u001b[1;33m=\u001b[0m \u001b[0mself\u001b[0m\u001b[1;33m.\u001b[0m\u001b[0mconv1\u001b[0m\u001b[1;33m(\u001b[0m\u001b[0mx\u001b[0m\u001b[1;33m)\u001b[0m\u001b[1;33m\u001b[0m\u001b[1;33m\u001b[0m\u001b[0m\n\u001b[0m\u001b[0;32m     13\u001b[0m         \u001b[0mout\u001b[0m \u001b[1;33m=\u001b[0m \u001b[0mtorch\u001b[0m\u001b[1;33m.\u001b[0m\u001b[0mrelu\u001b[0m\u001b[1;33m(\u001b[0m\u001b[0mout\u001b[0m\u001b[1;33m)\u001b[0m\u001b[1;33m\u001b[0m\u001b[1;33m\u001b[0m\u001b[0m\n\u001b[0;32m     14\u001b[0m         \u001b[0mout\u001b[0m \u001b[1;33m=\u001b[0m \u001b[0mself\u001b[0m\u001b[1;33m.\u001b[0m\u001b[0mconv2\u001b[0m\u001b[1;33m(\u001b[0m\u001b[0mout\u001b[0m\u001b[1;33m)\u001b[0m\u001b[1;33m\u001b[0m\u001b[1;33m\u001b[0m\u001b[0m\n",
      "\u001b[1;32mC:\\Apps\\Anaconda3\\envs\\gpu-cuda10\\lib\\site-packages\\torch\\nn\\modules\\module.py\u001b[0m in \u001b[0;36m_call_impl\u001b[1;34m(self, *input, **kwargs)\u001b[0m\n\u001b[0;32m    720\u001b[0m             \u001b[0mresult\u001b[0m \u001b[1;33m=\u001b[0m \u001b[0mself\u001b[0m\u001b[1;33m.\u001b[0m\u001b[0m_slow_forward\u001b[0m\u001b[1;33m(\u001b[0m\u001b[1;33m*\u001b[0m\u001b[0minput\u001b[0m\u001b[1;33m,\u001b[0m \u001b[1;33m**\u001b[0m\u001b[0mkwargs\u001b[0m\u001b[1;33m)\u001b[0m\u001b[1;33m\u001b[0m\u001b[1;33m\u001b[0m\u001b[0m\n\u001b[0;32m    721\u001b[0m         \u001b[1;32melse\u001b[0m\u001b[1;33m:\u001b[0m\u001b[1;33m\u001b[0m\u001b[1;33m\u001b[0m\u001b[0m\n\u001b[1;32m--> 722\u001b[1;33m             \u001b[0mresult\u001b[0m \u001b[1;33m=\u001b[0m \u001b[0mself\u001b[0m\u001b[1;33m.\u001b[0m\u001b[0mforward\u001b[0m\u001b[1;33m(\u001b[0m\u001b[1;33m*\u001b[0m\u001b[0minput\u001b[0m\u001b[1;33m,\u001b[0m \u001b[1;33m**\u001b[0m\u001b[0mkwargs\u001b[0m\u001b[1;33m)\u001b[0m\u001b[1;33m\u001b[0m\u001b[1;33m\u001b[0m\u001b[0m\n\u001b[0m\u001b[0;32m    723\u001b[0m         for hook in itertools.chain(\n\u001b[0;32m    724\u001b[0m                 \u001b[0m_global_forward_hooks\u001b[0m\u001b[1;33m.\u001b[0m\u001b[0mvalues\u001b[0m\u001b[1;33m(\u001b[0m\u001b[1;33m)\u001b[0m\u001b[1;33m,\u001b[0m\u001b[1;33m\u001b[0m\u001b[1;33m\u001b[0m\u001b[0m\n",
      "\u001b[1;32mC:\\Apps\\Anaconda3\\envs\\gpu-cuda10\\lib\\site-packages\\torch\\nn\\modules\\conv.py\u001b[0m in \u001b[0;36mforward\u001b[1;34m(self, input)\u001b[0m\n\u001b[0;32m    254\u001b[0m                             \u001b[0mself\u001b[0m\u001b[1;33m.\u001b[0m\u001b[0mweight\u001b[0m\u001b[1;33m,\u001b[0m \u001b[0mself\u001b[0m\u001b[1;33m.\u001b[0m\u001b[0mbias\u001b[0m\u001b[1;33m,\u001b[0m \u001b[0mself\u001b[0m\u001b[1;33m.\u001b[0m\u001b[0mstride\u001b[0m\u001b[1;33m,\u001b[0m\u001b[1;33m\u001b[0m\u001b[1;33m\u001b[0m\u001b[0m\n\u001b[0;32m    255\u001b[0m                             _single(0), self.dilation, self.groups)\n\u001b[1;32m--> 256\u001b[1;33m         return F.conv1d(input, self.weight, self.bias, self.stride,\n\u001b[0m\u001b[0;32m    257\u001b[0m                         self.padding, self.dilation, self.groups)\n\u001b[0;32m    258\u001b[0m \u001b[1;33m\u001b[0m\u001b[0m\n",
      "\u001b[1;31mRuntimeError\u001b[0m: Input type (torch.FloatTensor) and weight type (torch.cuda.FloatTensor) should be the same"
     ]
    }
   ],
   "source": [
    "for data in testloader:\n",
    "    #print(data)\n",
    "    inputs, lablels = data\n",
    "    predictions = model(inputs.float())\n",
    "    loss = loss_function(predictions,labels)\n",
    "    losst1=loss_function(predictions[:,0],labels[:,0])\n",
    "    losst1=loss_function(predictions[:,1],labels[:,1])\n",
    "    loss = loss/128\n",
    "    print(\"loss\",loss)\n",
    "    print(\"losst1\",losst1)\n",
    "    print(\"losst2\",losst2)\n",
    "    #print(\"predicted parameter:\", predictions)\n",
    "    #print(\"setting parameter:\", labels)"
   ]
  },
  {
   "cell_type": "code",
   "execution_count": null,
   "metadata": {},
   "outputs": [],
   "source": [
    "testdataset = ra.read('atomsroa.ra')\n",
    "testdata = torch.tensor(testdataset)\n",
    "testdata = testdata.imag\n",
    "label1 = ra.read('paramsroa.ra')\n",
    "label1 = torch.tensor(label1)"
   ]
  },
  {
   "cell_type": "code",
   "execution_count": null,
   "metadata": {
    "colab": {},
    "colab_type": "code",
    "id": "D0xuJReg8EbA"
   },
   "outputs": [],
   "source": [
    "for i in range(8056):\n",
    "    inputs = testdata[:,i]\n",
    "    lablels = label1[0,i]\n",
    "    predictions = model(inputs.float())\n",
    "\n",
    "    print(\"predicted parameter:\", predictions)\n",
    "    print(\"setting parameter:\", lablels)"
   ]
  },
  {
   "cell_type": "markdown",
   "metadata": {
    "colab_type": "text",
    "id": "98SN3jbBbQPo"
   },
   "source": [
    "## Saving models"
   ]
  },
  {
   "cell_type": "markdown",
   "metadata": {
    "colab_type": "text",
    "id": "AC85zIKAbLgu"
   },
   "source": [
    "Being able to train a model is fine, but in practice once we've trained the model we probably want to save the result so we can reuse it at a later time. PyTorch makes saving the model easy using the torch.save(state, filepath) function. This will save the weights of the model so they can be loaded into a new instance at a later point.\n",
    "\n",
    "Run the following code to save the weights for use in the next part of the lab."
   ]
  },
  {
   "cell_type": "code",
   "execution_count": 17,
   "metadata": {
    "colab": {},
    "colab_type": "code",
    "id": "uYwWauk6a7vK"
   },
   "outputs": [],
   "source": [
    "#save the trained model weights\n",
    "torch.save(model.state_dict(), \"./BaselineModel.weights\")"
   ]
  },
  {
   "cell_type": "markdown",
   "metadata": {
    "colab_type": "text",
    "id": "Z3755E9cbClj"
   },
   "source": [
    "If you are running on Colab, run the following to download the weights to the local machine:"
   ]
  },
  {
   "cell_type": "code",
   "execution_count": null,
   "metadata": {
    "colab": {
     "base_uri": "https://localhost:8080/",
     "height": 17
    },
    "colab_type": "code",
    "id": "YQso-4fca_mI",
    "outputId": "b059fe76-e584-437c-f499-8ca3da61d6d5"
   },
   "outputs": [],
   "source": [
    "from google.colab import files\n",
    "files.download('BaselineModel.weights')"
   ]
  },
  {
   "cell_type": "code",
   "execution_count": null,
   "metadata": {
    "colab": {
     "base_uri": "https://localhost:8080/",
     "height": 34
    },
    "colab_type": "code",
    "id": "AzH-0Wu9brJG",
    "outputId": "68c73ea4-c60c-4c51-9b54-a278d8492b63"
   },
   "outputs": [],
   "source": [
    "device = \"cuda:0\" if torch.cuda.is_available() else \"cpu\"\n",
    "model = BaselineModel(1000, 512, 256).to(device)\n",
    "model.load_state_dict(torch.load('BaselineModel.weights'))"
   ]
  }
 ],
 "metadata": {
  "colab": {
   "collapsed_sections": [],
   "name": "MRF-net.ipynb",
   "provenance": []
  },
  "kernelspec": {
   "display_name": "Python 3",
   "language": "python",
   "name": "python3"
  },
  "language_info": {
   "codemirror_mode": {
    "name": "ipython",
    "version": 3
   },
   "file_extension": ".py",
   "mimetype": "text/x-python",
   "name": "python",
   "nbconvert_exporter": "python",
   "pygments_lexer": "ipython3",
   "version": "3.8.5"
  }
 },
 "nbformat": 4,
 "nbformat_minor": 1
}
