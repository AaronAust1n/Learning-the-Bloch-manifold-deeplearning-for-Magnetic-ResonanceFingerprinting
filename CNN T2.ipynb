{
 "cells": [
  {
   "cell_type": "code",
   "execution_count": 1,
   "metadata": {
    "colab": {},
    "colab_type": "code",
    "id": "aqe2u5u5zhMj"
   },
   "outputs": [],
   "source": [
    "import numpy as np\n",
    "import torch\n",
    "import torch.nn.functional as F\n",
    "import torchvision.transforms as transforms\n",
    "from torch import nn\n",
    "from torch import optim\n",
    "from torch.utils.data import DataLoader\n",
    "#from torchvision.datasets import MNIST"
   ]
  },
  {
   "cell_type": "code",
   "execution_count": 5,
   "metadata": {},
   "outputs": [
    {
     "name": "stdout",
     "output_type": "stream",
     "text": [
      "1.6.0\n"
     ]
    }
   ],
   "source": [
    "print(torch.__version__)"
   ]
  },
  {
   "cell_type": "code",
   "execution_count": null,
   "metadata": {
    "colab": {
     "base_uri": "https://localhost:8080/",
     "height": 121
    },
    "colab_type": "code",
    "id": "VIE7-SAqir7O",
    "outputId": "2b6972e1-a573-4505-d544-690a1d68fbc8",
    "scrolled": true
   },
   "outputs": [],
   "source": [
    "from google.colab import drive\n",
    "drive.mount('/content/drive')"
   ]
  },
  {
   "cell_type": "code",
   "execution_count": 2,
   "metadata": {
    "colab": {},
    "colab_type": "code",
    "id": "FRWp8xWFEijO"
   },
   "outputs": [],
   "source": [
    "#import os\n",
    "#os.chdir(\"/content/drive/My Drive\") \n",
    "import ra\n",
    "#import complexLayers\n"
   ]
  },
  {
   "cell_type": "code",
   "execution_count": 3,
   "metadata": {
    "colab": {},
    "colab_type": "code",
    "id": "6-BK2JMPjju-"
   },
   "outputs": [],
   "source": [
    "dataset = ra.read('atomsroa.ra')\n",
    "train_data = torch.tensor(dataset)"
   ]
  },
  {
   "cell_type": "code",
   "execution_count": 4,
   "metadata": {},
   "outputs": [],
   "source": [
    "train_data = train_data.imag\n",
    "train_data =  torch.transpose(train_data, 0, 1).unsqueeze(1)"
   ]
  },
  {
   "cell_type": "code",
   "execution_count": 5,
   "metadata": {},
   "outputs": [],
   "source": [
    "labelset = ra.read('paramsroa.ra')\n",
    "train_label1 = torch.tensor(labelset)"
   ]
  },
  {
   "cell_type": "code",
   "execution_count": 6,
   "metadata": {},
   "outputs": [],
   "source": [
    "dataset1 = ra.read('atoms.ra')\n",
    "traindata1 = torch.tensor(dataset1)\n",
    "traindata1 = traindata1.imag\n",
    "traindata1 =  torch.transpose(traindata1, 0, 1).unsqueeze(1)\n",
    "label1 = ra.read('params.ra')\n",
    "label1 = torch.tensor(label1)"
   ]
  },
  {
   "cell_type": "code",
   "execution_count": null,
   "metadata": {},
   "outputs": [],
   "source": [
    "print(traindata1)\n",
    "print(train_data)"
   ]
  },
  {
   "cell_type": "code",
   "execution_count": 7,
   "metadata": {},
   "outputs": [
    {
     "name": "stdout",
     "output_type": "stream",
     "text": [
      "torch.Size([108056, 1, 1000])\n"
     ]
    },
    {
     "data": {
      "text/plain": [
       "torch.Size([108056, 1, 1000])"
      ]
     },
     "execution_count": 7,
     "metadata": {},
     "output_type": "execute_result"
    }
   ],
   "source": [
    "print(traindata1.shape)\n",
    "train_data.shape"
   ]
  },
  {
   "cell_type": "code",
   "execution_count": 8,
   "metadata": {
    "scrolled": true
   },
   "outputs": [],
   "source": [
    "alldata = torch.cat((train_data,traindata1),0)"
   ]
  },
  {
   "cell_type": "code",
   "execution_count": 17,
   "metadata": {},
   "outputs": [],
   "source": [
    "labels1 = torch.cat((train_label1[1,:],label1[1,:]),0)"
   ]
  },
  {
   "cell_type": "code",
   "execution_count": 19,
   "metadata": {
    "scrolled": true
   },
   "outputs": [
    {
     "name": "stdout",
     "output_type": "stream",
     "text": [
      "tensor([  20.,   20.,   20.,  ..., 2000., 2000., 2000.], dtype=torch.float64)\n",
      "torch.Size([216112])\n",
      "torch.Size([3, 108056])\n"
     ]
    }
   ],
   "source": [
    "print(labels1)\n",
    "print(labels1.shape)\n",
    "print(train_label1.shape)"
   ]
  },
  {
   "cell_type": "code",
   "execution_count": 18,
   "metadata": {},
   "outputs": [
    {
     "ename": "TypeError",
     "evalue": "transpose() received an invalid combination of arguments - got (Tensor), but expected one of:\n * (Tensor input, name dim0, name dim1)\n * (Tensor input, int dim0, int dim1)\n",
     "output_type": "error",
     "traceback": [
      "\u001b[1;31m---------------------------------------------------------------------------\u001b[0m",
      "\u001b[1;31mTypeError\u001b[0m                                 Traceback (most recent call last)",
      "\u001b[1;32m<ipython-input-18-c09b365e74e2>\u001b[0m in \u001b[0;36m<module>\u001b[1;34m\u001b[0m\n\u001b[1;32m----> 1\u001b[1;33m \u001b[0mlabels1\u001b[0m \u001b[1;33m=\u001b[0m \u001b[0mtorch\u001b[0m\u001b[1;33m.\u001b[0m\u001b[0mtranspose\u001b[0m\u001b[1;33m(\u001b[0m\u001b[0mlabels1\u001b[0m\u001b[1;33m)\u001b[0m\u001b[1;33m\u001b[0m\u001b[1;33m\u001b[0m\u001b[0m\n\u001b[0m\u001b[0;32m      2\u001b[0m \u001b[0mprint\u001b[0m\u001b[1;33m(\u001b[0m\u001b[0mlabels1\u001b[0m\u001b[1;33m.\u001b[0m\u001b[0mshape\u001b[0m\u001b[1;33m)\u001b[0m\u001b[1;33m\u001b[0m\u001b[1;33m\u001b[0m\u001b[0m\n",
      "\u001b[1;31mTypeError\u001b[0m: transpose() received an invalid combination of arguments - got (Tensor), but expected one of:\n * (Tensor input, name dim0, name dim1)\n * (Tensor input, int dim0, int dim1)\n"
     ]
    }
   ],
   "source": [
    "labels1 = torch.transpose(labels1)\n",
    "print(labels1.shape)"
   ]
  },
  {
   "cell_type": "code",
   "execution_count": 20,
   "metadata": {},
   "outputs": [],
   "source": [
    "import torch.utils.data as data\n",
    "train_dataset = data.TensorDataset(alldata,labels1)"
   ]
  },
  {
   "cell_type": "code",
   "execution_count": null,
   "metadata": {
    "colab": {},
    "colab_type": "code",
    "id": "EtO2l_0K9bVo"
   },
   "outputs": [],
   "source": [
    "from sklearn.decomposition import PCA\n",
    "X_reduced = PCA(n_components=10).fit_transform(train_data)"
   ]
  },
  {
   "cell_type": "code",
   "execution_count": null,
   "metadata": {
    "colab": {
     "base_uri": "https://localhost:8080/",
     "height": 84
    },
    "colab_type": "code",
    "id": "9jhCmOGlzHuJ",
    "outputId": "d404eff5-582b-40af-8ba4-2f163944744e"
   },
   "outputs": [],
   "source": [
    "pca = PCA(n_components=10)\n",
    "pca.fit(train_data)\n",
    "\n",
    "print(pca.explained_variance_ratio_.shape)\n",
    "print(pca.components_.shape)\n",
    "print(pca.singular_values_.shape)\n",
    "print(pca.mean_.shape)"
   ]
  },
  {
   "cell_type": "code",
   "execution_count": null,
   "metadata": {
    "colab": {},
    "colab_type": "code",
    "id": "uyEh1FCOM4gT"
   },
   "outputs": [],
   "source": [
    "train_data = torch.tensor(X_reduced)"
   ]
  },
  {
   "cell_type": "code",
   "execution_count": 21,
   "metadata": {
    "colab": {},
    "colab_type": "code",
    "id": "ih21UQILm0Hl"
   },
   "outputs": [],
   "source": [
    "train_dataset, valid_dataset, test_dataset = torch.utils.data.random_split(train_dataset, [140000, 60000 ,16112])"
   ]
  },
  {
   "cell_type": "markdown",
   "metadata": {},
   "source": [
    "We found that the network model with smallest\n",
    "average error for validation data consists of 3 convolutional layers (kernel size = 3, stride\n",
    "size = 2), each followed by a rectified linear unit (ReLU) activation function. The number\n",
    "of the feature maps per convolutional layer is increasing, from 32 in the first to 128 in\n",
    "the last. After convolution an average pooling layer follows with the same size as the\n",
    "stride size. The last layer is fully connected, with 2 outputs. "
   ]
  },
  {
   "cell_type": "code",
   "execution_count": 22,
   "metadata": {
    "colab": {},
    "colab_type": "code",
    "id": "ahjQ0hXkj6Yl"
   },
   "outputs": [],
   "source": [
    "\n",
    "# define baseline model\n",
    "class BaselineModel(nn.Module):\n",
    "    def __init__(self):\n",
    "        super(BaselineModel, self).__init__()\n",
    "        self.conv1 = nn.Conv1d(1, 32, kernel_size=9, stride=2)\n",
    "        self.conv2 = nn.Conv1d(32, 64, kernel_size=9, stride=2)\n",
    "        self.conv3 = nn.Conv1d(64, 128, kernel_size=9, stride=2)\n",
    "        self.fc1 = nn.Linear(7040, 1)\n",
    "\n",
    "\n",
    "    def forward(self, x):\n",
    "        out = self.conv1(x)\n",
    "        out = torch.relu(out)                                        \n",
    "        out = self.conv2(out)\n",
    "        out = torch.relu(out)\n",
    "        out = self.conv3(out)\n",
    "        out = torch.relu(out)\n",
    "        out = F.avg_pool1d(out, kernel_size=9, stride=2)\n",
    "        out = out.view(out.size(0), -1)\n",
    "        out = self.fc1(out)\n",
    "        return out"
   ]
  },
  {
   "cell_type": "code",
   "execution_count": 23,
   "metadata": {
    "colab": {},
    "colab_type": "code",
    "id": "z3pzehZtrCEC"
   },
   "outputs": [],
   "source": [
    "N = 200\n",
    "val_loss = list()\n",
    "#val_accu = list()\n",
    "train_loss = list()\n",
    "#train_accu = list()"
   ]
  },
  {
   "cell_type": "code",
   "execution_count": 24,
   "metadata": {},
   "outputs": [],
   "source": [
    "#assert torch.cuda.is_available()\n",
    "device1 = \"cuda:0\" if torch.cuda.is_available() else \"cpu\"\n",
    "#cuda_device = torch.device(\"cuda\")\n",
    "seed = 7\n",
    "torch.manual_seed(seed)\n",
    "trainloader = DataLoader(train_dataset, batch_size=128, shuffle=True)\n",
    "validloader = DataLoader(valid_dataset, batch_size=128, shuffle=False)\n",
    "testloader = DataLoader(test_dataset, batch_size=128, shuffle=True)\n",
    "\n",
    "def loss_batch(model, loss_func, xb, yb, opt=None):\n",
    "    outputs = model(xb.float())\n",
    "    yb = yb.float()\n",
    "    outputs = torch.squeeze(outputs, 1)\n",
    "    loss = loss_func(outputs, yb)\n",
    "\n",
    "    if opt is not None:\n",
    "        loss.backward()\n",
    "        opt.step()\n",
    "        opt.zero_grad()\n",
    "\n",
    "    return loss.item(), len(xb)"
   ]
  },
  {
   "cell_type": "code",
   "execution_count": null,
   "metadata": {},
   "outputs": [],
   "source": [
    "!pip install pycuda\n",
    "import torch\n",
    "import pycuda.driver as cuda\n",
    "cuda.init()\n",
    "## Get Id of default device\n",
    "torch.cuda.current_device()\n",
    "# 0\n",
    "cuda.Device(0).name() # '0' is the id of your GPU"
   ]
  },
  {
   "cell_type": "code",
   "execution_count": 25,
   "metadata": {
    "colab": {
     "base_uri": "https://localhost:8080/",
     "height": 1000
    },
    "colab_type": "code",
    "id": "sGAHKMREJzYA",
    "outputId": "e1d97095-19c2-490c-dd04-c3932fe2ce54",
    "scrolled": true
   },
   "outputs": [
    {
     "name": "stdout",
     "output_type": "stream",
     "text": [
      "Epoch 0, loss 155847579.17\n",
      "Epoch 1, loss 7334977.37\n",
      "Epoch 2, loss 4154477.24\n",
      "Epoch 3, loss 2800262.74\n",
      "Epoch 4, loss 1925909.37\n",
      "Epoch 5, loss 1483661.88\n",
      "Epoch 6, loss 1130830.09\n",
      "Epoch 7, loss 916951.91\n",
      "Epoch 8, loss 725590.84\n",
      "Epoch 9, loss 621739.37\n",
      "Epoch 10, loss 463504.31\n",
      "Epoch 11, loss 423284.43\n",
      "Epoch 12, loss 370641.03\n",
      "Epoch 13, loss 401162.36\n",
      "Epoch 14, loss 282618.43\n",
      "Epoch 15, loss 318656.92\n",
      "Epoch 16, loss 235265.41\n",
      "Epoch 17, loss 374870.60\n",
      "Epoch 18, loss 300781.12\n",
      "Epoch 19, loss 269576.04\n",
      "Epoch 20, loss 241187.72\n",
      "Epoch 21, loss 298485.32\n",
      "Epoch 22, loss 182934.19\n",
      "Epoch 23, loss 204814.12\n",
      "Epoch 24, loss 165509.72\n",
      "Epoch 25, loss 153086.54\n",
      "Epoch 26, loss 157624.92\n",
      "Epoch 27, loss 160551.84\n",
      "Epoch 28, loss 147760.25\n",
      "Epoch 29, loss 120286.16\n",
      "Epoch 30, loss 137724.91\n",
      "Epoch 31, loss 104675.90\n",
      "Epoch 32, loss 96945.62\n",
      "Epoch 33, loss 114837.88\n",
      "Epoch 34, loss 162352.76\n",
      "Epoch 35, loss 226167.23\n",
      "Epoch 36, loss 172206.49\n",
      "Epoch 37, loss 164485.96\n",
      "Epoch 38, loss 150517.47\n",
      "Epoch 39, loss 129114.73\n",
      "Epoch 40, loss 124871.19\n",
      "Epoch 41, loss 112029.21\n",
      "Epoch 42, loss 115641.25\n",
      "Epoch 43, loss 103785.27\n",
      "Epoch 44, loss 88817.61\n",
      "Epoch 45, loss 92370.45\n",
      "Epoch 46, loss 121143.60\n",
      "Epoch 47, loss 77897.04\n",
      "Epoch 48, loss 77998.42\n",
      "Epoch 49, loss 78786.21\n",
      "Epoch 50, loss 78715.88\n",
      "Epoch 51, loss 75141.89\n",
      "Epoch 52, loss 68970.71\n",
      "Epoch 53, loss 75792.00\n",
      "Epoch 54, loss 60203.20\n",
      "Epoch 55, loss 59812.08\n",
      "Epoch 56, loss 62177.91\n",
      "Epoch 57, loss 60583.56\n",
      "Epoch 58, loss 57494.02\n",
      "Epoch 59, loss 52960.34\n",
      "Epoch 60, loss 59934.64\n",
      "Epoch 61, loss 56652.59\n",
      "Epoch 62, loss 56019.72\n",
      "Epoch 63, loss 47557.71\n",
      "Epoch 64, loss 49636.42\n",
      "Epoch 65, loss 52661.45\n",
      "Epoch 66, loss 40957.52\n",
      "Epoch 67, loss 50394.41\n",
      "Epoch 68, loss 40210.34\n",
      "Epoch 69, loss 44500.73\n",
      "Epoch 70, loss 49866.23\n",
      "Epoch 71, loss 40580.96\n",
      "Epoch 72, loss 38725.30\n",
      "Epoch 73, loss 41152.73\n",
      "Epoch 74, loss 39976.39\n",
      "Epoch 75, loss 37778.00\n",
      "Epoch 76, loss 38200.24\n",
      "Epoch 77, loss 41469.76\n",
      "Epoch 78, loss 35630.16\n",
      "Epoch 79, loss 45405.17\n",
      "Epoch 80, loss 36810.82\n",
      "Epoch 81, loss 35813.03\n",
      "Epoch 82, loss 33378.08\n",
      "Epoch 83, loss 47161.85\n",
      "Epoch 84, loss 26773.65\n",
      "Epoch 85, loss 35103.20\n",
      "Epoch 86, loss 47905.28\n",
      "Epoch 87, loss 26598.64\n",
      "Epoch 88, loss 31742.52\n",
      "Epoch 89, loss 30625.78\n",
      "Epoch 90, loss 30955.00\n",
      "Epoch 91, loss 31160.36\n",
      "Epoch 92, loss 27715.82\n",
      "Epoch 93, loss 58668.16\n",
      "Epoch 94, loss 15517.49\n",
      "Epoch 95, loss 26143.68\n",
      "Epoch 96, loss 44025.16\n",
      "Epoch 97, loss 22547.72\n",
      "Epoch 98, loss 27374.78\n",
      "Epoch 99, loss 27783.02\n",
      "Epoch 100, loss 26175.20\n",
      "Epoch 101, loss 23257.72\n",
      "Epoch 102, loss 28493.99\n",
      "Epoch 103, loss 42715.09\n",
      "Epoch 104, loss 25342.48\n",
      "Epoch 105, loss 20131.32\n",
      "Epoch 106, loss 30361.72\n",
      "Epoch 107, loss 18177.33\n",
      "Epoch 108, loss 28831.06\n",
      "Epoch 109, loss 21243.90\n",
      "Epoch 110, loss 24384.67\n",
      "Epoch 111, loss 22652.50\n",
      "Epoch 112, loss 19346.69\n",
      "Epoch 113, loss 29629.06\n",
      "Epoch 114, loss 19977.09\n",
      "Epoch 115, loss 20206.38\n",
      "Epoch 116, loss 23421.56\n",
      "Epoch 117, loss 20545.90\n",
      "Epoch 118, loss 26144.07\n",
      "Epoch 119, loss 18139.49\n",
      "Epoch 120, loss 21701.08\n",
      "Epoch 121, loss 24078.05\n",
      "Epoch 122, loss 19933.63\n",
      "Epoch 123, loss 21318.72\n",
      "Epoch 124, loss 20537.29\n",
      "Epoch 125, loss 20160.75\n",
      "Epoch 126, loss 22137.10\n",
      "Epoch 127, loss 19469.71\n",
      "Epoch 128, loss 21713.02\n",
      "Epoch 129, loss 27183.91\n",
      "Epoch 130, loss 19425.84\n",
      "Epoch 131, loss 22798.84\n",
      "Epoch 132, loss 20107.89\n",
      "Epoch 133, loss 14801.79\n",
      "Epoch 134, loss 19042.71\n",
      "Epoch 135, loss 23936.68\n",
      "Epoch 136, loss 25949.46\n",
      "Epoch 137, loss 11151.04\n",
      "Epoch 138, loss 23881.99\n",
      "Epoch 139, loss 21569.38\n",
      "Epoch 140, loss 17010.88\n",
      "Epoch 141, loss 13373.38\n",
      "Epoch 142, loss 20918.16\n",
      "Epoch 143, loss 16883.19\n",
      "Epoch 144, loss 21800.10\n",
      "Epoch 145, loss 16628.43\n",
      "Epoch 146, loss 14637.57\n",
      "Epoch 147, loss 19971.24\n",
      "Epoch 148, loss 18301.01\n",
      "Epoch 149, loss 21217.65\n",
      "Epoch 150, loss 15628.50\n",
      "Epoch 151, loss 21809.45\n",
      "Epoch 152, loss 11818.40\n",
      "Epoch 153, loss 24485.44\n",
      "Epoch 154, loss 14958.76\n",
      "Epoch 155, loss 18021.19\n",
      "Epoch 156, loss 11450.57\n",
      "Epoch 157, loss 20884.52\n",
      "Epoch 158, loss 13818.52\n",
      "Epoch 159, loss 14485.47\n",
      "Epoch 160, loss 43749.18\n",
      "Epoch 161, loss 12977.54\n",
      "Epoch 162, loss 11037.36\n",
      "Epoch 163, loss 21633.51\n",
      "Epoch 164, loss 11135.86\n",
      "Epoch 165, loss 15514.56\n",
      "Epoch 166, loss 18671.30\n",
      "Epoch 167, loss 13261.57\n",
      "Epoch 168, loss 15825.67\n",
      "Epoch 169, loss 15720.15\n",
      "Epoch 170, loss 12400.84\n",
      "Epoch 171, loss 17071.55\n",
      "Epoch 172, loss 11247.42\n",
      "Epoch 173, loss 22809.40\n",
      "Epoch 174, loss 13840.64\n",
      "Epoch 175, loss 17485.41\n",
      "Epoch 176, loss 17171.95\n",
      "Epoch 177, loss 19964.09\n",
      "Epoch 178, loss 8406.79\n",
      "Epoch 179, loss 15390.08\n",
      "Epoch 180, loss 17551.56\n",
      "Epoch 181, loss 12626.58\n",
      "Epoch 182, loss 12935.51\n",
      "Epoch 183, loss 12475.64\n",
      "Epoch 184, loss 14410.85\n",
      "Epoch 185, loss 14480.90\n",
      "Epoch 186, loss 11935.90\n",
      "Epoch 187, loss 17958.12\n",
      "Epoch 188, loss 11964.92\n",
      "Epoch 189, loss 13215.47\n",
      "Epoch 190, loss 13638.57\n",
      "Epoch 191, loss 24546.54\n",
      "Epoch 192, loss 10373.76\n",
      "Epoch 193, loss 11510.45\n",
      "Epoch 194, loss 15385.82\n",
      "Epoch 195, loss 12132.62\n",
      "Epoch 196, loss 13023.40\n",
      "Epoch 197, loss 13286.39\n",
      "Epoch 198, loss 11240.98\n",
      "Epoch 199, loss 16861.92\n",
      "**** Finished Training ****\n"
     ]
    }
   ],
   "source": [
    "\n",
    "# build the model\n",
    "model = BaselineModel().to(device1)\n",
    "\n",
    "# define the loss function and the optimiser\n",
    "loss_function = nn.MSELoss()\n",
    "optimiser = optim.Adam(model.parameters())\n",
    "\n",
    "# the epoch loop\n",
    "for epoch in range(N):\n",
    "    model.train()\n",
    "    running_loss = 0.0\n",
    "    loss=0\n",
    "    for data in trainloader:\n",
    "        # get the inputs\n",
    "        inputs, labels = data\n",
    "        #inputs = inputs.unsqueeze(1).unsqueeze(-1)\n",
    "        #inputs = inputs.unsqueeze(1)\n",
    "        #inputs = torch.unsqueeze(inputs1, 2)\n",
    "\n",
    "        inputs, labels = inputs.to(device1), labels.to(device1)\n",
    "        \n",
    "        \n",
    "        loss, nums = loss_batch(model, loss_function, inputs.float(), labels.float(), optimiser)\n",
    "        running_loss += loss\n",
    "    train_loss.append(loss)\n",
    "\n",
    "    model.eval()\n",
    "    with torch.no_grad():\n",
    "        losses, nums = zip(\n",
    "                *[loss_batch(model.to(device1), loss_function, xb.to(device1), yb.to(device1)) for xb, yb in validloader]\n",
    "            )\n",
    "        val_loss1 = np.sum(np.multiply(losses, nums)) / np.sum(nums)\n",
    "        val_loss.append(val_loss1)\n",
    "\n",
    "\n",
    "        #print(epoch, val_loss)\n",
    "\n",
    "        \n",
    "        # keep track of the loss this epoch\n",
    "        #running_loss += loss.item()\n",
    "    print(\"Epoch %d, loss %4.2f\" % (epoch, running_loss))\n",
    "print('**** Finished Training ****')"
   ]
  },
  {
   "cell_type": "code",
   "execution_count": 26,
   "metadata": {
    "colab": {
     "base_uri": "https://localhost:8080/",
     "height": 281
    },
    "colab_type": "code",
    "id": "RrXkmLWusgWY",
    "outputId": "94727097-6aee-4d73-97d6-e8cc99f69d52",
    "scrolled": true
   },
   "outputs": [
    {
     "data": {
      "image/png": "[encoded data removed]",
      "text/plain": [
       "<Figure size 432x288 with 2 Axes>"
      ]
     },
     "metadata": {
      "needs_background": "light"
     },
     "output_type": "display_data"
    }
   ],
   "source": [
    "import matplotlib.pyplot as plt\n",
    "\n",
    "x = range(0, N)\n",
    "y1 = train_loss\n",
    "#y2 = train_accu\n",
    "y3 = val_loss\n",
    "#y4 = val_accu\n",
    "plt.subplot(2, 1, 1)\n",
    "plt.plot(x, y1, 'o-')\n",
    "plt.title('train_loss and train_accu')\n",
    "plt.ylabel('train_loss')\n",
    "#plt.subplot(2, 1, 2)\n",
    "#plt.plot(x, y2, '.-')\n",
    "#plt.xlabel('epoches')\n",
    "#plt.ylabel('train_accu')\n",
    "plt.subplot(2, 1, 2)\n",
    "plt.plot(x, y3, 'o-')\n",
    "plt.ylabel('val_loss')\n",
    "#plt.subplot(2, 2, 2)\n",
    "#plt.plot(x, y4, '.-')\n",
    "#plt.title('val_loss and val_accu')\n",
    "#lt.ylabel('val_accu')\n",
    "plt.show()\n",
    "#plt.savefig(\"accuracy_loss.jpg\")\n"
   ]
  },
  {
   "cell_type": "code",
   "execution_count": 24,
   "metadata": {
    "scrolled": true
   },
   "outputs": [
    {
     "name": "stdout",
     "output_type": "stream",
     "text": [
      "[39162.5859375, 11763.650390625, 10699.044921875, 5103.5830078125, 4158.6142578125, 3056.337890625, 1703.7333984375, 1637.2615966796875, 1261.2879638671875, 1131.3231201171875, 1172.2281494140625, 1134.0067138671875, 678.216796875, 860.5421752929688, 1129.3348388671875, 630.5377197265625, 609.3250732421875, 568.7601318359375, 420.55645751953125, 319.82196044921875, 823.774658203125, 361.33343505859375, 336.67626953125, 302.5008544921875, 209.6558837890625, 315.412353515625, 342.5613708496094, 273.7820739746094, 166.2567138671875, 225.6500701904297, 247.6725311279297, 274.4014892578125, 310.10772705078125, 198.839111328125, 673.5882568359375, 266.2223205566406, 367.98138427734375, 179.63232421875, 228.9575653076172, 173.31272888183594, 252.89376831054688, 261.2034606933594, 175.7914276123047, 189.5096893310547, 148.1826171875, 178.23191833496094, 144.52645874023438, 137.4016876220703, 136.2789306640625, 249.77658081054688, 128.30670166015625, 1062.2835693359375, 158.63011169433594, 298.2046813964844, 169.34716796875, 87.52970886230469, 205.04470825195312, 90.63191986083984, 94.30229187011719, 141.02926635742188, 128.61752319335938, 134.853515625, 161.31903076171875, 195.5430145263672, 147.22665405273438, 129.22903442382812, 100.16423797607422, 119.3997802734375, 159.15725708007812, 93.77864837646484, 357.1336364746094, 91.94157409667969, 227.3309783935547, 91.24547576904297, 132.6645965576172, 119.68795776367188, 118.85906219482422, 387.5748291015625, 315.8089599609375, 101.00003051757812, 97.34638977050781, 79.26201629638672, 105.11326599121094, 85.57720947265625, 88.1663818359375, 149.9733123779297, 134.43585205078125, 96.2022933959961, 56.87595748901367, 103.81219482421875, 59.717769622802734, 63.833709716796875, 305.58721923828125, 68.59014892578125, 73.29115295410156, 92.82298278808594, 62.659568786621094, 46.700531005859375, 509.36895751953125, 68.18608856201172, 74.44415283203125, 48.32180404663086, 130.27511596679688, 88.33468627929688, 71.89219665527344, 44.06239318847656, 69.73340606689453, 67.10952758789062, 56.00321960449219, 75.94085693359375, 45.09064865112305, 53.649314880371094, 90.32426452636719, 117.4803695678711, 52.30565643310547, 54.69859313964844, 273.345458984375, 130.62840270996094, 40.138458251953125, 55.885108947753906, 59.1888427734375, 32.691612243652344, 158.1299285888672, 80.82110595703125, 44.1099967956543, 59.398834228515625, 168.07586669921875, 61.32030487060547, 66.91471862792969, 27.628515243530273, 108.66475677490234, 47.514034271240234, 23.964523315429688, 112.3032455444336, 163.0544891357422, 84.41004943847656, 732.6090698242188, 50.96072006225586, 34.30939483642578, 63.240352630615234, 36.872703552246094, 44.9327507019043, 109.0016098022461, 60.6875, 131.37921142578125, 100.33714294433594, 134.89788818359375, 53.52330780029297, 30.626422882080078, 66.93538665771484, 100.50071716308594, 29.0972957611084, 177.54086303710938, 41.557491302490234, 96.44515228271484, 57.872642517089844, 40.15715789794922, 42.21159362792969, 44.24883270263672, 62.30828857421875, 37.18212890625, 50.84415817260742, 39.881187438964844, 58.237144470214844, 20.577306747436523, 34.79033279418945, 30.610931396484375, 30.38471031188965, 87.55625915527344, 29.434494018554688, 49.9757080078125, 38.54899597167969, 37.293827056884766, 63.062740325927734, 51.9178581237793, 53.728145599365234, 39.07331466674805, 40.74636459350586, 203.750244140625, 36.8221321105957, 41.80335998535156, 14.467951774597168, 36.699459075927734, 37.85344696044922, 40.10481262207031, 47.48539733886719, 28.08142852783203, 25.6453857421875, 34.20722961425781, 340.4886169433594, 56.01777267456055, 33.15699768066406, 34.263427734375, 27.306814193725586, 56.468719482421875, 28.380126953125, 52.710968017578125, 28.682296752929688, 275.9089050292969, 48.17345428466797, 178.43301391601562]\n"
     ]
    }
   ],
   "source": [
    "print(y1)"
   ]
  },
  {
   "cell_type": "code",
   "execution_count": 36,
   "metadata": {},
   "outputs": [
    {
     "name": "stdout",
     "output_type": "stream",
     "text": [
      "[10092.0859375, 3886.94140625, 2959.36962890625, 1582.9017333984375, 1401.4295654296875, 1313.5087890625, 512.7001953125, 861.7916870117188, 487.76629638671875, 286.4570617675781, 300.0074462890625, 296.589599609375, 306.38775634765625, 150.08767700195312, 368.0611267089844, 146.28085327148438, 138.94740295410156, 329.1799011230469, 187.454833984375, 200.4796600341797, 170.87191772460938, 146.4425048828125, 58.64010238647461, 254.98599243164062, 55.0732421875, 163.4866180419922, 92.71275329589844, 91.11582946777344, 149.1534881591797, 43.7850456237793, 38.724979400634766, 47.03095626831055, 52.68438720703125, 105.10093688964844, 190.47616577148438, 206.66415405273438, 124.12480926513672, 110.51681518554688, 60.5504264831543, 102.94188690185547, 76.93353271484375, 84.16749572753906, 99.96307373046875, 39.69801330566406, 51.03116989135742, 42.63930892944336, 368.14874267578125, 44.03279113769531, 117.3868408203125, 55.58649444580078, 31.26558494567871, 68.50475311279297, 48.53695297241211, 55.54816818237305, 29.488704681396484, 37.82546615600586, 29.18245506286621, 47.867881774902344, 57.086944580078125, 168.0472869873047, 32.65711212158203, 91.04662322998047, 51.87934112548828, 29.129512786865234, 20.735319137573242, 37.49285888671875, 34.175025939941406, 58.65836715698242, 20.73915672302246, 23.54879379272461, 20.30154800415039, 124.8141098022461, 51.16014099121094, 69.73408508300781, 18.351619720458984, 44.415252685546875, 56.40015411376953, 13.610868453979492, 14.79029369354248, 87.4613037109375, 12.769739151000977, 18.820037841796875, 59.391136169433594, 32.065364837646484, 32.5735969543457, 22.299419403076172, 12.830065727233887, 13.99615478515625, 15.073598861694336, 11.863746643066406, 12.936541557312012, 19.982135772705078, 10.51662826538086, 44.68488311767578, 17.930051803588867, 8.782135009765625, 12.20258903503418, 22.865169525146484, 34.06007766723633, 18.25720977783203, 32.12771224975586, 17.475786209106445, 6.5342302322387695, 5.273525714874268, 13.847164154052734, 18.520971298217773, 20.97679901123047, 44.932823181152344, 48.79337692260742, 71.28668212890625, 13.04127311706543, 4.5229620933532715, 14.230070114135742, 13.417742729187012, 9.678336143493652, 41.01810073852539, 180.45571899414062, 7.298663139343262, 4.361762523651123, 6.621852397918701, 22.91628646850586, 6.462121963500977, 48.63711166381836, 11.968103408813477, 4.975429534912109, 52.723876953125, 38.77081298828125, 8.043354034423828, 6.189958572387695, 7.004730224609375, 5.70296049118042, 22.011207580566406, 12.244513511657715, 10.841346740722656, 20.256103515625, 31.77296257019043, 15.486270904541016, 20.189929962158203, 3.3064639568328857, 7.539693355560303, 2.1607279777526855, 9.802310943603516, 7.45548152923584, 12.723230361938477, 78.15984344482422, 10.793874740600586, 12.656142234802246, 6.413374900817871, 15.670814514160156, 6.792510986328125, 7.335043907165527, 69.53668212890625, 22.823074340820312, 7.931954860687256, 122.57634735107422, 43.46885299682617, 7.309457302093506, 6.252569198608398, 22.822561264038086, 12.736272811889648, 8.231319427490234, 3.5227208137512207, 20.100034713745117, 15.03289794921875, 7.213096618652344, 18.849903106689453, 8.866628646850586, 7.701587677001953, 4.060835838317871, 3.8620872497558594, 38.38167953491211, 3.2565951347351074, 10.673800468444824, 4.602154731750488, 10.409045219421387, 11.195719718933105, 4.829583644866943, 13.772326469421387, 7.963354110717773, 5.048595905303955, 6.9915771484375, 82.92790222167969, 2.226522207260132, 18.698509216308594, 11.369354248046875, 10.947689056396484, 32.517066955566406, 2.247243881225586, 5.242404460906982, 2.8803648948669434, 2.9814019203186035, 5.8756818771362305, 4.79449462890625, 4.196367263793945, 25.89032554626465, 2.016425371170044, 7.533567428588867, 6.467988014221191, 6.061980247497559, 3.941849708557129]\n"
     ]
    }
   ],
   "source": [
    "print(train_loss) #1007"
   ]
  },
  {
   "cell_type": "code",
   "execution_count": 25,
   "metadata": {
    "scrolled": true
   },
   "outputs": [
    {
     "name": "stdout",
     "output_type": "stream",
     "text": [
      "[47070.75850833333, 14160.651023958333, 9504.357263541666, 5064.385265625, 3622.789198177083, 2555.7030783854166, 2865.3562497395833, 1652.871702669271, 1416.6655591796875, 2500.3363373697916, 1207.1820396484375, 824.034502734375, 846.8916470052084, 772.3470776692708, 959.6251580729166, 690.0691931640625, 706.3094733723958, 439.104155859375, 455.1469000325521, 599.4429361979167, 347.8273849609375, 325.42639397786456, 351.883117578125, 539.8078697916667, 335.9686100911458, 304.3679769856771, 294.8450935546875, 257.3579281901042, 332.04665408528643, 238.25290834147137, 273.2392374348958, 517.3467895996093, 242.07539473470052, 270.023981656901, 337.67350498046875, 307.2629343424479, 512.965322672526, 395.36957345377607, 242.02395505371095, 147.75177530924478, 285.53247884114586, 208.88724529622397, 163.93382548828126, 145.00982801513672, 144.96418704427083, 170.4312279296875, 179.63603095703124, 157.23783223470053, 145.18841010742187, 139.32339187825522, 150.5882546875, 1176.737731640625, 311.12595610351565, 159.30292287597655, 131.56863095703125, 198.03732809244792, 138.0385622721354, 121.2444767171224, 196.92402682291666, 104.7982995686849, 150.01017044270833, 134.59833898111978, 149.6419975748698, 167.0898076171875, 103.5472940633138, 200.77298640136718, 121.37846630859374, 156.28970813802084, 193.6751471516927, 130.11056298828126, 381.46701949869794, 130.4487621419271, 116.94358875732422, 101.88342020670574, 86.74283709309896, 104.4046805867513, 94.81381596679688, 141.88008661295572, 293.9973179036458, 143.08413940429688, 61.401883756510415, 89.96280959472656, 131.6559478841146, 176.6553791015625, 258.61184209798176, 113.25087080078124, 80.61459010416667, 61.21435801595052, 60.410418229166666, 90.95240210774739, 69.3309641805013, 67.83268848470053, 172.01631061197918, 105.34524009602865, 68.49731288248698, 141.8615385904948, 159.1536931315104, 60.31369921061198, 165.23269411621095, 130.35285422363282, 59.075821643066405, 70.11021499430339, 186.1408361328125, 69.99874983723959, 58.072871276855466, 59.17128983154297, 44.09005557454427, 75.87631951090495, 79.6749901529948, 93.7870190592448, 65.37333352457682, 55.49686453857422, 92.24474862467449, 51.98169351806641, 45.47942446289063, 85.72190795898437, 71.84499046223958, 149.73194099934895, 68.13755342610678, 70.64689169921876, 69.74062027587891, 172.87745105794272, 80.61812908935546, 46.607169405110675, 46.50841776123047, 39.332888505045574, 48.05899654541015, 56.420616731770835, 45.63096034749349, 35.71284406738281, 119.80192848714192, 63.71615396728516, 50.21760472005208, 40.245747810872395, 90.65187221679687, 32.89107731119792, 568.8413314453124, 44.06177502441406, 34.45276825358073, 97.7104899617513, 36.08530711873372, 45.029921988932294, 103.63257740885416, 51.604290928141275, 1202.5839303385417, 55.62617782389323, 47.499545705159505, 84.24208239746093, 36.294270245361325, 51.12967057495117, 83.7687798828125, 76.9182138631185, 153.83773824869792, 98.31117634277344, 74.06034881184895, 46.74695844726563, 36.71904309895833, 31.369911993408202, 34.10126861979167, 39.57666058349609, 33.89423625488281, 44.34163748982748, 87.89843549804688, 35.37352060546875, 34.3295734354655, 47.327038330078125, 34.622386427815755, 27.465482157389324, 87.50773559977213, 53.98935706380208, 29.685709572347005, 27.026993581136068, 34.97985444335937, 52.12953095296224, 44.18929031575521, 37.77995975341797, 47.98034986979167, 33.71160045572917, 44.954590498860675, 24.772566979980468, 24.10933217163086, 28.40896160888672, 31.161665376790364, 24.813874458821616, 33.62822431640625, 50.030446793619795, 32.31396967569987, 27.122401124064126, 23.046711440022786, 501.8439365234375, 50.88843342692057, 63.48670287679037, 50.30561223347982, 41.91645768432617, 57.1075498046875, 41.15752761230469, 56.46366844075521, 26.23035529378255, 348.83440667317706, 41.925890681966145, 133.8673200032552]\n"
     ]
    }
   ],
   "source": [
    "print(y3)"
   ]
  },
  {
   "cell_type": "code",
   "execution_count": 30,
   "metadata": {},
   "outputs": [
    {
     "name": "stdout",
     "output_type": "stream",
     "text": [
      "[9062.06706796875, 4177.703197395834, 3232.6175463541667, 1965.9769560546874, 1884.4692690104166, 1062.2806412109376, 1036.3983814453125, 563.5325124023437, 539.3576021484375, 423.2604206705729, 560.7097671386719, 230.60498181966145, 494.41155587565106, 252.6835045247396, 375.5796235677083, 130.00352032063802, 407.97896533203124, 180.9929146158854, 197.2616155110677, 400.0778203938802, 174.7379357828776, 121.86832903645833, 81.65693728434245, 124.19652472330729, 101.11225670166016, 86.45203159179688, 77.18006107991536, 63.2129171875, 97.30806716308594, 269.61829301757814, 90.74596930745443, 91.22984610595704, 57.29694146321614, 43.53600529378255, 275.2471358154297, 202.37938856608073, 118.7464092203776, 118.04216057942709, 99.75488777669271, 125.50334877929687, 96.92447555338542, 78.78743844401042, 95.56105546875, 72.35999189453125, 100.75981362304688, 59.069937910970054, 99.46100601399739, 67.37759642130534, 115.49325799153645, 78.88635672607423, 46.54076417643229, 45.6286674194336, 43.47166547241211, 60.465488708496096, 35.359927056884764, 35.069964204915365, 44.23030126546224, 50.09553474527995, 53.37596740722656, 85.29506779378255, 48.07927406819662, 121.03132351888021, 48.6039120300293, 54.76354739786784, 52.45698677164714, 26.853016705322265, 54.418980981445316, 109.09659208984375, 25.85391906738281, 31.027456624348957, 21.5140694132487, 58.0576305094401, 22.447334513346355, 86.09896110839844, 29.84886229654948, 40.42874436645508, 42.24060877685547, 15.343176534016926, 17.628187369791668, 96.20844752604167, 16.344752134195964, 18.309745768229167, 99.70833506673178, 25.768428739420575, 27.83779007364909, 101.65344874674479, 13.896932296244303, 25.597293442789713, 13.295633434041342, 12.182925682067872, 20.3393836710612, 27.64758319600423, 19.621776501464844, 28.366881571451824, 11.435591192118327, 15.442488745117188, 9.701186914571126, 17.41190504252116, 31.05987373046875, 15.116786185709636, 29.574209885660807, 21.415043872070314, 10.370320753479003, 22.910253728230796, 31.047464688110352, 22.034028901163737, 8.37066640472412, 17.292078618367512, 178.55863992513022, 69.4301746500651, 31.512717782592773, 14.500890208435058, 30.62500661315918, 11.285016552225748, 18.29974360148112, 13.480097801717122, 271.2077223795573, 12.003175455729167, 7.847549494679769, 12.672435467529297, 18.13612404683431, 10.134795145670573, 133.00083873697918, 8.160808075968424, 6.725961051940918, 26.55585331217448, 29.6028972269694, 7.223251547749837, 8.688475115458171, 9.097775314331054, 7.168911989084879, 10.478569488016765, 6.547822462209066, 12.575762809499105, 8.313071198527018, 7.181134889984131, 5.765575124359131, 7.063474005381266, 4.89231480178833, 9.021404729207356, 4.734074268849691, 16.876867181396484, 11.351161833699544, 10.999450767262777, 77.93853238525391, 6.694223806508382, 5.943408285013835, 4.698611010742187, 40.63046141560872, 7.308373039245605, 10.755591125996908, 36.553010687255856, 54.79358110351563, 5.304397640991211, 131.72501796061198, 86.81175659179688, 4.323506286239624, 14.830308439127604, 45.58413587341309, 13.903496445210775, 21.838403375752765, 5.306122792561849, 25.46423947347005, 15.175150406901041, 8.40997332458496, 15.687052936808268, 5.022706700261434, 8.904334925333659, 6.02087893931071, 5.699793983459473, 41.174583595784505, 4.763262825012207, 7.0388989321390785, 16.61184752705892, 7.881845692189534, 9.455093181610108, 3.5047255653381346, 16.815603688557943, 7.222116643269857, 4.985891035207112, 95.4680725016276, 119.49847857259114, 6.824418954467774, 13.240459671020508, 24.656758440144856, 41.76170021769206, 9.875233310190836, 3.476067330423991, 4.076182457987468, 3.9663680018107095, 4.9531082356770835, 3.1619849464416503, 5.070278099187215, 4.8578386461893714, 66.94086981811523, 2.3134397958119712, 9.886872608439127, 16.41734543660482, 4.886313432820638, 1.9524676969528199]\n"
     ]
    }
   ],
   "source": [
    "print(val_loss) #1007"
   ]
  },
  {
   "cell_type": "code",
   "execution_count": 31,
   "metadata": {
    "colab": {
     "base_uri": "https://localhost:8080/",
     "height": 118
    },
    "colab_type": "code",
    "id": "5Qg7Iyg-RsZc",
    "outputId": "6e257a36-b10f-4d83-ebab-7bce690bf17c",
    "scrolled": false
   },
   "outputs": [
    {
     "data": {
      "text/plain": [
       "BaselineModel(\n",
       "  (conv1): Conv1d(1, 32, kernel_size=(9,), stride=(2,))\n",
       "  (conv2): Conv1d(32, 64, kernel_size=(9,), stride=(2,))\n",
       "  (conv3): Conv1d(64, 128, kernel_size=(9,), stride=(2,))\n",
       "  (fc1): Linear(in_features=7040, out_features=1, bias=True)\n",
       ")"
      ]
     },
     "execution_count": 31,
     "metadata": {},
     "output_type": "execute_result"
    }
   ],
   "source": [
    "model.eval()"
   ]
  },
  {
   "cell_type": "code",
   "execution_count": 32,
   "metadata": {},
   "outputs": [],
   "source": [
    "model.eval()\n",
    "test_loss = list()\n",
    "for data in testloader:\n",
    "    losses, nums = zip(\n",
    "                *[loss_batch(model.to(device1), loss_function, xb.to(device1), yb.to(device1)) for xb, yb in testloader])\n",
    "    test_loss1 = np.sum(np.multiply(losses, nums)) / np.sum(nums)\n",
    "    test_loss.append(test_loss1)"
   ]
  },
  {
   "cell_type": "code",
   "execution_count": 33,
   "metadata": {},
   "outputs": [],
   "source": [
    "import matplotlib.pyplot as plt"
   ]
  },
  {
   "cell_type": "code",
   "execution_count": 34,
   "metadata": {
    "scrolled": true
   },
   "outputs": [
    {
     "name": "stdout",
     "output_type": "stream",
     "text": [
      "[1.9184374702722573, 1.9184374686149286, 1.918437463761323, 1.918437464116465, 1.9184374650635099, 1.918437467549503, 1.918437456776866, 1.9184374758361469, 1.9184374615120912, 1.9184374689700705, 1.9184374667208386, 1.9184374576055305, 1.9184374564217244, 1.918437462459136, 1.918437458670956, 1.9184374574871499, 1.9184374764280498, 1.918437451449738, 1.918437466010555, 1.918437470153877, 1.9184374681414063, 1.9184374709825411, 1.918437483057365, 1.918437471692825, 1.9184374638797037, 1.9184374572503886, 1.9184374515681186, 1.9184374719295862, 1.9184374626958973, 1.9184374487269835, 1.9184374621039944, 1.918437458434195, 1.918437454882776, 1.9184374681414063, 1.9184374612753299, 1.918437459026098, 1.9184374428079525, 1.9184374648267486, 1.9184374565401048, 1.9184374742971986, 1.9184374728766311, 1.9184374579606724, 1.9184374686149286, 1.9184374598547624, 1.9184374544092537, 1.9184374696803543, 1.9184374617488524, 1.9184374631694199, 1.9184374793875656, 1.9184374600915237, 1.9184374777302369, 1.9184374705090186, 1.9184374693252124, 1.9184374604466654, 1.9184374719295862, 1.9184374636429424, 1.9184374725214892, 1.9184374726398699, 1.9184374750074824, 1.9184374658921743, 1.9184374598547624, 1.9184374515681186, 1.9184374731133924, 1.9184374546460148, 1.918437480808133, 1.918437464353226, 1.9184374784405205, 1.918437464116465, 1.9184374604466654, 1.9184374629326586, 1.918437464116465, 1.918437467549503, 1.918437460328285, 1.9184374560665824, 1.9184374619856137, 1.9184374570136273, 1.9184374577239112, 1.9184374502659318, 1.9184374804529911, 1.9184374635245618, 1.9184374767831918, 1.9184374577239112, 1.9184374560665824, 1.9184374610385686, 1.918437464353226, 1.9184374512129767, 1.9184374822287005, 1.9184374668392192, 1.918437460920188, 1.9184374686149286, 1.9184374750074824, 1.9184374645899873, 1.9184374821103198, 1.9184374554746793, 1.9184374572503886, 1.9184374645899873, 1.918437464353226, 1.9184374591444786, 1.918437464708368, 1.918437475125863, 1.9184374718112056, 1.9184374690884511, 1.9184374573687693, 1.9184374702722573, 1.9184374668392192, 1.918437466602458, 1.918437471692825, 1.91843745180488, 1.9184374664840773, 1.9184374928829568, 1.9184374714560637, 1.9184374669575999, 1.9184374683781673, 1.918437449555648, 1.9184374758361469, 1.918437464353226, 1.9184374700354963, 1.9184374609793784, 1.9184374598547624, 1.918437470390638, 1.9184374565401048, 1.9184374669575999, 1.9184374617488524, 1.9184374681414063, 1.9184374636429424, 1.9184374651818905]\n"
     ]
    }
   ],
   "source": [
    "print(y3)"
   ]
  },
  {
   "cell_type": "code",
   "execution_count": 35,
   "metadata": {
    "scrolled": true
   },
   "outputs": [
    {
     "data": {
      "text/plain": [
       "Text(0, 0.5, 'test_loss')"
      ]
     },
     "execution_count": 35,
     "metadata": {},
     "output_type": "execute_result"
    },
    {
     "data": {
      "image/png": "[encoded data removed]",
      "text/plain": [
       "<Figure size 432x288 with 1 Axes>"
      ]
     },
     "metadata": {
      "needs_background": "light"
     },
     "output_type": "display_data"
    }
   ],
   "source": [
    "x = range(0, 126)\n",
    "y3 = test_loss\n",
    "plt.plot(x, y3, 'o-')\n",
    "plt.title('test_loss')\n",
    "plt.ylabel('test_loss')"
   ]
  },
  {
   "cell_type": "code",
   "execution_count": 31,
   "metadata": {
    "colab": {
     "base_uri": "https://localhost:8080/",
     "height": 1000
    },
    "colab_type": "code",
    "id": "eDZ_0FSIRz4A",
    "outputId": "6127c2c9-dc3b-4994-a315-27d714d4f9ac"
   },
   "outputs": [
    {
     "ename": "RuntimeError",
     "evalue": "Input type (torch.FloatTensor) and weight type (torch.cuda.FloatTensor) should be the same",
     "output_type": "error",
     "traceback": [
      "\u001b[1;31m---------------------------------------------------------------------------\u001b[0m",
      "\u001b[1;31mRuntimeError\u001b[0m                              Traceback (most recent call last)",
      "\u001b[1;32m<ipython-input-31-be9feafefa02>\u001b[0m in \u001b[0;36m<module>\u001b[1;34m\u001b[0m\n\u001b[0;32m      2\u001b[0m     \u001b[1;31m#print(data)\u001b[0m\u001b[1;33m\u001b[0m\u001b[1;33m\u001b[0m\u001b[1;33m\u001b[0m\u001b[0m\n\u001b[0;32m      3\u001b[0m     \u001b[0minputs\u001b[0m\u001b[1;33m,\u001b[0m \u001b[0mlablels\u001b[0m \u001b[1;33m=\u001b[0m \u001b[0mdata\u001b[0m\u001b[1;33m\u001b[0m\u001b[1;33m\u001b[0m\u001b[0m\n\u001b[1;32m----> 4\u001b[1;33m     \u001b[0mpredictions\u001b[0m \u001b[1;33m=\u001b[0m \u001b[0mmodel\u001b[0m\u001b[1;33m(\u001b[0m\u001b[0minputs\u001b[0m\u001b[1;33m.\u001b[0m\u001b[0mfloat\u001b[0m\u001b[1;33m(\u001b[0m\u001b[1;33m)\u001b[0m\u001b[1;33m)\u001b[0m\u001b[1;33m\u001b[0m\u001b[1;33m\u001b[0m\u001b[0m\n\u001b[0m\u001b[0;32m      5\u001b[0m     \u001b[0mloss\u001b[0m \u001b[1;33m=\u001b[0m \u001b[0mloss_function\u001b[0m\u001b[1;33m(\u001b[0m\u001b[0mpredictions\u001b[0m\u001b[1;33m,\u001b[0m\u001b[0mlabels\u001b[0m\u001b[1;33m)\u001b[0m\u001b[1;33m\u001b[0m\u001b[1;33m\u001b[0m\u001b[0m\n\u001b[0;32m      6\u001b[0m     \u001b[0mlosst1\u001b[0m\u001b[1;33m=\u001b[0m\u001b[0mloss_function\u001b[0m\u001b[1;33m(\u001b[0m\u001b[0mpredictions\u001b[0m\u001b[1;33m[\u001b[0m\u001b[1;33m:\u001b[0m\u001b[1;33m,\u001b[0m\u001b[1;36m0\u001b[0m\u001b[1;33m]\u001b[0m\u001b[1;33m,\u001b[0m\u001b[0mlabels\u001b[0m\u001b[1;33m[\u001b[0m\u001b[1;33m:\u001b[0m\u001b[1;33m,\u001b[0m\u001b[1;36m0\u001b[0m\u001b[1;33m]\u001b[0m\u001b[1;33m)\u001b[0m\u001b[1;33m\u001b[0m\u001b[1;33m\u001b[0m\u001b[0m\n",
      "\u001b[1;32mC:\\Apps\\Anaconda3\\envs\\gpu-cuda10\\lib\\site-packages\\torch\\nn\\modules\\module.py\u001b[0m in \u001b[0;36m_call_impl\u001b[1;34m(self, *input, **kwargs)\u001b[0m\n\u001b[0;32m    720\u001b[0m             \u001b[0mresult\u001b[0m \u001b[1;33m=\u001b[0m \u001b[0mself\u001b[0m\u001b[1;33m.\u001b[0m\u001b[0m_slow_forward\u001b[0m\u001b[1;33m(\u001b[0m\u001b[1;33m*\u001b[0m\u001b[0minput\u001b[0m\u001b[1;33m,\u001b[0m \u001b[1;33m**\u001b[0m\u001b[0mkwargs\u001b[0m\u001b[1;33m)\u001b[0m\u001b[1;33m\u001b[0m\u001b[1;33m\u001b[0m\u001b[0m\n\u001b[0;32m    721\u001b[0m         \u001b[1;32melse\u001b[0m\u001b[1;33m:\u001b[0m\u001b[1;33m\u001b[0m\u001b[1;33m\u001b[0m\u001b[0m\n\u001b[1;32m--> 722\u001b[1;33m             \u001b[0mresult\u001b[0m \u001b[1;33m=\u001b[0m \u001b[0mself\u001b[0m\u001b[1;33m.\u001b[0m\u001b[0mforward\u001b[0m\u001b[1;33m(\u001b[0m\u001b[1;33m*\u001b[0m\u001b[0minput\u001b[0m\u001b[1;33m,\u001b[0m \u001b[1;33m**\u001b[0m\u001b[0mkwargs\u001b[0m\u001b[1;33m)\u001b[0m\u001b[1;33m\u001b[0m\u001b[1;33m\u001b[0m\u001b[0m\n\u001b[0m\u001b[0;32m    723\u001b[0m         for hook in itertools.chain(\n\u001b[0;32m    724\u001b[0m                 \u001b[0m_global_forward_hooks\u001b[0m\u001b[1;33m.\u001b[0m\u001b[0mvalues\u001b[0m\u001b[1;33m(\u001b[0m\u001b[1;33m)\u001b[0m\u001b[1;33m,\u001b[0m\u001b[1;33m\u001b[0m\u001b[1;33m\u001b[0m\u001b[0m\n",
      "\u001b[1;32m<ipython-input-13-40664c4405f4>\u001b[0m in \u001b[0;36mforward\u001b[1;34m(self, x)\u001b[0m\n\u001b[0;32m     10\u001b[0m \u001b[1;33m\u001b[0m\u001b[0m\n\u001b[0;32m     11\u001b[0m     \u001b[1;32mdef\u001b[0m \u001b[0mforward\u001b[0m\u001b[1;33m(\u001b[0m\u001b[0mself\u001b[0m\u001b[1;33m,\u001b[0m \u001b[0mx\u001b[0m\u001b[1;33m)\u001b[0m\u001b[1;33m:\u001b[0m\u001b[1;33m\u001b[0m\u001b[1;33m\u001b[0m\u001b[0m\n\u001b[1;32m---> 12\u001b[1;33m         \u001b[0mout\u001b[0m \u001b[1;33m=\u001b[0m \u001b[0mself\u001b[0m\u001b[1;33m.\u001b[0m\u001b[0mconv1\u001b[0m\u001b[1;33m(\u001b[0m\u001b[0mx\u001b[0m\u001b[1;33m)\u001b[0m\u001b[1;33m\u001b[0m\u001b[1;33m\u001b[0m\u001b[0m\n\u001b[0m\u001b[0;32m     13\u001b[0m         \u001b[0mout\u001b[0m \u001b[1;33m=\u001b[0m \u001b[0mtorch\u001b[0m\u001b[1;33m.\u001b[0m\u001b[0mrelu\u001b[0m\u001b[1;33m(\u001b[0m\u001b[0mout\u001b[0m\u001b[1;33m)\u001b[0m\u001b[1;33m\u001b[0m\u001b[1;33m\u001b[0m\u001b[0m\n\u001b[0;32m     14\u001b[0m         \u001b[0mout\u001b[0m \u001b[1;33m=\u001b[0m \u001b[0mself\u001b[0m\u001b[1;33m.\u001b[0m\u001b[0mconv2\u001b[0m\u001b[1;33m(\u001b[0m\u001b[0mout\u001b[0m\u001b[1;33m)\u001b[0m\u001b[1;33m\u001b[0m\u001b[1;33m\u001b[0m\u001b[0m\n",
      "\u001b[1;32mC:\\Apps\\Anaconda3\\envs\\gpu-cuda10\\lib\\site-packages\\torch\\nn\\modules\\module.py\u001b[0m in \u001b[0;36m_call_impl\u001b[1;34m(self, *input, **kwargs)\u001b[0m\n\u001b[0;32m    720\u001b[0m             \u001b[0mresult\u001b[0m \u001b[1;33m=\u001b[0m \u001b[0mself\u001b[0m\u001b[1;33m.\u001b[0m\u001b[0m_slow_forward\u001b[0m\u001b[1;33m(\u001b[0m\u001b[1;33m*\u001b[0m\u001b[0minput\u001b[0m\u001b[1;33m,\u001b[0m \u001b[1;33m**\u001b[0m\u001b[0mkwargs\u001b[0m\u001b[1;33m)\u001b[0m\u001b[1;33m\u001b[0m\u001b[1;33m\u001b[0m\u001b[0m\n\u001b[0;32m    721\u001b[0m         \u001b[1;32melse\u001b[0m\u001b[1;33m:\u001b[0m\u001b[1;33m\u001b[0m\u001b[1;33m\u001b[0m\u001b[0m\n\u001b[1;32m--> 722\u001b[1;33m             \u001b[0mresult\u001b[0m \u001b[1;33m=\u001b[0m \u001b[0mself\u001b[0m\u001b[1;33m.\u001b[0m\u001b[0mforward\u001b[0m\u001b[1;33m(\u001b[0m\u001b[1;33m*\u001b[0m\u001b[0minput\u001b[0m\u001b[1;33m,\u001b[0m \u001b[1;33m**\u001b[0m\u001b[0mkwargs\u001b[0m\u001b[1;33m)\u001b[0m\u001b[1;33m\u001b[0m\u001b[1;33m\u001b[0m\u001b[0m\n\u001b[0m\u001b[0;32m    723\u001b[0m         for hook in itertools.chain(\n\u001b[0;32m    724\u001b[0m                 \u001b[0m_global_forward_hooks\u001b[0m\u001b[1;33m.\u001b[0m\u001b[0mvalues\u001b[0m\u001b[1;33m(\u001b[0m\u001b[1;33m)\u001b[0m\u001b[1;33m,\u001b[0m\u001b[1;33m\u001b[0m\u001b[1;33m\u001b[0m\u001b[0m\n",
      "\u001b[1;32mC:\\Apps\\Anaconda3\\envs\\gpu-cuda10\\lib\\site-packages\\torch\\nn\\modules\\conv.py\u001b[0m in \u001b[0;36mforward\u001b[1;34m(self, input)\u001b[0m\n\u001b[0;32m    254\u001b[0m                             \u001b[0mself\u001b[0m\u001b[1;33m.\u001b[0m\u001b[0mweight\u001b[0m\u001b[1;33m,\u001b[0m \u001b[0mself\u001b[0m\u001b[1;33m.\u001b[0m\u001b[0mbias\u001b[0m\u001b[1;33m,\u001b[0m \u001b[0mself\u001b[0m\u001b[1;33m.\u001b[0m\u001b[0mstride\u001b[0m\u001b[1;33m,\u001b[0m\u001b[1;33m\u001b[0m\u001b[1;33m\u001b[0m\u001b[0m\n\u001b[0;32m    255\u001b[0m                             _single(0), self.dilation, self.groups)\n\u001b[1;32m--> 256\u001b[1;33m         return F.conv1d(input, self.weight, self.bias, self.stride,\n\u001b[0m\u001b[0;32m    257\u001b[0m                         self.padding, self.dilation, self.groups)\n\u001b[0;32m    258\u001b[0m \u001b[1;33m\u001b[0m\u001b[0m\n",
      "\u001b[1;31mRuntimeError\u001b[0m: Input type (torch.FloatTensor) and weight type (torch.cuda.FloatTensor) should be the same"
     ]
    }
   ],
   "source": [
    "for data in testloader:\n",
    "    #print(data)\n",
    "    inputs, lablels = data\n",
    "    predictions = model(inputs.float())\n",
    "    loss = loss_function(predictions,labels)\n",
    "    losst1=loss_function(predictions[:,0],labels[:,0])\n",
    "    losst1=loss_function(predictions[:,1],labels[:,1])\n",
    "    loss = loss/128\n",
    "    print(\"loss\",loss)\n",
    "    print(\"losst1\",losst1)\n",
    "    print(\"losst2\",losst2)\n",
    "    #print(\"predicted parameter:\", predictions)\n",
    "    #print(\"setting parameter:\", labels)"
   ]
  },
  {
   "cell_type": "code",
   "execution_count": null,
   "metadata": {},
   "outputs": [],
   "source": [
    "testdataset = ra.read('atomsroa.ra')\n",
    "testdata = torch.tensor(testdataset)\n",
    "testdata = testdata.imag\n",
    "label1 = ra.read('paramsroa.ra')\n",
    "label1 = torch.tensor(label1)"
   ]
  },
  {
   "cell_type": "code",
   "execution_count": null,
   "metadata": {
    "colab": {},
    "colab_type": "code",
    "id": "D0xuJReg8EbA"
   },
   "outputs": [],
   "source": [
    "for i in range(8056):\n",
    "    inputs = testdata[:,i]\n",
    "    lablels = label1[0,i]\n",
    "    predictions = model(inputs.float())\n",
    "\n",
    "    print(\"predicted parameter:\", predictions)\n",
    "    print(\"setting parameter:\", lablels)"
   ]
  },
  {
   "cell_type": "markdown",
   "metadata": {
    "colab_type": "text",
    "id": "98SN3jbBbQPo"
   },
   "source": [
    "## Saving models"
   ]
  },
  {
   "cell_type": "markdown",
   "metadata": {
    "colab_type": "text",
    "id": "AC85zIKAbLgu"
   },
   "source": [
    "Being able to train a model is fine, but in practice once we've trained the model we probably want to save the result so we can reuse it at a later time. PyTorch makes saving the model easy using the torch.save(state, filepath) function. This will save the weights of the model so they can be loaded into a new instance at a later point.\n",
    "\n",
    "Run the following code to save the weights for use in the next part of the lab."
   ]
  },
  {
   "cell_type": "code",
   "execution_count": 17,
   "metadata": {
    "colab": {},
    "colab_type": "code",
    "id": "uYwWauk6a7vK"
   },
   "outputs": [],
   "source": [
    "#save the trained model weights\n",
    "torch.save(model.state_dict(), \"./BaselineModel.weights\")"
   ]
  },
  {
   "cell_type": "markdown",
   "metadata": {
    "colab_type": "text",
    "id": "Z3755E9cbClj"
   },
   "source": [
    "If you are running on Colab, run the following to download the weights to the local machine:"
   ]
  },
  {
   "cell_type": "code",
   "execution_count": null,
   "metadata": {
    "colab": {
     "base_uri": "https://localhost:8080/",
     "height": 17
    },
    "colab_type": "code",
    "id": "YQso-4fca_mI",
    "outputId": "b059fe76-e584-437c-f499-8ca3da61d6d5"
   },
   "outputs": [],
   "source": [
    "from google.colab import files\n",
    "files.download('BaselineModel.weights')"
   ]
  },
  {
   "cell_type": "code",
   "execution_count": null,
   "metadata": {
    "colab": {
     "base_uri": "https://localhost:8080/",
     "height": 34
    },
    "colab_type": "code",
    "id": "AzH-0Wu9brJG",
    "outputId": "68c73ea4-c60c-4c51-9b54-a278d8492b63"
   },
   "outputs": [],
   "source": [
    "device = \"cuda:0\" if torch.cuda.is_available() else \"cpu\"\n",
    "model = BaselineModel(1000, 512, 256).to(device)\n",
    "model.load_state_dict(torch.load('BaselineModel.weights'))"
   ]
  }
 ],
 "metadata": {
  "colab": {
   "collapsed_sections": [],
   "name": "MRF-net.ipynb",
   "provenance": []
  },
  "kernelspec": {
   "display_name": "Python 3",
   "language": "python",
   "name": "python3"
  },
  "language_info": {
   "codemirror_mode": {
    "name": "ipython",
    "version": 3
   },
   "file_extension": ".py",
   "mimetype": "text/x-python",
   "name": "python",
   "nbconvert_exporter": "python",
   "pygments_lexer": "ipython3",
   "version": "3.8.5"
  }
 },
 "nbformat": 4,
 "nbformat_minor": 1
}
