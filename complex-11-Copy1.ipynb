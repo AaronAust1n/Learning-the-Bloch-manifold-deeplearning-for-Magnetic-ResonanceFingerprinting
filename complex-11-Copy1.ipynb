{
 "cells": [
  {
   "cell_type": "code",
   "execution_count": 1,
   "metadata": {
    "colab": {},
    "colab_type": "code",
    "id": "aqe2u5u5zhMj"
   },
   "outputs": [],
   "source": [
    "import numpy as np\n",
    "import torch\n",
    "import torch.nn.functional as F\n",
    "import torchvision.transforms as transforms\n",
    "from torch import nn\n",
    "from torch import optim\n",
    "from torch.utils.data import DataLoader\n",
    "#from torchvision.datasets import MNIST"
   ]
  },
  {
   "cell_type": "code",
   "execution_count": 5,
   "metadata": {},
   "outputs": [
    {
     "name": "stdout",
     "output_type": "stream",
     "text": [
      "1.6.0\n"
     ]
    }
   ],
   "source": [
    "print(torch.__version__)"
   ]
  },
  {
   "cell_type": "code",
   "execution_count": null,
   "metadata": {
    "colab": {
     "base_uri": "https://localhost:8080/",
     "height": 121
    },
    "colab_type": "code",
    "id": "VIE7-SAqir7O",
    "outputId": "2b6972e1-a573-4505-d544-690a1d68fbc8",
    "scrolled": true
   },
   "outputs": [],
   "source": [
    "from google.colab import drive\n",
    "drive.mount('/content/drive')"
   ]
  },
  {
   "cell_type": "code",
   "execution_count": 2,
   "metadata": {
    "colab": {},
    "colab_type": "code",
    "id": "FRWp8xWFEijO"
   },
   "outputs": [],
   "source": [
    "#import os\n",
    "#os.chdir(\"/content/drive/My Drive\") \n",
    "import ra\n",
    "#import complexLayers\n"
   ]
  },
  {
   "cell_type": "code",
   "execution_count": 3,
   "metadata": {
    "colab": {},
    "colab_type": "code",
    "id": "6-BK2JMPjju-"
   },
   "outputs": [],
   "source": [
    "dataset = ra.read('atomsroa.ra')\n",
    "train_data = torch.tensor(dataset)"
   ]
  },
  {
   "cell_type": "code",
   "execution_count": 4,
   "metadata": {},
   "outputs": [],
   "source": [
    "train_data = train_data.imag\n",
    "train_data =  torch.transpose(train_data, 0, 1).unsqueeze(1)"
   ]
  },
  {
   "cell_type": "code",
   "execution_count": 5,
   "metadata": {},
   "outputs": [],
   "source": [
    "labelset = ra.read('paramsroa.ra')\n",
    "train_label1 = torch.tensor(labelset)"
   ]
  },
  {
   "cell_type": "code",
   "execution_count": 6,
   "metadata": {},
   "outputs": [],
   "source": [
    "dataset1 = ra.read('atoms.ra')\n",
    "traindata1 = torch.tensor(dataset1)\n",
    "traindata1 = traindata1.imag\n",
    "traindata1 =  torch.transpose(traindata1, 0, 1).unsqueeze(1)\n",
    "label1 = ra.read('params.ra')\n",
    "label1 = torch.tensor(label1)"
   ]
  },
  {
   "cell_type": "code",
   "execution_count": null,
   "metadata": {},
   "outputs": [],
   "source": [
    "print(traindata1)\n",
    "print(train_data)"
   ]
  },
  {
   "cell_type": "code",
   "execution_count": 7,
   "metadata": {},
   "outputs": [
    {
     "name": "stdout",
     "output_type": "stream",
     "text": [
      "torch.Size([108056, 1, 1000])\n"
     ]
    },
    {
     "data": {
      "text/plain": [
       "torch.Size([108056, 1, 1000])"
      ]
     },
     "execution_count": 7,
     "metadata": {},
     "output_type": "execute_result"
    }
   ],
   "source": [
    "print(traindata1.shape)\n",
    "train_data.shape"
   ]
  },
  {
   "cell_type": "code",
   "execution_count": 8,
   "metadata": {
    "scrolled": true
   },
   "outputs": [],
   "source": [
    "alldata = torch.cat((train_data,traindata1),0)"
   ]
  },
  {
   "cell_type": "code",
   "execution_count": 9,
   "metadata": {},
   "outputs": [],
   "source": [
    "labels1 = torch.cat((train_label1[:-1,:],label1[:-1,:]),1)"
   ]
  },
  {
   "cell_type": "code",
   "execution_count": 10,
   "metadata": {
    "scrolled": true
   },
   "outputs": [
    {
     "name": "stdout",
     "output_type": "stream",
     "text": [
      "tensor([[ 100.,  110.,  120.,  ..., 3980., 3990., 4000.],\n",
      "        [  20.,   20.,   20.,  ..., 2000., 2000., 2000.]], dtype=torch.float64)\n",
      "torch.Size([2, 216112])\n",
      "torch.Size([3, 108056])\n"
     ]
    }
   ],
   "source": [
    "print(labels1)\n",
    "print(labels1.shape)\n",
    "print(train_label1.shape)"
   ]
  },
  {
   "cell_type": "code",
   "execution_count": 10,
   "metadata": {},
   "outputs": [
    {
     "name": "stdout",
     "output_type": "stream",
     "text": [
      "torch.Size([216112, 2])\n"
     ]
    }
   ],
   "source": [
    "labels1 = torch.transpose(labels1, 0, 1)\n",
    "print(labels1.shape)"
   ]
  },
  {
   "cell_type": "code",
   "execution_count": 11,
   "metadata": {},
   "outputs": [],
   "source": [
    "import torch.utils.data as data\n",
    "train_dataset = data.TensorDataset(alldata,labels1)"
   ]
  },
  {
   "cell_type": "code",
   "execution_count": null,
   "metadata": {
    "colab": {},
    "colab_type": "code",
    "id": "EtO2l_0K9bVo"
   },
   "outputs": [],
   "source": [
    "from sklearn.decomposition import PCA\n",
    "X_reduced = PCA(n_components=10).fit_transform(train_data)"
   ]
  },
  {
   "cell_type": "code",
   "execution_count": null,
   "metadata": {
    "colab": {
     "base_uri": "https://localhost:8080/",
     "height": 84
    },
    "colab_type": "code",
    "id": "9jhCmOGlzHuJ",
    "outputId": "d404eff5-582b-40af-8ba4-2f163944744e"
   },
   "outputs": [],
   "source": [
    "pca = PCA(n_components=10)\n",
    "pca.fit(train_data)\n",
    "\n",
    "print(pca.explained_variance_ratio_.shape)\n",
    "print(pca.components_.shape)\n",
    "print(pca.singular_values_.shape)\n",
    "print(pca.mean_.shape)"
   ]
  },
  {
   "cell_type": "code",
   "execution_count": null,
   "metadata": {
    "colab": {},
    "colab_type": "code",
    "id": "uyEh1FCOM4gT"
   },
   "outputs": [],
   "source": [
    "train_data = torch.tensor(X_reduced)"
   ]
  },
  {
   "cell_type": "code",
   "execution_count": 12,
   "metadata": {
    "colab": {},
    "colab_type": "code",
    "id": "ih21UQILm0Hl"
   },
   "outputs": [],
   "source": [
    "train_dataset, valid_dataset, test_dataset = torch.utils.data.random_split(train_dataset, [140000, 60000 ,16112])"
   ]
  },
  {
   "cell_type": "markdown",
   "metadata": {},
   "source": [
    "We found that the network model with smallest\n",
    "average error for validation data consists of 3 convolutional layers (kernel size = 3, stride\n",
    "size = 2), each followed by a rectified linear unit (ReLU) activation function. The number\n",
    "of the feature maps per convolutional layer is increasing, from 32 in the first to 128 in\n",
    "the last. After convolution an average pooling layer follows with the same size as the\n",
    "stride size. The last layer is fully connected, with 2 outputs. "
   ]
  },
  {
   "cell_type": "code",
   "execution_count": 13,
   "metadata": {
    "colab": {},
    "colab_type": "code",
    "id": "ahjQ0hXkj6Yl"
   },
   "outputs": [],
   "source": [
    "\n",
    "def _batch_norm(x):\n",
    "  eps_ = torch.finfo(torch.float32).eps\n",
    "  y = (x - torch.mean(x)) / (torch.std(x) + eps_)\n",
    "  return y\n",
    "\n",
    "\n",
    "# define baseline model\n",
    "class BaselineModel1(nn.Module):\n",
    "    def __init__(self):\n",
    "        super(BaselineModel1, self).__init__()\n",
    "        self.fc1 = nn.Linear(1000, 512)\n",
    "        self.fc2 = nn.Linear(512, 256)\n",
    "        self.fc3 = nn.Linear(256, 2)\n",
    "\n",
    "\n",
    "    def forward(self, x):\n",
    "        #print(x)\n",
    "        out = self.fc1(x)\n",
    "        #print(out)\n",
    "        #raise error\n",
    "        out = _batch_norm(out)\n",
    "        #out = self.bn(512)\n",
    "        out = torch.sigmoid(out)\n",
    "        out = self.fc2(out)\n",
    "        #out = self.bn(256)\n",
    "        out = _batch_norm(out)\n",
    "        out = torch.sigmoid(out)\n",
    "        out = self.fc3(out)\n",
    "        return out"
   ]
  },
  {
   "cell_type": "code",
   "execution_count": 14,
   "metadata": {
    "colab": {},
    "colab_type": "code",
    "id": "z3pzehZtrCEC"
   },
   "outputs": [],
   "source": [
    "N = 200\n",
    "val_loss = list()\n",
    "#val_accu = list()\n",
    "train_loss = list()\n",
    "#train_accu = list()"
   ]
  },
  {
   "cell_type": "code",
   "execution_count": 15,
   "metadata": {},
   "outputs": [],
   "source": [
    "#assert torch.cuda.is_available()\n",
    "device1 = \"cuda:0\" if torch.cuda.is_available() else \"cpu\"\n",
    "#cuda_device = torch.device(\"cuda\")\n",
    "seed = 7\n",
    "torch.manual_seed(seed)\n",
    "trainloader = DataLoader(train_dataset, batch_size=128, shuffle=True)\n",
    "validloader = DataLoader(valid_dataset, batch_size=128, shuffle=False)\n",
    "testloader = DataLoader(test_dataset, batch_size=128, shuffle=True)\n",
    "\n",
    "def loss_batch(model, loss_func, xb, yb, opt=None):\n",
    "    outputs = model(xb.float())\n",
    "    yb = yb.float()\n",
    "    outputs = torch.squeeze(outputs, 1)\n",
    "    loss = loss_func(outputs, yb)\n",
    "\n",
    "    if opt is not None:\n",
    "        loss.backward()\n",
    "        opt.step()\n",
    "        opt.zero_grad()\n",
    "\n",
    "    return loss.item(), len(xb)"
   ]
  },
  {
   "cell_type": "code",
   "execution_count": null,
   "metadata": {},
   "outputs": [],
   "source": [
    "!pip install pycuda\n",
    "import torch\n",
    "import pycuda.driver as cuda\n",
    "cuda.init()\n",
    "## Get Id of default device\n",
    "torch.cuda.current_device()\n",
    "# 0\n",
    "cuda.Device(0).name() # '0' is the id of your GPU"
   ]
  },
  {
   "cell_type": "code",
   "execution_count": 16,
   "metadata": {
    "colab": {
     "base_uri": "https://localhost:8080/",
     "height": 1000
    },
    "colab_type": "code",
    "id": "sGAHKMREJzYA",
    "outputId": "e1d97095-19c2-490c-dd04-c3932fe2ce54",
    "scrolled": true
   },
   "outputs": [
    {
     "name": "stdout",
     "output_type": "stream",
     "text": [
      "Epoch 0, loss 4106608331.00\n",
      "Epoch 1, loss 3567053464.75\n",
      "Epoch 2, loss 3091764437.00\n",
      "Epoch 3, loss 2669781331.88\n",
      "Epoch 4, loss 2295397048.50\n",
      "Epoch 5, loss 1965071098.62\n",
      "Epoch 6, loss 1674462837.94\n",
      "Epoch 7, loss 1420035261.06\n",
      "Epoch 8, loss 1195533677.62\n",
      "Epoch 9, loss 996735912.81\n",
      "Epoch 10, loss 821464872.28\n",
      "Epoch 11, loss 668686878.81\n",
      "Epoch 12, loss 537861104.91\n",
      "Epoch 13, loss 427742858.02\n",
      "Epoch 14, loss 335611544.45\n",
      "Epoch 15, loss 258449494.19\n",
      "Epoch 16, loss 195332029.41\n",
      "Epoch 17, loss 145789219.54\n",
      "Epoch 18, loss 109526610.48\n",
      "Epoch 19, loss 83818476.45\n",
      "Epoch 20, loss 67401025.84\n",
      "Epoch 21, loss 55432188.60\n",
      "Epoch 22, loss 46420835.85\n",
      "Epoch 23, loss 38433368.85\n",
      "Epoch 24, loss 32539123.90\n",
      "Epoch 25, loss 27125422.80\n",
      "Epoch 26, loss 23042081.24\n",
      "Epoch 27, loss 19906247.10\n",
      "Epoch 28, loss 17020356.68\n",
      "Epoch 29, loss 15137062.37\n",
      "Epoch 30, loss 13475612.71\n",
      "Epoch 31, loss 12003459.03\n",
      "Epoch 32, loss 11035543.69\n",
      "Epoch 33, loss 10091078.88\n",
      "Epoch 34, loss 9409731.55\n",
      "Epoch 35, loss 8914397.63\n",
      "Epoch 36, loss 8654429.79\n",
      "Epoch 37, loss 8283048.70\n",
      "Epoch 38, loss 8097898.87\n",
      "Epoch 39, loss 7597671.15\n",
      "Epoch 40, loss 7336000.74\n",
      "Epoch 41, loss 7303863.28\n",
      "Epoch 42, loss 6895248.28\n",
      "Epoch 43, loss 7050964.14\n",
      "Epoch 44, loss 6841870.39\n",
      "Epoch 45, loss 6881127.32\n",
      "Epoch 46, loss 6583640.46\n",
      "Epoch 47, loss 6647284.20\n",
      "Epoch 48, loss 6103839.84\n",
      "Epoch 49, loss 6240502.75\n",
      "Epoch 50, loss 6203494.74\n",
      "Epoch 51, loss 6401115.50\n",
      "Epoch 52, loss 6258905.89\n",
      "Epoch 53, loss 6080445.53\n",
      "Epoch 54, loss 5919423.11\n",
      "Epoch 55, loss 6654187.92\n",
      "Epoch 56, loss 5803638.22\n",
      "Epoch 57, loss 5929419.04\n",
      "Epoch 58, loss 5774958.76\n",
      "Epoch 59, loss 5886368.01\n",
      "Epoch 60, loss 6014159.89\n",
      "Epoch 61, loss 5790238.97\n",
      "Epoch 62, loss 5734151.01\n",
      "Epoch 63, loss 5902310.14\n",
      "Epoch 64, loss 5829739.61\n",
      "Epoch 65, loss 5423273.20\n",
      "Epoch 66, loss 5471851.08\n",
      "Epoch 67, loss 5287399.65\n",
      "Epoch 68, loss 5647246.51\n",
      "Epoch 69, loss 5442393.93\n",
      "Epoch 70, loss 5274227.05\n",
      "Epoch 71, loss 5621223.80\n",
      "Epoch 72, loss 5357198.88\n",
      "Epoch 73, loss 5589787.71\n",
      "Epoch 74, loss 5564633.79\n",
      "Epoch 75, loss 5366551.90\n",
      "Epoch 76, loss 5772458.21\n",
      "Epoch 77, loss 5447502.37\n",
      "Epoch 78, loss 5297785.99\n",
      "Epoch 79, loss 5142240.17\n",
      "Epoch 80, loss 5213776.28\n",
      "Epoch 81, loss 5531891.83\n",
      "Epoch 82, loss 5222072.04\n",
      "Epoch 83, loss 5198116.42\n",
      "Epoch 84, loss 5361795.80\n",
      "Epoch 85, loss 5365755.92\n",
      "Epoch 86, loss 5072433.10\n",
      "Epoch 87, loss 5422148.84\n",
      "Epoch 88, loss 5156266.93\n",
      "Epoch 89, loss 5065481.26\n",
      "Epoch 90, loss 5405445.01\n",
      "Epoch 91, loss 4927038.56\n",
      "Epoch 92, loss 5061855.20\n",
      "Epoch 93, loss 5224021.56\n",
      "Epoch 94, loss 5049085.88\n",
      "Epoch 95, loss 4978191.39\n",
      "Epoch 96, loss 5494620.93\n",
      "Epoch 97, loss 4895283.33\n",
      "Epoch 98, loss 4979340.50\n",
      "Epoch 99, loss 4984671.79\n",
      "Epoch 100, loss 5045395.89\n",
      "Epoch 101, loss 4890108.11\n",
      "Epoch 102, loss 4818128.02\n",
      "Epoch 103, loss 4919455.33\n",
      "Epoch 104, loss 4862154.39\n",
      "Epoch 105, loss 5009212.20\n",
      "Epoch 106, loss 4840767.04\n",
      "Epoch 107, loss 4722708.90\n",
      "Epoch 108, loss 4747363.05\n",
      "Epoch 109, loss 4743674.29\n",
      "Epoch 110, loss 4685963.70\n",
      "Epoch 111, loss 4386873.32\n",
      "Epoch 112, loss 4472931.35\n",
      "Epoch 113, loss 4474094.59\n",
      "Epoch 114, loss 4395804.81\n",
      "Epoch 115, loss 4547286.94\n",
      "Epoch 116, loss 4436010.86\n",
      "Epoch 117, loss 4425428.67\n",
      "Epoch 118, loss 4182827.30\n",
      "Epoch 119, loss 4102920.00\n",
      "Epoch 120, loss 4096346.53\n",
      "Epoch 121, loss 4433006.25\n",
      "Epoch 122, loss 3973834.98\n",
      "Epoch 123, loss 4094491.52\n",
      "Epoch 124, loss 4125473.97\n",
      "Epoch 125, loss 4011535.83\n",
      "Epoch 126, loss 3980863.61\n",
      "Epoch 127, loss 3873009.62\n",
      "Epoch 128, loss 3842186.46\n",
      "Epoch 129, loss 4042169.51\n",
      "Epoch 130, loss 3866202.31\n",
      "Epoch 131, loss 3923182.64\n",
      "Epoch 132, loss 4125585.64\n",
      "Epoch 133, loss 3894189.40\n",
      "Epoch 134, loss 3882962.12\n",
      "Epoch 135, loss 3641270.30\n",
      "Epoch 136, loss 3785051.79\n",
      "Epoch 137, loss 3833910.22\n",
      "Epoch 138, loss 3897878.53\n",
      "Epoch 139, loss 3792877.35\n",
      "Epoch 140, loss 3664579.13\n",
      "Epoch 141, loss 3564915.89\n",
      "Epoch 142, loss 3580700.10\n",
      "Epoch 143, loss 3632743.74\n",
      "Epoch 144, loss 3623991.41\n",
      "Epoch 145, loss 3464579.54\n",
      "Epoch 146, loss 3590391.61\n",
      "Epoch 147, loss 3330904.64\n",
      "Epoch 148, loss 3476571.37\n",
      "Epoch 149, loss 3159140.33\n",
      "Epoch 150, loss 3580271.94\n",
      "Epoch 151, loss 3439268.76\n",
      "Epoch 152, loss 3262912.92\n",
      "Epoch 153, loss 3446398.16\n",
      "Epoch 154, loss 3257096.03\n",
      "Epoch 155, loss 3248343.42\n",
      "Epoch 156, loss 3344153.31\n",
      "Epoch 157, loss 3349621.70\n",
      "Epoch 158, loss 2948947.57\n",
      "Epoch 159, loss 2943691.65\n",
      "Epoch 160, loss 3113464.84\n",
      "Epoch 161, loss 3284813.02\n",
      "Epoch 162, loss 2996196.49\n",
      "Epoch 163, loss 3160599.74\n",
      "Epoch 164, loss 2970717.82\n",
      "Epoch 165, loss 2973073.84\n",
      "Epoch 166, loss 2782922.54\n",
      "Epoch 167, loss 2955454.26\n",
      "Epoch 168, loss 2926562.35\n",
      "Epoch 169, loss 2945141.28\n",
      "Epoch 170, loss 2983842.75\n",
      "Epoch 171, loss 2880318.17\n",
      "Epoch 172, loss 3095992.38\n",
      "Epoch 173, loss 2948183.39\n",
      "Epoch 174, loss 2870085.20\n",
      "Epoch 175, loss 2749593.11\n",
      "Epoch 176, loss 2856202.33\n",
      "Epoch 177, loss 2765737.97\n",
      "Epoch 178, loss 2805404.17\n",
      "Epoch 179, loss 2709308.50\n",
      "Epoch 180, loss 2642005.26\n",
      "Epoch 181, loss 2557512.43\n",
      "Epoch 182, loss 2702912.94\n",
      "Epoch 183, loss 2745682.99\n",
      "Epoch 184, loss 2612687.81\n",
      "Epoch 185, loss 2599244.02\n",
      "Epoch 186, loss 2565191.12\n",
      "Epoch 187, loss 2436457.09\n",
      "Epoch 188, loss 2552629.76\n",
      "Epoch 189, loss 2589865.73\n",
      "Epoch 190, loss 2444605.85\n",
      "Epoch 191, loss 2391333.46\n",
      "Epoch 192, loss 2356334.41\n",
      "Epoch 193, loss 2561092.66\n",
      "Epoch 194, loss 2309730.01\n",
      "Epoch 195, loss 2440445.27\n",
      "Epoch 196, loss 2453445.87\n",
      "Epoch 197, loss 2357114.75\n",
      "Epoch 198, loss 2367230.36\n",
      "Epoch 199, loss 2250809.80\n",
      "**** Finished Training ****\n"
     ]
    }
   ],
   "source": [
    "\n",
    "# build the model\n",
    "model = BaselineModel1().to(device1)\n",
    "\n",
    "# define the loss function and the optimiser\n",
    "loss_function = nn.MSELoss()\n",
    "optimiser = optim.Adam(model.parameters())\n",
    "\n",
    "# the epoch loop\n",
    "for epoch in range(N):\n",
    "    model.train()\n",
    "    running_loss = 0.0\n",
    "    loss=0\n",
    "    for data in trainloader:\n",
    "        # get the inputs\n",
    "        inputs, labels = data\n",
    "        #inputs = inputs.unsqueeze(1).unsqueeze(-1)\n",
    "        #inputs = inputs.unsqueeze(1)\n",
    "        #inputs = torch.unsqueeze(inputs1, 2)\n",
    "\n",
    "        inputs, labels = inputs.to(device1), labels.to(device1)\n",
    "        \n",
    "        \n",
    "        loss, nums = loss_batch(model, loss_function, inputs.float(), labels.float(), optimiser)\n",
    "        running_loss += loss\n",
    "    train_loss.append(loss)\n",
    "\n",
    "    model.eval()\n",
    "    with torch.no_grad():\n",
    "        losses, nums = zip(\n",
    "                *[loss_batch(model.to(device1), loss_function, xb.to(device1), yb.to(device1)) for xb, yb in validloader]\n",
    "            )\n",
    "        val_loss1 = np.sum(np.multiply(losses, nums)) / np.sum(nums)\n",
    "        val_loss.append(val_loss1)\n",
    "\n",
    "\n",
    "        #print(epoch, val_loss)\n",
    "\n",
    "        \n",
    "        # keep track of the loss this epoch\n",
    "        #running_loss += loss.item()\n",
    "    print(\"Epoch %d, loss %4.2f\" % (epoch, running_loss))\n",
    "print('**** Finished Training ****')"
   ]
  },
  {
   "cell_type": "code",
   "execution_count": 23,
   "metadata": {
    "colab": {
     "base_uri": "https://localhost:8080/",
     "height": 281
    },
    "colab_type": "code",
    "id": "RrXkmLWusgWY",
    "outputId": "94727097-6aee-4d73-97d6-e8cc99f69d52",
    "scrolled": true
   },
   "outputs": [
    {
     "data": {
      "image/png": "[encoded data removed]",
      "text/plain": [
       "<Figure size 432x288 with 2 Axes>"
      ]
     },
     "metadata": {
      "needs_background": "light"
     },
     "output_type": "display_data"
    }
   ],
   "source": [
    "import matplotlib.pyplot as plt\n",
    "\n",
    "x = range(0, N)\n",
    "y1 = train_loss\n",
    "#y2 = train_accu\n",
    "y3 = val_loss\n",
    "#y4 = val_accu\n",
    "plt.subplot(2, 1, 1)\n",
    "plt.plot(x, y1, 'o-')\n",
    "plt.title('train_loss and train_accu')\n",
    "plt.ylabel('train_loss')\n",
    "#plt.subplot(2, 1, 2)\n",
    "#plt.plot(x, y2, '.-')\n",
    "#plt.xlabel('epoches')\n",
    "#plt.ylabel('train_accu')\n",
    "plt.subplot(2, 1, 2)\n",
    "plt.plot(x, y3, 'o-')\n",
    "plt.ylabel('val_loss')\n",
    "#plt.subplot(2, 2, 2)\n",
    "#plt.plot(x, y4, '.-')\n",
    "#plt.title('val_loss and val_accu')\n",
    "#lt.ylabel('val_accu')\n",
    "plt.show()\n",
    "#plt.savefig(\"accuracy_loss.jpg\")\n"
   ]
  },
  {
   "cell_type": "code",
   "execution_count": 24,
   "metadata": {},
   "outputs": [
    {
     "name": "stdout",
     "output_type": "stream",
     "text": [
      "[39162.5859375, 11763.650390625, 10699.044921875, 5103.5830078125, 4158.6142578125, 3056.337890625, 1703.7333984375, 1637.2615966796875, 1261.2879638671875, 1131.3231201171875, 1172.2281494140625, 1134.0067138671875, 678.216796875, 860.5421752929688, 1129.3348388671875, 630.5377197265625, 609.3250732421875, 568.7601318359375, 420.55645751953125, 319.82196044921875, 823.774658203125, 361.33343505859375, 336.67626953125, 302.5008544921875, 209.6558837890625, 315.412353515625, 342.5613708496094, 273.7820739746094, 166.2567138671875, 225.6500701904297, 247.6725311279297, 274.4014892578125, 310.10772705078125, 198.839111328125, 673.5882568359375, 266.2223205566406, 367.98138427734375, 179.63232421875, 228.9575653076172, 173.31272888183594, 252.89376831054688, 261.2034606933594, 175.7914276123047, 189.5096893310547, 148.1826171875, 178.23191833496094, 144.52645874023438, 137.4016876220703, 136.2789306640625, 249.77658081054688, 128.30670166015625, 1062.2835693359375, 158.63011169433594, 298.2046813964844, 169.34716796875, 87.52970886230469, 205.04470825195312, 90.63191986083984, 94.30229187011719, 141.02926635742188, 128.61752319335938, 134.853515625, 161.31903076171875, 195.5430145263672, 147.22665405273438, 129.22903442382812, 100.16423797607422, 119.3997802734375, 159.15725708007812, 93.77864837646484, 357.1336364746094, 91.94157409667969, 227.3309783935547, 91.24547576904297, 132.6645965576172, 119.68795776367188, 118.85906219482422, 387.5748291015625, 315.8089599609375, 101.00003051757812, 97.34638977050781, 79.26201629638672, 105.11326599121094, 85.57720947265625, 88.1663818359375, 149.9733123779297, 134.43585205078125, 96.2022933959961, 56.87595748901367, 103.81219482421875, 59.717769622802734, 63.833709716796875, 305.58721923828125, 68.59014892578125, 73.29115295410156, 92.82298278808594, 62.659568786621094, 46.700531005859375, 509.36895751953125, 68.18608856201172, 74.44415283203125, 48.32180404663086, 130.27511596679688, 88.33468627929688, 71.89219665527344, 44.06239318847656, 69.73340606689453, 67.10952758789062, 56.00321960449219, 75.94085693359375, 45.09064865112305, 53.649314880371094, 90.32426452636719, 117.4803695678711, 52.30565643310547, 54.69859313964844, 273.345458984375, 130.62840270996094, 40.138458251953125, 55.885108947753906, 59.1888427734375, 32.691612243652344, 158.1299285888672, 80.82110595703125, 44.1099967956543, 59.398834228515625, 168.07586669921875, 61.32030487060547, 66.91471862792969, 27.628515243530273, 108.66475677490234, 47.514034271240234, 23.964523315429688, 112.3032455444336, 163.0544891357422, 84.41004943847656, 732.6090698242188, 50.96072006225586, 34.30939483642578, 63.240352630615234, 36.872703552246094, 44.9327507019043, 109.0016098022461, 60.6875, 131.37921142578125, 100.33714294433594, 134.89788818359375, 53.52330780029297, 30.626422882080078, 66.93538665771484, 100.50071716308594, 29.0972957611084, 177.54086303710938, 41.557491302490234, 96.44515228271484, 57.872642517089844, 40.15715789794922, 42.21159362792969, 44.24883270263672, 62.30828857421875, 37.18212890625, 50.84415817260742, 39.881187438964844, 58.237144470214844, 20.577306747436523, 34.79033279418945, 30.610931396484375, 30.38471031188965, 87.55625915527344, 29.434494018554688, 49.9757080078125, 38.54899597167969, 37.293827056884766, 63.062740325927734, 51.9178581237793, 53.728145599365234, 39.07331466674805, 40.74636459350586, 203.750244140625, 36.8221321105957, 41.80335998535156, 14.467951774597168, 36.699459075927734, 37.85344696044922, 40.10481262207031, 47.48539733886719, 28.08142852783203, 25.6453857421875, 34.20722961425781, 340.4886169433594, 56.01777267456055, 33.15699768066406, 34.263427734375, 27.306814193725586, 56.468719482421875, 28.380126953125, 52.710968017578125, 28.682296752929688, 275.9089050292969, 48.17345428466797, 178.43301391601562]\n"
     ]
    }
   ],
   "source": [
    "print(y1)"
   ]
  },
  {
   "cell_type": "code",
   "execution_count": 25,
   "metadata": {},
   "outputs": [
    {
     "name": "stdout",
     "output_type": "stream",
     "text": [
      "[47070.75850833333, 14160.651023958333, 9504.357263541666, 5064.385265625, 3622.789198177083, 2555.7030783854166, 2865.3562497395833, 1652.871702669271, 1416.6655591796875, 2500.3363373697916, 1207.1820396484375, 824.034502734375, 846.8916470052084, 772.3470776692708, 959.6251580729166, 690.0691931640625, 706.3094733723958, 439.104155859375, 455.1469000325521, 599.4429361979167, 347.8273849609375, 325.42639397786456, 351.883117578125, 539.8078697916667, 335.9686100911458, 304.3679769856771, 294.8450935546875, 257.3579281901042, 332.04665408528643, 238.25290834147137, 273.2392374348958, 517.3467895996093, 242.07539473470052, 270.023981656901, 337.67350498046875, 307.2629343424479, 512.965322672526, 395.36957345377607, 242.02395505371095, 147.75177530924478, 285.53247884114586, 208.88724529622397, 163.93382548828126, 145.00982801513672, 144.96418704427083, 170.4312279296875, 179.63603095703124, 157.23783223470053, 145.18841010742187, 139.32339187825522, 150.5882546875, 1176.737731640625, 311.12595610351565, 159.30292287597655, 131.56863095703125, 198.03732809244792, 138.0385622721354, 121.2444767171224, 196.92402682291666, 104.7982995686849, 150.01017044270833, 134.59833898111978, 149.6419975748698, 167.0898076171875, 103.5472940633138, 200.77298640136718, 121.37846630859374, 156.28970813802084, 193.6751471516927, 130.11056298828126, 381.46701949869794, 130.4487621419271, 116.94358875732422, 101.88342020670574, 86.74283709309896, 104.4046805867513, 94.81381596679688, 141.88008661295572, 293.9973179036458, 143.08413940429688, 61.401883756510415, 89.96280959472656, 131.6559478841146, 176.6553791015625, 258.61184209798176, 113.25087080078124, 80.61459010416667, 61.21435801595052, 60.410418229166666, 90.95240210774739, 69.3309641805013, 67.83268848470053, 172.01631061197918, 105.34524009602865, 68.49731288248698, 141.8615385904948, 159.1536931315104, 60.31369921061198, 165.23269411621095, 130.35285422363282, 59.075821643066405, 70.11021499430339, 186.1408361328125, 69.99874983723959, 58.072871276855466, 59.17128983154297, 44.09005557454427, 75.87631951090495, 79.6749901529948, 93.7870190592448, 65.37333352457682, 55.49686453857422, 92.24474862467449, 51.98169351806641, 45.47942446289063, 85.72190795898437, 71.84499046223958, 149.73194099934895, 68.13755342610678, 70.64689169921876, 69.74062027587891, 172.87745105794272, 80.61812908935546, 46.607169405110675, 46.50841776123047, 39.332888505045574, 48.05899654541015, 56.420616731770835, 45.63096034749349, 35.71284406738281, 119.80192848714192, 63.71615396728516, 50.21760472005208, 40.245747810872395, 90.65187221679687, 32.89107731119792, 568.8413314453124, 44.06177502441406, 34.45276825358073, 97.7104899617513, 36.08530711873372, 45.029921988932294, 103.63257740885416, 51.604290928141275, 1202.5839303385417, 55.62617782389323, 47.499545705159505, 84.24208239746093, 36.294270245361325, 51.12967057495117, 83.7687798828125, 76.9182138631185, 153.83773824869792, 98.31117634277344, 74.06034881184895, 46.74695844726563, 36.71904309895833, 31.369911993408202, 34.10126861979167, 39.57666058349609, 33.89423625488281, 44.34163748982748, 87.89843549804688, 35.37352060546875, 34.3295734354655, 47.327038330078125, 34.622386427815755, 27.465482157389324, 87.50773559977213, 53.98935706380208, 29.685709572347005, 27.026993581136068, 34.97985444335937, 52.12953095296224, 44.18929031575521, 37.77995975341797, 47.98034986979167, 33.71160045572917, 44.954590498860675, 24.772566979980468, 24.10933217163086, 28.40896160888672, 31.161665376790364, 24.813874458821616, 33.62822431640625, 50.030446793619795, 32.31396967569987, 27.122401124064126, 23.046711440022786, 501.8439365234375, 50.88843342692057, 63.48670287679037, 50.30561223347982, 41.91645768432617, 57.1075498046875, 41.15752761230469, 56.46366844075521, 26.23035529378255, 348.83440667317706, 41.925890681966145, 133.8673200032552]\n"
     ]
    }
   ],
   "source": [
    "print(y3)"
   ]
  },
  {
   "cell_type": "code",
   "execution_count": 21,
   "metadata": {
    "colab": {
     "base_uri": "https://localhost:8080/",
     "height": 118
    },
    "colab_type": "code",
    "id": "5Qg7Iyg-RsZc",
    "outputId": "6e257a36-b10f-4d83-ebab-7bce690bf17c",
    "scrolled": false
   },
   "outputs": [
    {
     "data": {
      "text/plain": [
       "BaselineModel1(\n",
       "  (fc1): Linear(in_features=1000, out_features=512, bias=True)\n",
       "  (fc2): Linear(in_features=512, out_features=256, bias=True)\n",
       "  (fc3): Linear(in_features=256, out_features=2, bias=True)\n",
       ")"
      ]
     },
     "execution_count": 21,
     "metadata": {},
     "output_type": "execute_result"
    }
   ],
   "source": [
    "model.eval()"
   ]
  },
  {
   "cell_type": "code",
   "execution_count": 22,
   "metadata": {},
   "outputs": [],
   "source": [
    "model.eval()\n",
    "test_loss = list()\n",
    "for data in testloader:\n",
    "    losses, nums = zip(\n",
    "                *[loss_batch(model.to(device1), loss_function, xb.to(device1), yb.to(device1)) for xb, yb in testloader])\n",
    "    test_loss1 = np.sum(np.multiply(losses, nums)) / np.sum(nums)\n",
    "    test_loss.append(test_loss1)"
   ]
  },
  {
   "cell_type": "code",
   "execution_count": 23,
   "metadata": {},
   "outputs": [],
   "source": [
    "import matplotlib.pyplot as plt"
   ]
  },
  {
   "cell_type": "code",
   "execution_count": 24,
   "metadata": {},
   "outputs": [
    {
     "data": {
      "text/plain": [
       "Text(0, 0.5, 'test_loss')"
      ]
     },
     "execution_count": 24,
     "metadata": {},
     "output_type": "execute_result"
    },
    {
     "data": {
      "image/png": "[encoded data removed]",
      "text/plain": [
       "<Figure size 432x288 with 1 Axes>"
      ]
     },
     "metadata": {
      "needs_background": "light"
     },
     "output_type": "display_data"
    }
   ],
   "source": [
    "x = range(0, 126)\n",
    "y3 = test_loss\n",
    "plt.plot(x, y3, 'o-')\n",
    "plt.title('test_loss')\n",
    "plt.ylabel('test_loss')"
   ]
  },
  {
   "cell_type": "code",
   "execution_count": null,
   "metadata": {
    "colab": {
     "base_uri": "https://localhost:8080/",
     "height": 1000
    },
    "colab_type": "code",
    "id": "eDZ_0FSIRz4A",
    "outputId": "6127c2c9-dc3b-4994-a315-27d714d4f9ac"
   },
   "outputs": [],
   "source": [
    "for data in testloader:\n",
    "    inputs, lablels = data\n",
    "    predictions = model(inputs.float())\n",
    "    loss = loss_function(predictions,labels)\n",
    "    loss = loss/128\n",
    "    print(\"loss\",loss)\n",
    "    print(\"predicted parameter:\", predictions)\n",
    "    print(\"setting parameter:\", labels)"
   ]
  },
  {
   "cell_type": "code",
   "execution_count": null,
   "metadata": {},
   "outputs": [],
   "source": [
    "testdataset = ra.read('atomsroa.ra')\n",
    "testdata = torch.tensor(testdataset)\n",
    "testdata = testdata.imag\n",
    "label1 = ra.read('paramsroa.ra')\n",
    "label1 = torch.tensor(label1)"
   ]
  },
  {
   "cell_type": "code",
   "execution_count": null,
   "metadata": {
    "colab": {},
    "colab_type": "code",
    "id": "D0xuJReg8EbA"
   },
   "outputs": [],
   "source": [
    "for i in range(8056):\n",
    "    inputs = testdata[:,i]\n",
    "    lablels = label1[0,i]\n",
    "    predictions = model(inputs.float())\n",
    "\n",
    "    print(\"predicted parameter:\", predictions)\n",
    "    print(\"setting parameter:\", lablels)"
   ]
  },
  {
   "cell_type": "markdown",
   "metadata": {
    "colab_type": "text",
    "id": "98SN3jbBbQPo"
   },
   "source": [
    "## Saving models"
   ]
  },
  {
   "cell_type": "markdown",
   "metadata": {
    "colab_type": "text",
    "id": "AC85zIKAbLgu"
   },
   "source": [
    "Being able to train a model is fine, but in practice once we've trained the model we probably want to save the result so we can reuse it at a later time. PyTorch makes saving the model easy using the torch.save(state, filepath) function. This will save the weights of the model so they can be loaded into a new instance at a later point.\n",
    "\n",
    "Run the following code to save the weights for use in the next part of the lab."
   ]
  },
  {
   "cell_type": "code",
   "execution_count": 17,
   "metadata": {
    "colab": {},
    "colab_type": "code",
    "id": "uYwWauk6a7vK"
   },
   "outputs": [],
   "source": [
    "#save the trained model weights\n",
    "torch.save(model.state_dict(), \"./BaselineModel1.weights\")"
   ]
  },
  {
   "cell_type": "markdown",
   "metadata": {
    "colab_type": "text",
    "id": "Z3755E9cbClj"
   },
   "source": [
    "If you are running on Colab, run the following to download the weights to the local machine:"
   ]
  },
  {
   "cell_type": "code",
   "execution_count": null,
   "metadata": {
    "colab": {
     "base_uri": "https://localhost:8080/",
     "height": 17
    },
    "colab_type": "code",
    "id": "YQso-4fca_mI",
    "outputId": "b059fe76-e584-437c-f499-8ca3da61d6d5"
   },
   "outputs": [],
   "source": [
    "from google.colab import files\n",
    "files.download('BaselineModel.weights')"
   ]
  },
  {
   "cell_type": "code",
   "execution_count": null,
   "metadata": {
    "colab": {
     "base_uri": "https://localhost:8080/",
     "height": 34
    },
    "colab_type": "code",
    "id": "AzH-0Wu9brJG",
    "outputId": "68c73ea4-c60c-4c51-9b54-a278d8492b63"
   },
   "outputs": [],
   "source": [
    "device = \"cuda:0\" if torch.cuda.is_available() else \"cpu\"\n",
    "model = BaselineModel(1000, 512, 256).to(device)\n",
    "model.load_state_dict(torch.load('BaselineModel.weights'))"
   ]
  }
 ],
 "metadata": {
  "colab": {
   "collapsed_sections": [],
   "name": "MRF-net.ipynb",
   "provenance": []
  },
  "kernelspec": {
   "display_name": "Python 3",
   "language": "python",
   "name": "python3"
  },
  "language_info": {
   "codemirror_mode": {
    "name": "ipython",
    "version": 3
   },
   "file_extension": ".py",
   "mimetype": "text/x-python",
   "name": "python",
   "nbconvert_exporter": "python",
   "pygments_lexer": "ipython3",
   "version": "3.8.5"
  }
 },
 "nbformat": 4,
 "nbformat_minor": 1
}
